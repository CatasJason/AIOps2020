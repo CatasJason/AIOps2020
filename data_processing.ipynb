{
 "metadata": {
  "language_info": {
   "codemirror_mode": {
    "name": "ipython",
    "version": 3
   },
   "file_extension": ".py",
   "mimetype": "text/x-python",
   "name": "python",
   "nbconvert_exporter": "python",
   "pygments_lexer": "ipython3",
   "version": "3.6.12-final"
  },
  "orig_nbformat": 2,
  "kernelspec": {
   "name": "python3",
   "display_name": "Python 3",
   "language": "python"
  }
 },
 "nbformat": 4,
 "nbformat_minor": 2,
 "cells": [
  {
   "cell_type": "code",
   "execution_count": 1,
   "metadata": {},
   "outputs": [],
   "source": [
    "import pandas as pd\n",
    "import glob\n",
    "import os\n",
    "import sys\n",
    "from tqdm import tqdm"
   ]
  },
  {
   "cell_type": "code",
   "execution_count": 2,
   "metadata": {},
   "outputs": [
    {
     "output_type": "execute_result",
     "data": {
      "text/plain": [
       "['C:\\\\Users\\\\Henry\\\\Documents\\\\data\\\\2020_05_26\\\\Host\\\\db_oracle_11g.csv',\n",
       " 'C:\\\\Users\\\\Henry\\\\Documents\\\\data\\\\2020_05_26\\\\Host\\\\dcos_container.csv',\n",
       " 'C:\\\\Users\\\\Henry\\\\Documents\\\\data\\\\2020_05_26\\\\Host\\\\dcos_docker.csv',\n",
       " 'C:\\\\Users\\\\Henry\\\\Documents\\\\data\\\\2020_05_26\\\\Host\\\\mw_redis.csv',\n",
       " 'C:\\\\Users\\\\Henry\\\\Documents\\\\data\\\\2020_05_26\\\\Host\\\\os_linux.csv']"
      ]
     },
     "metadata": {},
     "execution_count": 2
    }
   ],
   "source": [
    "# KPI Data\n",
    "path = \"C:\\\\Users\\\\Henry\\\\Documents\\\\data\\\\2020_05_26\\\\Host\\\\\"\n",
    "all_files = glob.glob(path + \"*.csv\")\n",
    "all_files"
   ]
  },
  {
   "cell_type": "code",
   "execution_count": 35,
   "metadata": {},
   "outputs": [],
   "source": [
    "dfs = []\n",
    "for filename in all_files:\n",
    "    df = pd.read_csv(filename, index_col=None)\n",
    "    dfs.append(df)\n",
    "df = pd.concat(dfs, axis=0, ignore_index=True)\n",
    "df.head()"
   ]
  },
  {
   "cell_type": "code",
   "execution_count": 13,
   "metadata": {},
   "outputs": [],
   "source": [
    "df = df.sort_values([\"timestamp\"], ignore_index=True)\n",
    "df = df[(df.timestamp >= (1590441300000-1200000)) & (df.timestamp <= (1590441300000 + 300000))]"
   ]
  },
  {
   "cell_type": "code",
   "execution_count": 15,
   "metadata": {},
   "outputs": [],
   "source": [
    "df.to_csv('kpi_data_526.csv', index=False)"
   ]
  },
  {
   "cell_type": "code",
   "execution_count": 14,
   "metadata": {},
   "outputs": [
    {
     "output_type": "execute_result",
     "data": {
      "text/plain": [
       "                 itemid              name     bomc_id      timestamp  \\\n",
       "488184  999999996430680      CPU_util_pct  ZJ-001-001  1590440100000   \n",
       "488185  999999996437700      CPU_util_pct  ZJ-001-001  1590440100000   \n",
       "488186         65435640      Disk_io_util  ZJ-001-125  1590440100000   \n",
       "488187  999999996432300  Num_of_processes  ZJ-001-076  1590440100000   \n",
       "488188  999999996432240       Disk_rd_ios  ZJ-001-098  1590440100000   \n",
       "\n",
       "             value cmdb_id  \n",
       "488184    0.112063  os_010  \n",
       "488185    1.620712  os_002  \n",
       "488186    0.000000  os_020  \n",
       "488187  224.000000  os_009  \n",
       "488188    0.000000  os_007  "
      ],
      "text/html": "<div>\n<style scoped>\n    .dataframe tbody tr th:only-of-type {\n        vertical-align: middle;\n    }\n\n    .dataframe tbody tr th {\n        vertical-align: top;\n    }\n\n    .dataframe thead th {\n        text-align: right;\n    }\n</style>\n<table border=\"1\" class=\"dataframe\">\n  <thead>\n    <tr style=\"text-align: right;\">\n      <th></th>\n      <th>itemid</th>\n      <th>name</th>\n      <th>bomc_id</th>\n      <th>timestamp</th>\n      <th>value</th>\n      <th>cmdb_id</th>\n    </tr>\n  </thead>\n  <tbody>\n    <tr>\n      <th>488184</th>\n      <td>999999996430680</td>\n      <td>CPU_util_pct</td>\n      <td>ZJ-001-001</td>\n      <td>1590440100000</td>\n      <td>0.112063</td>\n      <td>os_010</td>\n    </tr>\n    <tr>\n      <th>488185</th>\n      <td>999999996437700</td>\n      <td>CPU_util_pct</td>\n      <td>ZJ-001-001</td>\n      <td>1590440100000</td>\n      <td>1.620712</td>\n      <td>os_002</td>\n    </tr>\n    <tr>\n      <th>488186</th>\n      <td>65435640</td>\n      <td>Disk_io_util</td>\n      <td>ZJ-001-125</td>\n      <td>1590440100000</td>\n      <td>0.000000</td>\n      <td>os_020</td>\n    </tr>\n    <tr>\n      <th>488187</th>\n      <td>999999996432300</td>\n      <td>Num_of_processes</td>\n      <td>ZJ-001-076</td>\n      <td>1590440100000</td>\n      <td>224.000000</td>\n      <td>os_009</td>\n    </tr>\n    <tr>\n      <th>488188</th>\n      <td>999999996432240</td>\n      <td>Disk_rd_ios</td>\n      <td>ZJ-001-098</td>\n      <td>1590440100000</td>\n      <td>0.000000</td>\n      <td>os_007</td>\n    </tr>\n  </tbody>\n</table>\n</div>"
     },
     "metadata": {},
     "execution_count": 14
    }
   ],
   "source": [
    "df.head()"
   ]
  },
  {
   "cell_type": "code",
   "execution_count": 2,
   "metadata": {},
   "outputs": [
    {
     "output_type": "execute_result",
     "data": {
      "text/plain": [
       "['C:\\\\Users\\\\Henry\\\\Documents\\\\data\\\\2020_05_26\\\\Trace\\\\trace_csf.csv',\n",
       " 'C:\\\\Users\\\\Henry\\\\Documents\\\\data\\\\2020_05_26\\\\Trace\\\\trace_fly_remote.csv',\n",
       " 'C:\\\\Users\\\\Henry\\\\Documents\\\\data\\\\2020_05_26\\\\Trace\\\\trace_jdbc.csv',\n",
       " 'C:\\\\Users\\\\Henry\\\\Documents\\\\data\\\\2020_05_26\\\\Trace\\\\trace_local.csv',\n",
       " 'C:\\\\Users\\\\Henry\\\\Documents\\\\data\\\\2020_05_26\\\\Trace\\\\trace_osb.csv',\n",
       " 'C:\\\\Users\\\\Henry\\\\Documents\\\\data\\\\2020_05_26\\\\Trace\\\\trace_remote_process.csv']"
      ]
     },
     "metadata": {},
     "execution_count": 2
    }
   ],
   "source": [
    "path = \"C:\\\\Users\\\\Henry\\\\Documents\\\\data\\\\2020_05_26\\\\Trace\\\\\"\n",
    "all_files = glob.glob(path + \"*.csv\")\n",
    "all_files"
   ]
  },
  {
   "cell_type": "code",
   "execution_count": 3,
   "metadata": {},
   "outputs": [],
   "source": [
    "dfs = []\n",
    "for filename in all_files:\n",
    "    df = pd.read_csv(filename, index_col=None)\n",
    "    dfs.append(df)"
   ]
  },
  {
   "cell_type": "code",
   "execution_count": 4,
   "metadata": {},
   "outputs": [],
   "source": [
    "for df in dfs:\n",
    "    if df['callType'].iloc[0]=='JDBC':\n",
    "        df['serviceName'] = df['dsName']\n",
    "    # else:\n",
    "    #     df['serviceName'] = df['cmdb_id']\n",
    "    # if df['callType'].iloc[0]=='JDBC':\n",
    "    #     df['serviceName'] = df['dsName']"
   ]
  },
  {
   "cell_type": "code",
   "execution_count": 5,
   "metadata": {},
   "outputs": [
    {
     "output_type": "execute_result",
     "data": {
      "text/plain": [
       "  callType      startTime  elapsedTime  success               traceId  \\\n",
       "0      CSF  1590422400042       3212.0     True  fe171a0d9608272247dd   \n",
       "1      CSF  1590422400043        521.0     True  fe171b1dc723053247dd   \n",
       "2      CSF  1590422400043       2483.0     True  fe1710044423683247dd   \n",
       "3      CSF  1590422400044       2230.0     True  fe1717f21d28273247dd   \n",
       "4      CSF  1590422400044       2482.0     True  fe171972b143684247dd   \n",
       "\n",
       "                     id                   pid cmdb_id serviceName dsName  \n",
       "0  fe1718e7207827a247dd  fe171ae35818272247dd  os_021     csf_001    NaN  \n",
       "1  fe1712efc05305a247dd  fe171260ff33053247dd  os_022     csf_001    NaN  \n",
       "2  fe171c71bc7368b247dd  fe1711b3b433683247dd  os_021     csf_001    NaN  \n",
       "3  fe1712d8e85827c247dd  fe17174eec38273247dd  os_021     csf_001    NaN  \n",
       "4  fe171f20ea9368c247dd  fe1719218f53684247dd  os_021     csf_001    NaN  "
      ],
      "text/html": "<div>\n<style scoped>\n    .dataframe tbody tr th:only-of-type {\n        vertical-align: middle;\n    }\n\n    .dataframe tbody tr th {\n        vertical-align: top;\n    }\n\n    .dataframe thead th {\n        text-align: right;\n    }\n</style>\n<table border=\"1\" class=\"dataframe\">\n  <thead>\n    <tr style=\"text-align: right;\">\n      <th></th>\n      <th>callType</th>\n      <th>startTime</th>\n      <th>elapsedTime</th>\n      <th>success</th>\n      <th>traceId</th>\n      <th>id</th>\n      <th>pid</th>\n      <th>cmdb_id</th>\n      <th>serviceName</th>\n      <th>dsName</th>\n    </tr>\n  </thead>\n  <tbody>\n    <tr>\n      <th>0</th>\n      <td>CSF</td>\n      <td>1590422400042</td>\n      <td>3212.0</td>\n      <td>True</td>\n      <td>fe171a0d9608272247dd</td>\n      <td>fe1718e7207827a247dd</td>\n      <td>fe171ae35818272247dd</td>\n      <td>os_021</td>\n      <td>csf_001</td>\n      <td>NaN</td>\n    </tr>\n    <tr>\n      <th>1</th>\n      <td>CSF</td>\n      <td>1590422400043</td>\n      <td>521.0</td>\n      <td>True</td>\n      <td>fe171b1dc723053247dd</td>\n      <td>fe1712efc05305a247dd</td>\n      <td>fe171260ff33053247dd</td>\n      <td>os_022</td>\n      <td>csf_001</td>\n      <td>NaN</td>\n    </tr>\n    <tr>\n      <th>2</th>\n      <td>CSF</td>\n      <td>1590422400043</td>\n      <td>2483.0</td>\n      <td>True</td>\n      <td>fe1710044423683247dd</td>\n      <td>fe171c71bc7368b247dd</td>\n      <td>fe1711b3b433683247dd</td>\n      <td>os_021</td>\n      <td>csf_001</td>\n      <td>NaN</td>\n    </tr>\n    <tr>\n      <th>3</th>\n      <td>CSF</td>\n      <td>1590422400044</td>\n      <td>2230.0</td>\n      <td>True</td>\n      <td>fe1717f21d28273247dd</td>\n      <td>fe1712d8e85827c247dd</td>\n      <td>fe17174eec38273247dd</td>\n      <td>os_021</td>\n      <td>csf_001</td>\n      <td>NaN</td>\n    </tr>\n    <tr>\n      <th>4</th>\n      <td>CSF</td>\n      <td>1590422400044</td>\n      <td>2482.0</td>\n      <td>True</td>\n      <td>fe171972b143684247dd</td>\n      <td>fe171f20ea9368c247dd</td>\n      <td>fe1719218f53684247dd</td>\n      <td>os_021</td>\n      <td>csf_001</td>\n      <td>NaN</td>\n    </tr>\n  </tbody>\n</table>\n</div>"
     },
     "metadata": {},
     "execution_count": 5
    }
   ],
   "source": [
    "df = pd.concat(dfs, axis=0, ignore_index=True)\n",
    "df.head()"
   ]
  },
  {
   "cell_type": "code",
   "execution_count": 6,
   "metadata": {},
   "outputs": [],
   "source": [
    "df = df.drop('dsName', axis=1)\n",
    "# del dfs"
   ]
  },
  {
   "cell_type": "code",
   "execution_count": 7,
   "metadata": {},
   "outputs": [],
   "source": [
    "df = df[(df.startTime >= (1590441300000-1200000)) & (df.startTime <= (1590441300000 + 300000))]"
   ]
  },
  {
   "cell_type": "code",
   "execution_count": 8,
   "metadata": {},
   "outputs": [
    {
     "output_type": "execute_result",
     "data": {
      "text/plain": [
       "array(['os_022', 'os_021', 'docker_003', 'docker_004', 'docker_002',\n",
       "       'docker_001', 'db_003', 'db_009', 'db_007', 'docker_005',\n",
       "       'docker_006', 'docker_008', 'docker_007'], dtype=object)"
      ]
     },
     "metadata": {},
     "execution_count": 8
    }
   ],
   "source": [
    "df.serviceName.unique()"
   ]
  },
  {
   "cell_type": "code",
   "execution_count": 8,
   "metadata": {},
   "outputs": [
    {
     "output_type": "execute_result",
     "data": {
      "text/plain": [
       "array(['os_022', 'os_021', 'docker_001', 'docker_002', 'docker_003',\n",
       "       'docker_004', 'docker_008', 'docker_007', 'docker_005',\n",
       "       'docker_006'], dtype=object)"
      ]
     },
     "metadata": {},
     "execution_count": 8
    }
   ],
   "source": [
    "df.cmdb_id.unique()"
   ]
  },
  {
   "cell_type": "code",
   "execution_count": 8,
   "metadata": {},
   "outputs": [],
   "source": [
    "df = df.sort_values([\"startTime\"], ignore_index=True)\n",
    "# # df = df.sort_values([\"traceId\", \"startTime\"], ignore_index=True)\n",
    "# df = df[df.startTime < df.startTime[0]+600000]\n",
    "# df"
   ]
  },
  {
   "cell_type": "code",
   "execution_count": 9,
   "metadata": {},
   "outputs": [],
   "source": [
    "df1 = df[df['callType']=='RemoteProcess']\n",
    "df1 = df1[['pid','cmdb_id']]\n",
    "df1 = df1.set_index('pid')"
   ]
  },
  {
   "cell_type": "code",
   "execution_count": 10,
   "metadata": {},
   "outputs": [],
   "source": [
    "csf_dict = df1.to_dict()\n",
    "csf_cmdb = {str(key):str(values) for key, values in csf_dict['cmdb_id'].items()}"
   ]
  },
  {
   "cell_type": "code",
   "execution_count": 11,
   "metadata": {},
   "outputs": [
    {
     "output_type": "stream",
     "name": "stderr",
     "text": [
      "690099it [00:49, 13999.15it/s]\n"
     ]
    }
   ],
   "source": [
    "for index, row in tqdm(df.iterrows()):\n",
    "    if row['id'] in csf_cmdb:\n",
    "        df.at[index, 'cmdb_id'] = csf_cmdb[row['id']]"
   ]
  },
  {
   "cell_type": "code",
   "execution_count": 27,
   "metadata": {},
   "outputs": [
    {
     "output_type": "execute_result",
     "data": {
      "text/plain": [
       "  callType      startTime  elapsedTime  success               traceId  \\\n",
       "0      OSB  1590440100022        443.0     True  0f1716d7b664266b88be   \n",
       "1      OSB  1590440100024        537.0     True  0f171040c760528b88be   \n",
       "2      OSB  1590440100026        767.0     True  0f171f3ed80526ab88be   \n",
       "3      OSB  1590440100027       1678.0     True  0f171278d90526bb88be   \n",
       "4      OSB  1590440100027       1660.0     True  0f171c055d7052bb88be   \n",
       "\n",
       "                     id   pid cmdb_id serviceName  \n",
       "0  0f171c2e2374266b88be  None  os_021      os_021  \n",
       "1  0f17176e2e70528b88be  None  os_022      os_022  \n",
       "2  0f171bc4e51526ab88be  None  os_021      os_021  \n",
       "3  0f171b2cdb1526bb88be  None  os_021      os_021  \n",
       "4  0f171d035a8052bb88be  None  os_022      os_022  "
      ],
      "text/html": "<div>\n<style scoped>\n    .dataframe tbody tr th:only-of-type {\n        vertical-align: middle;\n    }\n\n    .dataframe tbody tr th {\n        vertical-align: top;\n    }\n\n    .dataframe thead th {\n        text-align: right;\n    }\n</style>\n<table border=\"1\" class=\"dataframe\">\n  <thead>\n    <tr style=\"text-align: right;\">\n      <th></th>\n      <th>callType</th>\n      <th>startTime</th>\n      <th>elapsedTime</th>\n      <th>success</th>\n      <th>traceId</th>\n      <th>id</th>\n      <th>pid</th>\n      <th>cmdb_id</th>\n      <th>serviceName</th>\n    </tr>\n  </thead>\n  <tbody>\n    <tr>\n      <th>0</th>\n      <td>OSB</td>\n      <td>1590440100022</td>\n      <td>443.0</td>\n      <td>True</td>\n      <td>0f1716d7b664266b88be</td>\n      <td>0f171c2e2374266b88be</td>\n      <td>None</td>\n      <td>os_021</td>\n      <td>os_021</td>\n    </tr>\n    <tr>\n      <th>1</th>\n      <td>OSB</td>\n      <td>1590440100024</td>\n      <td>537.0</td>\n      <td>True</td>\n      <td>0f171040c760528b88be</td>\n      <td>0f17176e2e70528b88be</td>\n      <td>None</td>\n      <td>os_022</td>\n      <td>os_022</td>\n    </tr>\n    <tr>\n      <th>2</th>\n      <td>OSB</td>\n      <td>1590440100026</td>\n      <td>767.0</td>\n      <td>True</td>\n      <td>0f171f3ed80526ab88be</td>\n      <td>0f171bc4e51526ab88be</td>\n      <td>None</td>\n      <td>os_021</td>\n      <td>os_021</td>\n    </tr>\n    <tr>\n      <th>3</th>\n      <td>OSB</td>\n      <td>1590440100027</td>\n      <td>1678.0</td>\n      <td>True</td>\n      <td>0f171278d90526bb88be</td>\n      <td>0f171b2cdb1526bb88be</td>\n      <td>None</td>\n      <td>os_021</td>\n      <td>os_021</td>\n    </tr>\n    <tr>\n      <th>4</th>\n      <td>OSB</td>\n      <td>1590440100027</td>\n      <td>1660.0</td>\n      <td>True</td>\n      <td>0f171c055d7052bb88be</td>\n      <td>0f171d035a8052bb88be</td>\n      <td>None</td>\n      <td>os_022</td>\n      <td>os_022</td>\n    </tr>\n  </tbody>\n</table>\n</div>"
     },
     "metadata": {},
     "execution_count": 27
    }
   ],
   "source": [
    "df.head()"
   ]
  },
  {
   "cell_type": "code",
   "execution_count": 12,
   "metadata": {},
   "outputs": [
    {
     "output_type": "stream",
     "name": "stderr",
     "text": [
      "690099it [01:04, 10692.70it/s]\n"
     ]
    }
   ],
   "source": [
    "elapse_time = {}\n",
    "children = {}\n",
    "parent_service = {}\n",
    "for index, row in tqdm(df.iterrows()):\n",
    "    if row['pid'] != 'None':\n",
    "        if row['pid'] in children.keys():\n",
    "            children[row['pid']].append(row['id'])\n",
    "        else:\n",
    "            children[row['pid']] = [row['id']]\n",
    "    elapse_time [row['id']] = float(row['elapsedTime'])\n",
    "    # parent_service[row['id']] = str(row['cmdb_id'] + ':' + row['serviceName'])\n",
    "    parent_service[row['id']] = row['serviceName']\n"
   ]
  },
  {
   "cell_type": "code",
   "execution_count": 16,
   "metadata": {},
   "outputs": [
    {
     "output_type": "execute_result",
     "data": {
      "text/plain": [
       "        callType      startTime  elapsedTime  success               traceId  \\\n",
       "0            OSB  1587579090784       1540.0     True  00007171a31677604200   \n",
       "1            CSF  1587579090790       1525.0     True  00007171a31677604200   \n",
       "2  RemoteProcess  1587579090796       1520.0     True  00007171a31677604200   \n",
       "3      FlyRemote  1587579090997          5.0     True  00007171a31677604200   \n",
       "4            CSF  1587579091097        347.0     True  00007171a31677604200   \n",
       "\n",
       "                     id                   pid     cmdb_id     serviceName  \n",
       "0  b27e5171a31677604201                  None      os_022         osb_001  \n",
       "1  acdcd171a31677664203  b27e5171a31677604201      os_022      docker_002  \n",
       "2  2e8ba171a316776c9828  acdcd171a31677664203  docker_002         csf_001  \n",
       "3  23a11171a31678359892  2e8ba171a316776c9828  docker_002  fly_remote_001  \n",
       "4  76499171a31678989929  2e8ba171a316776c9828  docker_002      docker_007  "
      ],
      "text/html": "<div>\n<style scoped>\n    .dataframe tbody tr th:only-of-type {\n        vertical-align: middle;\n    }\n\n    .dataframe tbody tr th {\n        vertical-align: top;\n    }\n\n    .dataframe thead th {\n        text-align: right;\n    }\n</style>\n<table border=\"1\" class=\"dataframe\">\n  <thead>\n    <tr style=\"text-align: right;\">\n      <th></th>\n      <th>callType</th>\n      <th>startTime</th>\n      <th>elapsedTime</th>\n      <th>success</th>\n      <th>traceId</th>\n      <th>id</th>\n      <th>pid</th>\n      <th>cmdb_id</th>\n      <th>serviceName</th>\n    </tr>\n  </thead>\n  <tbody>\n    <tr>\n      <th>0</th>\n      <td>OSB</td>\n      <td>1587579090784</td>\n      <td>1540.0</td>\n      <td>True</td>\n      <td>00007171a31677604200</td>\n      <td>b27e5171a31677604201</td>\n      <td>None</td>\n      <td>os_022</td>\n      <td>osb_001</td>\n    </tr>\n    <tr>\n      <th>1</th>\n      <td>CSF</td>\n      <td>1587579090790</td>\n      <td>1525.0</td>\n      <td>True</td>\n      <td>00007171a31677604200</td>\n      <td>acdcd171a31677664203</td>\n      <td>b27e5171a31677604201</td>\n      <td>os_022</td>\n      <td>docker_002</td>\n    </tr>\n    <tr>\n      <th>2</th>\n      <td>RemoteProcess</td>\n      <td>1587579090796</td>\n      <td>1520.0</td>\n      <td>True</td>\n      <td>00007171a31677604200</td>\n      <td>2e8ba171a316776c9828</td>\n      <td>acdcd171a31677664203</td>\n      <td>docker_002</td>\n      <td>csf_001</td>\n    </tr>\n    <tr>\n      <th>3</th>\n      <td>FlyRemote</td>\n      <td>1587579090997</td>\n      <td>5.0</td>\n      <td>True</td>\n      <td>00007171a31677604200</td>\n      <td>23a11171a31678359892</td>\n      <td>2e8ba171a316776c9828</td>\n      <td>docker_002</td>\n      <td>fly_remote_001</td>\n    </tr>\n    <tr>\n      <th>4</th>\n      <td>CSF</td>\n      <td>1587579091097</td>\n      <td>347.0</td>\n      <td>True</td>\n      <td>00007171a31677604200</td>\n      <td>76499171a31678989929</td>\n      <td>2e8ba171a316776c9828</td>\n      <td>docker_002</td>\n      <td>docker_007</td>\n    </tr>\n  </tbody>\n</table>\n</div>"
     },
     "metadata": {},
     "execution_count": 16
    }
   ],
   "source": [
    "df.head()"
   ]
  },
  {
   "cell_type": "code",
   "execution_count": 13,
   "metadata": {},
   "outputs": [
    {
     "output_type": "stream",
     "name": "stderr",
     "text": [
      "690099it [01:15, 9165.78it/s]\n"
     ]
    }
   ],
   "source": [
    "df['actual_time'] = 0.0\n",
    "df['path'] = ''\n",
    "for index, row in tqdm(df.iterrows()):\n",
    "    total_child = 0.0\n",
    "    if row['pid'] not in parent_service.keys():\n",
    "        df.at[index, 'path'] = 'Start-' + row['serviceName']\n",
    "    else:\n",
    "        df.at[index, 'path'] = parent_service[row['pid']] + '-' + row['serviceName']\n",
    "\n",
    "    if row['id'] not in children.keys():\n",
    "        df.at[index, 'actual_time'] = row['elapsedTime']\n",
    "        continue\n",
    "    for child in children[row['id']]:\n",
    "        total_child += elapse_time[child]\n",
    "    df.at[index, 'actual_time'] = row['elapsedTime'] - total_child"
   ]
  },
  {
   "cell_type": "code",
   "execution_count": 14,
   "metadata": {},
   "outputs": [],
   "source": [
    "df = df.sort_values([\"startTime\"], ignore_index=True)"
   ]
  },
  {
   "cell_type": "code",
   "execution_count": 18,
   "metadata": {},
   "outputs": [
    {
     "output_type": "execute_result",
     "data": {
      "text/plain": [
       "         callType      startTime  elapsedTime  success               traceId  \\\n",
       "0             OSB  1590440100022        443.0     True  0f1716d7b664266b88be   \n",
       "1             OSB  1590440100024        537.0     True  0f171040c760528b88be   \n",
       "2             OSB  1590440100026        767.0     True  0f171f3ed80526ab88be   \n",
       "3             OSB  1590440100027       1678.0     True  0f171278d90526bb88be   \n",
       "4             OSB  1590440100027       1660.0     True  0f171c055d7052bb88be   \n",
       "5             OSB  1590440100030        539.0     True  0f171dbef10152eb88be   \n",
       "6             CSF  1590440100030        423.0     True  0f1716d7b664266b88be   \n",
       "7             CSF  1590440100031        518.0     True  0f171040c760528b88be   \n",
       "8   RemoteProcess  1590440100032        510.0     True  0f171040c760528b88be   \n",
       "9   RemoteProcess  1590440100033        400.0     True  0f171c055d7052bb88be   \n",
       "10            CSF  1590440100033       1643.0     True  0f171c055d7052bb88be   \n",
       "11            OSB  1590440100035        692.0     True  0f171dde7444893c88be   \n",
       "12            OSB  1590440100035       1656.0     True  0f171be9d421523c88be   \n",
       "13  RemoteProcess  1590440100035        417.0     True  0f1716d7b664266b88be   \n",
       "14            CSF  1590440100036       1659.0     True  0f171278d90526bb88be   \n",
       "15            CSF  1590440100037        523.0     True  0f171dbef10152eb88be   \n",
       "16  RemoteProcess  1590440100038        520.0     True  0f171dbef10152eb88be   \n",
       "17            OSB  1590440100040        375.0     True  0f1718a73f60528c88be   \n",
       "18      FlyRemote  1590440100040          9.0     True  0f1716d7b664266b88be   \n",
       "19            CSF  1590440100040       1636.0     True  0f171be9d421523c88be   \n",
       "\n",
       "                      id                   pid     cmdb_id     serviceName  \\\n",
       "0   0f171c2e2374266b88be                  None      os_021         osb_001   \n",
       "1   0f17176e2e70528b88be                  None      os_022         osb_001   \n",
       "2   0f171bc4e51526ab88be                  None      os_021         osb_001   \n",
       "3   0f171b2cdb1526bb88be                  None      os_021         osb_001   \n",
       "4   0f171d035a8052bb88be                  None      os_022         osb_001   \n",
       "5   0f1715b8421152eb88be                  None      os_022         osb_001   \n",
       "6   0f171ec2a89426eb88be  0f171c2e2374266b88be  docker_003         csf_001   \n",
       "7   0f1716969d3152fb88be  0f17176e2e70528b88be  docker_001         csf_001   \n",
       "8   0f1711a8a558520c88be  0f1716969d3152fb88be  docker_001         csf_001   \n",
       "9   0f17151c1f78521c88be  0f171f7d0911521c88be  docker_001         csf_001   \n",
       "10  0f171f7d0911521c88be  0f171d035a8052bb88be  docker_001         csf_001   \n",
       "11  0f17119a5f54893c88be                  None      os_022         osb_001   \n",
       "12  0f171e44a531523c88be                  None      os_022         osb_001   \n",
       "13  0f1713177e68153c88be  0f171ec2a89426eb88be  docker_003         csf_001   \n",
       "14  0f1717d69835264c88be  0f171b2cdb1526bb88be  docker_004         csf_001   \n",
       "15  0f171011d251525c88be  0f1715b8421152eb88be  docker_001         csf_001   \n",
       "16  0f171592f898526c88be  0f171011d251525c88be  docker_001         csf_001   \n",
       "17  0f1717e78d70528c88be                  None      os_022         osb_001   \n",
       "18  0f171d598788158c88be  0f1713177e68153c88be  docker_003  fly_remote_001   \n",
       "19  0f171c5e7251528c88be  0f171e44a531523c88be  docker_001         csf_001   \n",
       "\n",
       "    actual_time                    path  \n",
       "0          20.0           Start-osb_001  \n",
       "1          19.0           Start-osb_001  \n",
       "2          31.0           Start-osb_001  \n",
       "3          19.0           Start-osb_001  \n",
       "4          17.0           Start-osb_001  \n",
       "5          16.0           Start-osb_001  \n",
       "6           6.0         osb_001-csf_001  \n",
       "7           8.0         osb_001-csf_001  \n",
       "8          39.0         csf_001-csf_001  \n",
       "9         107.0         csf_001-csf_001  \n",
       "10       1243.0         osb_001-csf_001  \n",
       "11         16.0           Start-osb_001  \n",
       "12         20.0           Start-osb_001  \n",
       "13         24.0         csf_001-csf_001  \n",
       "14        944.0         osb_001-csf_001  \n",
       "15          3.0         osb_001-csf_001  \n",
       "16        134.0         csf_001-csf_001  \n",
       "17         23.0           Start-osb_001  \n",
       "18          9.0  csf_001-fly_remote_001  \n",
       "19       1127.0         osb_001-csf_001  "
      ],
      "text/html": "<div>\n<style scoped>\n    .dataframe tbody tr th:only-of-type {\n        vertical-align: middle;\n    }\n\n    .dataframe tbody tr th {\n        vertical-align: top;\n    }\n\n    .dataframe thead th {\n        text-align: right;\n    }\n</style>\n<table border=\"1\" class=\"dataframe\">\n  <thead>\n    <tr style=\"text-align: right;\">\n      <th></th>\n      <th>callType</th>\n      <th>startTime</th>\n      <th>elapsedTime</th>\n      <th>success</th>\n      <th>traceId</th>\n      <th>id</th>\n      <th>pid</th>\n      <th>cmdb_id</th>\n      <th>serviceName</th>\n      <th>actual_time</th>\n      <th>path</th>\n    </tr>\n  </thead>\n  <tbody>\n    <tr>\n      <th>0</th>\n      <td>OSB</td>\n      <td>1590440100022</td>\n      <td>443.0</td>\n      <td>True</td>\n      <td>0f1716d7b664266b88be</td>\n      <td>0f171c2e2374266b88be</td>\n      <td>None</td>\n      <td>os_021</td>\n      <td>osb_001</td>\n      <td>20.0</td>\n      <td>Start-osb_001</td>\n    </tr>\n    <tr>\n      <th>1</th>\n      <td>OSB</td>\n      <td>1590440100024</td>\n      <td>537.0</td>\n      <td>True</td>\n      <td>0f171040c760528b88be</td>\n      <td>0f17176e2e70528b88be</td>\n      <td>None</td>\n      <td>os_022</td>\n      <td>osb_001</td>\n      <td>19.0</td>\n      <td>Start-osb_001</td>\n    </tr>\n    <tr>\n      <th>2</th>\n      <td>OSB</td>\n      <td>1590440100026</td>\n      <td>767.0</td>\n      <td>True</td>\n      <td>0f171f3ed80526ab88be</td>\n      <td>0f171bc4e51526ab88be</td>\n      <td>None</td>\n      <td>os_021</td>\n      <td>osb_001</td>\n      <td>31.0</td>\n      <td>Start-osb_001</td>\n    </tr>\n    <tr>\n      <th>3</th>\n      <td>OSB</td>\n      <td>1590440100027</td>\n      <td>1678.0</td>\n      <td>True</td>\n      <td>0f171278d90526bb88be</td>\n      <td>0f171b2cdb1526bb88be</td>\n      <td>None</td>\n      <td>os_021</td>\n      <td>osb_001</td>\n      <td>19.0</td>\n      <td>Start-osb_001</td>\n    </tr>\n    <tr>\n      <th>4</th>\n      <td>OSB</td>\n      <td>1590440100027</td>\n      <td>1660.0</td>\n      <td>True</td>\n      <td>0f171c055d7052bb88be</td>\n      <td>0f171d035a8052bb88be</td>\n      <td>None</td>\n      <td>os_022</td>\n      <td>osb_001</td>\n      <td>17.0</td>\n      <td>Start-osb_001</td>\n    </tr>\n    <tr>\n      <th>5</th>\n      <td>OSB</td>\n      <td>1590440100030</td>\n      <td>539.0</td>\n      <td>True</td>\n      <td>0f171dbef10152eb88be</td>\n      <td>0f1715b8421152eb88be</td>\n      <td>None</td>\n      <td>os_022</td>\n      <td>osb_001</td>\n      <td>16.0</td>\n      <td>Start-osb_001</td>\n    </tr>\n    <tr>\n      <th>6</th>\n      <td>CSF</td>\n      <td>1590440100030</td>\n      <td>423.0</td>\n      <td>True</td>\n      <td>0f1716d7b664266b88be</td>\n      <td>0f171ec2a89426eb88be</td>\n      <td>0f171c2e2374266b88be</td>\n      <td>docker_003</td>\n      <td>csf_001</td>\n      <td>6.0</td>\n      <td>osb_001-csf_001</td>\n    </tr>\n    <tr>\n      <th>7</th>\n      <td>CSF</td>\n      <td>1590440100031</td>\n      <td>518.0</td>\n      <td>True</td>\n      <td>0f171040c760528b88be</td>\n      <td>0f1716969d3152fb88be</td>\n      <td>0f17176e2e70528b88be</td>\n      <td>docker_001</td>\n      <td>csf_001</td>\n      <td>8.0</td>\n      <td>osb_001-csf_001</td>\n    </tr>\n    <tr>\n      <th>8</th>\n      <td>RemoteProcess</td>\n      <td>1590440100032</td>\n      <td>510.0</td>\n      <td>True</td>\n      <td>0f171040c760528b88be</td>\n      <td>0f1711a8a558520c88be</td>\n      <td>0f1716969d3152fb88be</td>\n      <td>docker_001</td>\n      <td>csf_001</td>\n      <td>39.0</td>\n      <td>csf_001-csf_001</td>\n    </tr>\n    <tr>\n      <th>9</th>\n      <td>RemoteProcess</td>\n      <td>1590440100033</td>\n      <td>400.0</td>\n      <td>True</td>\n      <td>0f171c055d7052bb88be</td>\n      <td>0f17151c1f78521c88be</td>\n      <td>0f171f7d0911521c88be</td>\n      <td>docker_001</td>\n      <td>csf_001</td>\n      <td>107.0</td>\n      <td>csf_001-csf_001</td>\n    </tr>\n    <tr>\n      <th>10</th>\n      <td>CSF</td>\n      <td>1590440100033</td>\n      <td>1643.0</td>\n      <td>True</td>\n      <td>0f171c055d7052bb88be</td>\n      <td>0f171f7d0911521c88be</td>\n      <td>0f171d035a8052bb88be</td>\n      <td>docker_001</td>\n      <td>csf_001</td>\n      <td>1243.0</td>\n      <td>osb_001-csf_001</td>\n    </tr>\n    <tr>\n      <th>11</th>\n      <td>OSB</td>\n      <td>1590440100035</td>\n      <td>692.0</td>\n      <td>True</td>\n      <td>0f171dde7444893c88be</td>\n      <td>0f17119a5f54893c88be</td>\n      <td>None</td>\n      <td>os_022</td>\n      <td>osb_001</td>\n      <td>16.0</td>\n      <td>Start-osb_001</td>\n    </tr>\n    <tr>\n      <th>12</th>\n      <td>OSB</td>\n      <td>1590440100035</td>\n      <td>1656.0</td>\n      <td>True</td>\n      <td>0f171be9d421523c88be</td>\n      <td>0f171e44a531523c88be</td>\n      <td>None</td>\n      <td>os_022</td>\n      <td>osb_001</td>\n      <td>20.0</td>\n      <td>Start-osb_001</td>\n    </tr>\n    <tr>\n      <th>13</th>\n      <td>RemoteProcess</td>\n      <td>1590440100035</td>\n      <td>417.0</td>\n      <td>True</td>\n      <td>0f1716d7b664266b88be</td>\n      <td>0f1713177e68153c88be</td>\n      <td>0f171ec2a89426eb88be</td>\n      <td>docker_003</td>\n      <td>csf_001</td>\n      <td>24.0</td>\n      <td>csf_001-csf_001</td>\n    </tr>\n    <tr>\n      <th>14</th>\n      <td>CSF</td>\n      <td>1590440100036</td>\n      <td>1659.0</td>\n      <td>True</td>\n      <td>0f171278d90526bb88be</td>\n      <td>0f1717d69835264c88be</td>\n      <td>0f171b2cdb1526bb88be</td>\n      <td>docker_004</td>\n      <td>csf_001</td>\n      <td>944.0</td>\n      <td>osb_001-csf_001</td>\n    </tr>\n    <tr>\n      <th>15</th>\n      <td>CSF</td>\n      <td>1590440100037</td>\n      <td>523.0</td>\n      <td>True</td>\n      <td>0f171dbef10152eb88be</td>\n      <td>0f171011d251525c88be</td>\n      <td>0f1715b8421152eb88be</td>\n      <td>docker_001</td>\n      <td>csf_001</td>\n      <td>3.0</td>\n      <td>osb_001-csf_001</td>\n    </tr>\n    <tr>\n      <th>16</th>\n      <td>RemoteProcess</td>\n      <td>1590440100038</td>\n      <td>520.0</td>\n      <td>True</td>\n      <td>0f171dbef10152eb88be</td>\n      <td>0f171592f898526c88be</td>\n      <td>0f171011d251525c88be</td>\n      <td>docker_001</td>\n      <td>csf_001</td>\n      <td>134.0</td>\n      <td>csf_001-csf_001</td>\n    </tr>\n    <tr>\n      <th>17</th>\n      <td>OSB</td>\n      <td>1590440100040</td>\n      <td>375.0</td>\n      <td>True</td>\n      <td>0f1718a73f60528c88be</td>\n      <td>0f1717e78d70528c88be</td>\n      <td>None</td>\n      <td>os_022</td>\n      <td>osb_001</td>\n      <td>23.0</td>\n      <td>Start-osb_001</td>\n    </tr>\n    <tr>\n      <th>18</th>\n      <td>FlyRemote</td>\n      <td>1590440100040</td>\n      <td>9.0</td>\n      <td>True</td>\n      <td>0f1716d7b664266b88be</td>\n      <td>0f171d598788158c88be</td>\n      <td>0f1713177e68153c88be</td>\n      <td>docker_003</td>\n      <td>fly_remote_001</td>\n      <td>9.0</td>\n      <td>csf_001-fly_remote_001</td>\n    </tr>\n    <tr>\n      <th>19</th>\n      <td>CSF</td>\n      <td>1590440100040</td>\n      <td>1636.0</td>\n      <td>True</td>\n      <td>0f171be9d421523c88be</td>\n      <td>0f171c5e7251528c88be</td>\n      <td>0f171e44a531523c88be</td>\n      <td>docker_001</td>\n      <td>csf_001</td>\n      <td>1127.0</td>\n      <td>osb_001-csf_001</td>\n    </tr>\n  </tbody>\n</table>\n</div>"
     },
     "metadata": {},
     "execution_count": 18
    }
   ],
   "source": [
    "df.head(20)"
   ]
  },
  {
   "cell_type": "code",
   "execution_count": 19,
   "metadata": {},
   "outputs": [],
   "source": [
    "df.to_csv('trace_untouched_5_26.csv', index=False)"
   ]
  },
  {
   "cell_type": "code",
   "execution_count": 21,
   "metadata": {},
   "outputs": [
    {
     "output_type": "execute_result",
     "data": {
      "text/plain": [
       "array(['osb_001', 'docker_002', 'csf_001', 'fly_remote_001', 'docker_007',\n",
       "       'csf_002', 'db_003', 'csf_003', 'docker_008', 'csf_004', 'csf_005',\n",
       "       'db_009', 'db_007', 'docker_004', 'docker_006', 'docker_005',\n",
       "       'docker_003', 'docker_001'], dtype=object)"
      ]
     },
     "metadata": {},
     "execution_count": 21
    }
   ],
   "source": [
    "df.serviceName.unique()"
   ]
  },
  {
   "cell_type": "code",
   "execution_count": 22,
   "metadata": {},
   "outputs": [
    {
     "output_type": "execute_result",
     "data": {
      "text/plain": [
       "array(['os_022', 'docker_002', 'docker_007', 'docker_008', 'os_021',\n",
       "       'docker_004', 'docker_006', 'docker_005', 'docker_003',\n",
       "       'docker_001'], dtype=object)"
      ]
     },
     "metadata": {},
     "execution_count": 22
    }
   ],
   "source": [
    "df.cmdb_id.unique()"
   ]
  },
  {
   "cell_type": "code",
   "execution_count": 23,
   "metadata": {},
   "outputs": [
    {
     "output_type": "execute_result",
     "data": {
      "text/plain": [
       "         callType      startTime  elapsedTime  success               traceId  \\\n",
       "0             OSB  1587579090784       1540.0     True  00007171a31677604200   \n",
       "1             CSF  1587579090790       1525.0     True  00007171a31677604200   \n",
       "2   RemoteProcess  1587579090796       1520.0     True  00007171a31677604200   \n",
       "3       FlyRemote  1587579090997          5.0     True  00007171a31677604200   \n",
       "4             CSF  1587579091097        347.0     True  00007171a31677604200   \n",
       "5   RemoteProcess  1587579091394         50.0     True  00007171a31677604200   \n",
       "6            JDBC  1587579091412          8.0     True  00007171a31677604200   \n",
       "7           LOCAL  1587579091412         17.0     True  00007171a31677604200   \n",
       "8            JDBC  1587579091421          7.0     True  00007171a31677604200   \n",
       "9             CSF  1587579091596        300.0     True  00007171a31677604200   \n",
       "10  RemoteProcess  1587579091793         47.0     True  00007171a31677604200   \n",
       "11           JDBC  1587579091798          7.0     True  00007171a31677604200   \n",
       "12          LOCAL  1587579091798         16.0     True  00007171a31677604200   \n",
       "13           JDBC  1587579091807          7.0     True  00007171a31677604200   \n",
       "14          LOCAL  1587579091816          8.0     True  00007171a31677604200   \n",
       "15           JDBC  1587579091817          7.0     True  00007171a31677604200   \n",
       "16            CSF  1587579091996         98.0     True  00007171a31677604200   \n",
       "17  RemoteProcess  1587579092004         75.0     True  00007171a31677604200   \n",
       "18           JDBC  1587579092008          8.0     True  00007171a31677604200   \n",
       "19          LOCAL  1587579092008         17.0     True  00007171a31677604200   \n",
       "20           JDBC  1587579092017          7.0     True  00007171a31677604200   \n",
       "21          LOCAL  1587579092057          9.0     True  00007171a31677604200   \n",
       "22           JDBC  1587579092058          7.0     True  00007171a31677604200   \n",
       "23            CSF  1587579092099         94.0     True  00007171a31677604200   \n",
       "24  RemoteProcess  1587579092103         55.0     True  00007171a31677604200   \n",
       "25           JDBC  1587579092108          7.0     True  00007171a31677604200   \n",
       "26          LOCAL  1587579092108         16.0     True  00007171a31677604200   \n",
       "27           JDBC  1587579092117          7.0     True  00007171a31677604200   \n",
       "28           JDBC  1587579092197          0.0     True  00007171a31677604200   \n",
       "29          LOCAL  1587579092197          2.0     True  00007171a31677604200   \n",
       "30           JDBC  1587579092199          0.0     True  00007171a31677604200   \n",
       "31          LOCAL  1587579092199          3.0     True  00007171a31677604200   \n",
       "32           JDBC  1587579092201          1.0     True  00007171a31677604200   \n",
       "33          LOCAL  1587579092202          1.0     True  00007171a31677604200   \n",
       "34           JDBC  1587579092203          0.0     True  00007171a31677604200   \n",
       "35           JDBC  1587579092204          1.0     True  00007171a31677604200   \n",
       "36          LOCAL  1587579092204          1.0     True  00007171a31677604200   \n",
       "37          LOCAL  1587579092205          2.0     True  00007171a31677604200   \n",
       "38           JDBC  1587579092206          1.0     True  00007171a31677604200   \n",
       "39          LOCAL  1587579092207          2.0     True  00007171a31677604200   \n",
       "40           JDBC  1587579092208          1.0     True  00007171a31677604200   \n",
       "41          LOCAL  1587579092209          2.0     True  00007171a31677604200   \n",
       "42           JDBC  1587579092210          1.0     True  00007171a31677604200   \n",
       "43          LOCAL  1587579092211          2.0     True  00007171a31677604200   \n",
       "44           JDBC  1587579092212          1.0     True  00007171a31677604200   \n",
       "45          LOCAL  1587579092213          2.0     True  00007171a31677604200   \n",
       "46           JDBC  1587579092214          1.0     True  00007171a31677604200   \n",
       "47          LOCAL  1587579092215          2.0     True  00007171a31677604200   \n",
       "48           JDBC  1587579092216          1.0     True  00007171a31677604200   \n",
       "49          LOCAL  1587579092217         75.0     True  00007171a31677604200   \n",
       "50           JDBC  1587579092218         73.0     True  00007171a31677604200   \n",
       "51          LOCAL  1587579092293          3.0     True  00007171a31677604200   \n",
       "52           JDBC  1587579092294          0.0     True  00007171a31677604200   \n",
       "53          LOCAL  1587579092297          2.0     True  00007171a31677604200   \n",
       "54           JDBC  1587579092298          0.0     True  00007171a31677604200   \n",
       "55           JDBC  1587579092300          3.0     True  00007171a31677604200   \n",
       "56          LOCAL  1587579092300          8.0     True  00007171a31677604200   \n",
       "57           JDBC  1587579092305          2.0     True  00007171a31677604200   \n",
       "58            OSB  1587583344284        314.0     True  0000b171a3575e9c1090   \n",
       "59            CSF  1587583344289        303.0     True  0000b171a3575e9c1090   \n",
       "\n",
       "                      id                   pid     cmdb_id     serviceName  \\\n",
       "0   b27e5171a31677604201                  None      os_022         osb_001   \n",
       "1   acdcd171a31677664203  b27e5171a31677604201      os_022      docker_002   \n",
       "2   2e8ba171a316776c9828  acdcd171a31677664203  docker_002         csf_001   \n",
       "3   23a11171a31678359892  2e8ba171a316776c9828  docker_002  fly_remote_001   \n",
       "4   76499171a31678989929  2e8ba171a316776c9828  docker_002      docker_007   \n",
       "5   84370171a31679c28884  76499171a31678989929  docker_007         csf_002   \n",
       "6   a5388171a31679d48894  a41f6171a31679d48891  docker_007          db_003   \n",
       "7   a41f6171a31679d48891  84370171a31679c28884  docker_007          db_003   \n",
       "8   eba32171a31679dd8897  a41f6171a31679d48891  docker_007          db_003   \n",
       "9   7a21a171a3167a249974  2e8ba171a316776c9828  docker_002      docker_007   \n",
       "10  5e97c171a3167b518899  7a21a171a3167a249974  docker_007         csf_003   \n",
       "11  03632171a3167b568906  7380e171a3167b568903  docker_007          db_003   \n",
       "12  7380e171a3167b568903  5e97c171a3167b518899  docker_007          db_003   \n",
       "13  0deaa171a3167b5f8909  7380e171a3167b568903  docker_007          db_003   \n",
       "14  7a534171a3167b688911  5e97c171a3167b518899  docker_007          db_003   \n",
       "15  acde2171a3167b698914  7a534171a3167b688911  docker_007          db_003   \n",
       "16  80ea6171a3167c1b1102  2e8ba171a316776c9828  docker_002      docker_008   \n",
       "17  c62b5171a3167c243215  80ea6171a3167c1b1102  docker_008         csf_004   \n",
       "18  2367d171a3167c283222  17f93171a3167c283219  docker_008          db_003   \n",
       "19  17f93171a3167c283219  c62b5171a3167c243215  docker_008          db_003   \n",
       "20  6ab6b171a3167c313225  17f93171a3167c283219  docker_008          db_003   \n",
       "21  793ac171a3167c593227  c62b5171a3167c243215  docker_008          db_003   \n",
       "22  6fc69171a3167c5a3230  793ac171a3167c593227  docker_008          db_003   \n",
       "23  0fe46171a3167c821140  2e8ba171a316776c9828  docker_002      docker_008   \n",
       "24  e6f4d171a3167c873236  0fe46171a3167c821140  docker_008         csf_005   \n",
       "25  87ff4171a3167c8c3241  8431c171a3167c8c3238  docker_008          db_003   \n",
       "26  8431c171a3167c8c3238  e6f4d171a3167c873236  docker_008          db_003   \n",
       "27  551b1171a3167c953252  8431c171a3167c8c3238  docker_008          db_003   \n",
       "28  e6cac171a3167ce51163  1f359171a3167ce51160  docker_002          db_009   \n",
       "29  1f359171a3167ce51160  2e8ba171a316776c9828  docker_002          db_009   \n",
       "30  ca192171a3167ce71166  1f359171a3167ce51160  docker_002          db_009   \n",
       "31  3bd13171a3167ce71168  2e8ba171a316776c9828  docker_002          db_009   \n",
       "32  c04bc171a3167ce91171  3bd13171a3167ce71168  docker_002          db_009   \n",
       "33  8b20b171a3167cea1173  2e8ba171a316776c9828  docker_002          db_009   \n",
       "34  05638171a3167ceb1176  8b20b171a3167cea1173  docker_002          db_009   \n",
       "35  347e7171a3167cec1181  6bf5f171a3167cec1178  docker_002          db_009   \n",
       "36  6bf5f171a3167cec1178  2e8ba171a316776c9828  docker_002          db_009   \n",
       "37  37608171a3167ced1183  2e8ba171a316776c9828  docker_002          db_009   \n",
       "38  afee6171a3167cee1186  37608171a3167ced1183  docker_002          db_009   \n",
       "39  4b7a4171a3167cef1188  2e8ba171a316776c9828  docker_002          db_009   \n",
       "40  ee958171a3167cf01191  4b7a4171a3167cef1188  docker_002          db_009   \n",
       "41  675a4171a3167cf11193  2e8ba171a316776c9828  docker_002          db_009   \n",
       "42  ee90e171a3167cf21196  675a4171a3167cf11193  docker_002          db_009   \n",
       "43  86ef0171a3167cf31198  2e8ba171a316776c9828  docker_002          db_009   \n",
       "44  9c0b6171a3167cf41201  86ef0171a3167cf31198  docker_002          db_009   \n",
       "45  6e92f171a3167cf51203  2e8ba171a316776c9828  docker_002          db_009   \n",
       "46  8b85e171a3167cf61206  6e92f171a3167cf51203  docker_002          db_009   \n",
       "47  ffb52171a3167cf71208  2e8ba171a316776c9828  docker_002          db_009   \n",
       "48  49321171a3167cf81211  ffb52171a3167cf71208  docker_002          db_009   \n",
       "49  f5f40171a3167cf91213  2e8ba171a316776c9828  docker_002          db_009   \n",
       "50  508e2171a3167cfa1216  f5f40171a3167cf91213  docker_002          db_009   \n",
       "51  01862171a3167d451220  2e8ba171a316776c9828  docker_002          db_009   \n",
       "52  be2d2171a3167d461223  01862171a3167d451220  docker_002          db_009   \n",
       "53  94d0e171a3167d491227  2e8ba171a316776c9828  docker_002          db_009   \n",
       "54  6b3b4171a3167d4a1230  94d0e171a3167d491227  docker_002          db_009   \n",
       "55  75393171a3167d4c1235  fe34c171a3167d4c1232  docker_002          db_007   \n",
       "56  fe34c171a3167d4c1232  2e8ba171a316776c9828  docker_002          db_007   \n",
       "57  b8aaa171a3167d511240  fe34c171a3167d4c1232  docker_002          db_007   \n",
       "58  e21e6171a3575e9c1091                  None      os_021         osb_001   \n",
       "59  2e46b171a3575ea11093  e21e6171a3575e9c1091      os_021      docker_004   \n",
       "\n",
       "    actual_time                    path  \n",
       "0          15.0           Start-osb_001  \n",
       "1           5.0      osb_001-docker_002  \n",
       "2         569.0      docker_002-csf_001  \n",
       "3           5.0  csf_001-fly_remote_001  \n",
       "4         297.0      csf_001-docker_007  \n",
       "5          33.0      docker_007-csf_002  \n",
       "6           8.0           db_003-db_003  \n",
       "7           2.0          csf_002-db_003  \n",
       "8           7.0           db_003-db_003  \n",
       "9         253.0      csf_001-docker_007  \n",
       "10         23.0      docker_007-csf_003  \n",
       "11          7.0           db_003-db_003  \n",
       "12          2.0          csf_003-db_003  \n",
       "13          7.0           db_003-db_003  \n",
       "14          1.0          csf_003-db_003  \n",
       "15          7.0           db_003-db_003  \n",
       "16         23.0      csf_001-docker_008  \n",
       "17         49.0      docker_008-csf_004  \n",
       "18          8.0           db_003-db_003  \n",
       "19          2.0          csf_004-db_003  \n",
       "20          7.0           db_003-db_003  \n",
       "21          2.0          csf_004-db_003  \n",
       "22          7.0           db_003-db_003  \n",
       "23         39.0      csf_001-docker_008  \n",
       "24         39.0      docker_008-csf_005  \n",
       "25          7.0           db_003-db_003  \n",
       "26          2.0          csf_005-db_003  \n",
       "27          7.0           db_003-db_003  \n",
       "28          0.0           db_009-db_009  \n",
       "29          2.0          csf_001-db_009  \n",
       "30          0.0           db_009-db_009  \n",
       "31          2.0          csf_001-db_009  \n",
       "32          1.0           db_009-db_009  \n",
       "33          1.0          csf_001-db_009  \n",
       "34          0.0           db_009-db_009  \n",
       "35          1.0           db_009-db_009  \n",
       "36          0.0          csf_001-db_009  \n",
       "37          1.0          csf_001-db_009  \n",
       "38          1.0           db_009-db_009  \n",
       "39          1.0          csf_001-db_009  \n",
       "40          1.0           db_009-db_009  \n",
       "41          1.0          csf_001-db_009  \n",
       "42          1.0           db_009-db_009  \n",
       "43          1.0          csf_001-db_009  \n",
       "44          1.0           db_009-db_009  \n",
       "45          1.0          csf_001-db_009  \n",
       "46          1.0           db_009-db_009  \n",
       "47          1.0          csf_001-db_009  \n",
       "48          1.0           db_009-db_009  \n",
       "49          2.0          csf_001-db_009  \n",
       "50         73.0           db_009-db_009  \n",
       "51          3.0          csf_001-db_009  \n",
       "52          0.0           db_009-db_009  \n",
       "53          2.0          csf_001-db_009  \n",
       "54          0.0           db_009-db_009  \n",
       "55          3.0           db_007-db_007  \n",
       "56          3.0          csf_001-db_007  \n",
       "57          2.0           db_007-db_007  \n",
       "58         11.0           Start-osb_001  \n",
       "59         71.0      osb_001-docker_004  "
      ],
      "text/html": "<div>\n<style scoped>\n    .dataframe tbody tr th:only-of-type {\n        vertical-align: middle;\n    }\n\n    .dataframe tbody tr th {\n        vertical-align: top;\n    }\n\n    .dataframe thead th {\n        text-align: right;\n    }\n</style>\n<table border=\"1\" class=\"dataframe\">\n  <thead>\n    <tr style=\"text-align: right;\">\n      <th></th>\n      <th>callType</th>\n      <th>startTime</th>\n      <th>elapsedTime</th>\n      <th>success</th>\n      <th>traceId</th>\n      <th>id</th>\n      <th>pid</th>\n      <th>cmdb_id</th>\n      <th>serviceName</th>\n      <th>actual_time</th>\n      <th>path</th>\n    </tr>\n  </thead>\n  <tbody>\n    <tr>\n      <th>0</th>\n      <td>OSB</td>\n      <td>1587579090784</td>\n      <td>1540.0</td>\n      <td>True</td>\n      <td>00007171a31677604200</td>\n      <td>b27e5171a31677604201</td>\n      <td>None</td>\n      <td>os_022</td>\n      <td>osb_001</td>\n      <td>15.0</td>\n      <td>Start-osb_001</td>\n    </tr>\n    <tr>\n      <th>1</th>\n      <td>CSF</td>\n      <td>1587579090790</td>\n      <td>1525.0</td>\n      <td>True</td>\n      <td>00007171a31677604200</td>\n      <td>acdcd171a31677664203</td>\n      <td>b27e5171a31677604201</td>\n      <td>os_022</td>\n      <td>docker_002</td>\n      <td>5.0</td>\n      <td>osb_001-docker_002</td>\n    </tr>\n    <tr>\n      <th>2</th>\n      <td>RemoteProcess</td>\n      <td>1587579090796</td>\n      <td>1520.0</td>\n      <td>True</td>\n      <td>00007171a31677604200</td>\n      <td>2e8ba171a316776c9828</td>\n      <td>acdcd171a31677664203</td>\n      <td>docker_002</td>\n      <td>csf_001</td>\n      <td>569.0</td>\n      <td>docker_002-csf_001</td>\n    </tr>\n    <tr>\n      <th>3</th>\n      <td>FlyRemote</td>\n      <td>1587579090997</td>\n      <td>5.0</td>\n      <td>True</td>\n      <td>00007171a31677604200</td>\n      <td>23a11171a31678359892</td>\n      <td>2e8ba171a316776c9828</td>\n      <td>docker_002</td>\n      <td>fly_remote_001</td>\n      <td>5.0</td>\n      <td>csf_001-fly_remote_001</td>\n    </tr>\n    <tr>\n      <th>4</th>\n      <td>CSF</td>\n      <td>1587579091097</td>\n      <td>347.0</td>\n      <td>True</td>\n      <td>00007171a31677604200</td>\n      <td>76499171a31678989929</td>\n      <td>2e8ba171a316776c9828</td>\n      <td>docker_002</td>\n      <td>docker_007</td>\n      <td>297.0</td>\n      <td>csf_001-docker_007</td>\n    </tr>\n    <tr>\n      <th>5</th>\n      <td>RemoteProcess</td>\n      <td>1587579091394</td>\n      <td>50.0</td>\n      <td>True</td>\n      <td>00007171a31677604200</td>\n      <td>84370171a31679c28884</td>\n      <td>76499171a31678989929</td>\n      <td>docker_007</td>\n      <td>csf_002</td>\n      <td>33.0</td>\n      <td>docker_007-csf_002</td>\n    </tr>\n    <tr>\n      <th>6</th>\n      <td>JDBC</td>\n      <td>1587579091412</td>\n      <td>8.0</td>\n      <td>True</td>\n      <td>00007171a31677604200</td>\n      <td>a5388171a31679d48894</td>\n      <td>a41f6171a31679d48891</td>\n      <td>docker_007</td>\n      <td>db_003</td>\n      <td>8.0</td>\n      <td>db_003-db_003</td>\n    </tr>\n    <tr>\n      <th>7</th>\n      <td>LOCAL</td>\n      <td>1587579091412</td>\n      <td>17.0</td>\n      <td>True</td>\n      <td>00007171a31677604200</td>\n      <td>a41f6171a31679d48891</td>\n      <td>84370171a31679c28884</td>\n      <td>docker_007</td>\n      <td>db_003</td>\n      <td>2.0</td>\n      <td>csf_002-db_003</td>\n    </tr>\n    <tr>\n      <th>8</th>\n      <td>JDBC</td>\n      <td>1587579091421</td>\n      <td>7.0</td>\n      <td>True</td>\n      <td>00007171a31677604200</td>\n      <td>eba32171a31679dd8897</td>\n      <td>a41f6171a31679d48891</td>\n      <td>docker_007</td>\n      <td>db_003</td>\n      <td>7.0</td>\n      <td>db_003-db_003</td>\n    </tr>\n    <tr>\n      <th>9</th>\n      <td>CSF</td>\n      <td>1587579091596</td>\n      <td>300.0</td>\n      <td>True</td>\n      <td>00007171a31677604200</td>\n      <td>7a21a171a3167a249974</td>\n      <td>2e8ba171a316776c9828</td>\n      <td>docker_002</td>\n      <td>docker_007</td>\n      <td>253.0</td>\n      <td>csf_001-docker_007</td>\n    </tr>\n    <tr>\n      <th>10</th>\n      <td>RemoteProcess</td>\n      <td>1587579091793</td>\n      <td>47.0</td>\n      <td>True</td>\n      <td>00007171a31677604200</td>\n      <td>5e97c171a3167b518899</td>\n      <td>7a21a171a3167a249974</td>\n      <td>docker_007</td>\n      <td>csf_003</td>\n      <td>23.0</td>\n      <td>docker_007-csf_003</td>\n    </tr>\n    <tr>\n      <th>11</th>\n      <td>JDBC</td>\n      <td>1587579091798</td>\n      <td>7.0</td>\n      <td>True</td>\n      <td>00007171a31677604200</td>\n      <td>03632171a3167b568906</td>\n      <td>7380e171a3167b568903</td>\n      <td>docker_007</td>\n      <td>db_003</td>\n      <td>7.0</td>\n      <td>db_003-db_003</td>\n    </tr>\n    <tr>\n      <th>12</th>\n      <td>LOCAL</td>\n      <td>1587579091798</td>\n      <td>16.0</td>\n      <td>True</td>\n      <td>00007171a31677604200</td>\n      <td>7380e171a3167b568903</td>\n      <td>5e97c171a3167b518899</td>\n      <td>docker_007</td>\n      <td>db_003</td>\n      <td>2.0</td>\n      <td>csf_003-db_003</td>\n    </tr>\n    <tr>\n      <th>13</th>\n      <td>JDBC</td>\n      <td>1587579091807</td>\n      <td>7.0</td>\n      <td>True</td>\n      <td>00007171a31677604200</td>\n      <td>0deaa171a3167b5f8909</td>\n      <td>7380e171a3167b568903</td>\n      <td>docker_007</td>\n      <td>db_003</td>\n      <td>7.0</td>\n      <td>db_003-db_003</td>\n    </tr>\n    <tr>\n      <th>14</th>\n      <td>LOCAL</td>\n      <td>1587579091816</td>\n      <td>8.0</td>\n      <td>True</td>\n      <td>00007171a31677604200</td>\n      <td>7a534171a3167b688911</td>\n      <td>5e97c171a3167b518899</td>\n      <td>docker_007</td>\n      <td>db_003</td>\n      <td>1.0</td>\n      <td>csf_003-db_003</td>\n    </tr>\n    <tr>\n      <th>15</th>\n      <td>JDBC</td>\n      <td>1587579091817</td>\n      <td>7.0</td>\n      <td>True</td>\n      <td>00007171a31677604200</td>\n      <td>acde2171a3167b698914</td>\n      <td>7a534171a3167b688911</td>\n      <td>docker_007</td>\n      <td>db_003</td>\n      <td>7.0</td>\n      <td>db_003-db_003</td>\n    </tr>\n    <tr>\n      <th>16</th>\n      <td>CSF</td>\n      <td>1587579091996</td>\n      <td>98.0</td>\n      <td>True</td>\n      <td>00007171a31677604200</td>\n      <td>80ea6171a3167c1b1102</td>\n      <td>2e8ba171a316776c9828</td>\n      <td>docker_002</td>\n      <td>docker_008</td>\n      <td>23.0</td>\n      <td>csf_001-docker_008</td>\n    </tr>\n    <tr>\n      <th>17</th>\n      <td>RemoteProcess</td>\n      <td>1587579092004</td>\n      <td>75.0</td>\n      <td>True</td>\n      <td>00007171a31677604200</td>\n      <td>c62b5171a3167c243215</td>\n      <td>80ea6171a3167c1b1102</td>\n      <td>docker_008</td>\n      <td>csf_004</td>\n      <td>49.0</td>\n      <td>docker_008-csf_004</td>\n    </tr>\n    <tr>\n      <th>18</th>\n      <td>JDBC</td>\n      <td>1587579092008</td>\n      <td>8.0</td>\n      <td>True</td>\n      <td>00007171a31677604200</td>\n      <td>2367d171a3167c283222</td>\n      <td>17f93171a3167c283219</td>\n      <td>docker_008</td>\n      <td>db_003</td>\n      <td>8.0</td>\n      <td>db_003-db_003</td>\n    </tr>\n    <tr>\n      <th>19</th>\n      <td>LOCAL</td>\n      <td>1587579092008</td>\n      <td>17.0</td>\n      <td>True</td>\n      <td>00007171a31677604200</td>\n      <td>17f93171a3167c283219</td>\n      <td>c62b5171a3167c243215</td>\n      <td>docker_008</td>\n      <td>db_003</td>\n      <td>2.0</td>\n      <td>csf_004-db_003</td>\n    </tr>\n    <tr>\n      <th>20</th>\n      <td>JDBC</td>\n      <td>1587579092017</td>\n      <td>7.0</td>\n      <td>True</td>\n      <td>00007171a31677604200</td>\n      <td>6ab6b171a3167c313225</td>\n      <td>17f93171a3167c283219</td>\n      <td>docker_008</td>\n      <td>db_003</td>\n      <td>7.0</td>\n      <td>db_003-db_003</td>\n    </tr>\n    <tr>\n      <th>21</th>\n      <td>LOCAL</td>\n      <td>1587579092057</td>\n      <td>9.0</td>\n      <td>True</td>\n      <td>00007171a31677604200</td>\n      <td>793ac171a3167c593227</td>\n      <td>c62b5171a3167c243215</td>\n      <td>docker_008</td>\n      <td>db_003</td>\n      <td>2.0</td>\n      <td>csf_004-db_003</td>\n    </tr>\n    <tr>\n      <th>22</th>\n      <td>JDBC</td>\n      <td>1587579092058</td>\n      <td>7.0</td>\n      <td>True</td>\n      <td>00007171a31677604200</td>\n      <td>6fc69171a3167c5a3230</td>\n      <td>793ac171a3167c593227</td>\n      <td>docker_008</td>\n      <td>db_003</td>\n      <td>7.0</td>\n      <td>db_003-db_003</td>\n    </tr>\n    <tr>\n      <th>23</th>\n      <td>CSF</td>\n      <td>1587579092099</td>\n      <td>94.0</td>\n      <td>True</td>\n      <td>00007171a31677604200</td>\n      <td>0fe46171a3167c821140</td>\n      <td>2e8ba171a316776c9828</td>\n      <td>docker_002</td>\n      <td>docker_008</td>\n      <td>39.0</td>\n      <td>csf_001-docker_008</td>\n    </tr>\n    <tr>\n      <th>24</th>\n      <td>RemoteProcess</td>\n      <td>1587579092103</td>\n      <td>55.0</td>\n      <td>True</td>\n      <td>00007171a31677604200</td>\n      <td>e6f4d171a3167c873236</td>\n      <td>0fe46171a3167c821140</td>\n      <td>docker_008</td>\n      <td>csf_005</td>\n      <td>39.0</td>\n      <td>docker_008-csf_005</td>\n    </tr>\n    <tr>\n      <th>25</th>\n      <td>JDBC</td>\n      <td>1587579092108</td>\n      <td>7.0</td>\n      <td>True</td>\n      <td>00007171a31677604200</td>\n      <td>87ff4171a3167c8c3241</td>\n      <td>8431c171a3167c8c3238</td>\n      <td>docker_008</td>\n      <td>db_003</td>\n      <td>7.0</td>\n      <td>db_003-db_003</td>\n    </tr>\n    <tr>\n      <th>26</th>\n      <td>LOCAL</td>\n      <td>1587579092108</td>\n      <td>16.0</td>\n      <td>True</td>\n      <td>00007171a31677604200</td>\n      <td>8431c171a3167c8c3238</td>\n      <td>e6f4d171a3167c873236</td>\n      <td>docker_008</td>\n      <td>db_003</td>\n      <td>2.0</td>\n      <td>csf_005-db_003</td>\n    </tr>\n    <tr>\n      <th>27</th>\n      <td>JDBC</td>\n      <td>1587579092117</td>\n      <td>7.0</td>\n      <td>True</td>\n      <td>00007171a31677604200</td>\n      <td>551b1171a3167c953252</td>\n      <td>8431c171a3167c8c3238</td>\n      <td>docker_008</td>\n      <td>db_003</td>\n      <td>7.0</td>\n      <td>db_003-db_003</td>\n    </tr>\n    <tr>\n      <th>28</th>\n      <td>JDBC</td>\n      <td>1587579092197</td>\n      <td>0.0</td>\n      <td>True</td>\n      <td>00007171a31677604200</td>\n      <td>e6cac171a3167ce51163</td>\n      <td>1f359171a3167ce51160</td>\n      <td>docker_002</td>\n      <td>db_009</td>\n      <td>0.0</td>\n      <td>db_009-db_009</td>\n    </tr>\n    <tr>\n      <th>29</th>\n      <td>LOCAL</td>\n      <td>1587579092197</td>\n      <td>2.0</td>\n      <td>True</td>\n      <td>00007171a31677604200</td>\n      <td>1f359171a3167ce51160</td>\n      <td>2e8ba171a316776c9828</td>\n      <td>docker_002</td>\n      <td>db_009</td>\n      <td>2.0</td>\n      <td>csf_001-db_009</td>\n    </tr>\n    <tr>\n      <th>30</th>\n      <td>JDBC</td>\n      <td>1587579092199</td>\n      <td>0.0</td>\n      <td>True</td>\n      <td>00007171a31677604200</td>\n      <td>ca192171a3167ce71166</td>\n      <td>1f359171a3167ce51160</td>\n      <td>docker_002</td>\n      <td>db_009</td>\n      <td>0.0</td>\n      <td>db_009-db_009</td>\n    </tr>\n    <tr>\n      <th>31</th>\n      <td>LOCAL</td>\n      <td>1587579092199</td>\n      <td>3.0</td>\n      <td>True</td>\n      <td>00007171a31677604200</td>\n      <td>3bd13171a3167ce71168</td>\n      <td>2e8ba171a316776c9828</td>\n      <td>docker_002</td>\n      <td>db_009</td>\n      <td>2.0</td>\n      <td>csf_001-db_009</td>\n    </tr>\n    <tr>\n      <th>32</th>\n      <td>JDBC</td>\n      <td>1587579092201</td>\n      <td>1.0</td>\n      <td>True</td>\n      <td>00007171a31677604200</td>\n      <td>c04bc171a3167ce91171</td>\n      <td>3bd13171a3167ce71168</td>\n      <td>docker_002</td>\n      <td>db_009</td>\n      <td>1.0</td>\n      <td>db_009-db_009</td>\n    </tr>\n    <tr>\n      <th>33</th>\n      <td>LOCAL</td>\n      <td>1587579092202</td>\n      <td>1.0</td>\n      <td>True</td>\n      <td>00007171a31677604200</td>\n      <td>8b20b171a3167cea1173</td>\n      <td>2e8ba171a316776c9828</td>\n      <td>docker_002</td>\n      <td>db_009</td>\n      <td>1.0</td>\n      <td>csf_001-db_009</td>\n    </tr>\n    <tr>\n      <th>34</th>\n      <td>JDBC</td>\n      <td>1587579092203</td>\n      <td>0.0</td>\n      <td>True</td>\n      <td>00007171a31677604200</td>\n      <td>05638171a3167ceb1176</td>\n      <td>8b20b171a3167cea1173</td>\n      <td>docker_002</td>\n      <td>db_009</td>\n      <td>0.0</td>\n      <td>db_009-db_009</td>\n    </tr>\n    <tr>\n      <th>35</th>\n      <td>JDBC</td>\n      <td>1587579092204</td>\n      <td>1.0</td>\n      <td>True</td>\n      <td>00007171a31677604200</td>\n      <td>347e7171a3167cec1181</td>\n      <td>6bf5f171a3167cec1178</td>\n      <td>docker_002</td>\n      <td>db_009</td>\n      <td>1.0</td>\n      <td>db_009-db_009</td>\n    </tr>\n    <tr>\n      <th>36</th>\n      <td>LOCAL</td>\n      <td>1587579092204</td>\n      <td>1.0</td>\n      <td>True</td>\n      <td>00007171a31677604200</td>\n      <td>6bf5f171a3167cec1178</td>\n      <td>2e8ba171a316776c9828</td>\n      <td>docker_002</td>\n      <td>db_009</td>\n      <td>0.0</td>\n      <td>csf_001-db_009</td>\n    </tr>\n    <tr>\n      <th>37</th>\n      <td>LOCAL</td>\n      <td>1587579092205</td>\n      <td>2.0</td>\n      <td>True</td>\n      <td>00007171a31677604200</td>\n      <td>37608171a3167ced1183</td>\n      <td>2e8ba171a316776c9828</td>\n      <td>docker_002</td>\n      <td>db_009</td>\n      <td>1.0</td>\n      <td>csf_001-db_009</td>\n    </tr>\n    <tr>\n      <th>38</th>\n      <td>JDBC</td>\n      <td>1587579092206</td>\n      <td>1.0</td>\n      <td>True</td>\n      <td>00007171a31677604200</td>\n      <td>afee6171a3167cee1186</td>\n      <td>37608171a3167ced1183</td>\n      <td>docker_002</td>\n      <td>db_009</td>\n      <td>1.0</td>\n      <td>db_009-db_009</td>\n    </tr>\n    <tr>\n      <th>39</th>\n      <td>LOCAL</td>\n      <td>1587579092207</td>\n      <td>2.0</td>\n      <td>True</td>\n      <td>00007171a31677604200</td>\n      <td>4b7a4171a3167cef1188</td>\n      <td>2e8ba171a316776c9828</td>\n      <td>docker_002</td>\n      <td>db_009</td>\n      <td>1.0</td>\n      <td>csf_001-db_009</td>\n    </tr>\n    <tr>\n      <th>40</th>\n      <td>JDBC</td>\n      <td>1587579092208</td>\n      <td>1.0</td>\n      <td>True</td>\n      <td>00007171a31677604200</td>\n      <td>ee958171a3167cf01191</td>\n      <td>4b7a4171a3167cef1188</td>\n      <td>docker_002</td>\n      <td>db_009</td>\n      <td>1.0</td>\n      <td>db_009-db_009</td>\n    </tr>\n    <tr>\n      <th>41</th>\n      <td>LOCAL</td>\n      <td>1587579092209</td>\n      <td>2.0</td>\n      <td>True</td>\n      <td>00007171a31677604200</td>\n      <td>675a4171a3167cf11193</td>\n      <td>2e8ba171a316776c9828</td>\n      <td>docker_002</td>\n      <td>db_009</td>\n      <td>1.0</td>\n      <td>csf_001-db_009</td>\n    </tr>\n    <tr>\n      <th>42</th>\n      <td>JDBC</td>\n      <td>1587579092210</td>\n      <td>1.0</td>\n      <td>True</td>\n      <td>00007171a31677604200</td>\n      <td>ee90e171a3167cf21196</td>\n      <td>675a4171a3167cf11193</td>\n      <td>docker_002</td>\n      <td>db_009</td>\n      <td>1.0</td>\n      <td>db_009-db_009</td>\n    </tr>\n    <tr>\n      <th>43</th>\n      <td>LOCAL</td>\n      <td>1587579092211</td>\n      <td>2.0</td>\n      <td>True</td>\n      <td>00007171a31677604200</td>\n      <td>86ef0171a3167cf31198</td>\n      <td>2e8ba171a316776c9828</td>\n      <td>docker_002</td>\n      <td>db_009</td>\n      <td>1.0</td>\n      <td>csf_001-db_009</td>\n    </tr>\n    <tr>\n      <th>44</th>\n      <td>JDBC</td>\n      <td>1587579092212</td>\n      <td>1.0</td>\n      <td>True</td>\n      <td>00007171a31677604200</td>\n      <td>9c0b6171a3167cf41201</td>\n      <td>86ef0171a3167cf31198</td>\n      <td>docker_002</td>\n      <td>db_009</td>\n      <td>1.0</td>\n      <td>db_009-db_009</td>\n    </tr>\n    <tr>\n      <th>45</th>\n      <td>LOCAL</td>\n      <td>1587579092213</td>\n      <td>2.0</td>\n      <td>True</td>\n      <td>00007171a31677604200</td>\n      <td>6e92f171a3167cf51203</td>\n      <td>2e8ba171a316776c9828</td>\n      <td>docker_002</td>\n      <td>db_009</td>\n      <td>1.0</td>\n      <td>csf_001-db_009</td>\n    </tr>\n    <tr>\n      <th>46</th>\n      <td>JDBC</td>\n      <td>1587579092214</td>\n      <td>1.0</td>\n      <td>True</td>\n      <td>00007171a31677604200</td>\n      <td>8b85e171a3167cf61206</td>\n      <td>6e92f171a3167cf51203</td>\n      <td>docker_002</td>\n      <td>db_009</td>\n      <td>1.0</td>\n      <td>db_009-db_009</td>\n    </tr>\n    <tr>\n      <th>47</th>\n      <td>LOCAL</td>\n      <td>1587579092215</td>\n      <td>2.0</td>\n      <td>True</td>\n      <td>00007171a31677604200</td>\n      <td>ffb52171a3167cf71208</td>\n      <td>2e8ba171a316776c9828</td>\n      <td>docker_002</td>\n      <td>db_009</td>\n      <td>1.0</td>\n      <td>csf_001-db_009</td>\n    </tr>\n    <tr>\n      <th>48</th>\n      <td>JDBC</td>\n      <td>1587579092216</td>\n      <td>1.0</td>\n      <td>True</td>\n      <td>00007171a31677604200</td>\n      <td>49321171a3167cf81211</td>\n      <td>ffb52171a3167cf71208</td>\n      <td>docker_002</td>\n      <td>db_009</td>\n      <td>1.0</td>\n      <td>db_009-db_009</td>\n    </tr>\n    <tr>\n      <th>49</th>\n      <td>LOCAL</td>\n      <td>1587579092217</td>\n      <td>75.0</td>\n      <td>True</td>\n      <td>00007171a31677604200</td>\n      <td>f5f40171a3167cf91213</td>\n      <td>2e8ba171a316776c9828</td>\n      <td>docker_002</td>\n      <td>db_009</td>\n      <td>2.0</td>\n      <td>csf_001-db_009</td>\n    </tr>\n    <tr>\n      <th>50</th>\n      <td>JDBC</td>\n      <td>1587579092218</td>\n      <td>73.0</td>\n      <td>True</td>\n      <td>00007171a31677604200</td>\n      <td>508e2171a3167cfa1216</td>\n      <td>f5f40171a3167cf91213</td>\n      <td>docker_002</td>\n      <td>db_009</td>\n      <td>73.0</td>\n      <td>db_009-db_009</td>\n    </tr>\n    <tr>\n      <th>51</th>\n      <td>LOCAL</td>\n      <td>1587579092293</td>\n      <td>3.0</td>\n      <td>True</td>\n      <td>00007171a31677604200</td>\n      <td>01862171a3167d451220</td>\n      <td>2e8ba171a316776c9828</td>\n      <td>docker_002</td>\n      <td>db_009</td>\n      <td>3.0</td>\n      <td>csf_001-db_009</td>\n    </tr>\n    <tr>\n      <th>52</th>\n      <td>JDBC</td>\n      <td>1587579092294</td>\n      <td>0.0</td>\n      <td>True</td>\n      <td>00007171a31677604200</td>\n      <td>be2d2171a3167d461223</td>\n      <td>01862171a3167d451220</td>\n      <td>docker_002</td>\n      <td>db_009</td>\n      <td>0.0</td>\n      <td>db_009-db_009</td>\n    </tr>\n    <tr>\n      <th>53</th>\n      <td>LOCAL</td>\n      <td>1587579092297</td>\n      <td>2.0</td>\n      <td>True</td>\n      <td>00007171a31677604200</td>\n      <td>94d0e171a3167d491227</td>\n      <td>2e8ba171a316776c9828</td>\n      <td>docker_002</td>\n      <td>db_009</td>\n      <td>2.0</td>\n      <td>csf_001-db_009</td>\n    </tr>\n    <tr>\n      <th>54</th>\n      <td>JDBC</td>\n      <td>1587579092298</td>\n      <td>0.0</td>\n      <td>True</td>\n      <td>00007171a31677604200</td>\n      <td>6b3b4171a3167d4a1230</td>\n      <td>94d0e171a3167d491227</td>\n      <td>docker_002</td>\n      <td>db_009</td>\n      <td>0.0</td>\n      <td>db_009-db_009</td>\n    </tr>\n    <tr>\n      <th>55</th>\n      <td>JDBC</td>\n      <td>1587579092300</td>\n      <td>3.0</td>\n      <td>True</td>\n      <td>00007171a31677604200</td>\n      <td>75393171a3167d4c1235</td>\n      <td>fe34c171a3167d4c1232</td>\n      <td>docker_002</td>\n      <td>db_007</td>\n      <td>3.0</td>\n      <td>db_007-db_007</td>\n    </tr>\n    <tr>\n      <th>56</th>\n      <td>LOCAL</td>\n      <td>1587579092300</td>\n      <td>8.0</td>\n      <td>True</td>\n      <td>00007171a31677604200</td>\n      <td>fe34c171a3167d4c1232</td>\n      <td>2e8ba171a316776c9828</td>\n      <td>docker_002</td>\n      <td>db_007</td>\n      <td>3.0</td>\n      <td>csf_001-db_007</td>\n    </tr>\n    <tr>\n      <th>57</th>\n      <td>JDBC</td>\n      <td>1587579092305</td>\n      <td>2.0</td>\n      <td>True</td>\n      <td>00007171a31677604200</td>\n      <td>b8aaa171a3167d511240</td>\n      <td>fe34c171a3167d4c1232</td>\n      <td>docker_002</td>\n      <td>db_007</td>\n      <td>2.0</td>\n      <td>db_007-db_007</td>\n    </tr>\n    <tr>\n      <th>58</th>\n      <td>OSB</td>\n      <td>1587583344284</td>\n      <td>314.0</td>\n      <td>True</td>\n      <td>0000b171a3575e9c1090</td>\n      <td>e21e6171a3575e9c1091</td>\n      <td>None</td>\n      <td>os_021</td>\n      <td>osb_001</td>\n      <td>11.0</td>\n      <td>Start-osb_001</td>\n    </tr>\n    <tr>\n      <th>59</th>\n      <td>CSF</td>\n      <td>1587583344289</td>\n      <td>303.0</td>\n      <td>True</td>\n      <td>0000b171a3575e9c1090</td>\n      <td>2e46b171a3575ea11093</td>\n      <td>e21e6171a3575e9c1091</td>\n      <td>os_021</td>\n      <td>docker_004</td>\n      <td>71.0</td>\n      <td>osb_001-docker_004</td>\n    </tr>\n  </tbody>\n</table>\n</div>"
     },
     "metadata": {},
     "execution_count": 23
    }
   ],
   "source": [
    "df.head(60)"
   ]
  },
  {
   "cell_type": "code",
   "execution_count": null,
   "metadata": {},
   "outputs": [],
   "source": []
  }
 ]
}