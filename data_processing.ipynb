{
 "metadata": {
  "language_info": {
   "codemirror_mode": {
    "name": "ipython",
    "version": 3
   },
   "file_extension": ".py",
   "mimetype": "text/x-python",
   "name": "python",
   "nbconvert_exporter": "python",
   "pygments_lexer": "ipython3",
   "version": "3.6.12-final"
  },
  "orig_nbformat": 2,
  "kernelspec": {
   "name": "python3",
   "display_name": "Python 3"
  }
 },
 "nbformat": 4,
 "nbformat_minor": 2,
 "cells": [
  {
   "cell_type": "code",
   "execution_count": 1,
   "metadata": {},
   "outputs": [],
   "source": [
    "import pandas as pd\n",
    "import glob\n",
    "import os\n",
    "import sys\n",
    "from tqdm import tqdm"
   ]
  },
  {
   "cell_type": "code",
   "execution_count": 2,
   "metadata": {},
   "outputs": [
    {
     "output_type": "execute_result",
     "data": {
      "text/plain": [
       "['C:\\\\Users\\\\Henry\\\\Documents\\\\data\\\\2020_04_23\\\\Trace\\\\trace_csf.csv',\n",
       " 'C:\\\\Users\\\\Henry\\\\Documents\\\\data\\\\2020_04_23\\\\Trace\\\\trace_fly_remote.csv',\n",
       " 'C:\\\\Users\\\\Henry\\\\Documents\\\\data\\\\2020_04_23\\\\Trace\\\\trace_jdbc.csv',\n",
       " 'C:\\\\Users\\\\Henry\\\\Documents\\\\data\\\\2020_04_23\\\\Trace\\\\trace_local.csv',\n",
       " 'C:\\\\Users\\\\Henry\\\\Documents\\\\data\\\\2020_04_23\\\\Trace\\\\trace_osb.csv',\n",
       " 'C:\\\\Users\\\\Henry\\\\Documents\\\\data\\\\2020_04_23\\\\Trace\\\\trace_remote_process.csv']"
      ]
     },
     "metadata": {},
     "execution_count": 2
    }
   ],
   "source": [
    "path = \"C:\\\\Users\\\\Henry\\\\Documents\\\\data\\\\2020_04_23\\\\Trace\\\\\"\n",
    "all_files = glob.glob(path + \"*.csv\")\n",
    "all_files"
   ]
  },
  {
   "cell_type": "code",
   "execution_count": 3,
   "metadata": {},
   "outputs": [],
   "source": [
    "dfs = []\n",
    "for filename in all_files:\n",
    "    df = pd.read_csv(filename, index_col=None)\n",
    "    dfs.append(df)"
   ]
  },
  {
   "cell_type": "code",
   "execution_count": 4,
   "metadata": {},
   "outputs": [],
   "source": [
    "for df in dfs:\n",
    "    if df['callType'].iloc[0]=='JDBC' or df['callType'].iloc[0]=='LOCAL':\n",
    "        df['serviceName'] = df['dsName']"
   ]
  },
  {
   "cell_type": "code",
   "execution_count": 5,
   "metadata": {},
   "outputs": [
    {
     "output_type": "execute_result",
     "data": {
      "text/plain": [
       "  callType      startTime  elapsedTime  success               traceId  \\\n",
       "0      CSF  1587571200072        338.0     True  d46b0171a29e10407940   \n",
       "1      CSF  1587571200073        338.0     True  b382e171a29e10417942   \n",
       "2      CSF  1587571200074        484.0     True  f77b1171a29e10434832   \n",
       "3      CSF  1587571200089        786.0     True  30f3f171a29e10456054   \n",
       "4      CSF  1587571200090        784.0     True  c0daf171a29e10486056   \n",
       "\n",
       "                     id                   pid cmdb_id serviceName dsName  \n",
       "0  9d6cb171a29e10487945  19874171a29e10407941  os_022     csf_001    NaN  \n",
       "1  e83f5171a29e10497947  195a2171a29e10417943  os_022     csf_001    NaN  \n",
       "2  749dc171a29e104a4835  ab5e8171a29e10434833  os_022     csf_001    NaN  \n",
       "3  a5084171a29e10596059  17368171a29e10456055  os_021     csf_001    NaN  \n",
       "4  fafbc171a29e105a6061  c38fa171a29e10496057  os_021     csf_001    NaN  "
      ],
      "text/html": "<div>\n<style scoped>\n    .dataframe tbody tr th:only-of-type {\n        vertical-align: middle;\n    }\n\n    .dataframe tbody tr th {\n        vertical-align: top;\n    }\n\n    .dataframe thead th {\n        text-align: right;\n    }\n</style>\n<table border=\"1\" class=\"dataframe\">\n  <thead>\n    <tr style=\"text-align: right;\">\n      <th></th>\n      <th>callType</th>\n      <th>startTime</th>\n      <th>elapsedTime</th>\n      <th>success</th>\n      <th>traceId</th>\n      <th>id</th>\n      <th>pid</th>\n      <th>cmdb_id</th>\n      <th>serviceName</th>\n      <th>dsName</th>\n    </tr>\n  </thead>\n  <tbody>\n    <tr>\n      <th>0</th>\n      <td>CSF</td>\n      <td>1587571200072</td>\n      <td>338.0</td>\n      <td>True</td>\n      <td>d46b0171a29e10407940</td>\n      <td>9d6cb171a29e10487945</td>\n      <td>19874171a29e10407941</td>\n      <td>os_022</td>\n      <td>csf_001</td>\n      <td>NaN</td>\n    </tr>\n    <tr>\n      <th>1</th>\n      <td>CSF</td>\n      <td>1587571200073</td>\n      <td>338.0</td>\n      <td>True</td>\n      <td>b382e171a29e10417942</td>\n      <td>e83f5171a29e10497947</td>\n      <td>195a2171a29e10417943</td>\n      <td>os_022</td>\n      <td>csf_001</td>\n      <td>NaN</td>\n    </tr>\n    <tr>\n      <th>2</th>\n      <td>CSF</td>\n      <td>1587571200074</td>\n      <td>484.0</td>\n      <td>True</td>\n      <td>f77b1171a29e10434832</td>\n      <td>749dc171a29e104a4835</td>\n      <td>ab5e8171a29e10434833</td>\n      <td>os_022</td>\n      <td>csf_001</td>\n      <td>NaN</td>\n    </tr>\n    <tr>\n      <th>3</th>\n      <td>CSF</td>\n      <td>1587571200089</td>\n      <td>786.0</td>\n      <td>True</td>\n      <td>30f3f171a29e10456054</td>\n      <td>a5084171a29e10596059</td>\n      <td>17368171a29e10456055</td>\n      <td>os_021</td>\n      <td>csf_001</td>\n      <td>NaN</td>\n    </tr>\n    <tr>\n      <th>4</th>\n      <td>CSF</td>\n      <td>1587571200090</td>\n      <td>784.0</td>\n      <td>True</td>\n      <td>c0daf171a29e10486056</td>\n      <td>fafbc171a29e105a6061</td>\n      <td>c38fa171a29e10496057</td>\n      <td>os_021</td>\n      <td>csf_001</td>\n      <td>NaN</td>\n    </tr>\n  </tbody>\n</table>\n</div>"
     },
     "metadata": {},
     "execution_count": 5
    }
   ],
   "source": [
    "df = pd.concat(dfs, axis=0, ignore_index=True)\n",
    "df.head()"
   ]
  },
  {
   "cell_type": "code",
   "execution_count": 6,
   "metadata": {},
   "outputs": [],
   "source": [
    "df = df.drop('dsName', axis=1)\n",
    "# del dfs"
   ]
  },
  {
   "cell_type": "code",
   "execution_count": 7,
   "metadata": {},
   "outputs": [
    {
     "output_type": "execute_result",
     "data": {
      "text/plain": [
       "             callType      startTime  elapsedTime  success  \\\n",
       "0                 OSB  1587579090784       1540.0     True   \n",
       "1                 CSF  1587579090790       1525.0     True   \n",
       "2       RemoteProcess  1587579090796       1520.0     True   \n",
       "3           FlyRemote  1587579090997          5.0     True   \n",
       "4                 CSF  1587579091097        347.0     True   \n",
       "...               ...            ...          ...      ...   \n",
       "499995  RemoteProcess  1587574478649         45.0     True   \n",
       "499996          LOCAL  1587574478652         16.0     True   \n",
       "499997           JDBC  1587574478653          7.0     True   \n",
       "499998           JDBC  1587574478661          7.0     True   \n",
       "499999          LOCAL  1587574478669          9.0     True   \n",
       "\n",
       "                     traceId                    id                   pid  \\\n",
       "0       00007171a31677604200  b27e5171a31677604201                  None   \n",
       "1       00007171a31677604200  acdcd171a31677664203  b27e5171a31677604201   \n",
       "2       00007171a31677604200  2e8ba171a316776c9828  acdcd171a31677664203   \n",
       "3       00007171a31677604200  23a11171a31678359892  2e8ba171a316776c9828   \n",
       "4       00007171a31677604200  76499171a31678989929  2e8ba171a316776c9828   \n",
       "...                      ...                   ...                   ...   \n",
       "499995  0c6e4171a2d0146c8902  de4b5171a2d017397967  87b3a171a2d016d29310   \n",
       "499996  0c6e4171a2d0146c8902  db041171a2d0173c7971  de4b5171a2d017397967   \n",
       "499997  0c6e4171a2d0146c8902  2bd24171a2d0173d7974  db041171a2d0173c7971   \n",
       "499998  0c6e4171a2d0146c8902  31143171a2d017457977  db041171a2d0173c7971   \n",
       "499999  0c6e4171a2d0146c8902  830f8171a2d0174d7979  de4b5171a2d017397967   \n",
       "\n",
       "           cmdb_id     serviceName  \n",
       "0           os_022         osb_001  \n",
       "1           os_022         csf_001  \n",
       "2       docker_002         csf_001  \n",
       "3       docker_002  fly_remote_001  \n",
       "4       docker_002         csf_002  \n",
       "...            ...             ...  \n",
       "499995  docker_008         csf_003  \n",
       "499996  docker_008          db_003  \n",
       "499997  docker_008          db_003  \n",
       "499998  docker_008          db_003  \n",
       "499999  docker_008          db_003  \n",
       "\n",
       "[500000 rows x 9 columns]"
      ],
      "text/html": "<div>\n<style scoped>\n    .dataframe tbody tr th:only-of-type {\n        vertical-align: middle;\n    }\n\n    .dataframe tbody tr th {\n        vertical-align: top;\n    }\n\n    .dataframe thead th {\n        text-align: right;\n    }\n</style>\n<table border=\"1\" class=\"dataframe\">\n  <thead>\n    <tr style=\"text-align: right;\">\n      <th></th>\n      <th>callType</th>\n      <th>startTime</th>\n      <th>elapsedTime</th>\n      <th>success</th>\n      <th>traceId</th>\n      <th>id</th>\n      <th>pid</th>\n      <th>cmdb_id</th>\n      <th>serviceName</th>\n    </tr>\n  </thead>\n  <tbody>\n    <tr>\n      <th>0</th>\n      <td>OSB</td>\n      <td>1587579090784</td>\n      <td>1540.0</td>\n      <td>True</td>\n      <td>00007171a31677604200</td>\n      <td>b27e5171a31677604201</td>\n      <td>None</td>\n      <td>os_022</td>\n      <td>osb_001</td>\n    </tr>\n    <tr>\n      <th>1</th>\n      <td>CSF</td>\n      <td>1587579090790</td>\n      <td>1525.0</td>\n      <td>True</td>\n      <td>00007171a31677604200</td>\n      <td>acdcd171a31677664203</td>\n      <td>b27e5171a31677604201</td>\n      <td>os_022</td>\n      <td>csf_001</td>\n    </tr>\n    <tr>\n      <th>2</th>\n      <td>RemoteProcess</td>\n      <td>1587579090796</td>\n      <td>1520.0</td>\n      <td>True</td>\n      <td>00007171a31677604200</td>\n      <td>2e8ba171a316776c9828</td>\n      <td>acdcd171a31677664203</td>\n      <td>docker_002</td>\n      <td>csf_001</td>\n    </tr>\n    <tr>\n      <th>3</th>\n      <td>FlyRemote</td>\n      <td>1587579090997</td>\n      <td>5.0</td>\n      <td>True</td>\n      <td>00007171a31677604200</td>\n      <td>23a11171a31678359892</td>\n      <td>2e8ba171a316776c9828</td>\n      <td>docker_002</td>\n      <td>fly_remote_001</td>\n    </tr>\n    <tr>\n      <th>4</th>\n      <td>CSF</td>\n      <td>1587579091097</td>\n      <td>347.0</td>\n      <td>True</td>\n      <td>00007171a31677604200</td>\n      <td>76499171a31678989929</td>\n      <td>2e8ba171a316776c9828</td>\n      <td>docker_002</td>\n      <td>csf_002</td>\n    </tr>\n    <tr>\n      <th>...</th>\n      <td>...</td>\n      <td>...</td>\n      <td>...</td>\n      <td>...</td>\n      <td>...</td>\n      <td>...</td>\n      <td>...</td>\n      <td>...</td>\n      <td>...</td>\n    </tr>\n    <tr>\n      <th>499995</th>\n      <td>RemoteProcess</td>\n      <td>1587574478649</td>\n      <td>45.0</td>\n      <td>True</td>\n      <td>0c6e4171a2d0146c8902</td>\n      <td>de4b5171a2d017397967</td>\n      <td>87b3a171a2d016d29310</td>\n      <td>docker_008</td>\n      <td>csf_003</td>\n    </tr>\n    <tr>\n      <th>499996</th>\n      <td>LOCAL</td>\n      <td>1587574478652</td>\n      <td>16.0</td>\n      <td>True</td>\n      <td>0c6e4171a2d0146c8902</td>\n      <td>db041171a2d0173c7971</td>\n      <td>de4b5171a2d017397967</td>\n      <td>docker_008</td>\n      <td>db_003</td>\n    </tr>\n    <tr>\n      <th>499997</th>\n      <td>JDBC</td>\n      <td>1587574478653</td>\n      <td>7.0</td>\n      <td>True</td>\n      <td>0c6e4171a2d0146c8902</td>\n      <td>2bd24171a2d0173d7974</td>\n      <td>db041171a2d0173c7971</td>\n      <td>docker_008</td>\n      <td>db_003</td>\n    </tr>\n    <tr>\n      <th>499998</th>\n      <td>JDBC</td>\n      <td>1587574478661</td>\n      <td>7.0</td>\n      <td>True</td>\n      <td>0c6e4171a2d0146c8902</td>\n      <td>31143171a2d017457977</td>\n      <td>db041171a2d0173c7971</td>\n      <td>docker_008</td>\n      <td>db_003</td>\n    </tr>\n    <tr>\n      <th>499999</th>\n      <td>LOCAL</td>\n      <td>1587574478669</td>\n      <td>9.0</td>\n      <td>True</td>\n      <td>0c6e4171a2d0146c8902</td>\n      <td>830f8171a2d0174d7979</td>\n      <td>de4b5171a2d017397967</td>\n      <td>docker_008</td>\n      <td>db_003</td>\n    </tr>\n  </tbody>\n</table>\n<p>500000 rows × 9 columns</p>\n</div>"
     },
     "metadata": {},
     "execution_count": 7
    }
   ],
   "source": [
    "df = df.sort_values([\"traceId\" ,\"startTime\"], ignore_index=True)\n",
    "df = df.head(500000)\n",
    "df"
   ]
  },
  {
   "cell_type": "code",
   "execution_count": 8,
   "metadata": {},
   "outputs": [],
   "source": [
    "df1 = df[df['callType']=='RemoteProcess']\n",
    "df1 = df1[['pid','cmdb_id']]\n",
    "df1 = df1.set_index('pid')"
   ]
  },
  {
   "cell_type": "code",
   "execution_count": 9,
   "metadata": {},
   "outputs": [],
   "source": [
    "csf_dict = df1.to_dict()\n",
    "csf_cmdb = {str(key):str(values) for key, values in csf_dict['cmdb_id'].items()}"
   ]
  },
  {
   "cell_type": "code",
   "execution_count": 17,
   "metadata": {},
   "outputs": [
    {
     "output_type": "execute_result",
     "data": {
      "text/plain": [
       "'docker_002'"
      ]
     },
     "metadata": {},
     "execution_count": 17
    }
   ],
   "source": [
    "csf_cmdb['acdcd171a31677664203']"
   ]
  },
  {
   "cell_type": "code",
   "execution_count": 16,
   "metadata": {},
   "outputs": [
    {
     "output_type": "stream",
     "name": "stderr",
     "text": [
      "500000it [00:35, 14232.05it/s]\n"
     ]
    }
   ],
   "source": [
    "for index, row in tqdm(df.iterrows()):\n",
    "    if row['id'] in csf_cmdb:\n",
    "        df.at[index, 'serviceName'] = csf_cmdb[row['id']]"
   ]
  },
  {
   "cell_type": "code",
   "execution_count": 18,
   "metadata": {},
   "outputs": [
    {
     "output_type": "execute_result",
     "data": {
      "text/plain": [
       "        callType      startTime  elapsedTime  success               traceId  \\\n",
       "0            OSB  1587579090784       1540.0     True  00007171a31677604200   \n",
       "1            CSF  1587579090790       1525.0     True  00007171a31677604200   \n",
       "2  RemoteProcess  1587579090796       1520.0     True  00007171a31677604200   \n",
       "3      FlyRemote  1587579090997          5.0     True  00007171a31677604200   \n",
       "4            CSF  1587579091097        347.0     True  00007171a31677604200   \n",
       "\n",
       "                     id                   pid     cmdb_id     serviceName  \n",
       "0  b27e5171a31677604201                  None      os_022         osb_001  \n",
       "1  acdcd171a31677664203  b27e5171a31677604201      os_022      docker_002  \n",
       "2  2e8ba171a316776c9828  acdcd171a31677664203  docker_002         csf_001  \n",
       "3  23a11171a31678359892  2e8ba171a316776c9828  docker_002  fly_remote_001  \n",
       "4  76499171a31678989929  2e8ba171a316776c9828  docker_002      docker_007  "
      ],
      "text/html": "<div>\n<style scoped>\n    .dataframe tbody tr th:only-of-type {\n        vertical-align: middle;\n    }\n\n    .dataframe tbody tr th {\n        vertical-align: top;\n    }\n\n    .dataframe thead th {\n        text-align: right;\n    }\n</style>\n<table border=\"1\" class=\"dataframe\">\n  <thead>\n    <tr style=\"text-align: right;\">\n      <th></th>\n      <th>callType</th>\n      <th>startTime</th>\n      <th>elapsedTime</th>\n      <th>success</th>\n      <th>traceId</th>\n      <th>id</th>\n      <th>pid</th>\n      <th>cmdb_id</th>\n      <th>serviceName</th>\n    </tr>\n  </thead>\n  <tbody>\n    <tr>\n      <th>0</th>\n      <td>OSB</td>\n      <td>1587579090784</td>\n      <td>1540.0</td>\n      <td>True</td>\n      <td>00007171a31677604200</td>\n      <td>b27e5171a31677604201</td>\n      <td>None</td>\n      <td>os_022</td>\n      <td>osb_001</td>\n    </tr>\n    <tr>\n      <th>1</th>\n      <td>CSF</td>\n      <td>1587579090790</td>\n      <td>1525.0</td>\n      <td>True</td>\n      <td>00007171a31677604200</td>\n      <td>acdcd171a31677664203</td>\n      <td>b27e5171a31677604201</td>\n      <td>os_022</td>\n      <td>docker_002</td>\n    </tr>\n    <tr>\n      <th>2</th>\n      <td>RemoteProcess</td>\n      <td>1587579090796</td>\n      <td>1520.0</td>\n      <td>True</td>\n      <td>00007171a31677604200</td>\n      <td>2e8ba171a316776c9828</td>\n      <td>acdcd171a31677664203</td>\n      <td>docker_002</td>\n      <td>csf_001</td>\n    </tr>\n    <tr>\n      <th>3</th>\n      <td>FlyRemote</td>\n      <td>1587579090997</td>\n      <td>5.0</td>\n      <td>True</td>\n      <td>00007171a31677604200</td>\n      <td>23a11171a31678359892</td>\n      <td>2e8ba171a316776c9828</td>\n      <td>docker_002</td>\n      <td>fly_remote_001</td>\n    </tr>\n    <tr>\n      <th>4</th>\n      <td>CSF</td>\n      <td>1587579091097</td>\n      <td>347.0</td>\n      <td>True</td>\n      <td>00007171a31677604200</td>\n      <td>76499171a31678989929</td>\n      <td>2e8ba171a316776c9828</td>\n      <td>docker_002</td>\n      <td>docker_007</td>\n    </tr>\n  </tbody>\n</table>\n</div>"
     },
     "metadata": {},
     "execution_count": 18
    }
   ],
   "source": [
    "df.head()"
   ]
  },
  {
   "cell_type": "code",
   "execution_count": 19,
   "metadata": {},
   "outputs": [
    {
     "output_type": "stream",
     "name": "stderr",
     "text": [
      "500000it [00:44, 11158.53it/s]\n"
     ]
    }
   ],
   "source": [
    "elapse_time = {}\n",
    "children = {}\n",
    "parent_service = {}\n",
    "for index, row in tqdm(df.iterrows()):\n",
    "    if row['pid'] != 'None':\n",
    "        if row['pid'] in children.keys():\n",
    "            children[row['pid']].append(row['id'])\n",
    "        else:\n",
    "            children[row['pid']] = [row['id']]\n",
    "    elapse_time [row['id']] = float(row['elapsedTime'])\n",
    "    # parent_service[row['id']] = str(row['cmdb_id'] + ':' + row['serviceName'])\n",
    "    parent_service[row['id']] = row['serviceName']"
   ]
  },
  {
   "cell_type": "code",
   "execution_count": 20,
   "metadata": {},
   "outputs": [
    {
     "output_type": "execute_result",
     "data": {
      "text/plain": [
       "        callType      startTime  elapsedTime  success               traceId  \\\n",
       "0            OSB  1587579090784       1540.0     True  00007171a31677604200   \n",
       "1            CSF  1587579090790       1525.0     True  00007171a31677604200   \n",
       "2  RemoteProcess  1587579090796       1520.0     True  00007171a31677604200   \n",
       "3      FlyRemote  1587579090997          5.0     True  00007171a31677604200   \n",
       "4            CSF  1587579091097        347.0     True  00007171a31677604200   \n",
       "\n",
       "                     id                   pid     cmdb_id     serviceName  \n",
       "0  b27e5171a31677604201                  None      os_022         osb_001  \n",
       "1  acdcd171a31677664203  b27e5171a31677604201      os_022      docker_002  \n",
       "2  2e8ba171a316776c9828  acdcd171a31677664203  docker_002         csf_001  \n",
       "3  23a11171a31678359892  2e8ba171a316776c9828  docker_002  fly_remote_001  \n",
       "4  76499171a31678989929  2e8ba171a316776c9828  docker_002      docker_007  "
      ],
      "text/html": "<div>\n<style scoped>\n    .dataframe tbody tr th:only-of-type {\n        vertical-align: middle;\n    }\n\n    .dataframe tbody tr th {\n        vertical-align: top;\n    }\n\n    .dataframe thead th {\n        text-align: right;\n    }\n</style>\n<table border=\"1\" class=\"dataframe\">\n  <thead>\n    <tr style=\"text-align: right;\">\n      <th></th>\n      <th>callType</th>\n      <th>startTime</th>\n      <th>elapsedTime</th>\n      <th>success</th>\n      <th>traceId</th>\n      <th>id</th>\n      <th>pid</th>\n      <th>cmdb_id</th>\n      <th>serviceName</th>\n    </tr>\n  </thead>\n  <tbody>\n    <tr>\n      <th>0</th>\n      <td>OSB</td>\n      <td>1587579090784</td>\n      <td>1540.0</td>\n      <td>True</td>\n      <td>00007171a31677604200</td>\n      <td>b27e5171a31677604201</td>\n      <td>None</td>\n      <td>os_022</td>\n      <td>osb_001</td>\n    </tr>\n    <tr>\n      <th>1</th>\n      <td>CSF</td>\n      <td>1587579090790</td>\n      <td>1525.0</td>\n      <td>True</td>\n      <td>00007171a31677604200</td>\n      <td>acdcd171a31677664203</td>\n      <td>b27e5171a31677604201</td>\n      <td>os_022</td>\n      <td>docker_002</td>\n    </tr>\n    <tr>\n      <th>2</th>\n      <td>RemoteProcess</td>\n      <td>1587579090796</td>\n      <td>1520.0</td>\n      <td>True</td>\n      <td>00007171a31677604200</td>\n      <td>2e8ba171a316776c9828</td>\n      <td>acdcd171a31677664203</td>\n      <td>docker_002</td>\n      <td>csf_001</td>\n    </tr>\n    <tr>\n      <th>3</th>\n      <td>FlyRemote</td>\n      <td>1587579090997</td>\n      <td>5.0</td>\n      <td>True</td>\n      <td>00007171a31677604200</td>\n      <td>23a11171a31678359892</td>\n      <td>2e8ba171a316776c9828</td>\n      <td>docker_002</td>\n      <td>fly_remote_001</td>\n    </tr>\n    <tr>\n      <th>4</th>\n      <td>CSF</td>\n      <td>1587579091097</td>\n      <td>347.0</td>\n      <td>True</td>\n      <td>00007171a31677604200</td>\n      <td>76499171a31678989929</td>\n      <td>2e8ba171a316776c9828</td>\n      <td>docker_002</td>\n      <td>docker_007</td>\n    </tr>\n  </tbody>\n</table>\n</div>"
     },
     "metadata": {},
     "execution_count": 20
    }
   ],
   "source": [
    "df.head()"
   ]
  },
  {
   "cell_type": "code",
   "execution_count": 21,
   "metadata": {},
   "outputs": [
    {
     "output_type": "stream",
     "name": "stderr",
     "text": [
      "500000it [00:54, 9185.34it/s]\n"
     ]
    }
   ],
   "source": [
    "df['actual_time'] = 0.0\n",
    "df['path'] = ''\n",
    "for index, row in tqdm(df.iterrows()):\n",
    "    total_child = 0.0\n",
    "    if row['pid'] not in parent_service.keys():\n",
    "        df.at[index, 'path'] = 'Start-' + row['serviceName']\n",
    "    else:\n",
    "        df.at[index, 'path'] = parent_service[row['pid']] + '-' + row['serviceName']\n",
    "\n",
    "    if row['id'] not in children.keys():\n",
    "        df.at[index, 'actual_time'] = row['elapsedTime']\n",
    "        continue\n",
    "    for child in children[row['id']]:\n",
    "        total_child += elapse_time[child]\n",
    "    df.at[index, 'actual_time'] = row['elapsedTime'] - total_child"
   ]
  },
  {
   "cell_type": "code",
   "execution_count": 22,
   "metadata": {},
   "outputs": [],
   "source": [
    "df = df.sort_values([\"traceId\" ,\"startTime\"], ignore_index=True)"
   ]
  },
  {
   "cell_type": "code",
   "execution_count": 23,
   "metadata": {},
   "outputs": [
    {
     "output_type": "execute_result",
     "data": {
      "text/plain": [
       "        callType      startTime  elapsedTime  success               traceId  \\\n",
       "0            OSB  1587579090784       1540.0     True  00007171a31677604200   \n",
       "1            CSF  1587579090790       1525.0     True  00007171a31677604200   \n",
       "2  RemoteProcess  1587579090796       1520.0     True  00007171a31677604200   \n",
       "3      FlyRemote  1587579090997          5.0     True  00007171a31677604200   \n",
       "4            CSF  1587579091097        347.0     True  00007171a31677604200   \n",
       "\n",
       "                     id                   pid     cmdb_id     serviceName  \\\n",
       "0  b27e5171a31677604201                  None      os_022         osb_001   \n",
       "1  acdcd171a31677664203  b27e5171a31677604201      os_022      docker_002   \n",
       "2  2e8ba171a316776c9828  acdcd171a31677664203  docker_002         csf_001   \n",
       "3  23a11171a31678359892  2e8ba171a316776c9828  docker_002  fly_remote_001   \n",
       "4  76499171a31678989929  2e8ba171a316776c9828  docker_002      docker_007   \n",
       "\n",
       "   actual_time                    path  \n",
       "0         15.0           Start-osb_001  \n",
       "1          5.0      osb_001-docker_002  \n",
       "2        569.0      docker_002-csf_001  \n",
       "3          5.0  csf_001-fly_remote_001  \n",
       "4        297.0      csf_001-docker_007  "
      ],
      "text/html": "<div>\n<style scoped>\n    .dataframe tbody tr th:only-of-type {\n        vertical-align: middle;\n    }\n\n    .dataframe tbody tr th {\n        vertical-align: top;\n    }\n\n    .dataframe thead th {\n        text-align: right;\n    }\n</style>\n<table border=\"1\" class=\"dataframe\">\n  <thead>\n    <tr style=\"text-align: right;\">\n      <th></th>\n      <th>callType</th>\n      <th>startTime</th>\n      <th>elapsedTime</th>\n      <th>success</th>\n      <th>traceId</th>\n      <th>id</th>\n      <th>pid</th>\n      <th>cmdb_id</th>\n      <th>serviceName</th>\n      <th>actual_time</th>\n      <th>path</th>\n    </tr>\n  </thead>\n  <tbody>\n    <tr>\n      <th>0</th>\n      <td>OSB</td>\n      <td>1587579090784</td>\n      <td>1540.0</td>\n      <td>True</td>\n      <td>00007171a31677604200</td>\n      <td>b27e5171a31677604201</td>\n      <td>None</td>\n      <td>os_022</td>\n      <td>osb_001</td>\n      <td>15.0</td>\n      <td>Start-osb_001</td>\n    </tr>\n    <tr>\n      <th>1</th>\n      <td>CSF</td>\n      <td>1587579090790</td>\n      <td>1525.0</td>\n      <td>True</td>\n      <td>00007171a31677604200</td>\n      <td>acdcd171a31677664203</td>\n      <td>b27e5171a31677604201</td>\n      <td>os_022</td>\n      <td>docker_002</td>\n      <td>5.0</td>\n      <td>osb_001-docker_002</td>\n    </tr>\n    <tr>\n      <th>2</th>\n      <td>RemoteProcess</td>\n      <td>1587579090796</td>\n      <td>1520.0</td>\n      <td>True</td>\n      <td>00007171a31677604200</td>\n      <td>2e8ba171a316776c9828</td>\n      <td>acdcd171a31677664203</td>\n      <td>docker_002</td>\n      <td>csf_001</td>\n      <td>569.0</td>\n      <td>docker_002-csf_001</td>\n    </tr>\n    <tr>\n      <th>3</th>\n      <td>FlyRemote</td>\n      <td>1587579090997</td>\n      <td>5.0</td>\n      <td>True</td>\n      <td>00007171a31677604200</td>\n      <td>23a11171a31678359892</td>\n      <td>2e8ba171a316776c9828</td>\n      <td>docker_002</td>\n      <td>fly_remote_001</td>\n      <td>5.0</td>\n      <td>csf_001-fly_remote_001</td>\n    </tr>\n    <tr>\n      <th>4</th>\n      <td>CSF</td>\n      <td>1587579091097</td>\n      <td>347.0</td>\n      <td>True</td>\n      <td>00007171a31677604200</td>\n      <td>76499171a31678989929</td>\n      <td>2e8ba171a316776c9828</td>\n      <td>docker_002</td>\n      <td>docker_007</td>\n      <td>297.0</td>\n      <td>csf_001-docker_007</td>\n    </tr>\n  </tbody>\n</table>\n</div>"
     },
     "metadata": {},
     "execution_count": 23
    }
   ],
   "source": [
    "df.head()"
   ]
  },
  {
   "cell_type": "code",
   "execution_count": 24,
   "metadata": {},
   "outputs": [],
   "source": [
    "df.to_csv('processed_data.csv', index=False)"
   ]
  },
  {
   "cell_type": "code",
   "execution_count": null,
   "metadata": {},
   "outputs": [],
   "source": []
  }
 ]
}