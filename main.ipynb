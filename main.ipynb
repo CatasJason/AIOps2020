{
 "metadata": {
  "language_info": {
   "codemirror_mode": {
    "name": "ipython",
    "version": 3
   },
   "file_extension": ".py",
   "mimetype": "text/x-python",
   "name": "python",
   "nbconvert_exporter": "python",
   "pygments_lexer": "ipython3",
   "version": "3.8.5-final"
  },
  "orig_nbformat": 2,
  "kernelspec": {
   "name": "python3",
   "display_name": "Python 3"
  }
 },
 "nbformat": 4,
 "nbformat_minor": 2,
 "cells": [
  {
   "cell_type": "code",
   "execution_count": 1,
   "metadata": {},
   "outputs": [],
   "source": [
    "import os\n",
    "import time\n",
    "import pandas as pd\n",
    "import numpy as np\n",
    "import networkx as nx\n",
    "import matplotlib.pylab as plt\n",
    "%matplotlib inline\n",
    "from sklearn.cluster import Birch\n",
    "from sklearn import preprocessing"
   ]
  },
  {
   "source": [
    "## Step 0: Data collection"
   ],
   "cell_type": "markdown",
   "metadata": {}
  },
  {
   "cell_type": "code",
   "execution_count": 2,
   "metadata": {},
   "outputs": [
    {
     "output_type": "stream",
     "name": "stdout",
     "text": [
      "Loading dataset...\n",
      "--- Loaded trace data!\n",
      "--- Loaded host data!\n",
      "Data successfully loaded!\n",
      "\n"
     ]
    }
   ],
   "source": [
    "print(\"Loading dataset...\")\n",
    "\n",
    "# path = 'training_data/2020_05_04/trace/'\n",
    "path = 'sample/'\n",
    "data = pd.read_csv(path + 'trace_data_sample.csv', index_col=False)\n",
    "data.drop('Unnamed: 0', axis=1, inplace=True)\n",
    "trace_data = data\n",
    "print(\"--- Loaded trace data!\")\n",
    "\n",
    "path = 'training_data/2020_05_04/host/'\n",
    "data = pd.read_csv(path + 'full_kpi_data.csv', index_col=False)\n",
    "data.drop('Unnamed: 0', axis=1, inplace=True)\n",
    "host_data = data\n",
    "print(\"--- Loaded host data!\")\n",
    "\n",
    "del data, path\n",
    "print(\"Data successfully loaded!\\n\")"
   ]
  },
  {
   "source": [
    "## Step 1: Data Pre-Processing (Done Manually)\n",
    "- Concat all trace and host data files together\n",
    "- Sort the rows based on Timestamp\n",
    "- For trace data, if there's dsname, remove serviceName and replace it with dsname"
   ],
   "cell_type": "markdown",
   "metadata": {}
  },
  {
   "source": [
    "## Step 2: Anomaly Detection (TODO)"
   ],
   "cell_type": "markdown",
   "metadata": {}
  },
  {
   "cell_type": "code",
   "execution_count": 37,
   "metadata": {},
   "outputs": [
    {
     "output_type": "execute_result",
     "data": {
      "text/plain": [
       "[]"
      ]
     },
     "metadata": {},
     "execution_count": 37
    }
   ],
   "source": [
    "# TODO! fix birch to find anomalies, currently it returns []\n",
    "\n",
    "def birch_anomaly_detection(data, threshold):\n",
    "    anomalies = []\n",
    "    for svc, latency in data.iteritems():\n",
    "        if svc == 'elapsedTime':\n",
    "            latency = latency.rolling(window=1, min_periods=1).mean()\n",
    "            x = np.array(latency)\n",
    "            x = np.where(np.isnan(x), 0, x)\n",
    "            normalized_x = preprocessing.normalize([x])\n",
    "\n",
    "            X = normalized_x.reshape(-1,1)\n",
    "            brc = Birch(branching_factor=10, compute_labels=True)\n",
    "            brc.fit(X)\n",
    "            brc.predict(X)\n",
    "\n",
    "            labels = brc.labels\n",
    "            n_clusters = np.unique(labels).size\n",
    "            return anomalies\n",
    "\n",
    "birch_anomaly_detection(data, 0)"
   ]
  },
  {
   "source": [
    "## Step 3: Creating the attributed graph (TODO)"
   ],
   "cell_type": "markdown",
   "metadata": {}
  },
  {
   "cell_type": "code",
   "execution_count": null,
   "metadata": {},
   "outputs": [],
   "source": [
    "def attributed_graph(trace_data):\n",
    "    DG = nx.DiGraph()\n",
    "    services = trace_data.unique() # All the available service names\n",
    "\n",
    "    for service in services:\n",
    "        \n",
    "\n",
    "\n",
    "attributed_graph(trace_data)"
   ]
  },
  {
   "source": [
    "## Step 4: Anomalous subgraph extraction (TODO)"
   ],
   "cell_type": "markdown",
   "metadata": {}
  },
  {
   "cell_type": "code",
   "execution_count": null,
   "metadata": {},
   "outputs": [],
   "source": []
  },
  {
   "source": [
    "## Step 5: Anomaly localization (TODO) "
   ],
   "cell_type": "markdown",
   "metadata": {}
  },
  {
   "source": [
    "## Random testing"
   ],
   "cell_type": "markdown",
   "metadata": {}
  },
  {
   "cell_type": "code",
   "execution_count": 22,
   "metadata": {},
   "outputs": [
    {
     "output_type": "stream",
     "name": "stdout",
     "text": [
      "started loop\n"
     ]
    }
   ],
   "source": [
    "# Finding pid's are repeated once or twice for traces\n",
    "def attributed_graph(trace_data):\n",
    "        DG = nx.DiGraph()\n",
    "        df = pd.DataFrame(columns=['source', 'destination'])\n",
    "        print('started loop')\n",
    "\n",
    "        serviceNames = trace_data.serviceName.dropna().unique()\n",
    "\n",
    "        temp = {}\n",
    "        for service in (serviceNames):\n",
    "            # print(service)\n",
    "            filtered = trace_data[trace_data.serviceName == service]\n",
    "            temp[service]= {}\n",
    "            for i in range(len(filtered)):\n",
    "                trace = filtered.iloc[i] # Select the first one\n",
    "                if trace['cmdb_id'] in temp[service].keys():\n",
    "                    temp[service][trace['cmdb_id']] +=1\n",
    "                else:\n",
    "                    temp[service][trace['cmdb_id']] =1\n",
    "            \n",
    "        return temp\n",
    "        # *Note* I tried different values of selected rows, no difference\n",
    "        destination = trace['serviceName']\n",
    "        assert destination == service\n",
    "\n",
    "            # if trace['pid'] != 'None':\n",
    "            #     _temp = True\n",
    "            #     i = 0\n",
    "            #     filtered = ''\n",
    "            #     while _temp:\n",
    "            #         trace = filtered.iloc[i]\n",
    "            #         i += 1\n",
    "            #         filtered = trace_data[trace_data['id'] == trace['pid']]\n",
    "            #         _temp = filtered.empty\n",
    "            #     parent = filtered.iloc[0]\n",
    "            #     if parent['callType'] == 'JDBC':\n",
    "            #         source = filtered.dsName.iloc[0]\n",
    "            #     else:\n",
    "            #         source = filtered.serviceName.iloc[0]\n",
    "            #     # print('The source for service %s is %s' % (destination, source))\n",
    "            #     df = df.append(\n",
    "            #         {'source': source, 'destination': destination}, ignore_index=True)\n",
    "            #     DG.add_edge(source, destination)\n",
    "            #     DG.nodes[source]['type'] = 'service'\n",
    "\n",
    "            # host = trace['cmdb_id']\n",
    "            # # print('The host for service %s is %s' % (service, host))\n",
    "            # DG.add_edge(destination, host)\n",
    "            # DG.nodes[destination]['type'] = 'service'\n",
    "            # DG.nodes[host]['type'] = 'host'\n",
    "            # df = df.append(\n",
    "            #     {'source': destination, 'destination': host}, ignore_index=True)\n",
    "        \n",
    "        # return DG\n",
    "\n",
    "temp = attributed_graph(trace_data)"
   ]
  },
  {
   "cell_type": "code",
   "execution_count": 23,
   "metadata": {},
   "outputs": [
    {
     "output_type": "execute_result",
     "data": {
      "text/plain": [
       "{'osb_001': {'os_021': 4886, 'os_022': 4885},\n",
       " 'csf_001': {'os_021': 4886,\n",
       "  'docker_003': 2450,\n",
       "  'docker_004': 2436,\n",
       "  'os_022': 4885,\n",
       "  'docker_001': 2437,\n",
       "  'docker_002': 2448},\n",
       " 'fly_remote_001': {'docker_004': 2436,\n",
       "  'docker_001': 2437,\n",
       "  'docker_002': 2448,\n",
       "  'docker_003': 2450},\n",
       " 'csf_002': {'docker_004': 2436,\n",
       "  'docker_006': 4886,\n",
       "  'docker_001': 2437,\n",
       "  'docker_008': 2465,\n",
       "  'docker_002': 2448,\n",
       "  'docker_007': 2420,\n",
       "  'docker_003': 2450},\n",
       " 'db_003': {'docker_006': 78176, 'docker_008': 39141, 'docker_007': 39019},\n",
       " 'csf_003': {'docker_004': 2436,\n",
       "  'docker_006': 4886,\n",
       "  'docker_002': 2448,\n",
       "  'docker_008': 2419,\n",
       "  'docker_007': 2466,\n",
       "  'docker_001': 2437,\n",
       "  'docker_003': 2450},\n",
       " 'csf_004': {'docker_004': 2436,\n",
       "  'docker_006': 4886,\n",
       "  'docker_002': 2448,\n",
       "  'docker_008': 2465,\n",
       "  'docker_001': 2437,\n",
       "  'docker_007': 2420,\n",
       "  'docker_003': 2450},\n",
       " 'csf_005': {'docker_004': 2436,\n",
       "  'docker_006': 4886,\n",
       "  'docker_002': 2448,\n",
       "  'docker_007': 2443,\n",
       "  'docker_008': 2442,\n",
       "  'docker_001': 2437,\n",
       "  'docker_003': 2450},\n",
       " 'db_009': {'docker_004': 65797,\n",
       "  'docker_002': 66137,\n",
       "  'docker_001': 65880,\n",
       "  'docker_003': 66175},\n",
       " 'db_007': {'docker_004': 7308,\n",
       "  'docker_002': 7344,\n",
       "  'docker_003': 7350,\n",
       "  'docker_001': 7311}}"
      ]
     },
     "metadata": {},
     "execution_count": 23
    }
   ],
   "source": [
    "temp\n"
   ]
  },
  {
   "cell_type": "code",
   "execution_count": 9,
   "metadata": {},
   "outputs": [
    {
     "output_type": "execute_result",
     "data": {
      "text/plain": [
       "NodeView(('osb_001', 'os_021', 'csf_001', 'fly_remote_001', 'docker_004', 'csf_002', 'db_003', 'docker_006', 'csf_003', 'csf_004', 'csf_005', 'db_009', 'db_007'))"
      ]
     },
     "metadata": {},
     "execution_count": 9
    }
   ],
   "source": [
    "DG.nodes"
   ]
  },
  {
   "cell_type": "code",
   "execution_count": 14,
   "metadata": {},
   "outputs": [
    {
     "output_type": "execute_result",
     "data": {
      "text/plain": [
       "OutEdgeView([('osb_001', 'os_021'), ('osb_001', 'csf_001'), ('csf_001', 'os_021'), ('csf_001', 'fly_remote_001'), ('csf_001', 'csf_002'), ('csf_001', 'csf_003'), ('csf_001', 'csf_004'), ('csf_001', 'csf_005'), ('csf_001', 'db_009'), ('fly_remote_001', 'docker_004'), ('csf_002', 'docker_004'), ('db_003', 'db_003'), ('db_003', 'docker_006'), ('csf_003', 'docker_004'), ('csf_004', 'docker_004'), ('csf_005', 'docker_004'), ('db_009', 'docker_004'), ('db_007', 'db_007'), ('db_007', 'docker_004')])"
      ]
     },
     "metadata": {},
     "execution_count": 14
    }
   ],
   "source": [
    "DG.edges"
   ]
  },
  {
   "cell_type": "code",
   "execution_count": 15,
   "metadata": {},
   "outputs": [
    {
     "output_type": "execute_result",
     "data": {
      "text/plain": [
       "NodeView(('osb_001', 'os_021', 'csf_001', 'fly_remote_001', 'docker_004', 'csf_002', 'db_003', 'docker_006', 'csf_003', 'csf_004', 'csf_005', 'db_009', 'db_007'))"
      ]
     },
     "metadata": {},
     "execution_count": 15
    }
   ],
   "source": [
    "DG.nodes"
   ]
  },
  {
   "cell_type": "code",
   "execution_count": null,
   "metadata": {},
   "outputs": [],
   "source": []
  }
 ]
}