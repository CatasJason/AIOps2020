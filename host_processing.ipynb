{
 "metadata": {
  "language_info": {
   "codemirror_mode": {
    "name": "ipython",
    "version": 3
   },
   "file_extension": ".py",
   "mimetype": "text/x-python",
   "name": "python",
   "nbconvert_exporter": "python",
   "pygments_lexer": "ipython3",
   "version": "3.8.5-final"
  },
  "orig_nbformat": 2,
  "kernelspec": {
   "name": "python3",
   "display_name": "Python 3"
  }
 },
 "nbformat": 4,
 "nbformat_minor": 2,
 "cells": [
  {
   "cell_type": "code",
   "execution_count": 24,
   "metadata": {},
   "outputs": [],
   "source": [
    "import os\n",
    "import time\n",
    "import pandas as pd\n",
    "import numpy as np\n",
    "import matplotlib.pylab as plt\n",
    "%matplotlib inline"
   ]
  },
  {
   "cell_type": "code",
   "execution_count": 25,
   "metadata": {},
   "outputs": [],
   "source": [
    "path = 'training_data/2020_05_04/host/'\n",
    "df = pd.read_csv(path+\"host_data_full.csv\")"
   ]
  },
  {
   "cell_type": "code",
   "execution_count": 26,
   "metadata": {},
   "outputs": [],
   "source": [
    "df.drop('Unnamed: 0', axis=1, inplace=True)"
   ]
  },
  {
   "cell_type": "code",
   "execution_count": 27,
   "metadata": {},
   "outputs": [],
   "source": [
    "df = df[(df['timestamp']>= 1588542600000)&(df['timestamp']< 1588543260000)]"
   ]
  },
  {
   "cell_type": "code",
   "execution_count": 28,
   "metadata": {},
   "outputs": [
    {
     "output_type": "execute_result",
     "data": {
      "text/plain": [
       "array(['os_012', 'os_020', 'os_017', 'os_008', 'os_015', 'os_002',\n",
       "       'os_009', 'os_006', 'os_022', 'os_011', 'os_007', 'os_010',\n",
       "       'db_010', 'db_008', 'db_007', 'db_003', 'db_001', 'os_004',\n",
       "       'db_009', 'redis_006', 'os_001', 'os_003', 'os_013', 'redis_001',\n",
       "       'os_016', 'os_005', 'redis_007', 'redis_010', 'redis_004',\n",
       "       'redis_011', 'redis_012', 'docker_004', 'docker_008', 'redis_008',\n",
       "       'db_004', 'os_021', 'os_019', 'os_014', 'os_018', 'db_013',\n",
       "       'redis_003', 'redis_009', 'db_006', 'db_011', 'docker_007',\n",
       "       'db_002', 'db_005', 'redis_002', 'container_002', 'container_001',\n",
       "       'redis_005', 'docker_001', 'docker_002', 'db_012', 'docker_003',\n",
       "       'docker_005', 'docker_006'], dtype=object)"
      ]
     },
     "metadata": {},
     "execution_count": 28
    }
   ],
   "source": [
    "# We get a list of hosts from the previous step (here it's manual)\n",
    "hosts = df['cmdb_id'].unique()\n",
    "hosts"
   ]
  },
  {
   "cell_type": "code",
   "execution_count": 29,
   "metadata": {
    "tags": []
   },
   "outputs": [],
   "source": [
    "# itemid,name,bomc_id,timestamp,value,cmdb_id\n",
    "grouped_by_host = df[df['cmdb_id'].isin(hosts)].groupby('cmdb_id')[['name', 'value']]"
   ]
  },
  {
   "cell_type": "code",
   "execution_count": 45,
   "metadata": {
    "tags": []
   },
   "outputs": [
    {
     "output_type": "stream",
     "name": "stdout",
     "text": [
      "Host container_001 has 1 names\n",
      "Host container_002 has 1 names\n",
      "Host db_001 has 43 names\n",
      "Host db_002 has 43 names\n",
      "Host db_003 has 46 names\n",
      "Host db_004 has 43 names\n",
      "Host db_005 has 43 names\n",
      "Host db_006 has 43 names\n",
      "Host db_007 has 46 names\n",
      "Host db_008 has 43 names\n",
      "Host db_009 has 43 names\n",
      "Host db_010 has 45 names\n",
      "Host db_011 has 45 names\n",
      "Host db_012 has 45 names\n",
      "Host db_013 has 45 names\n",
      "Host docker_001 has 9 names\n",
      "Host docker_002 has 9 names\n",
      "Host docker_003 has 9 names\n",
      "Host docker_004 has 9 names\n",
      "Host docker_005 has 9 names\n",
      "Host docker_006 has 9 names\n",
      "Host docker_007 has 9 names\n",
      "Host docker_008 has 9 names\n",
      "Host os_001 has 50 names\n",
      "Host os_002 has 50 names\n",
      "Host os_003 has 50 names\n",
      "Host os_004 has 50 names\n",
      "Host os_005 has 50 names\n",
      "Host os_006 has 50 names\n",
      "Host os_007 has 50 names\n",
      "Host os_008 has 50 names\n",
      "Host os_009 has 50 names\n",
      "Host os_010 has 50 names\n",
      "Host os_011 has 50 names\n",
      "Host os_012 has 50 names\n",
      "Host os_013 has 50 names\n",
      "Host os_014 has 50 names\n",
      "Host os_015 has 50 names\n",
      "Host os_016 has 50 names\n",
      "Host os_017 has 50 names\n",
      "Host os_018 has 50 names\n",
      "Host os_019 has 50 names\n",
      "Host os_020 has 50 names\n",
      "Host os_021 has 50 names\n",
      "Host os_022 has 50 names\n",
      "Host redis_001 has 22 names\n",
      "Host redis_002 has 22 names\n",
      "Host redis_003 has 22 names\n",
      "Host redis_004 has 22 names\n",
      "Host redis_005 has 22 names\n",
      "Host redis_006 has 22 names\n",
      "Host redis_007 has 22 names\n",
      "Host redis_008 has 22 names\n",
      "Host redis_009 has 22 names\n",
      "Host redis_010 has 22 names\n",
      "Host redis_011 has 22 names\n",
      "Host redis_012 has 22 names\n",
      "done\n"
     ]
    }
   ],
   "source": [
    "from sklearn.neighbors import KernelDensity\n",
    "from sklearn import preprocessing\n",
    "\n",
    "anomalies = {}\n",
    "\n",
    "def find_outlier(values):\n",
    "    normalized_x = preprocessing.normalize([values])\n",
    "    X = normalized_x.reshape(-1,1)\n",
    "    kde = KernelDensity(kernel='tophat', bandwidth=1.0).fit(X)\n",
    "    yvals = kde.score_samples(X)\n",
    "    outliers = np.where(yvals < np.percentile(yvals, 1))[0]\n",
    "    return outliers\n",
    "\n",
    "for host, item in grouped_by_host:\n",
    "    df_1 = grouped_by_host.get_group(host)\n",
    "    grouped_by_name = df_1.groupby('name')['value'].apply(list).reset_index(name='values')\n",
    "    print(\"Host %s has %d names\"%(host, len(grouped_by_name)))\n",
    "    for i in range(len(grouped_by_name)):\n",
    "        row = grouped_by_name.iloc[i]\n",
    "        name = row['name']\n",
    "        values = row['values']\n",
    "        outliers = find_outlier(values)\n",
    "        if (len(outliers)):\n",
    "            anomalies[host+\" ---> \"+name] = outliers\n",
    "\n",
    "print(\"done\")"
   ]
  },
  {
   "cell_type": "code",
   "execution_count": 46,
   "metadata": {},
   "outputs": [
    {
     "output_type": "execute_result",
     "data": {
      "text/plain": [
       "110"
      ]
     },
     "metadata": {},
     "execution_count": 46
    }
   ],
   "source": [
    "len(anomalies)"
   ]
  }
 ]
}