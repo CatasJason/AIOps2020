{
 "metadata": {
  "language_info": {
   "codemirror_mode": {
    "name": "ipython",
    "version": 3
   },
   "file_extension": ".py",
   "mimetype": "text/x-python",
   "name": "python",
   "nbconvert_exporter": "python",
   "pygments_lexer": "ipython3",
   "version": "3.6.12-final"
  },
  "orig_nbformat": 2,
  "kernelspec": {
   "name": "python3",
   "display_name": "Python 3",
   "language": "python"
  }
 },
 "nbformat": 4,
 "nbformat_minor": 2,
 "cells": [
  {
   "cell_type": "code",
   "execution_count": 1,
   "metadata": {},
   "outputs": [],
   "source": [
    "import numpy as np\n",
    "import pandas as pd\n",
    "from scipy.stats import t\n",
    "import glob\n",
    "import matplotlib.pyplot as plt"
   ]
  },
  {
   "cell_type": "code",
   "execution_count": 2,
   "metadata": {},
   "outputs": [
    {
     "output_type": "execute_result",
     "data": {
      "text/plain": [
       "['C:\\\\Users\\\\Henry\\\\Documents\\\\data\\\\2020_05_26\\\\Trace\\\\trace_csf.csv',\n",
       " 'C:\\\\Users\\\\Henry\\\\Documents\\\\data\\\\2020_05_26\\\\Trace\\\\trace_fly_remote.csv',\n",
       " 'C:\\\\Users\\\\Henry\\\\Documents\\\\data\\\\2020_05_26\\\\Trace\\\\trace_jdbc.csv',\n",
       " 'C:\\\\Users\\\\Henry\\\\Documents\\\\data\\\\2020_05_26\\\\Trace\\\\trace_local.csv',\n",
       " 'C:\\\\Users\\\\Henry\\\\Documents\\\\data\\\\2020_05_26\\\\Trace\\\\trace_osb.csv',\n",
       " 'C:\\\\Users\\\\Henry\\\\Documents\\\\data\\\\2020_05_26\\\\Trace\\\\trace_remote_process.csv']"
      ]
     },
     "metadata": {},
     "execution_count": 2
    }
   ],
   "source": [
    "path = \"C:\\\\Users\\\\Henry\\\\Documents\\\\data\\\\2020_05_26\\\\Trace\\\\\"\n",
    "all_files = glob.glob(path + \"*.csv\")\n",
    "all_files"
   ]
  },
  {
   "cell_type": "code",
   "execution_count": 3,
   "metadata": {},
   "outputs": [],
   "source": [
    "dfs = []\n",
    "for filename in all_files:\n",
    "    df = pd.read_csv(filename, index_col=None)\n",
    "    dfs.append(df)"
   ]
  },
  {
   "cell_type": "code",
   "execution_count": 4,
   "metadata": {},
   "outputs": [],
   "source": [
    "for df in dfs:\n",
    "    if df['callType'].iloc[0]=='JDBC' or df['callType'].iloc[0]=='LOCAL':\n",
    "        df['serviceName'] = df['dsName']\n",
    "    elif df['callType'].iloc[0]=='RemoteProcess' or df['callType'].iloc[0]=='OSB':\n",
    "        df['serviceName'] = df['cmdb_id']"
   ]
  },
  {
   "cell_type": "code",
   "execution_count": 5,
   "metadata": {},
   "outputs": [],
   "source": [
    "# df.head()"
   ]
  },
  {
   "cell_type": "code",
   "execution_count": 5,
   "metadata": {},
   "outputs": [],
   "source": [
    "df = pd.concat(dfs, axis=0, ignore_index=True)\n",
    "# df.head()"
   ]
  },
  {
   "cell_type": "code",
   "execution_count": 6,
   "metadata": {},
   "outputs": [
    {
     "output_type": "execute_result",
     "data": {
      "text/plain": [
       "  callType      startTime  elapsedTime  success               traceId  \\\n",
       "0      CSF  1590422400042       3212.0     True  fe171a0d9608272247dd   \n",
       "1      CSF  1590422400043        521.0     True  fe171b1dc723053247dd   \n",
       "2      CSF  1590422400043       2483.0     True  fe1710044423683247dd   \n",
       "3      CSF  1590422400044       2230.0     True  fe1717f21d28273247dd   \n",
       "4      CSF  1590422400044       2482.0     True  fe171972b143684247dd   \n",
       "\n",
       "                     id                   pid cmdb_id serviceName  \n",
       "0  fe1718e7207827a247dd  fe171ae35818272247dd  os_021     csf_001  \n",
       "1  fe1712efc05305a247dd  fe171260ff33053247dd  os_022     csf_001  \n",
       "2  fe171c71bc7368b247dd  fe1711b3b433683247dd  os_021     csf_001  \n",
       "3  fe1712d8e85827c247dd  fe17174eec38273247dd  os_021     csf_001  \n",
       "4  fe171f20ea9368c247dd  fe1719218f53684247dd  os_021     csf_001  "
      ],
      "text/html": "<div>\n<style scoped>\n    .dataframe tbody tr th:only-of-type {\n        vertical-align: middle;\n    }\n\n    .dataframe tbody tr th {\n        vertical-align: top;\n    }\n\n    .dataframe thead th {\n        text-align: right;\n    }\n</style>\n<table border=\"1\" class=\"dataframe\">\n  <thead>\n    <tr style=\"text-align: right;\">\n      <th></th>\n      <th>callType</th>\n      <th>startTime</th>\n      <th>elapsedTime</th>\n      <th>success</th>\n      <th>traceId</th>\n      <th>id</th>\n      <th>pid</th>\n      <th>cmdb_id</th>\n      <th>serviceName</th>\n    </tr>\n  </thead>\n  <tbody>\n    <tr>\n      <th>0</th>\n      <td>CSF</td>\n      <td>1590422400042</td>\n      <td>3212.0</td>\n      <td>True</td>\n      <td>fe171a0d9608272247dd</td>\n      <td>fe1718e7207827a247dd</td>\n      <td>fe171ae35818272247dd</td>\n      <td>os_021</td>\n      <td>csf_001</td>\n    </tr>\n    <tr>\n      <th>1</th>\n      <td>CSF</td>\n      <td>1590422400043</td>\n      <td>521.0</td>\n      <td>True</td>\n      <td>fe171b1dc723053247dd</td>\n      <td>fe1712efc05305a247dd</td>\n      <td>fe171260ff33053247dd</td>\n      <td>os_022</td>\n      <td>csf_001</td>\n    </tr>\n    <tr>\n      <th>2</th>\n      <td>CSF</td>\n      <td>1590422400043</td>\n      <td>2483.0</td>\n      <td>True</td>\n      <td>fe1710044423683247dd</td>\n      <td>fe171c71bc7368b247dd</td>\n      <td>fe1711b3b433683247dd</td>\n      <td>os_021</td>\n      <td>csf_001</td>\n    </tr>\n    <tr>\n      <th>3</th>\n      <td>CSF</td>\n      <td>1590422400044</td>\n      <td>2230.0</td>\n      <td>True</td>\n      <td>fe1717f21d28273247dd</td>\n      <td>fe1712d8e85827c247dd</td>\n      <td>fe17174eec38273247dd</td>\n      <td>os_021</td>\n      <td>csf_001</td>\n    </tr>\n    <tr>\n      <th>4</th>\n      <td>CSF</td>\n      <td>1590422400044</td>\n      <td>2482.0</td>\n      <td>True</td>\n      <td>fe171972b143684247dd</td>\n      <td>fe171f20ea9368c247dd</td>\n      <td>fe1719218f53684247dd</td>\n      <td>os_021</td>\n      <td>csf_001</td>\n    </tr>\n  </tbody>\n</table>\n</div>"
     },
     "metadata": {},
     "execution_count": 6
    }
   ],
   "source": [
    "df = df.drop('dsName', axis=1, index=None)\n",
    "# df = df.drop(['path'], axis=1)\n",
    "df.head()"
   ]
  },
  {
   "cell_type": "code",
   "execution_count": 7,
   "metadata": {},
   "outputs": [],
   "source": [
    "anomaly_time = 1590430140000\n",
    "# 1590430140000 db 007\n",
    "# 1590431940000 docker 008\n",
    "# 1590433740000 os 21\n",
    "df = df[(df.startTime >= (anomaly_time-1200000)) & (df.startTime <= (anomaly_time + 60000))]\n",
    "# df.to_csv(path + 'trace_data_os18.csv')\n"
   ]
  },
  {
   "cell_type": "code",
   "execution_count": 8,
   "metadata": {},
   "outputs": [
    {
     "output_type": "execute_result",
     "data": {
      "text/plain": [
       "              callType      startTime  elapsedTime  success  \\\n",
       "262802             CSF  1590428940026       2235.0     True   \n",
       "262803             CSF  1590428940026       1470.0     True   \n",
       "262804             CSF  1590428940027        372.0     True   \n",
       "262805             CSF  1590428940027       2533.0     True   \n",
       "262806             CSF  1590428940028        169.0     True   \n",
       "...                ...            ...          ...      ...   \n",
       "9105944  RemoteProcess  1590430172262         19.0     True   \n",
       "9105945  RemoteProcess  1590430172263         32.0     True   \n",
       "9105946  RemoteProcess  1590430172367         20.0     True   \n",
       "9105947  RemoteProcess  1590430172460         19.0     True   \n",
       "9105948  RemoteProcess  1590430172562         16.0     True   \n",
       "\n",
       "                      traceId                    id                   pid  \\\n",
       "262802   0f17142adb09611fe314  0f171e05877961afe314  0f1711a1dc19611fe314   \n",
       "262803   0f1715be0d29613fe314  0f171cd4505961afe314  0f171a473c39613fe314   \n",
       "262804   0f17153a5d85962fe314  0f171399d51696bfe314  0f171475d595962fe314   \n",
       "262805   0f1712bc9c44034fe314  0f1719bfa79403bfe314  0f171f47d754034fe314   \n",
       "262806   0f1719b75a49614fe314  0f171f51b99961cfe314  0f17112f1559614fe314   \n",
       "...                       ...                   ...                   ...   \n",
       "9105944  0f171da30e0301b59045  0f1719faf5378866c045  0f1711e769696560c045   \n",
       "9105945  0f171c9f61630197b045  0f1715845b578876c045  0f171a6cf6107570c045   \n",
       "9105946  0f171c9f61630197b045  0f17178f438988fcc045  0f17140b602775bcc045   \n",
       "9105947  0f171c9f61630197b045  0f171beedc7198c2d045  0f171e88982975a2d045   \n",
       "9105948  0f171c9f61630197b045  0f171894fe439829d045  0f171a4f460185f8d045   \n",
       "\n",
       "            cmdb_id serviceName  \n",
       "262802       os_021     csf_001  \n",
       "262803       os_021     csf_001  \n",
       "262804       os_022     csf_001  \n",
       "262805       os_021     csf_001  \n",
       "262806       os_021     csf_001  \n",
       "...             ...         ...  \n",
       "9105944  docker_005  docker_005  \n",
       "9105945  docker_005  docker_005  \n",
       "9105946  docker_005  docker_005  \n",
       "9105947  docker_005  docker_005  \n",
       "9105948  docker_005  docker_005  \n",
       "\n",
       "[645247 rows x 9 columns]"
      ],
      "text/html": "<div>\n<style scoped>\n    .dataframe tbody tr th:only-of-type {\n        vertical-align: middle;\n    }\n\n    .dataframe tbody tr th {\n        vertical-align: top;\n    }\n\n    .dataframe thead th {\n        text-align: right;\n    }\n</style>\n<table border=\"1\" class=\"dataframe\">\n  <thead>\n    <tr style=\"text-align: right;\">\n      <th></th>\n      <th>callType</th>\n      <th>startTime</th>\n      <th>elapsedTime</th>\n      <th>success</th>\n      <th>traceId</th>\n      <th>id</th>\n      <th>pid</th>\n      <th>cmdb_id</th>\n      <th>serviceName</th>\n    </tr>\n  </thead>\n  <tbody>\n    <tr>\n      <th>262802</th>\n      <td>CSF</td>\n      <td>1590428940026</td>\n      <td>2235.0</td>\n      <td>True</td>\n      <td>0f17142adb09611fe314</td>\n      <td>0f171e05877961afe314</td>\n      <td>0f1711a1dc19611fe314</td>\n      <td>os_021</td>\n      <td>csf_001</td>\n    </tr>\n    <tr>\n      <th>262803</th>\n      <td>CSF</td>\n      <td>1590428940026</td>\n      <td>1470.0</td>\n      <td>True</td>\n      <td>0f1715be0d29613fe314</td>\n      <td>0f171cd4505961afe314</td>\n      <td>0f171a473c39613fe314</td>\n      <td>os_021</td>\n      <td>csf_001</td>\n    </tr>\n    <tr>\n      <th>262804</th>\n      <td>CSF</td>\n      <td>1590428940027</td>\n      <td>372.0</td>\n      <td>True</td>\n      <td>0f17153a5d85962fe314</td>\n      <td>0f171399d51696bfe314</td>\n      <td>0f171475d595962fe314</td>\n      <td>os_022</td>\n      <td>csf_001</td>\n    </tr>\n    <tr>\n      <th>262805</th>\n      <td>CSF</td>\n      <td>1590428940027</td>\n      <td>2533.0</td>\n      <td>True</td>\n      <td>0f1712bc9c44034fe314</td>\n      <td>0f1719bfa79403bfe314</td>\n      <td>0f171f47d754034fe314</td>\n      <td>os_021</td>\n      <td>csf_001</td>\n    </tr>\n    <tr>\n      <th>262806</th>\n      <td>CSF</td>\n      <td>1590428940028</td>\n      <td>169.0</td>\n      <td>True</td>\n      <td>0f1719b75a49614fe314</td>\n      <td>0f171f51b99961cfe314</td>\n      <td>0f17112f1559614fe314</td>\n      <td>os_021</td>\n      <td>csf_001</td>\n    </tr>\n    <tr>\n      <th>...</th>\n      <td>...</td>\n      <td>...</td>\n      <td>...</td>\n      <td>...</td>\n      <td>...</td>\n      <td>...</td>\n      <td>...</td>\n      <td>...</td>\n      <td>...</td>\n    </tr>\n    <tr>\n      <th>9105944</th>\n      <td>RemoteProcess</td>\n      <td>1590430172262</td>\n      <td>19.0</td>\n      <td>True</td>\n      <td>0f171da30e0301b59045</td>\n      <td>0f1719faf5378866c045</td>\n      <td>0f1711e769696560c045</td>\n      <td>docker_005</td>\n      <td>docker_005</td>\n    </tr>\n    <tr>\n      <th>9105945</th>\n      <td>RemoteProcess</td>\n      <td>1590430172263</td>\n      <td>32.0</td>\n      <td>True</td>\n      <td>0f171c9f61630197b045</td>\n      <td>0f1715845b578876c045</td>\n      <td>0f171a6cf6107570c045</td>\n      <td>docker_005</td>\n      <td>docker_005</td>\n    </tr>\n    <tr>\n      <th>9105946</th>\n      <td>RemoteProcess</td>\n      <td>1590430172367</td>\n      <td>20.0</td>\n      <td>True</td>\n      <td>0f171c9f61630197b045</td>\n      <td>0f17178f438988fcc045</td>\n      <td>0f17140b602775bcc045</td>\n      <td>docker_005</td>\n      <td>docker_005</td>\n    </tr>\n    <tr>\n      <th>9105947</th>\n      <td>RemoteProcess</td>\n      <td>1590430172460</td>\n      <td>19.0</td>\n      <td>True</td>\n      <td>0f171c9f61630197b045</td>\n      <td>0f171beedc7198c2d045</td>\n      <td>0f171e88982975a2d045</td>\n      <td>docker_005</td>\n      <td>docker_005</td>\n    </tr>\n    <tr>\n      <th>9105948</th>\n      <td>RemoteProcess</td>\n      <td>1590430172562</td>\n      <td>16.0</td>\n      <td>True</td>\n      <td>0f171c9f61630197b045</td>\n      <td>0f171894fe439829d045</td>\n      <td>0f171a4f460185f8d045</td>\n      <td>docker_005</td>\n      <td>docker_005</td>\n    </tr>\n  </tbody>\n</table>\n<p>645247 rows × 9 columns</p>\n</div>"
     },
     "metadata": {},
     "execution_count": 8
    }
   ],
   "source": [
    "df"
   ]
  },
  {
   "cell_type": "code",
   "execution_count": 9,
   "metadata": {},
   "outputs": [],
   "source": [
    "df1 = df[df['callType']=='RemoteProcess']\n",
    "df1 = df1[['pid','cmdb_id']]\n",
    "df1 = df1.set_index('pid')"
   ]
  },
  {
   "cell_type": "code",
   "execution_count": 10,
   "metadata": {},
   "outputs": [],
   "source": [
    "elapse_time = {}\n",
    "children = {}\n",
    "\n",
    "def do_thing(row):\n",
    "    if row['id'] in df1.index:\n",
    "        row['serviceName'] = df1.at[row['id'],'cmdb_id']\n",
    "    if row['pid'] != 'None':\n",
    "        children[row['pid']] = children.get(row['pid'], [])\n",
    "        children[row['pid']].append(row['id'])\n",
    "    elapse_time[row['id']] = float(row['elapsedTime'])\n",
    "    return row\n",
    "df = df.apply(do_thing, axis=1)\n",
    "\n",
    "\n",
    "df['actual_time'] = 0.0\n",
    "\n",
    "def get_actual_time(row):\n",
    "    total_child = 0.0\n",
    "    if row['id'] in children:\n",
    "        for child in children[row['id']]:\n",
    "            total_child += elapse_time[child]\n",
    "    row['actual_time'] = row['elapsedTime'] - total_child\n",
    "    return row\n",
    "\n",
    "df = df.apply(get_actual_time, axis = 1)\n",
    "\n",
    "df = df[~(df['serviceName'].str.contains('csf', na=True))]"
   ]
  },
  {
   "cell_type": "code",
   "execution_count": 27,
   "metadata": {},
   "outputs": [],
   "source": [
    "df = df.sort_values(['traceId', 'startTime'], ignore_index=True)"
   ]
  },
  {
   "cell_type": "code",
   "execution_count": 28,
   "metadata": {},
   "outputs": [
    {
     "output_type": "execute_result",
     "data": {
      "text/plain": [
       "         callType      startTime  elapsedTime  success               traceId  \\\n",
       "0             OSB  1590430283976       1339.0     True  0f1710004746968c0c55   \n",
       "1             CSF  1590430283983       1324.0     True  0f1710004746968c0c55   \n",
       "2   RemoteProcess  1590430283993       1313.0     True  0f1710004746968c0c55   \n",
       "3       FlyRemote  1590430284100          4.0     True  0f1710004746968c0c55   \n",
       "4             CSF  1590430284105        287.0     True  0f1710004746968c0c55   \n",
       "5   RemoteProcess  1590430284195         34.0     True  0f1710004746968c0c55   \n",
       "6           LOCAL  1590430284216          7.0     True  0f1710004746968c0c55   \n",
       "7            JDBC  1590430284216          3.0     True  0f1710004746968c0c55   \n",
       "8            JDBC  1590430284220          2.0     True  0f1710004746968c0c55   \n",
       "9             CSF  1590430284394        201.0     True  0f1710004746968c0c55   \n",
       "10  RemoteProcess  1590430284492         25.0     True  0f1710004746968c0c55   \n",
       "11           JDBC  1590430284498          3.0     True  0f1710004746968c0c55   \n",
       "12          LOCAL  1590430284498          7.0     True  0f1710004746968c0c55   \n",
       "13           JDBC  1590430284502          3.0     True  0f1710004746968c0c55   \n",
       "14          LOCAL  1590430284506          4.0     True  0f1710004746968c0c55   \n",
       "15           JDBC  1590430284507          3.0     True  0f1710004746968c0c55   \n",
       "16            CSF  1590430284695        197.0     True  0f1710004746968c0c55   \n",
       "17  RemoteProcess  1590430284792         22.0     True  0f1710004746968c0c55   \n",
       "18          LOCAL  1590430284796          8.0     True  0f1710004746968c0c55   \n",
       "19           JDBC  1590430284796          3.0     True  0f1710004746968c0c55   \n",
       "20           JDBC  1590430284801          2.0     True  0f1710004746968c0c55   \n",
       "21          LOCAL  1590430284805          3.0     True  0f1710004746968c0c55   \n",
       "22           JDBC  1590430284806          2.0     True  0f1710004746968c0c55   \n",
       "23            CSF  1590430284899         95.0     True  0f1710004746968c0c55   \n",
       "24  RemoteProcess  1590430284904         17.0     True  0f1710004746968c0c55   \n",
       "25           JDBC  1590430284908          2.0     True  0f1710004746968c0c55   \n",
       "26          LOCAL  1590430284908          7.0     True  0f1710004746968c0c55   \n",
       "27           JDBC  1590430284912          2.0     True  0f1710004746968c0c55   \n",
       "28          LOCAL  1590430285003         90.0     True  0f1710004746968c0c55   \n",
       "29           JDBC  1590430285004         88.0     True  0f1710004746968c0c55   \n",
       "30           JDBC  1590430285093          0.0     True  0f1710004746968c0c55   \n",
       "31          LOCAL  1590430285093          3.0     True  0f1710004746968c0c55   \n",
       "32           JDBC  1590430285095          0.0     True  0f1710004746968c0c55   \n",
       "33          LOCAL  1590430285097          5.0     True  0f1710004746968c0c55   \n",
       "34           JDBC  1590430285100          0.0     True  0f1710004746968c0c55   \n",
       "35           JDBC  1590430285103          3.0     True  0f1710004746968c0c55   \n",
       "36          LOCAL  1590430285103          4.0     True  0f1710004746968c0c55   \n",
       "37          LOCAL  1590430285107          5.0     True  0f1710004746968c0c55   \n",
       "38           JDBC  1590430285111          1.0     True  0f1710004746968c0c55   \n",
       "39          LOCAL  1590430285112         80.0     True  0f1710004746968c0c55   \n",
       "40           JDBC  1590430285114          0.0     True  0f1710004746968c0c55   \n",
       "41          LOCAL  1590430285192          4.0     True  0f1710004746968c0c55   \n",
       "42           JDBC  1590430285195          1.0     True  0f1710004746968c0c55   \n",
       "43          LOCAL  1590430285196          6.0     True  0f1710004746968c0c55   \n",
       "44           JDBC  1590430285200          1.0     True  0f1710004746968c0c55   \n",
       "45           JDBC  1590430285203          1.0     True  0f1710004746968c0c55   \n",
       "46          LOCAL  1590430285203          2.0     True  0f1710004746968c0c55   \n",
       "47          LOCAL  1590430285205          3.0     True  0f1710004746968c0c55   \n",
       "48           JDBC  1590430285206          0.0     True  0f1710004746968c0c55   \n",
       "49          LOCAL  1590430285208          1.0     True  0f1710004746968c0c55   \n",
       "50           JDBC  1590430285209          0.0     True  0f1710004746968c0c55   \n",
       "51           JDBC  1590430285210          1.0     True  0f1710004746968c0c55   \n",
       "52          LOCAL  1590430285210          1.0     True  0f1710004746968c0c55   \n",
       "53          LOCAL  1590430285211          2.0     True  0f1710004746968c0c55   \n",
       "54           JDBC  1590430285212          0.0     True  0f1710004746968c0c55   \n",
       "55           JDBC  1590430285213          2.0     True  0f1710004746968c0c55   \n",
       "56          LOCAL  1590430285213         85.0     True  0f1710004746968c0c55   \n",
       "57           JDBC  1590430285294          3.0     True  0f1710004746968c0c55   \n",
       "58            OSB  1590430157999        169.0     True  0f171000530489fa4d35   \n",
       "59            CSF  1590430158005        155.0     True  0f171000530489fa4d35   \n",
       "\n",
       "                      id                   pid     cmdb_id     serviceName  \\\n",
       "0   0f171611d056968c0c55                  None      os_022          os_022   \n",
       "1   0f171922ce7696fc0c55  0f171611d056968c0c55      os_022      docker_002   \n",
       "2   0f17158d5739399d0c55  0f171922ce7696fc0c55  docker_002      docker_002   \n",
       "3   0f17134f5a8249441c55  0f17158d5739399d0c55  docker_002  fly_remote_001   \n",
       "4   0f171c76965349941c55  0f17158d5739399d0c55  docker_002      docker_007   \n",
       "5   0f171654d620633a1c55  0f171c76965349941c55  docker_007      docker_007   \n",
       "6   0f1717ce4842638b1c55  0f171654d620633a1c55  docker_007          db_003   \n",
       "7   0f17197dba72638b1c55  0f1717ce4842638b1c55  docker_007          db_003   \n",
       "8   0f171cb8c70363cb1c55  0f1717ce4842638b1c55  docker_007          db_003   \n",
       "9   0f1717fae75749a62c55  0f17158d5739399d0c55  docker_002      docker_007   \n",
       "10  0f171d799c6663cc2c55  0f1717fae75749a62c55  docker_007      docker_007   \n",
       "11  0f171b8fe037632d2c55  0f171efa0707632d2c55  docker_007          db_003   \n",
       "12  0f171efa0707632d2c55  0f171d799c6663cc2c55  docker_007          db_003   \n",
       "13  0f17162aeb67636d2c55  0f171efa0707632d2c55  docker_007          db_003   \n",
       "14  0f1711ad1f8763ad2c55  0f171d799c6663cc2c55  docker_007          db_003   \n",
       "15  0f171167961863bd2c55  0f1711ad1f8763ad2c55  docker_007          db_003   \n",
       "16  0f171500e83059693c55  0f17158d5739399d0c55  docker_002      docker_008   \n",
       "17  0f1714a2d726458f3c55  0f171500e83059693c55  docker_008      docker_008   \n",
       "18  0f171f61fb6645cf3c55  0f1714a2d726458f3c55  docker_008          db_003   \n",
       "19  0f17125cc19645cf3c55  0f171f61fb6645cf3c55  docker_008          db_003   \n",
       "20  0f171757c32745104c55  0f171f61fb6645cf3c55  docker_008          db_003   \n",
       "21  0f1712df414745504c55  0f1714a2d726458f3c55  docker_008          db_003   \n",
       "22  0f1712720c7745604c55  0f1712df414745504c55  docker_008          db_003   \n",
       "23  0f171be0c55659164c55  0f17158d5739399d0c55  docker_002      docker_007   \n",
       "24  0f171b97b99273864c55  0f171be0c55659164c55  docker_007      docker_007   \n",
       "25  0f17151c124373c64c55  0f171dee901373c64c55  docker_007          db_003   \n",
       "26  0f171dee901373c64c55  0f171b97b99273864c55  docker_007          db_003   \n",
       "27  0f1719bfda7373074c55  0f171dee901373c64c55  docker_007          db_003   \n",
       "28  0f17152c172269bc4c55  0f17158d5739399d0c55  docker_002          db_009   \n",
       "29  0f171040d57269cc4c55  0f17152c172269bc4c55  docker_002          db_009   \n",
       "30  0f171a46753469525c55  0f17152c172269bc4c55  docker_002          db_009   \n",
       "31  0f171cecf76469525c55  0f17158d5739399d0c55  docker_002          db_009   \n",
       "32  0f171cee3e0569725c55  0f171cecf76469525c55  docker_002          db_009   \n",
       "33  0f171005237569925c55  0f17158d5739399d0c55  docker_002          db_009   \n",
       "34  0f1718bc499669c25c55  0f171005237569925c55  docker_002          db_009   \n",
       "35  0f171cfc719769f25c55  0f171ced366769f25c55  docker_002          db_009   \n",
       "36  0f171ced366769f25c55  0f17158d5739399d0c55  docker_002          db_009   \n",
       "37  0f171f36973969335c55  0f17158d5739399d0c55  docker_002          db_009   \n",
       "38  0f1714373c7079735c55  0f171f36973969335c55  docker_002          db_009   \n",
       "39  0f17144dc86179835c55  0f17158d5739399d0c55  docker_002          db_009   \n",
       "40  0f1713f71e2279a35c55  0f17144dc86179835c55  docker_002          db_009   \n",
       "41  0f171deb856279885c55  0f17158d5739399d0c55  docker_002          db_009   \n",
       "42  0f1715a3915379b85c55  0f171deb856279885c55  docker_002          db_009   \n",
       "43  0f171dfcbd9379c85c55  0f17158d5739399d0c55  docker_002          db_009   \n",
       "44  0f1714ae745579095c55  0f171dfcbd9379c85c55  docker_002          db_009   \n",
       "45  0f171a02412779395c55  0f171cbbba9679395c55  docker_002          db_009   \n",
       "46  0f171cbbba9679395c55  0f17158d5739399d0c55  docker_002          db_009   \n",
       "47  0f171659887779595c55  0f17158d5739399d0c55  docker_002          db_009   \n",
       "48  0f171a20da0879695c55  0f171659887779595c55  docker_002          db_009   \n",
       "49  0f1710f2225879895c55  0f17158d5739399d0c55  docker_002          db_009   \n",
       "50  0f171548938879995c55  0f1710f2225879895c55  docker_002          db_009   \n",
       "51  0f171187763979a95c55  0f171c477a0979a95c55  docker_002          db_009   \n",
       "52  0f171c477a0979a95c55  0f17158d5739399d0c55  docker_002          db_009   \n",
       "53  0f171384ff5979b95c55  0f17158d5739399d0c55  docker_002          db_009   \n",
       "54  0f1716fda00089c95c55  0f171384ff5979b95c55  docker_002          db_009   \n",
       "55  0f1710f7265089d95c55  0f171d8e972089d95c55  docker_002          db_007   \n",
       "56  0f171d8e972089d95c55  0f17158d5739399d0c55  docker_002          db_007   \n",
       "57  0f171d20e08089ee5c55  0f171d8e972089d95c55  docker_002          db_007   \n",
       "58  0f1718773c1489fa4d35                  None      os_021          os_021   \n",
       "59  0f17172a0e34895b4d35  0f1718773c1489fa4d35      os_021      docker_004   \n",
       "\n",
       "    actual_time  \n",
       "0          15.0  \n",
       "1          11.0  \n",
       "2         238.0  \n",
       "3           4.0  \n",
       "4         253.0  \n",
       "5          27.0  \n",
       "6           2.0  \n",
       "7           3.0  \n",
       "8           2.0  \n",
       "9         176.0  \n",
       "10         14.0  \n",
       "11          3.0  \n",
       "12          1.0  \n",
       "13          3.0  \n",
       "14          1.0  \n",
       "15          3.0  \n",
       "16        175.0  \n",
       "17         11.0  \n",
       "18          3.0  \n",
       "19          3.0  \n",
       "20          2.0  \n",
       "21          1.0  \n",
       "22          2.0  \n",
       "23         78.0  \n",
       "24         10.0  \n",
       "25          2.0  \n",
       "26          3.0  \n",
       "27          2.0  \n",
       "28          2.0  \n",
       "29         88.0  \n",
       "30          0.0  \n",
       "31          3.0  \n",
       "32          0.0  \n",
       "33          5.0  \n",
       "34          0.0  \n",
       "35          3.0  \n",
       "36          1.0  \n",
       "37          4.0  \n",
       "38          1.0  \n",
       "39         80.0  \n",
       "40          0.0  \n",
       "41          3.0  \n",
       "42          1.0  \n",
       "43          5.0  \n",
       "44          1.0  \n",
       "45          1.0  \n",
       "46          1.0  \n",
       "47          3.0  \n",
       "48          0.0  \n",
       "49          1.0  \n",
       "50          0.0  \n",
       "51          1.0  \n",
       "52          0.0  \n",
       "53          2.0  \n",
       "54          0.0  \n",
       "55          2.0  \n",
       "56         80.0  \n",
       "57          3.0  \n",
       "58         14.0  \n",
       "59          3.0  "
      ],
      "text/html": "<div>\n<style scoped>\n    .dataframe tbody tr th:only-of-type {\n        vertical-align: middle;\n    }\n\n    .dataframe tbody tr th {\n        vertical-align: top;\n    }\n\n    .dataframe thead th {\n        text-align: right;\n    }\n</style>\n<table border=\"1\" class=\"dataframe\">\n  <thead>\n    <tr style=\"text-align: right;\">\n      <th></th>\n      <th>callType</th>\n      <th>startTime</th>\n      <th>elapsedTime</th>\n      <th>success</th>\n      <th>traceId</th>\n      <th>id</th>\n      <th>pid</th>\n      <th>cmdb_id</th>\n      <th>serviceName</th>\n      <th>actual_time</th>\n    </tr>\n  </thead>\n  <tbody>\n    <tr>\n      <th>0</th>\n      <td>OSB</td>\n      <td>1590430283976</td>\n      <td>1339.0</td>\n      <td>True</td>\n      <td>0f1710004746968c0c55</td>\n      <td>0f171611d056968c0c55</td>\n      <td>None</td>\n      <td>os_022</td>\n      <td>os_022</td>\n      <td>15.0</td>\n    </tr>\n    <tr>\n      <th>1</th>\n      <td>CSF</td>\n      <td>1590430283983</td>\n      <td>1324.0</td>\n      <td>True</td>\n      <td>0f1710004746968c0c55</td>\n      <td>0f171922ce7696fc0c55</td>\n      <td>0f171611d056968c0c55</td>\n      <td>os_022</td>\n      <td>docker_002</td>\n      <td>11.0</td>\n    </tr>\n    <tr>\n      <th>2</th>\n      <td>RemoteProcess</td>\n      <td>1590430283993</td>\n      <td>1313.0</td>\n      <td>True</td>\n      <td>0f1710004746968c0c55</td>\n      <td>0f17158d5739399d0c55</td>\n      <td>0f171922ce7696fc0c55</td>\n      <td>docker_002</td>\n      <td>docker_002</td>\n      <td>238.0</td>\n    </tr>\n    <tr>\n      <th>3</th>\n      <td>FlyRemote</td>\n      <td>1590430284100</td>\n      <td>4.0</td>\n      <td>True</td>\n      <td>0f1710004746968c0c55</td>\n      <td>0f17134f5a8249441c55</td>\n      <td>0f17158d5739399d0c55</td>\n      <td>docker_002</td>\n      <td>fly_remote_001</td>\n      <td>4.0</td>\n    </tr>\n    <tr>\n      <th>4</th>\n      <td>CSF</td>\n      <td>1590430284105</td>\n      <td>287.0</td>\n      <td>True</td>\n      <td>0f1710004746968c0c55</td>\n      <td>0f171c76965349941c55</td>\n      <td>0f17158d5739399d0c55</td>\n      <td>docker_002</td>\n      <td>docker_007</td>\n      <td>253.0</td>\n    </tr>\n    <tr>\n      <th>5</th>\n      <td>RemoteProcess</td>\n      <td>1590430284195</td>\n      <td>34.0</td>\n      <td>True</td>\n      <td>0f1710004746968c0c55</td>\n      <td>0f171654d620633a1c55</td>\n      <td>0f171c76965349941c55</td>\n      <td>docker_007</td>\n      <td>docker_007</td>\n      <td>27.0</td>\n    </tr>\n    <tr>\n      <th>6</th>\n      <td>LOCAL</td>\n      <td>1590430284216</td>\n      <td>7.0</td>\n      <td>True</td>\n      <td>0f1710004746968c0c55</td>\n      <td>0f1717ce4842638b1c55</td>\n      <td>0f171654d620633a1c55</td>\n      <td>docker_007</td>\n      <td>db_003</td>\n      <td>2.0</td>\n    </tr>\n    <tr>\n      <th>7</th>\n      <td>JDBC</td>\n      <td>1590430284216</td>\n      <td>3.0</td>\n      <td>True</td>\n      <td>0f1710004746968c0c55</td>\n      <td>0f17197dba72638b1c55</td>\n      <td>0f1717ce4842638b1c55</td>\n      <td>docker_007</td>\n      <td>db_003</td>\n      <td>3.0</td>\n    </tr>\n    <tr>\n      <th>8</th>\n      <td>JDBC</td>\n      <td>1590430284220</td>\n      <td>2.0</td>\n      <td>True</td>\n      <td>0f1710004746968c0c55</td>\n      <td>0f171cb8c70363cb1c55</td>\n      <td>0f1717ce4842638b1c55</td>\n      <td>docker_007</td>\n      <td>db_003</td>\n      <td>2.0</td>\n    </tr>\n    <tr>\n      <th>9</th>\n      <td>CSF</td>\n      <td>1590430284394</td>\n      <td>201.0</td>\n      <td>True</td>\n      <td>0f1710004746968c0c55</td>\n      <td>0f1717fae75749a62c55</td>\n      <td>0f17158d5739399d0c55</td>\n      <td>docker_002</td>\n      <td>docker_007</td>\n      <td>176.0</td>\n    </tr>\n    <tr>\n      <th>10</th>\n      <td>RemoteProcess</td>\n      <td>1590430284492</td>\n      <td>25.0</td>\n      <td>True</td>\n      <td>0f1710004746968c0c55</td>\n      <td>0f171d799c6663cc2c55</td>\n      <td>0f1717fae75749a62c55</td>\n      <td>docker_007</td>\n      <td>docker_007</td>\n      <td>14.0</td>\n    </tr>\n    <tr>\n      <th>11</th>\n      <td>JDBC</td>\n      <td>1590430284498</td>\n      <td>3.0</td>\n      <td>True</td>\n      <td>0f1710004746968c0c55</td>\n      <td>0f171b8fe037632d2c55</td>\n      <td>0f171efa0707632d2c55</td>\n      <td>docker_007</td>\n      <td>db_003</td>\n      <td>3.0</td>\n    </tr>\n    <tr>\n      <th>12</th>\n      <td>LOCAL</td>\n      <td>1590430284498</td>\n      <td>7.0</td>\n      <td>True</td>\n      <td>0f1710004746968c0c55</td>\n      <td>0f171efa0707632d2c55</td>\n      <td>0f171d799c6663cc2c55</td>\n      <td>docker_007</td>\n      <td>db_003</td>\n      <td>1.0</td>\n    </tr>\n    <tr>\n      <th>13</th>\n      <td>JDBC</td>\n      <td>1590430284502</td>\n      <td>3.0</td>\n      <td>True</td>\n      <td>0f1710004746968c0c55</td>\n      <td>0f17162aeb67636d2c55</td>\n      <td>0f171efa0707632d2c55</td>\n      <td>docker_007</td>\n      <td>db_003</td>\n      <td>3.0</td>\n    </tr>\n    <tr>\n      <th>14</th>\n      <td>LOCAL</td>\n      <td>1590430284506</td>\n      <td>4.0</td>\n      <td>True</td>\n      <td>0f1710004746968c0c55</td>\n      <td>0f1711ad1f8763ad2c55</td>\n      <td>0f171d799c6663cc2c55</td>\n      <td>docker_007</td>\n      <td>db_003</td>\n      <td>1.0</td>\n    </tr>\n    <tr>\n      <th>15</th>\n      <td>JDBC</td>\n      <td>1590430284507</td>\n      <td>3.0</td>\n      <td>True</td>\n      <td>0f1710004746968c0c55</td>\n      <td>0f171167961863bd2c55</td>\n      <td>0f1711ad1f8763ad2c55</td>\n      <td>docker_007</td>\n      <td>db_003</td>\n      <td>3.0</td>\n    </tr>\n    <tr>\n      <th>16</th>\n      <td>CSF</td>\n      <td>1590430284695</td>\n      <td>197.0</td>\n      <td>True</td>\n      <td>0f1710004746968c0c55</td>\n      <td>0f171500e83059693c55</td>\n      <td>0f17158d5739399d0c55</td>\n      <td>docker_002</td>\n      <td>docker_008</td>\n      <td>175.0</td>\n    </tr>\n    <tr>\n      <th>17</th>\n      <td>RemoteProcess</td>\n      <td>1590430284792</td>\n      <td>22.0</td>\n      <td>True</td>\n      <td>0f1710004746968c0c55</td>\n      <td>0f1714a2d726458f3c55</td>\n      <td>0f171500e83059693c55</td>\n      <td>docker_008</td>\n      <td>docker_008</td>\n      <td>11.0</td>\n    </tr>\n    <tr>\n      <th>18</th>\n      <td>LOCAL</td>\n      <td>1590430284796</td>\n      <td>8.0</td>\n      <td>True</td>\n      <td>0f1710004746968c0c55</td>\n      <td>0f171f61fb6645cf3c55</td>\n      <td>0f1714a2d726458f3c55</td>\n      <td>docker_008</td>\n      <td>db_003</td>\n      <td>3.0</td>\n    </tr>\n    <tr>\n      <th>19</th>\n      <td>JDBC</td>\n      <td>1590430284796</td>\n      <td>3.0</td>\n      <td>True</td>\n      <td>0f1710004746968c0c55</td>\n      <td>0f17125cc19645cf3c55</td>\n      <td>0f171f61fb6645cf3c55</td>\n      <td>docker_008</td>\n      <td>db_003</td>\n      <td>3.0</td>\n    </tr>\n    <tr>\n      <th>20</th>\n      <td>JDBC</td>\n      <td>1590430284801</td>\n      <td>2.0</td>\n      <td>True</td>\n      <td>0f1710004746968c0c55</td>\n      <td>0f171757c32745104c55</td>\n      <td>0f171f61fb6645cf3c55</td>\n      <td>docker_008</td>\n      <td>db_003</td>\n      <td>2.0</td>\n    </tr>\n    <tr>\n      <th>21</th>\n      <td>LOCAL</td>\n      <td>1590430284805</td>\n      <td>3.0</td>\n      <td>True</td>\n      <td>0f1710004746968c0c55</td>\n      <td>0f1712df414745504c55</td>\n      <td>0f1714a2d726458f3c55</td>\n      <td>docker_008</td>\n      <td>db_003</td>\n      <td>1.0</td>\n    </tr>\n    <tr>\n      <th>22</th>\n      <td>JDBC</td>\n      <td>1590430284806</td>\n      <td>2.0</td>\n      <td>True</td>\n      <td>0f1710004746968c0c55</td>\n      <td>0f1712720c7745604c55</td>\n      <td>0f1712df414745504c55</td>\n      <td>docker_008</td>\n      <td>db_003</td>\n      <td>2.0</td>\n    </tr>\n    <tr>\n      <th>23</th>\n      <td>CSF</td>\n      <td>1590430284899</td>\n      <td>95.0</td>\n      <td>True</td>\n      <td>0f1710004746968c0c55</td>\n      <td>0f171be0c55659164c55</td>\n      <td>0f17158d5739399d0c55</td>\n      <td>docker_002</td>\n      <td>docker_007</td>\n      <td>78.0</td>\n    </tr>\n    <tr>\n      <th>24</th>\n      <td>RemoteProcess</td>\n      <td>1590430284904</td>\n      <td>17.0</td>\n      <td>True</td>\n      <td>0f1710004746968c0c55</td>\n      <td>0f171b97b99273864c55</td>\n      <td>0f171be0c55659164c55</td>\n      <td>docker_007</td>\n      <td>docker_007</td>\n      <td>10.0</td>\n    </tr>\n    <tr>\n      <th>25</th>\n      <td>JDBC</td>\n      <td>1590430284908</td>\n      <td>2.0</td>\n      <td>True</td>\n      <td>0f1710004746968c0c55</td>\n      <td>0f17151c124373c64c55</td>\n      <td>0f171dee901373c64c55</td>\n      <td>docker_007</td>\n      <td>db_003</td>\n      <td>2.0</td>\n    </tr>\n    <tr>\n      <th>26</th>\n      <td>LOCAL</td>\n      <td>1590430284908</td>\n      <td>7.0</td>\n      <td>True</td>\n      <td>0f1710004746968c0c55</td>\n      <td>0f171dee901373c64c55</td>\n      <td>0f171b97b99273864c55</td>\n      <td>docker_007</td>\n      <td>db_003</td>\n      <td>3.0</td>\n    </tr>\n    <tr>\n      <th>27</th>\n      <td>JDBC</td>\n      <td>1590430284912</td>\n      <td>2.0</td>\n      <td>True</td>\n      <td>0f1710004746968c0c55</td>\n      <td>0f1719bfda7373074c55</td>\n      <td>0f171dee901373c64c55</td>\n      <td>docker_007</td>\n      <td>db_003</td>\n      <td>2.0</td>\n    </tr>\n    <tr>\n      <th>28</th>\n      <td>LOCAL</td>\n      <td>1590430285003</td>\n      <td>90.0</td>\n      <td>True</td>\n      <td>0f1710004746968c0c55</td>\n      <td>0f17152c172269bc4c55</td>\n      <td>0f17158d5739399d0c55</td>\n      <td>docker_002</td>\n      <td>db_009</td>\n      <td>2.0</td>\n    </tr>\n    <tr>\n      <th>29</th>\n      <td>JDBC</td>\n      <td>1590430285004</td>\n      <td>88.0</td>\n      <td>True</td>\n      <td>0f1710004746968c0c55</td>\n      <td>0f171040d57269cc4c55</td>\n      <td>0f17152c172269bc4c55</td>\n      <td>docker_002</td>\n      <td>db_009</td>\n      <td>88.0</td>\n    </tr>\n    <tr>\n      <th>30</th>\n      <td>JDBC</td>\n      <td>1590430285093</td>\n      <td>0.0</td>\n      <td>True</td>\n      <td>0f1710004746968c0c55</td>\n      <td>0f171a46753469525c55</td>\n      <td>0f17152c172269bc4c55</td>\n      <td>docker_002</td>\n      <td>db_009</td>\n      <td>0.0</td>\n    </tr>\n    <tr>\n      <th>31</th>\n      <td>LOCAL</td>\n      <td>1590430285093</td>\n      <td>3.0</td>\n      <td>True</td>\n      <td>0f1710004746968c0c55</td>\n      <td>0f171cecf76469525c55</td>\n      <td>0f17158d5739399d0c55</td>\n      <td>docker_002</td>\n      <td>db_009</td>\n      <td>3.0</td>\n    </tr>\n    <tr>\n      <th>32</th>\n      <td>JDBC</td>\n      <td>1590430285095</td>\n      <td>0.0</td>\n      <td>True</td>\n      <td>0f1710004746968c0c55</td>\n      <td>0f171cee3e0569725c55</td>\n      <td>0f171cecf76469525c55</td>\n      <td>docker_002</td>\n      <td>db_009</td>\n      <td>0.0</td>\n    </tr>\n    <tr>\n      <th>33</th>\n      <td>LOCAL</td>\n      <td>1590430285097</td>\n      <td>5.0</td>\n      <td>True</td>\n      <td>0f1710004746968c0c55</td>\n      <td>0f171005237569925c55</td>\n      <td>0f17158d5739399d0c55</td>\n      <td>docker_002</td>\n      <td>db_009</td>\n      <td>5.0</td>\n    </tr>\n    <tr>\n      <th>34</th>\n      <td>JDBC</td>\n      <td>1590430285100</td>\n      <td>0.0</td>\n      <td>True</td>\n      <td>0f1710004746968c0c55</td>\n      <td>0f1718bc499669c25c55</td>\n      <td>0f171005237569925c55</td>\n      <td>docker_002</td>\n      <td>db_009</td>\n      <td>0.0</td>\n    </tr>\n    <tr>\n      <th>35</th>\n      <td>JDBC</td>\n      <td>1590430285103</td>\n      <td>3.0</td>\n      <td>True</td>\n      <td>0f1710004746968c0c55</td>\n      <td>0f171cfc719769f25c55</td>\n      <td>0f171ced366769f25c55</td>\n      <td>docker_002</td>\n      <td>db_009</td>\n      <td>3.0</td>\n    </tr>\n    <tr>\n      <th>36</th>\n      <td>LOCAL</td>\n      <td>1590430285103</td>\n      <td>4.0</td>\n      <td>True</td>\n      <td>0f1710004746968c0c55</td>\n      <td>0f171ced366769f25c55</td>\n      <td>0f17158d5739399d0c55</td>\n      <td>docker_002</td>\n      <td>db_009</td>\n      <td>1.0</td>\n    </tr>\n    <tr>\n      <th>37</th>\n      <td>LOCAL</td>\n      <td>1590430285107</td>\n      <td>5.0</td>\n      <td>True</td>\n      <td>0f1710004746968c0c55</td>\n      <td>0f171f36973969335c55</td>\n      <td>0f17158d5739399d0c55</td>\n      <td>docker_002</td>\n      <td>db_009</td>\n      <td>4.0</td>\n    </tr>\n    <tr>\n      <th>38</th>\n      <td>JDBC</td>\n      <td>1590430285111</td>\n      <td>1.0</td>\n      <td>True</td>\n      <td>0f1710004746968c0c55</td>\n      <td>0f1714373c7079735c55</td>\n      <td>0f171f36973969335c55</td>\n      <td>docker_002</td>\n      <td>db_009</td>\n      <td>1.0</td>\n    </tr>\n    <tr>\n      <th>39</th>\n      <td>LOCAL</td>\n      <td>1590430285112</td>\n      <td>80.0</td>\n      <td>True</td>\n      <td>0f1710004746968c0c55</td>\n      <td>0f17144dc86179835c55</td>\n      <td>0f17158d5739399d0c55</td>\n      <td>docker_002</td>\n      <td>db_009</td>\n      <td>80.0</td>\n    </tr>\n    <tr>\n      <th>40</th>\n      <td>JDBC</td>\n      <td>1590430285114</td>\n      <td>0.0</td>\n      <td>True</td>\n      <td>0f1710004746968c0c55</td>\n      <td>0f1713f71e2279a35c55</td>\n      <td>0f17144dc86179835c55</td>\n      <td>docker_002</td>\n      <td>db_009</td>\n      <td>0.0</td>\n    </tr>\n    <tr>\n      <th>41</th>\n      <td>LOCAL</td>\n      <td>1590430285192</td>\n      <td>4.0</td>\n      <td>True</td>\n      <td>0f1710004746968c0c55</td>\n      <td>0f171deb856279885c55</td>\n      <td>0f17158d5739399d0c55</td>\n      <td>docker_002</td>\n      <td>db_009</td>\n      <td>3.0</td>\n    </tr>\n    <tr>\n      <th>42</th>\n      <td>JDBC</td>\n      <td>1590430285195</td>\n      <td>1.0</td>\n      <td>True</td>\n      <td>0f1710004746968c0c55</td>\n      <td>0f1715a3915379b85c55</td>\n      <td>0f171deb856279885c55</td>\n      <td>docker_002</td>\n      <td>db_009</td>\n      <td>1.0</td>\n    </tr>\n    <tr>\n      <th>43</th>\n      <td>LOCAL</td>\n      <td>1590430285196</td>\n      <td>6.0</td>\n      <td>True</td>\n      <td>0f1710004746968c0c55</td>\n      <td>0f171dfcbd9379c85c55</td>\n      <td>0f17158d5739399d0c55</td>\n      <td>docker_002</td>\n      <td>db_009</td>\n      <td>5.0</td>\n    </tr>\n    <tr>\n      <th>44</th>\n      <td>JDBC</td>\n      <td>1590430285200</td>\n      <td>1.0</td>\n      <td>True</td>\n      <td>0f1710004746968c0c55</td>\n      <td>0f1714ae745579095c55</td>\n      <td>0f171dfcbd9379c85c55</td>\n      <td>docker_002</td>\n      <td>db_009</td>\n      <td>1.0</td>\n    </tr>\n    <tr>\n      <th>45</th>\n      <td>JDBC</td>\n      <td>1590430285203</td>\n      <td>1.0</td>\n      <td>True</td>\n      <td>0f1710004746968c0c55</td>\n      <td>0f171a02412779395c55</td>\n      <td>0f171cbbba9679395c55</td>\n      <td>docker_002</td>\n      <td>db_009</td>\n      <td>1.0</td>\n    </tr>\n    <tr>\n      <th>46</th>\n      <td>LOCAL</td>\n      <td>1590430285203</td>\n      <td>2.0</td>\n      <td>True</td>\n      <td>0f1710004746968c0c55</td>\n      <td>0f171cbbba9679395c55</td>\n      <td>0f17158d5739399d0c55</td>\n      <td>docker_002</td>\n      <td>db_009</td>\n      <td>1.0</td>\n    </tr>\n    <tr>\n      <th>47</th>\n      <td>LOCAL</td>\n      <td>1590430285205</td>\n      <td>3.0</td>\n      <td>True</td>\n      <td>0f1710004746968c0c55</td>\n      <td>0f171659887779595c55</td>\n      <td>0f17158d5739399d0c55</td>\n      <td>docker_002</td>\n      <td>db_009</td>\n      <td>3.0</td>\n    </tr>\n    <tr>\n      <th>48</th>\n      <td>JDBC</td>\n      <td>1590430285206</td>\n      <td>0.0</td>\n      <td>True</td>\n      <td>0f1710004746968c0c55</td>\n      <td>0f171a20da0879695c55</td>\n      <td>0f171659887779595c55</td>\n      <td>docker_002</td>\n      <td>db_009</td>\n      <td>0.0</td>\n    </tr>\n    <tr>\n      <th>49</th>\n      <td>LOCAL</td>\n      <td>1590430285208</td>\n      <td>1.0</td>\n      <td>True</td>\n      <td>0f1710004746968c0c55</td>\n      <td>0f1710f2225879895c55</td>\n      <td>0f17158d5739399d0c55</td>\n      <td>docker_002</td>\n      <td>db_009</td>\n      <td>1.0</td>\n    </tr>\n    <tr>\n      <th>50</th>\n      <td>JDBC</td>\n      <td>1590430285209</td>\n      <td>0.0</td>\n      <td>True</td>\n      <td>0f1710004746968c0c55</td>\n      <td>0f171548938879995c55</td>\n      <td>0f1710f2225879895c55</td>\n      <td>docker_002</td>\n      <td>db_009</td>\n      <td>0.0</td>\n    </tr>\n    <tr>\n      <th>51</th>\n      <td>JDBC</td>\n      <td>1590430285210</td>\n      <td>1.0</td>\n      <td>True</td>\n      <td>0f1710004746968c0c55</td>\n      <td>0f171187763979a95c55</td>\n      <td>0f171c477a0979a95c55</td>\n      <td>docker_002</td>\n      <td>db_009</td>\n      <td>1.0</td>\n    </tr>\n    <tr>\n      <th>52</th>\n      <td>LOCAL</td>\n      <td>1590430285210</td>\n      <td>1.0</td>\n      <td>True</td>\n      <td>0f1710004746968c0c55</td>\n      <td>0f171c477a0979a95c55</td>\n      <td>0f17158d5739399d0c55</td>\n      <td>docker_002</td>\n      <td>db_009</td>\n      <td>0.0</td>\n    </tr>\n    <tr>\n      <th>53</th>\n      <td>LOCAL</td>\n      <td>1590430285211</td>\n      <td>2.0</td>\n      <td>True</td>\n      <td>0f1710004746968c0c55</td>\n      <td>0f171384ff5979b95c55</td>\n      <td>0f17158d5739399d0c55</td>\n      <td>docker_002</td>\n      <td>db_009</td>\n      <td>2.0</td>\n    </tr>\n    <tr>\n      <th>54</th>\n      <td>JDBC</td>\n      <td>1590430285212</td>\n      <td>0.0</td>\n      <td>True</td>\n      <td>0f1710004746968c0c55</td>\n      <td>0f1716fda00089c95c55</td>\n      <td>0f171384ff5979b95c55</td>\n      <td>docker_002</td>\n      <td>db_009</td>\n      <td>0.0</td>\n    </tr>\n    <tr>\n      <th>55</th>\n      <td>JDBC</td>\n      <td>1590430285213</td>\n      <td>2.0</td>\n      <td>True</td>\n      <td>0f1710004746968c0c55</td>\n      <td>0f1710f7265089d95c55</td>\n      <td>0f171d8e972089d95c55</td>\n      <td>docker_002</td>\n      <td>db_007</td>\n      <td>2.0</td>\n    </tr>\n    <tr>\n      <th>56</th>\n      <td>LOCAL</td>\n      <td>1590430285213</td>\n      <td>85.0</td>\n      <td>True</td>\n      <td>0f1710004746968c0c55</td>\n      <td>0f171d8e972089d95c55</td>\n      <td>0f17158d5739399d0c55</td>\n      <td>docker_002</td>\n      <td>db_007</td>\n      <td>80.0</td>\n    </tr>\n    <tr>\n      <th>57</th>\n      <td>JDBC</td>\n      <td>1590430285294</td>\n      <td>3.0</td>\n      <td>True</td>\n      <td>0f1710004746968c0c55</td>\n      <td>0f171d20e08089ee5c55</td>\n      <td>0f171d8e972089d95c55</td>\n      <td>docker_002</td>\n      <td>db_007</td>\n      <td>3.0</td>\n    </tr>\n    <tr>\n      <th>58</th>\n      <td>OSB</td>\n      <td>1590430157999</td>\n      <td>169.0</td>\n      <td>True</td>\n      <td>0f171000530489fa4d35</td>\n      <td>0f1718773c1489fa4d35</td>\n      <td>None</td>\n      <td>os_021</td>\n      <td>os_021</td>\n      <td>14.0</td>\n    </tr>\n    <tr>\n      <th>59</th>\n      <td>CSF</td>\n      <td>1590430158005</td>\n      <td>155.0</td>\n      <td>True</td>\n      <td>0f171000530489fa4d35</td>\n      <td>0f17172a0e34895b4d35</td>\n      <td>0f1718773c1489fa4d35</td>\n      <td>os_021</td>\n      <td>docker_004</td>\n      <td>3.0</td>\n    </tr>\n  </tbody>\n</table>\n</div>"
     },
     "metadata": {},
     "execution_count": 28
    }
   ],
   "source": [
    "df.head(60)"
   ]
  },
  {
   "cell_type": "code",
   "execution_count": 13,
   "metadata": {},
   "outputs": [],
   "source": [
    "df.to_csv('trace526209_.csv')"
   ]
  },
  {
   "cell_type": "code",
   "execution_count": null,
   "metadata": {},
   "outputs": [],
   "source": []
  },
  {
   "cell_type": "code",
   "execution_count": null,
   "metadata": {},
   "outputs": [],
   "source": [
    "from tqdm import tqdm\n",
    "for index, row in tqdm(df.iterrows()):\n",
    "    if row['id'] in csf_cmdb:\n",
    "        df.at[index, 'serviceName'] = csf_cmdb[row['id']]"
   ]
  },
  {
   "cell_type": "code",
   "execution_count": null,
   "metadata": {},
   "outputs": [],
   "source": [
    "elapse_time = {}\n",
    "children = {}\n",
    "for index, row in tqdm(df.iterrows()):\n",
    "    if row['pid'] != 'None':\n",
    "        if row['pid'] in children.keys():\n",
    "            children[row['pid']].append(row['id'])\n",
    "        else:\n",
    "            children[row['pid']] = [row['id']]\n",
    "    elapse_time[row['id']] = float(row['elapsedTime'])"
   ]
  },
  {
   "cell_type": "code",
   "execution_count": null,
   "metadata": {},
   "outputs": [],
   "source": [
    "df['actual_time'] = 0.0\n",
    "for index, row in tqdm(df.iterrows()):\n",
    "    total_child = 0.0\n",
    "    if row['id'] not in children.keys():\n",
    "        df.at[index, 'actual_time'] = row['elapsedTime']\n",
    "        continue\n",
    "    for child in children[row['id']]:\n",
    "        total_child += elapse_time[child]\n",
    "    df.at[index, 'actual_time'] = row['elapsedTime'] - total_child"
   ]
  },
  {
   "cell_type": "code",
   "execution_count": null,
   "metadata": {},
   "outputs": [],
   "source": [
    "df = df.sort_values(['traceId','startTime','callType'], ignore_index = True)"
   ]
  },
  {
   "cell_type": "code",
   "execution_count": null,
   "metadata": {},
   "outputs": [],
   "source": [
    "df.serviceName.unique()"
   ]
  },
  {
   "cell_type": "code",
   "execution_count": null,
   "metadata": {},
   "outputs": [],
   "source": [
    "df.head(60)"
   ]
  },
  {
   "cell_type": "code",
   "execution_count": 20,
   "metadata": {},
   "outputs": [],
   "source": [
    "grouped_df = df.groupby(['cmdb_id', 'serviceName'])[['startTime','actual_time']]"
   ]
  },
  {
   "cell_type": "code",
   "execution_count": 21,
   "metadata": {},
   "outputs": [
    {
     "output_type": "execute_result",
     "data": {
      "text/plain": [
       "dict_keys([('docker_001', 'db_007'), ('docker_001', 'db_009'), ('docker_001', 'docker_001'), ('docker_001', 'docker_007'), ('docker_001', 'docker_008'), ('docker_001', 'fly_remote_001'), ('docker_002', 'db_007'), ('docker_002', 'db_009'), ('docker_002', 'docker_002'), ('docker_002', 'docker_007'), ('docker_002', 'docker_008'), ('docker_002', 'fly_remote_001'), ('docker_003', 'db_007'), ('docker_003', 'db_009'), ('docker_003', 'docker_003'), ('docker_003', 'docker_005'), ('docker_003', 'fly_remote_001'), ('docker_004', 'db_007'), ('docker_004', 'db_009'), ('docker_004', 'docker_004'), ('docker_004', 'docker_005'), ('docker_004', 'fly_remote_001'), ('docker_005', 'db_003'), ('docker_005', 'docker_005'), ('docker_007', 'db_003'), ('docker_007', 'docker_007'), ('docker_008', 'db_003'), ('docker_008', 'docker_008'), ('os_021', 'docker_003'), ('os_021', 'docker_004'), ('os_021', 'os_021'), ('os_022', 'docker_001'), ('os_022', 'docker_002'), ('os_022', 'os_022')])"
      ]
     },
     "metadata": {},
     "execution_count": 21
    }
   ],
   "source": [
    "grouped_df.groups.keys()"
   ]
  },
  {
   "cell_type": "code",
   "execution_count": 13,
   "metadata": {},
   "outputs": [],
   "source": [
    "def esd_test_statistics(x, hybrid=True):\n",
    "  \"\"\"\n",
    "  Compute the location and dispersion sample statistics used to carry out the ESD test.\n",
    "  \"\"\"\n",
    "  if hybrid:\n",
    "    location = pd.Series(x).median(skipna=True) # Median\n",
    "    dispersion = np.median(np.abs(x - np.median(x))) # Median Absolute Deviation\n",
    "  else:  \n",
    "    location = pd.Series(x).mean(skipna=True) # Mean\n",
    "    dispersion = pd.Series(x).std(skipna=True) # Standard Deviation\n",
    "    \n",
    "  return location, dispersion    "
   ]
  },
  {
   "cell_type": "code",
   "execution_count": 14,
   "metadata": {},
   "outputs": [],
   "source": [
    "# def seasonal_mean(x, freq):\n",
    "#   \"\"\"\n",
    "#   Returns the mean of the timeseries for each period in x.\n",
    "  \n",
    "#   x    : List, array, or series containing the time series\n",
    "#   freq : Int that gives the number of periods per cycle (7 for week, 12 for monthly, etc)\n",
    "#   \"\"\"\n",
    "#   return np.array([pd.Series(x[i::freq]).mean(skipna=True) for i in range(freq)])\n",
    "\n",
    "def ts_S_Md_decomposition(x):\n",
    "  \"\"\"\n",
    "  Decomposes the timeseries using a modified STL method:Rx = X - Sx - X^~.\n",
    "    Rx : Residuals\n",
    "    X  : Original time series\n",
    "    Sx : Seasonality component (average value per period)\n",
    "    X^~: Median of original timeseries\n",
    "    \n",
    "  x    : List, array, or series containing the time series \n",
    "  freq : Int that gives the number of periods per cycle (7 for week, 12 for monthly, etc)  \n",
    "  \"\"\"\n",
    "  nobs = len(x)\n",
    "  \n",
    "  # Seasonality\n",
    "#   period_averages = seasonal_mean(x, freq)\n",
    "#   seasonal = np.tile(period_averages, nobs // freq + 1)[:nobs]\n",
    "  \n",
    "  # Median\n",
    "  med = np.tile(pd.Series(x).median(skipna=True), nobs)\n",
    "  \n",
    "  # Residuals\n",
    "#   res = np.array(x) - seasonal - med\n",
    "  res = np.array(x) - med\n",
    "  return {\"observed\": np.array(x), \"median\":med, \"residual\":res}"
   ]
  },
  {
   "cell_type": "code",
   "execution_count": 15,
   "metadata": {},
   "outputs": [],
   "source": [
    "def esd_test(x, alpha=0.95, ub=0.499, hybrid=True):\n",
    "  \"\"\"\n",
    "  Carries out the Extreme Studentized Deviate(ESD) test which can be used to detect one or more outliers present in the timeseries\n",
    "  \n",
    "  x      : List, array, or series containing the time series\n",
    "  freq   : Int that gives the number of periods per cycle (7 for week, 12 for monthly, etc)\n",
    "  alpha  : Confidence level in detecting outliers\n",
    "  ub     : Upper bound on the fraction of datapoints which can be labeled as outliers (<=0.499)\n",
    "  hybrid : Whether to use the robust statistics (median, median absolute error) or the non-robust versions (mean, standard deviation) to test for anomalies\n",
    "  \"\"\"\n",
    "  nobs = len(x)\n",
    "  if ub > 0.4999:\n",
    "    ub = 0.499\n",
    "  k = max(int(np.floor(ub * nobs)), 1) # Maximum number of anomalies. At least 1 anomaly must be tested.\n",
    "#   res_tmp = ts_S_Md_decomposition(x)[\"residual\"] # Residuals from time series decomposition\n",
    "    \n",
    "  # Carry out the esd test k times  \n",
    "  res = np.ma.array(x, mask=False) # The \"ma\" structure allows masking of values to exclude the elements from any calculation\n",
    "  anomalies = [] # returns the indices of the found anomalies\n",
    "  for i in range(1, k+1):\n",
    "    location, dispersion = esd_test_statistics(res, hybrid) # Sample statistics\n",
    "    tmp = np.abs(res - location) / dispersion\n",
    "    idx = np.argmax(tmp) # Index of the test statistic\n",
    "    test_statistic = tmp[idx] \n",
    "    n = nobs - res.mask.sum() # sums  nonmasked values\n",
    "    critical_value = (n - i) * t.ppf(alpha, n - i - 1) / np.sqrt((n - i - 1 + np.power(t.ppf(alpha, n - i - 1), 2)) * (n - i - 1)) \n",
    "    if test_statistic > critical_value:\n",
    "      anomalies.append(test_statistic)\n",
    "    res.mask[idx] = True  \n",
    "  return np.mean(anomalies)"
   ]
  },
  {
   "cell_type": "code",
   "execution_count": 16,
   "metadata": {},
   "outputs": [
    {
     "output_type": "error",
     "ename": "NameError",
     "evalue": "name 'grouped_df' is not defined",
     "traceback": [
      "\u001b[1;31m---------------------------------------------------------------------------\u001b[0m",
      "\u001b[1;31mNameError\u001b[0m                                 Traceback (most recent call last)",
      "\u001b[1;32m<ipython-input-16-9ce657dd3ee4>\u001b[0m in \u001b[0;36m<module>\u001b[1;34m\u001b[0m\n\u001b[1;32m----> 1\u001b[1;33m \u001b[0mgrouped_df\u001b[0m\u001b[1;33m.\u001b[0m\u001b[0mgroups\u001b[0m\u001b[1;33m.\u001b[0m\u001b[0mkeys\u001b[0m\u001b[1;33m(\u001b[0m\u001b[1;33m)\u001b[0m\u001b[1;33m\u001b[0m\u001b[1;33m\u001b[0m\u001b[0m\n\u001b[0m",
      "\u001b[1;31mNameError\u001b[0m: name 'grouped_df' is not defined"
     ]
    }
   ],
   "source": [
    "grouped_df.groups.keys()"
   ]
  },
  {
   "cell_type": "code",
   "execution_count": 22,
   "metadata": {},
   "outputs": [],
   "source": [
    "class RCA():\n",
    "    def local_initiate(self):\n",
    "        self.dockers = ['docker_001', 'docker_002', 'docker_003', 'docker_004',\n",
    "                'docker_005', 'docker_006', 'docker_007', 'docker_008']\n",
    "        self.docker_hosts = ['os_017', 'os_018', 'os_019', 'os_020']\n",
    "\n",
    "        self.docker_kpi_names = ['container_cpu_used', None]\n",
    "        self.os_kpi_names = ['Sent_queue', 'Received_queue']\n",
    "        self.db_kpi_names = ['Proc_User_Used_Pct','Proc_Used_Pct','Sess_Connect','On_Off_State', 'tnsping_result_time']\n",
    "\n",
    "        self.docker_lookup_table = {}\n",
    "        for i in range(len(self.dockers)):\n",
    "            self.docker_lookup_table[self.dockers[i]] = self.docker_hosts[i % 4]\n",
    "            \n",
    "    def find_anomalous_rows(self, min_threshold = 5):\n",
    "        table = self.anomaly_chart.copy()\n",
    "        threshold = max( 0.5 * table.stack().max(), min_threshold)\n",
    "        dodgy_rows = []\n",
    "        just_rows = []\n",
    "        for column in table:\n",
    "            v = 0\n",
    "            r = ''\n",
    "            for index, row in table.iterrows():\n",
    "                if (row[column] > threshold):\n",
    "                    if index == column:\n",
    "                        dodgy_rows.append([index, row[column]])\n",
    "                        just_rows.append(index)\n",
    "                        break\n",
    "                    elif (row[column] > v):\n",
    "                        v = row[column]\n",
    "                        r = index\n",
    "            if r != '':\n",
    "                dodgy_rows.append([r, column, v])\n",
    "                just_rows.append(r)\n",
    "        \n",
    "        output = self.localize(dodgy_rows, list(set(just_rows)))\n",
    "        return output\n",
    "\n",
    "\n",
    "    def find_anomalous_kpi(self, cmdb_id):\n",
    "        kpi_names = []\n",
    "        if 'os' in cmdb_id:\n",
    "            kpi_names = self.os_kpi_names\n",
    "        elif 'docker' in cmdb_id:\n",
    "            kpi_names = self.docker_kpi_names\n",
    "        else:\n",
    "            kpi_names = self.db_kpi_names\n",
    "\n",
    "        return kpi_names\n",
    "\n",
    "\n",
    "    def localize(self, dodgy_rows, just_rows):\n",
    "        n = len(just_rows)\n",
    "        if n < 1:\n",
    "            return None\n",
    "        if n == 1:\n",
    "            KPIs = self.find_anomalous_kpi(just_rows[0])\n",
    "            to_be_sent = []\n",
    "            for KPI in KPIs:\n",
    "                to_be_sent.append([just_rows[0], KPI])\n",
    "            return to_be_sent\n",
    "        if n == 2:\n",
    "            r0 = just_rows[0]\n",
    "            r1 = just_rows[1]\n",
    "            if ('os' in r0) and ('os' in r1):\n",
    "                KPI = self.find_anomalous_kpi('os_001')\n",
    "                return [['os_001', KPI[0]],['os_001', KPI[1]]]\n",
    "            elif ('docker' in r0) and ('docker' in r1):\n",
    "                if self.docker_lookup_table[r0] == self.docker_lookup_table[r1]:\n",
    "                    KPI = self.find_anomalous_kpi(self.docker_lookup_table[r0])\n",
    "                    return [[self.docker_lookup_table[r0], KPI]]\n",
    "            else:\n",
    "                KPI0s = self.find_anomalous_kpi(r0)\n",
    "                KPI1s = self.find_anomalous_kpi(r1)\n",
    "                to_be_sent = []\n",
    "                for kpi in KPI0s:\n",
    "                    to_be_sent.append([r0, kpi])\n",
    "                for kpi in KPI1s:\n",
    "                    to_be_sent.append([r1, kpi])\n",
    "                return to_be_sent\n",
    "        if n > 2:\n",
    "            dodgy_rows.sort(key = lambda x: x[2], reverse = True)\n",
    "            just_rows = [x[0] for x in dodgy_rows]\n",
    "            just_rows = list(set(just_rows))\n",
    "            return self.localize(dodgy_rows[:2], just_rows[:2])"
   ]
  },
  {
   "cell_type": "code",
   "execution_count": 19,
   "metadata": {},
   "outputs": [
    {
     "output_type": "error",
     "ename": "NameError",
     "evalue": "name 'anomaly_chart' is not defined",
     "traceback": [
      "\u001b[1;31m---------------------------------------------------------------------------\u001b[0m",
      "\u001b[1;31mNameError\u001b[0m                                 Traceback (most recent call last)",
      "\u001b[1;32m<ipython-input-19-6299aa9b0634>\u001b[0m in \u001b[0;36m<module>\u001b[1;34m\u001b[0m\n\u001b[0;32m      1\u001b[0m \u001b[0mrca\u001b[0m \u001b[1;33m=\u001b[0m \u001b[0mRCA\u001b[0m\u001b[1;33m(\u001b[0m\u001b[1;33m)\u001b[0m\u001b[1;33m\u001b[0m\u001b[1;33m\u001b[0m\u001b[0m\n\u001b[0;32m      2\u001b[0m \u001b[0mrca\u001b[0m\u001b[1;33m.\u001b[0m\u001b[0mlocal_initiate\u001b[0m\u001b[1;33m(\u001b[0m\u001b[1;33m)\u001b[0m\u001b[1;33m\u001b[0m\u001b[1;33m\u001b[0m\u001b[0m\n\u001b[1;32m----> 3\u001b[1;33m \u001b[0mrca\u001b[0m\u001b[1;33m.\u001b[0m\u001b[0manomaly_chart\u001b[0m \u001b[1;33m=\u001b[0m \u001b[0manomaly_chart\u001b[0m\u001b[1;33m\u001b[0m\u001b[1;33m\u001b[0m\u001b[0m\n\u001b[0m\u001b[0;32m      4\u001b[0m \u001b[0moutput\u001b[0m \u001b[1;33m=\u001b[0m \u001b[0mrca\u001b[0m\u001b[1;33m.\u001b[0m\u001b[0mfind_anomalous_rows\u001b[0m\u001b[1;33m(\u001b[0m\u001b[1;33m)\u001b[0m\u001b[1;33m\u001b[0m\u001b[1;33m\u001b[0m\u001b[0m\n",
      "\u001b[1;31mNameError\u001b[0m: name 'anomaly_chart' is not defined"
     ]
    }
   ],
   "source": [
    "rca = RCA()\n",
    "rca.local_initiate()\n",
    "rca.anomaly_chart = anomaly_chart\n",
    "output = rca.find_anomalous_rows()"
   ]
  },
  {
   "cell_type": "code",
   "execution_count": null,
   "metadata": {},
   "outputs": [],
   "source": [
    "output"
   ]
  },
  {
   "cell_type": "code",
   "execution_count": 23,
   "metadata": {},
   "outputs": [],
   "source": [
    "anomaly_chart = pd.DataFrame()\n",
    "for (a, b), value in grouped_df:\n",
    "    value['time_group'] = value.startTime//60000\n",
    "    value =value.groupby(['time_group'])['actual_time'].mean().reset_index()\n",
    "    result = esd_test(value['actual_time'].to_numpy(), alpha=0.95, ub=0.02, hybrid=True)\n",
    "    anomaly_chart.loc[b,a] = result\n",
    "    # print(a,b,' = ',len(result)/len(value)*100)"
   ]
  },
  {
   "cell_type": "code",
   "execution_count": 24,
   "metadata": {},
   "outputs": [
    {
     "output_type": "execute_result",
     "data": {
      "text/plain": [
       "                docker_001  docker_002  docker_003  docker_004  docker_005  \\\n",
       "db_003                 NaN         NaN         NaN         NaN    2.218662   \n",
       "db_007            2.451175    3.113193    3.353311    2.929689         NaN   \n",
       "db_009            3.935336    5.031015    3.147331    4.003738         NaN   \n",
       "docker_001        2.592030         NaN         NaN         NaN         NaN   \n",
       "docker_002             NaN    3.642814         NaN         NaN         NaN   \n",
       "docker_003             NaN         NaN    2.917402         NaN         NaN   \n",
       "docker_004             NaN         NaN         NaN    2.229114         NaN   \n",
       "docker_005             NaN         NaN    2.971381    4.093297    2.750001   \n",
       "docker_007        3.787066    4.032622         NaN         NaN         NaN   \n",
       "docker_008        3.717222    3.508460         NaN         NaN         NaN   \n",
       "fly_remote_001    2.252759    1.919110    3.109109    2.909607         NaN   \n",
       "os_021                 NaN         NaN         NaN         NaN         NaN   \n",
       "os_022                 NaN         NaN         NaN         NaN         NaN   \n",
       "\n",
       "                docker_007  docker_008    os_021     os_022  \n",
       "db_003            8.426948    3.427777       NaN        NaN  \n",
       "db_007                 NaN         NaN       NaN        NaN  \n",
       "db_009                 NaN         NaN       NaN        NaN  \n",
       "docker_001             NaN         NaN       NaN   4.687135  \n",
       "docker_002             NaN         NaN       NaN   7.402834  \n",
       "docker_003             NaN         NaN  4.504866        NaN  \n",
       "docker_004             NaN         NaN  4.241102        NaN  \n",
       "docker_005             NaN         NaN       NaN        NaN  \n",
       "docker_007        2.809472         NaN       NaN        NaN  \n",
       "docker_008             NaN    3.148636       NaN        NaN  \n",
       "fly_remote_001         NaN         NaN       NaN        NaN  \n",
       "os_021                 NaN         NaN  9.457249        NaN  \n",
       "os_022                 NaN         NaN       NaN  10.041416  "
      ],
      "text/html": "<div>\n<style scoped>\n    .dataframe tbody tr th:only-of-type {\n        vertical-align: middle;\n    }\n\n    .dataframe tbody tr th {\n        vertical-align: top;\n    }\n\n    .dataframe thead th {\n        text-align: right;\n    }\n</style>\n<table border=\"1\" class=\"dataframe\">\n  <thead>\n    <tr style=\"text-align: right;\">\n      <th></th>\n      <th>docker_001</th>\n      <th>docker_002</th>\n      <th>docker_003</th>\n      <th>docker_004</th>\n      <th>docker_005</th>\n      <th>docker_007</th>\n      <th>docker_008</th>\n      <th>os_021</th>\n      <th>os_022</th>\n    </tr>\n  </thead>\n  <tbody>\n    <tr>\n      <th>db_003</th>\n      <td>NaN</td>\n      <td>NaN</td>\n      <td>NaN</td>\n      <td>NaN</td>\n      <td>2.218662</td>\n      <td>8.426948</td>\n      <td>3.427777</td>\n      <td>NaN</td>\n      <td>NaN</td>\n    </tr>\n    <tr>\n      <th>db_007</th>\n      <td>2.451175</td>\n      <td>3.113193</td>\n      <td>3.353311</td>\n      <td>2.929689</td>\n      <td>NaN</td>\n      <td>NaN</td>\n      <td>NaN</td>\n      <td>NaN</td>\n      <td>NaN</td>\n    </tr>\n    <tr>\n      <th>db_009</th>\n      <td>3.935336</td>\n      <td>5.031015</td>\n      <td>3.147331</td>\n      <td>4.003738</td>\n      <td>NaN</td>\n      <td>NaN</td>\n      <td>NaN</td>\n      <td>NaN</td>\n      <td>NaN</td>\n    </tr>\n    <tr>\n      <th>docker_001</th>\n      <td>2.592030</td>\n      <td>NaN</td>\n      <td>NaN</td>\n      <td>NaN</td>\n      <td>NaN</td>\n      <td>NaN</td>\n      <td>NaN</td>\n      <td>NaN</td>\n      <td>4.687135</td>\n    </tr>\n    <tr>\n      <th>docker_002</th>\n      <td>NaN</td>\n      <td>3.642814</td>\n      <td>NaN</td>\n      <td>NaN</td>\n      <td>NaN</td>\n      <td>NaN</td>\n      <td>NaN</td>\n      <td>NaN</td>\n      <td>7.402834</td>\n    </tr>\n    <tr>\n      <th>docker_003</th>\n      <td>NaN</td>\n      <td>NaN</td>\n      <td>2.917402</td>\n      <td>NaN</td>\n      <td>NaN</td>\n      <td>NaN</td>\n      <td>NaN</td>\n      <td>4.504866</td>\n      <td>NaN</td>\n    </tr>\n    <tr>\n      <th>docker_004</th>\n      <td>NaN</td>\n      <td>NaN</td>\n      <td>NaN</td>\n      <td>2.229114</td>\n      <td>NaN</td>\n      <td>NaN</td>\n      <td>NaN</td>\n      <td>4.241102</td>\n      <td>NaN</td>\n    </tr>\n    <tr>\n      <th>docker_005</th>\n      <td>NaN</td>\n      <td>NaN</td>\n      <td>2.971381</td>\n      <td>4.093297</td>\n      <td>2.750001</td>\n      <td>NaN</td>\n      <td>NaN</td>\n      <td>NaN</td>\n      <td>NaN</td>\n    </tr>\n    <tr>\n      <th>docker_007</th>\n      <td>3.787066</td>\n      <td>4.032622</td>\n      <td>NaN</td>\n      <td>NaN</td>\n      <td>NaN</td>\n      <td>2.809472</td>\n      <td>NaN</td>\n      <td>NaN</td>\n      <td>NaN</td>\n    </tr>\n    <tr>\n      <th>docker_008</th>\n      <td>3.717222</td>\n      <td>3.508460</td>\n      <td>NaN</td>\n      <td>NaN</td>\n      <td>NaN</td>\n      <td>NaN</td>\n      <td>3.148636</td>\n      <td>NaN</td>\n      <td>NaN</td>\n    </tr>\n    <tr>\n      <th>fly_remote_001</th>\n      <td>2.252759</td>\n      <td>1.919110</td>\n      <td>3.109109</td>\n      <td>2.909607</td>\n      <td>NaN</td>\n      <td>NaN</td>\n      <td>NaN</td>\n      <td>NaN</td>\n      <td>NaN</td>\n    </tr>\n    <tr>\n      <th>os_021</th>\n      <td>NaN</td>\n      <td>NaN</td>\n      <td>NaN</td>\n      <td>NaN</td>\n      <td>NaN</td>\n      <td>NaN</td>\n      <td>NaN</td>\n      <td>9.457249</td>\n      <td>NaN</td>\n    </tr>\n    <tr>\n      <th>os_022</th>\n      <td>NaN</td>\n      <td>NaN</td>\n      <td>NaN</td>\n      <td>NaN</td>\n      <td>NaN</td>\n      <td>NaN</td>\n      <td>NaN</td>\n      <td>NaN</td>\n      <td>10.041416</td>\n    </tr>\n  </tbody>\n</table>\n</div>"
     },
     "metadata": {},
     "execution_count": 24
    }
   ],
   "source": [
    "anomaly_chart.sort_index(inplace=True)\n",
    "anomaly_chart"
   ]
  },
  {
   "cell_type": "code",
   "execution_count": null,
   "metadata": {},
   "outputs": [],
   "source": [
    "test = grouped_df.get_group(('docker_008', 'docker_008'))"
   ]
  },
  {
   "cell_type": "code",
   "execution_count": null,
   "metadata": {},
   "outputs": [],
   "source": [
    "x = test[['startTime','actual_time']]\n",
    "# x_val = x['actual_time'].to_numpy()\n",
    "# x"
   ]
  },
  {
   "cell_type": "code",
   "execution_count": null,
   "metadata": {},
   "outputs": [],
   "source": [
    "x['time_group'] = x.startTime//10000\n",
    "x = x.groupby(['time_group'])['actual_time'].mean().reset_index()"
   ]
  },
  {
   "cell_type": "code",
   "execution_count": null,
   "metadata": {},
   "outputs": [],
   "source": [
    "x_val = x['actual_time'].to_numpy()"
   ]
  },
  {
   "cell_type": "code",
   "execution_count": null,
   "metadata": {},
   "outputs": [],
   "source": [
    "result = esd_test(x_val, freq=3, alpha=0.99, ub=0.4, hybrid=True)"
   ]
  },
  {
   "cell_type": "code",
   "execution_count": null,
   "metadata": {},
   "outputs": [],
   "source": [
    "fig, ax = plt.subplots()\n",
    "ax.plot(pd.Series(x_val).index, x_val, color=\"blue\", label = \"Original\")\n",
    "ax.scatter(result, x_val[result], color='red', label='Anomaly')\n",
    "plt.legend(loc=\"best\")\n",
    "plt.show()"
   ]
  },
  {
   "cell_type": "code",
   "execution_count": null,
   "metadata": {},
   "outputs": [],
   "source": [
    "x = test[['startTime','actual_time']]\n",
    "# x_val = x['actual_time'].to_numpy()\n",
    "# x\n",
    "x['time_group'] = x.startTime//1000\n",
    "x = x.groupby(['time_group'])['actual_time'].mean().reset_index()"
   ]
  },
  {
   "cell_type": "code",
   "execution_count": null,
   "metadata": {},
   "outputs": [],
   "source": [
    "x_test = x.copy()\n",
    "x_test.index = pd.to_datetime(x_test['time_group'], unit=\"s\")"
   ]
  },
  {
   "cell_type": "code",
   "execution_count": null,
   "metadata": {},
   "outputs": [],
   "source": [
    "x_test"
   ]
  },
  {
   "cell_type": "code",
   "execution_count": null,
   "metadata": {},
   "outputs": [],
   "source": []
  }
 ]
}