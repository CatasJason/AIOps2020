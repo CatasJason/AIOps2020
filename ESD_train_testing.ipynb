{
 "metadata": {
  "language_info": {
   "codemirror_mode": {
    "name": "ipython",
    "version": 3
   },
   "file_extension": ".py",
   "mimetype": "text/x-python",
   "name": "python",
   "nbconvert_exporter": "python",
   "pygments_lexer": "ipython3",
   "version": "3.6.12-final"
  },
  "orig_nbformat": 2,
  "kernelspec": {
   "name": "python3",
   "display_name": "Python 3",
   "language": "python"
  }
 },
 "nbformat": 4,
 "nbformat_minor": 2,
 "cells": [
  {
   "cell_type": "code",
   "execution_count": 3,
   "metadata": {},
   "outputs": [],
   "source": [
    "import numpy as np\n",
    "import pandas as pd\n",
    "from scipy.stats import t\n",
    "import glob\n",
    "import matplotlib.pyplot as plt"
   ]
  },
  {
   "cell_type": "code",
   "execution_count": 14,
   "metadata": {},
   "outputs": [
    {
     "output_type": "execute_result",
     "data": {
      "text/plain": [
       "['C:\\\\Users\\\\Henry\\\\Documents\\\\data\\\\2020_05_23\\\\Trace\\\\trace_csf.csv',\n",
       " 'C:\\\\Users\\\\Henry\\\\Documents\\\\data\\\\2020_05_23\\\\Trace\\\\trace_fly_remote.csv',\n",
       " 'C:\\\\Users\\\\Henry\\\\Documents\\\\data\\\\2020_05_23\\\\Trace\\\\trace_jdbc.csv',\n",
       " 'C:\\\\Users\\\\Henry\\\\Documents\\\\data\\\\2020_05_23\\\\Trace\\\\trace_local.csv',\n",
       " 'C:\\\\Users\\\\Henry\\\\Documents\\\\data\\\\2020_05_23\\\\Trace\\\\trace_osb.csv',\n",
       " 'C:\\\\Users\\\\Henry\\\\Documents\\\\data\\\\2020_05_23\\\\Trace\\\\trace_remote_process.csv']"
      ]
     },
     "metadata": {},
     "execution_count": 14
    }
   ],
   "source": [
    "path = \"C:\\\\Users\\\\Henry\\\\Documents\\\\data\\\\2020_04_11\\\\Trace\\\\\"\n",
    "all_files = glob.glob(path + \"*.csv\")\n",
    "all_files"
   ]
  },
  {
   "cell_type": "code",
   "execution_count": 15,
   "metadata": {},
   "outputs": [],
   "source": [
    "dfs = []\n",
    "for filename in all_files:\n",
    "    df = pd.read_csv(filename, index_col=None)\n",
    "    dfs.append(df)"
   ]
  },
  {
   "cell_type": "code",
   "execution_count": 16,
   "metadata": {},
   "outputs": [],
   "source": [
    "for df in dfs:\n",
    "    if df['callType'].iloc[0]=='JDBC' or df['callType'].iloc[0]=='LOCAL':\n",
    "        df['serviceName'] = df['dsName']\n",
    "    elif df['callType'].iloc[0]=='RemoteProcess' or df['callType'].iloc[0]=='OSB':\n",
    "        df['serviceName'] = df['cmdb_id']"
   ]
  },
  {
   "cell_type": "code",
   "execution_count": 5,
   "metadata": {},
   "outputs": [],
   "source": [
    "# df.head()"
   ]
  },
  {
   "cell_type": "code",
   "execution_count": 17,
   "metadata": {},
   "outputs": [],
   "source": [
    "df = pd.concat(dfs, axis=0, ignore_index=True)\n",
    "# df.head()"
   ]
  },
  {
   "cell_type": "code",
   "execution_count": 18,
   "metadata": {},
   "outputs": [],
   "source": [
    "df = df.drop('dsName', axis=1)\n",
    "# df = df.drop(['path'], axis=1)\n",
    "# df.head()"
   ]
  },
  {
   "cell_type": "code",
   "execution_count": 37,
   "metadata": {},
   "outputs": [],
   "source": [
    "anomaly_time = 1586542680000\n",
    "df = df[(df.startTime >= (anomaly_time-1200000)) & (df.startTime <= (anomaly_time + 300000))]"
   ]
  },
  {
   "cell_type": "code",
   "execution_count": 38,
   "metadata": {},
   "outputs": [],
   "source": [
    "df1 = df[df['callType']=='RemoteProcess']\n",
    "df1 = df1[['pid','cmdb_id']]\n",
    "df1 = df1.set_index('pid')"
   ]
  },
  {
   "cell_type": "code",
   "execution_count": 39,
   "metadata": {},
   "outputs": [],
   "source": [
    "csf_cmdb = df1.to_dict()\n",
    "csf_cmdb = {str(key):str(values) for key, values in csf_cmdb['cmdb_id'].items()}"
   ]
  },
  {
   "cell_type": "code",
   "execution_count": 40,
   "metadata": {},
   "outputs": [
    {
     "output_type": "stream",
     "name": "stderr",
     "text": [
      "573337it [00:39, 14621.88it/s]\n"
     ]
    }
   ],
   "source": [
    "from tqdm import tqdm\n",
    "for index, row in tqdm(df.iterrows()):\n",
    "    if row['id'] in csf_cmdb:\n",
    "        df.at[index, 'serviceName'] = csf_cmdb[row['id']]"
   ]
  },
  {
   "cell_type": "code",
   "execution_count": 41,
   "metadata": {},
   "outputs": [
    {
     "output_type": "stream",
     "name": "stderr",
     "text": [
      "573337it [00:47, 12059.72it/s]\n"
     ]
    }
   ],
   "source": [
    "elapse_time = {}\n",
    "children = {}\n",
    "for index, row in tqdm(df.iterrows()):\n",
    "    if row['pid'] != 'None':\n",
    "        if row['pid'] in children.keys():\n",
    "            children[row['pid']].append(row['id'])\n",
    "        else:\n",
    "            children[row['pid']] = [row['id']]\n",
    "    elapse_time[row['id']] = float(row['elapsedTime'])"
   ]
  },
  {
   "cell_type": "code",
   "execution_count": 42,
   "metadata": {},
   "outputs": [
    {
     "output_type": "stream",
     "name": "stderr",
     "text": [
      "573337it [00:50, 11258.62it/s]\n"
     ]
    }
   ],
   "source": [
    "df['actual_time'] = 0.0\n",
    "for index, row in tqdm(df.iterrows()):\n",
    "    total_child = 0.0\n",
    "    if row['id'] not in children.keys():\n",
    "        df.at[index, 'actual_time'] = row['elapsedTime']\n",
    "        continue\n",
    "    for child in children[row['id']]:\n",
    "        total_child += elapse_time[child]\n",
    "    df.at[index, 'actual_time'] = row['elapsedTime'] - total_child"
   ]
  },
  {
   "cell_type": "code",
   "execution_count": 13,
   "metadata": {},
   "outputs": [],
   "source": [
    "df = df.sort_values(['traceId','startTime','callType'], ignore_index = True)"
   ]
  },
  {
   "cell_type": "code",
   "execution_count": 25,
   "metadata": {},
   "outputs": [
    {
     "output_type": "execute_result",
     "data": {
      "text/plain": [
       "array(['docker_002', 'docker_008', 'docker_007', 'docker_003',\n",
       "       'docker_005', 'docker_004', 'docker_006', 'docker_001',\n",
       "       'fly_remote_001', 'db_003', 'db_009', 'db_007', 'os_022', 'os_021'],\n",
       "      dtype=object)"
      ]
     },
     "metadata": {},
     "execution_count": 25
    }
   ],
   "source": [
    "df.serviceName.unique()"
   ]
  },
  {
   "cell_type": "code",
   "execution_count": 43,
   "metadata": {},
   "outputs": [
    {
     "output_type": "execute_result",
     "data": {
      "text/plain": [
       "      callType      startTime  elapsedTime  success               traceId  \\\n",
       "33414      CSF  1590164400030        265.0     True  38171c538e4581e873ac   \n",
       "33415      CSF  1590164400039        263.0     True  38171aca8f2384f973ac   \n",
       "33416      CSF  1590164400046         39.0     True  38171c538e4581e873ac   \n",
       "33417      CSF  1590164400052         37.0     True  38171aca8f2384f973ac   \n",
       "33418      CSF  1590164400087         26.0     True  38171c538e4581e873ac   \n",
       "33419      CSF  1590164400091         24.0     True  38171aca8f2384f973ac   \n",
       "33420      CSF  1590164400094        225.0     True  38171e40ea04295c73ac   \n",
       "33421      CSF  1590164400109         35.0     True  38171e40ea04295c73ac   \n",
       "33422      CSF  1590164400115         24.0     True  38171c538e4581e873ac   \n",
       "33423      CSF  1590164400118         27.0     True  38171aca8f2384f973ac   \n",
       "33424      CSF  1590164400140         22.0     True  38171c538e4581e873ac   \n",
       "33425      CSF  1590164400146         25.0     True  38171e40ea04295c73ac   \n",
       "33426      CSF  1590164400146         19.0     True  38171aca8f2384f973ac   \n",
       "33427      CSF  1590164400172       1393.0     True  3817124a2a24291d73ac   \n",
       "33428      CSF  1590164400173       1700.0     True  38171ffea461493d73ac   \n",
       "33429      CSF  1590164400173         33.0     True  38171e40ea04295c73ac   \n",
       "33430      CSF  1590164400174        167.0     True  381714653f0681bf73ac   \n",
       "33431      CSF  1590164400176        203.0     True  38171e5a4a81490e73ac   \n",
       "33432      CSF  1590164400179       1034.0     True  38171783da00542e73ac   \n",
       "33433      CSF  1590164400186         72.0     True  38171ffea461493d73ac   \n",
       "33434      CSF  1590164400188         70.0     True  3817124a2a24291d73ac   \n",
       "33435      CSF  1590164400191         67.0     True  38171783da00542e73ac   \n",
       "33436      CSF  1590164400194         35.0     True  38171e5a4a81490e73ac   \n",
       "33437      CSF  1590164400194         37.0     True  381714653f0681bf73ac   \n",
       "33438      CSF  1590164400205       2068.0     True  3817149d2066046183ac   \n",
       "33439      CSF  1590164400207       2066.0     True  381716d95d86047183ac   \n",
       "33440      CSF  1590164400208         26.0     True  38171e40ea04295c73ac   \n",
       "33441      CSF  1590164400230         24.0     True  38171e5a4a81490e73ac   \n",
       "33442      CSF  1590164400233         26.0     True  381714653f0681bf73ac   \n",
       "33443      CSF  1590164400257         30.0     True  38171e5a4a81490e73ac   \n",
       "33444      CSF  1590164400261         25.0     True  381714653f0681bf73ac   \n",
       "33445      CSF  1590164400263         96.0     True  38171783da00542e73ac   \n",
       "33446      CSF  1590164400265         29.0     True  38171ffea461493d73ac   \n",
       "33447      CSF  1590164400268         90.0     True  3817124a2a24291d73ac   \n",
       "33448      CSF  1590164400279         79.0     True  381716d95d86047183ac   \n",
       "33449      CSF  1590164400279         79.0     True  3817149d2066046183ac   \n",
       "33450      CSF  1590164400288         21.0     True  381714653f0681bf73ac   \n",
       "33451      CSF  1590164400289         25.0     True  38171e5a4a81490e73ac   \n",
       "33452      CSF  1590164400364        127.0     True  38171ffea461493d73ac   \n",
       "33453      CSF  1590164400365        132.0     True  3817124a2a24291d73ac   \n",
       "33454      CSF  1590164400366        126.0     True  381716d95d86047183ac   \n",
       "33455      CSF  1590164400366        125.0     True  3817149d2066046183ac   \n",
       "33456      CSF  1590164400460       1413.0     True  3817112e056249ef83ac   \n",
       "33457      CSF  1590164400461         96.0     True  38171783da00542e73ac   \n",
       "33458      CSF  1590164400488       2730.0     True  381711d5c687912493ac   \n",
       "33459      CSF  1590164400493       1072.0     True  3817186f7b0529a593ac   \n",
       "33460      CSF  1590164400493        165.0     True  38171ffea461493d73ac   \n",
       "33461      CSF  1590164400503         37.0     True  381711d5c687912493ac   \n",
       "33462      CSF  1590164400542         26.0     True  381711d5c687912493ac   \n",
       "33463      CSF  1590164400562        197.0     True  38171783da00542e73ac   \n",
       "33464      CSF  1590164400562        196.0     True  3817124a2a24291d73ac   \n",
       "33465      CSF  1590164400565        193.0     True  3817112e056249ef83ac   \n",
       "33466      CSF  1590164400569         26.0     True  381711d5c687912493ac   \n",
       "33467      CSF  1590164400598         22.0     True  381711d5c687912493ac   \n",
       "33468      CSF  1590164400608        168.0     True  381711270027814093ac   \n",
       "33469      CSF  1590164400621         35.0     True  381711270027814093ac   \n",
       "33470      CSF  1590164400659         25.0     True  381711270027814093ac   \n",
       "33471      CSF  1590164400659         99.0     True  3817149d2066046183ac   \n",
       "33472      CSF  1590164400660         98.0     True  381716d95d86047183ac   \n",
       "33473      CSF  1590164400687         22.0     True  381711270027814093ac   \n",
       "\n",
       "                         id                   pid     cmdb_id serviceName  \\\n",
       "33414  3817119c467581e973ac  381718b5a35581e873ac      os_022  docker_002   \n",
       "33415  38171ae7b053847a73ac  381714bcff3384f973ac      os_022  docker_002   \n",
       "33416  381716b80c1715ea73ac  38171569a736152a73ac  docker_002  docker_008   \n",
       "33417  38171d05c637154b73ac  38171619a776159a73ac  docker_002  docker_007   \n",
       "33418  381714925457157d73ac  38171569a736152a73ac  docker_002  docker_008   \n",
       "33419  38171876927715ad73ac  38171619a776159a73ac  docker_002  docker_007   \n",
       "33420  38171ff5575429ed73ac  3817139e8114295c73ac      os_021  docker_003   \n",
       "33421  381716616b5543de73ac  381719b6a715432e73ac  docker_003  docker_005   \n",
       "33422  38171d957f97153f73ac  38171569a736152a73ac  docker_002  docker_007   \n",
       "33423  381712593b18155f73ac  38171619a776159a73ac  docker_002  docker_008   \n",
       "33424  381717fcdb3815c083ac  38171569a736152a73ac  docker_002  docker_007   \n",
       "33425  381718c04b75431183ac  381719b6a715432e73ac  docker_003  docker_005   \n",
       "33426  3817134abf58152183ac  38171619a776159a73ac  docker_002  docker_008   \n",
       "33427  38171e725f7429c283ac  3817115ade34292d73ac      os_021  docker_004   \n",
       "33428  38171486281249d283ac  381718df8871493d73ac      os_021  docker_004   \n",
       "33429  38171fa0649543d283ac  381719b6a715432e73ac  docker_003  docker_006   \n",
       "33430  38171606903681e283ac  381711f5b51681bf73ac      os_022  docker_001   \n",
       "33431  38171df26632490383ac  38171be51691491e73ac      os_021  docker_003   \n",
       "33432  38171c572230543383ac  38171e992010542e73ac      os_021  docker_004   \n",
       "33433  38171bc9b00825a383ac  381712831d0725f283ac  docker_004  docker_006   \n",
       "33434  38171109ed2825c383ac  3817117e3c8625e283ac  docker_004  docker_006   \n",
       "33435  38171984a34825e383ac  381715151667254383ac  docker_004  docker_005   \n",
       "33436  381719f65a56432483ac  381718c44016434383ac  docker_003  docker_005   \n",
       "33437  38171af87489092483ac  38171a772649091383ac  docker_001  docker_007   \n",
       "33438  3817162da21704d483ac  381716e8c976046183ac      os_021  docker_004   \n",
       "33439  38171fb4cc3704f483ac  381714670696047183ac      os_021  docker_004   \n",
       "33440  38171e990876430583ac  381719b6a715432e73ac  docker_003  docker_006   \n",
       "33441  381711e75f96436683ac  381718c44016434383ac  docker_003  docker_006   \n",
       "33442  38171c9d5b00199683ac  38171a772649091383ac  docker_001  docker_007   \n",
       "33443  3817130fe961530883ac  381718c44016434383ac  docker_003  docker_006   \n",
       "33444  38171ac0e720195883ac  38171a772649091383ac  docker_001  docker_007   \n",
       "33445  3817110d0c09257883ac  381715151667254383ac  docker_004  docker_006   \n",
       "33446  38171bc6df29258883ac  381712831d0725f283ac  docker_004  docker_005   \n",
       "33447  381713cad88925b883ac  3817117e3c8625e283ac  docker_004  docker_006   \n",
       "33448  381715518c60357983ac  381713422688253883ac  docker_004  docker_005   \n",
       "33449  381713068980357983ac  38171ec52468257583ac  docker_004  docker_006   \n",
       "33450  38171b078240190a83ac  38171a772649091383ac  docker_001  docker_007   \n",
       "33451  381711863994531a83ac  381718c44016434383ac  docker_003  docker_005   \n",
       "33452  381714aa750135ae83ac  381712831d0725f283ac  docker_004  docker_005   \n",
       "33453  381713b1f22135de83ac  3817117e3c8625e283ac  docker_004  docker_005   \n",
       "33454  38171712ed6135ee83ac  381713422688253883ac  docker_004  docker_006   \n",
       "33455  38171aeccb4135de83ac  38171ec52468257583ac  docker_004  docker_006   \n",
       "33456  38171a26ad9249c493ac  38171743ce7249ef83ac      os_021  docker_004   \n",
       "33457  38171d44d08135d493ac  381715151667254383ac  docker_004  docker_005   \n",
       "33458  38171467c818918693ac  38171d001297912493ac      os_022  docker_001   \n",
       "33459  38171990cb3529d693ac  3817198f011529a593ac      os_021  docker_004   \n",
       "33460  381714f8a54235d693ac  381712831d0725f283ac  docker_004  docker_006   \n",
       "33461  3817187bc368196793ac  3817151a412819a693ac  docker_001  docker_008   \n",
       "33462  38171da7c68819e993ac  3817151a412819a693ac  docker_001  docker_008   \n",
       "33463  38171af45623352b93ac  381715151667254383ac  docker_004  docker_006   \n",
       "33464  381718451003351b93ac  3817117e3c8625e283ac  docker_004  docker_006   \n",
       "33465  381710a9f263355b93ac  381718c32e0235e493ac  docker_004  docker_006   \n",
       "33466  38171a15bb89199b93ac  3817151a412819a693ac  docker_001  docker_007   \n",
       "33467  3817134fd600295d93ac  3817151a412819a693ac  docker_001  docker_008   \n",
       "33468  3817144c6d57810e93ac  38171c1c6637814093ac      os_022  docker_002   \n",
       "33469  3817165e073435de93ac  38171ea19693353e93ac  docker_002  docker_007   \n",
       "33470  38171b212a543521a3ac  38171ea19693353e93ac  docker_002  docker_007   \n",
       "33471  38171840f6243511a3ac  38171ec52468257583ac  docker_004  docker_006   \n",
       "33472  381717e418443531a3ac  381713422688253883ac  docker_004  docker_006   \n",
       "33473  381711fc927435f2a3ac  38171ea19693353e93ac  docker_002  docker_008   \n",
       "\n",
       "       actual_time  \n",
       "33414          5.0  \n",
       "33415          3.0  \n",
       "33416          5.0  \n",
       "33417          5.0  \n",
       "33418          4.0  \n",
       "33419          3.0  \n",
       "33420         44.0  \n",
       "33421          3.0  \n",
       "33422          5.0  \n",
       "33423          4.0  \n",
       "33424          5.0  \n",
       "33425          3.0  \n",
       "33426          4.0  \n",
       "33427        494.0  \n",
       "33428        816.0  \n",
       "33429          4.0  \n",
       "33430          5.0  \n",
       "33431         11.0  \n",
       "33432        148.0  \n",
       "33433         28.0  \n",
       "33434         30.0  \n",
       "33435         34.0  \n",
       "33436          2.0  \n",
       "33437          4.0  \n",
       "33438       1020.0  \n",
       "33439       1153.0  \n",
       "33440          4.0  \n",
       "33441          3.0  \n",
       "33442          3.0  \n",
       "33443          5.0  \n",
       "33444          2.0  \n",
       "33445         62.0  \n",
       "33446          4.0  \n",
       "33447         60.0  \n",
       "33448         44.0  \n",
       "33449         42.0  \n",
       "33450          2.0  \n",
       "33451          3.0  \n",
       "33452         95.0  \n",
       "33453         95.0  \n",
       "33454         96.0  \n",
       "33455         95.0  \n",
       "33456        596.0  \n",
       "33457         62.0  \n",
       "33458       2568.0  \n",
       "33459        446.0  \n",
       "33460        147.0  \n",
       "33461          3.0  \n",
       "33462          4.0  \n",
       "33463        168.0  \n",
       "33464        159.0  \n",
       "33465        146.0  \n",
       "33466          3.0  \n",
       "33467          3.0  \n",
       "33468         13.0  \n",
       "33469          5.0  \n",
       "33470          4.0  \n",
       "33471         73.0  \n",
       "33472         56.0  \n",
       "33473          3.0  "
      ],
      "text/html": "<div>\n<style scoped>\n    .dataframe tbody tr th:only-of-type {\n        vertical-align: middle;\n    }\n\n    .dataframe tbody tr th {\n        vertical-align: top;\n    }\n\n    .dataframe thead th {\n        text-align: right;\n    }\n</style>\n<table border=\"1\" class=\"dataframe\">\n  <thead>\n    <tr style=\"text-align: right;\">\n      <th></th>\n      <th>callType</th>\n      <th>startTime</th>\n      <th>elapsedTime</th>\n      <th>success</th>\n      <th>traceId</th>\n      <th>id</th>\n      <th>pid</th>\n      <th>cmdb_id</th>\n      <th>serviceName</th>\n      <th>actual_time</th>\n    </tr>\n  </thead>\n  <tbody>\n    <tr>\n      <th>33414</th>\n      <td>CSF</td>\n      <td>1590164400030</td>\n      <td>265.0</td>\n      <td>True</td>\n      <td>38171c538e4581e873ac</td>\n      <td>3817119c467581e973ac</td>\n      <td>381718b5a35581e873ac</td>\n      <td>os_022</td>\n      <td>docker_002</td>\n      <td>5.0</td>\n    </tr>\n    <tr>\n      <th>33415</th>\n      <td>CSF</td>\n      <td>1590164400039</td>\n      <td>263.0</td>\n      <td>True</td>\n      <td>38171aca8f2384f973ac</td>\n      <td>38171ae7b053847a73ac</td>\n      <td>381714bcff3384f973ac</td>\n      <td>os_022</td>\n      <td>docker_002</td>\n      <td>3.0</td>\n    </tr>\n    <tr>\n      <th>33416</th>\n      <td>CSF</td>\n      <td>1590164400046</td>\n      <td>39.0</td>\n      <td>True</td>\n      <td>38171c538e4581e873ac</td>\n      <td>381716b80c1715ea73ac</td>\n      <td>38171569a736152a73ac</td>\n      <td>docker_002</td>\n      <td>docker_008</td>\n      <td>5.0</td>\n    </tr>\n    <tr>\n      <th>33417</th>\n      <td>CSF</td>\n      <td>1590164400052</td>\n      <td>37.0</td>\n      <td>True</td>\n      <td>38171aca8f2384f973ac</td>\n      <td>38171d05c637154b73ac</td>\n      <td>38171619a776159a73ac</td>\n      <td>docker_002</td>\n      <td>docker_007</td>\n      <td>5.0</td>\n    </tr>\n    <tr>\n      <th>33418</th>\n      <td>CSF</td>\n      <td>1590164400087</td>\n      <td>26.0</td>\n      <td>True</td>\n      <td>38171c538e4581e873ac</td>\n      <td>381714925457157d73ac</td>\n      <td>38171569a736152a73ac</td>\n      <td>docker_002</td>\n      <td>docker_008</td>\n      <td>4.0</td>\n    </tr>\n    <tr>\n      <th>33419</th>\n      <td>CSF</td>\n      <td>1590164400091</td>\n      <td>24.0</td>\n      <td>True</td>\n      <td>38171aca8f2384f973ac</td>\n      <td>38171876927715ad73ac</td>\n      <td>38171619a776159a73ac</td>\n      <td>docker_002</td>\n      <td>docker_007</td>\n      <td>3.0</td>\n    </tr>\n    <tr>\n      <th>33420</th>\n      <td>CSF</td>\n      <td>1590164400094</td>\n      <td>225.0</td>\n      <td>True</td>\n      <td>38171e40ea04295c73ac</td>\n      <td>38171ff5575429ed73ac</td>\n      <td>3817139e8114295c73ac</td>\n      <td>os_021</td>\n      <td>docker_003</td>\n      <td>44.0</td>\n    </tr>\n    <tr>\n      <th>33421</th>\n      <td>CSF</td>\n      <td>1590164400109</td>\n      <td>35.0</td>\n      <td>True</td>\n      <td>38171e40ea04295c73ac</td>\n      <td>381716616b5543de73ac</td>\n      <td>381719b6a715432e73ac</td>\n      <td>docker_003</td>\n      <td>docker_005</td>\n      <td>3.0</td>\n    </tr>\n    <tr>\n      <th>33422</th>\n      <td>CSF</td>\n      <td>1590164400115</td>\n      <td>24.0</td>\n      <td>True</td>\n      <td>38171c538e4581e873ac</td>\n      <td>38171d957f97153f73ac</td>\n      <td>38171569a736152a73ac</td>\n      <td>docker_002</td>\n      <td>docker_007</td>\n      <td>5.0</td>\n    </tr>\n    <tr>\n      <th>33423</th>\n      <td>CSF</td>\n      <td>1590164400118</td>\n      <td>27.0</td>\n      <td>True</td>\n      <td>38171aca8f2384f973ac</td>\n      <td>381712593b18155f73ac</td>\n      <td>38171619a776159a73ac</td>\n      <td>docker_002</td>\n      <td>docker_008</td>\n      <td>4.0</td>\n    </tr>\n    <tr>\n      <th>33424</th>\n      <td>CSF</td>\n      <td>1590164400140</td>\n      <td>22.0</td>\n      <td>True</td>\n      <td>38171c538e4581e873ac</td>\n      <td>381717fcdb3815c083ac</td>\n      <td>38171569a736152a73ac</td>\n      <td>docker_002</td>\n      <td>docker_007</td>\n      <td>5.0</td>\n    </tr>\n    <tr>\n      <th>33425</th>\n      <td>CSF</td>\n      <td>1590164400146</td>\n      <td>25.0</td>\n      <td>True</td>\n      <td>38171e40ea04295c73ac</td>\n      <td>381718c04b75431183ac</td>\n      <td>381719b6a715432e73ac</td>\n      <td>docker_003</td>\n      <td>docker_005</td>\n      <td>3.0</td>\n    </tr>\n    <tr>\n      <th>33426</th>\n      <td>CSF</td>\n      <td>1590164400146</td>\n      <td>19.0</td>\n      <td>True</td>\n      <td>38171aca8f2384f973ac</td>\n      <td>3817134abf58152183ac</td>\n      <td>38171619a776159a73ac</td>\n      <td>docker_002</td>\n      <td>docker_008</td>\n      <td>4.0</td>\n    </tr>\n    <tr>\n      <th>33427</th>\n      <td>CSF</td>\n      <td>1590164400172</td>\n      <td>1393.0</td>\n      <td>True</td>\n      <td>3817124a2a24291d73ac</td>\n      <td>38171e725f7429c283ac</td>\n      <td>3817115ade34292d73ac</td>\n      <td>os_021</td>\n      <td>docker_004</td>\n      <td>494.0</td>\n    </tr>\n    <tr>\n      <th>33428</th>\n      <td>CSF</td>\n      <td>1590164400173</td>\n      <td>1700.0</td>\n      <td>True</td>\n      <td>38171ffea461493d73ac</td>\n      <td>38171486281249d283ac</td>\n      <td>381718df8871493d73ac</td>\n      <td>os_021</td>\n      <td>docker_004</td>\n      <td>816.0</td>\n    </tr>\n    <tr>\n      <th>33429</th>\n      <td>CSF</td>\n      <td>1590164400173</td>\n      <td>33.0</td>\n      <td>True</td>\n      <td>38171e40ea04295c73ac</td>\n      <td>38171fa0649543d283ac</td>\n      <td>381719b6a715432e73ac</td>\n      <td>docker_003</td>\n      <td>docker_006</td>\n      <td>4.0</td>\n    </tr>\n    <tr>\n      <th>33430</th>\n      <td>CSF</td>\n      <td>1590164400174</td>\n      <td>167.0</td>\n      <td>True</td>\n      <td>381714653f0681bf73ac</td>\n      <td>38171606903681e283ac</td>\n      <td>381711f5b51681bf73ac</td>\n      <td>os_022</td>\n      <td>docker_001</td>\n      <td>5.0</td>\n    </tr>\n    <tr>\n      <th>33431</th>\n      <td>CSF</td>\n      <td>1590164400176</td>\n      <td>203.0</td>\n      <td>True</td>\n      <td>38171e5a4a81490e73ac</td>\n      <td>38171df26632490383ac</td>\n      <td>38171be51691491e73ac</td>\n      <td>os_021</td>\n      <td>docker_003</td>\n      <td>11.0</td>\n    </tr>\n    <tr>\n      <th>33432</th>\n      <td>CSF</td>\n      <td>1590164400179</td>\n      <td>1034.0</td>\n      <td>True</td>\n      <td>38171783da00542e73ac</td>\n      <td>38171c572230543383ac</td>\n      <td>38171e992010542e73ac</td>\n      <td>os_021</td>\n      <td>docker_004</td>\n      <td>148.0</td>\n    </tr>\n    <tr>\n      <th>33433</th>\n      <td>CSF</td>\n      <td>1590164400186</td>\n      <td>72.0</td>\n      <td>True</td>\n      <td>38171ffea461493d73ac</td>\n      <td>38171bc9b00825a383ac</td>\n      <td>381712831d0725f283ac</td>\n      <td>docker_004</td>\n      <td>docker_006</td>\n      <td>28.0</td>\n    </tr>\n    <tr>\n      <th>33434</th>\n      <td>CSF</td>\n      <td>1590164400188</td>\n      <td>70.0</td>\n      <td>True</td>\n      <td>3817124a2a24291d73ac</td>\n      <td>38171109ed2825c383ac</td>\n      <td>3817117e3c8625e283ac</td>\n      <td>docker_004</td>\n      <td>docker_006</td>\n      <td>30.0</td>\n    </tr>\n    <tr>\n      <th>33435</th>\n      <td>CSF</td>\n      <td>1590164400191</td>\n      <td>67.0</td>\n      <td>True</td>\n      <td>38171783da00542e73ac</td>\n      <td>38171984a34825e383ac</td>\n      <td>381715151667254383ac</td>\n      <td>docker_004</td>\n      <td>docker_005</td>\n      <td>34.0</td>\n    </tr>\n    <tr>\n      <th>33436</th>\n      <td>CSF</td>\n      <td>1590164400194</td>\n      <td>35.0</td>\n      <td>True</td>\n      <td>38171e5a4a81490e73ac</td>\n      <td>381719f65a56432483ac</td>\n      <td>381718c44016434383ac</td>\n      <td>docker_003</td>\n      <td>docker_005</td>\n      <td>2.0</td>\n    </tr>\n    <tr>\n      <th>33437</th>\n      <td>CSF</td>\n      <td>1590164400194</td>\n      <td>37.0</td>\n      <td>True</td>\n      <td>381714653f0681bf73ac</td>\n      <td>38171af87489092483ac</td>\n      <td>38171a772649091383ac</td>\n      <td>docker_001</td>\n      <td>docker_007</td>\n      <td>4.0</td>\n    </tr>\n    <tr>\n      <th>33438</th>\n      <td>CSF</td>\n      <td>1590164400205</td>\n      <td>2068.0</td>\n      <td>True</td>\n      <td>3817149d2066046183ac</td>\n      <td>3817162da21704d483ac</td>\n      <td>381716e8c976046183ac</td>\n      <td>os_021</td>\n      <td>docker_004</td>\n      <td>1020.0</td>\n    </tr>\n    <tr>\n      <th>33439</th>\n      <td>CSF</td>\n      <td>1590164400207</td>\n      <td>2066.0</td>\n      <td>True</td>\n      <td>381716d95d86047183ac</td>\n      <td>38171fb4cc3704f483ac</td>\n      <td>381714670696047183ac</td>\n      <td>os_021</td>\n      <td>docker_004</td>\n      <td>1153.0</td>\n    </tr>\n    <tr>\n      <th>33440</th>\n      <td>CSF</td>\n      <td>1590164400208</td>\n      <td>26.0</td>\n      <td>True</td>\n      <td>38171e40ea04295c73ac</td>\n      <td>38171e990876430583ac</td>\n      <td>381719b6a715432e73ac</td>\n      <td>docker_003</td>\n      <td>docker_006</td>\n      <td>4.0</td>\n    </tr>\n    <tr>\n      <th>33441</th>\n      <td>CSF</td>\n      <td>1590164400230</td>\n      <td>24.0</td>\n      <td>True</td>\n      <td>38171e5a4a81490e73ac</td>\n      <td>381711e75f96436683ac</td>\n      <td>381718c44016434383ac</td>\n      <td>docker_003</td>\n      <td>docker_006</td>\n      <td>3.0</td>\n    </tr>\n    <tr>\n      <th>33442</th>\n      <td>CSF</td>\n      <td>1590164400233</td>\n      <td>26.0</td>\n      <td>True</td>\n      <td>381714653f0681bf73ac</td>\n      <td>38171c9d5b00199683ac</td>\n      <td>38171a772649091383ac</td>\n      <td>docker_001</td>\n      <td>docker_007</td>\n      <td>3.0</td>\n    </tr>\n    <tr>\n      <th>33443</th>\n      <td>CSF</td>\n      <td>1590164400257</td>\n      <td>30.0</td>\n      <td>True</td>\n      <td>38171e5a4a81490e73ac</td>\n      <td>3817130fe961530883ac</td>\n      <td>381718c44016434383ac</td>\n      <td>docker_003</td>\n      <td>docker_006</td>\n      <td>5.0</td>\n    </tr>\n    <tr>\n      <th>33444</th>\n      <td>CSF</td>\n      <td>1590164400261</td>\n      <td>25.0</td>\n      <td>True</td>\n      <td>381714653f0681bf73ac</td>\n      <td>38171ac0e720195883ac</td>\n      <td>38171a772649091383ac</td>\n      <td>docker_001</td>\n      <td>docker_007</td>\n      <td>2.0</td>\n    </tr>\n    <tr>\n      <th>33445</th>\n      <td>CSF</td>\n      <td>1590164400263</td>\n      <td>96.0</td>\n      <td>True</td>\n      <td>38171783da00542e73ac</td>\n      <td>3817110d0c09257883ac</td>\n      <td>381715151667254383ac</td>\n      <td>docker_004</td>\n      <td>docker_006</td>\n      <td>62.0</td>\n    </tr>\n    <tr>\n      <th>33446</th>\n      <td>CSF</td>\n      <td>1590164400265</td>\n      <td>29.0</td>\n      <td>True</td>\n      <td>38171ffea461493d73ac</td>\n      <td>38171bc6df29258883ac</td>\n      <td>381712831d0725f283ac</td>\n      <td>docker_004</td>\n      <td>docker_005</td>\n      <td>4.0</td>\n    </tr>\n    <tr>\n      <th>33447</th>\n      <td>CSF</td>\n      <td>1590164400268</td>\n      <td>90.0</td>\n      <td>True</td>\n      <td>3817124a2a24291d73ac</td>\n      <td>381713cad88925b883ac</td>\n      <td>3817117e3c8625e283ac</td>\n      <td>docker_004</td>\n      <td>docker_006</td>\n      <td>60.0</td>\n    </tr>\n    <tr>\n      <th>33448</th>\n      <td>CSF</td>\n      <td>1590164400279</td>\n      <td>79.0</td>\n      <td>True</td>\n      <td>381716d95d86047183ac</td>\n      <td>381715518c60357983ac</td>\n      <td>381713422688253883ac</td>\n      <td>docker_004</td>\n      <td>docker_005</td>\n      <td>44.0</td>\n    </tr>\n    <tr>\n      <th>33449</th>\n      <td>CSF</td>\n      <td>1590164400279</td>\n      <td>79.0</td>\n      <td>True</td>\n      <td>3817149d2066046183ac</td>\n      <td>381713068980357983ac</td>\n      <td>38171ec52468257583ac</td>\n      <td>docker_004</td>\n      <td>docker_006</td>\n      <td>42.0</td>\n    </tr>\n    <tr>\n      <th>33450</th>\n      <td>CSF</td>\n      <td>1590164400288</td>\n      <td>21.0</td>\n      <td>True</td>\n      <td>381714653f0681bf73ac</td>\n      <td>38171b078240190a83ac</td>\n      <td>38171a772649091383ac</td>\n      <td>docker_001</td>\n      <td>docker_007</td>\n      <td>2.0</td>\n    </tr>\n    <tr>\n      <th>33451</th>\n      <td>CSF</td>\n      <td>1590164400289</td>\n      <td>25.0</td>\n      <td>True</td>\n      <td>38171e5a4a81490e73ac</td>\n      <td>381711863994531a83ac</td>\n      <td>381718c44016434383ac</td>\n      <td>docker_003</td>\n      <td>docker_005</td>\n      <td>3.0</td>\n    </tr>\n    <tr>\n      <th>33452</th>\n      <td>CSF</td>\n      <td>1590164400364</td>\n      <td>127.0</td>\n      <td>True</td>\n      <td>38171ffea461493d73ac</td>\n      <td>381714aa750135ae83ac</td>\n      <td>381712831d0725f283ac</td>\n      <td>docker_004</td>\n      <td>docker_005</td>\n      <td>95.0</td>\n    </tr>\n    <tr>\n      <th>33453</th>\n      <td>CSF</td>\n      <td>1590164400365</td>\n      <td>132.0</td>\n      <td>True</td>\n      <td>3817124a2a24291d73ac</td>\n      <td>381713b1f22135de83ac</td>\n      <td>3817117e3c8625e283ac</td>\n      <td>docker_004</td>\n      <td>docker_005</td>\n      <td>95.0</td>\n    </tr>\n    <tr>\n      <th>33454</th>\n      <td>CSF</td>\n      <td>1590164400366</td>\n      <td>126.0</td>\n      <td>True</td>\n      <td>381716d95d86047183ac</td>\n      <td>38171712ed6135ee83ac</td>\n      <td>381713422688253883ac</td>\n      <td>docker_004</td>\n      <td>docker_006</td>\n      <td>96.0</td>\n    </tr>\n    <tr>\n      <th>33455</th>\n      <td>CSF</td>\n      <td>1590164400366</td>\n      <td>125.0</td>\n      <td>True</td>\n      <td>3817149d2066046183ac</td>\n      <td>38171aeccb4135de83ac</td>\n      <td>38171ec52468257583ac</td>\n      <td>docker_004</td>\n      <td>docker_006</td>\n      <td>95.0</td>\n    </tr>\n    <tr>\n      <th>33456</th>\n      <td>CSF</td>\n      <td>1590164400460</td>\n      <td>1413.0</td>\n      <td>True</td>\n      <td>3817112e056249ef83ac</td>\n      <td>38171a26ad9249c493ac</td>\n      <td>38171743ce7249ef83ac</td>\n      <td>os_021</td>\n      <td>docker_004</td>\n      <td>596.0</td>\n    </tr>\n    <tr>\n      <th>33457</th>\n      <td>CSF</td>\n      <td>1590164400461</td>\n      <td>96.0</td>\n      <td>True</td>\n      <td>38171783da00542e73ac</td>\n      <td>38171d44d08135d493ac</td>\n      <td>381715151667254383ac</td>\n      <td>docker_004</td>\n      <td>docker_005</td>\n      <td>62.0</td>\n    </tr>\n    <tr>\n      <th>33458</th>\n      <td>CSF</td>\n      <td>1590164400488</td>\n      <td>2730.0</td>\n      <td>True</td>\n      <td>381711d5c687912493ac</td>\n      <td>38171467c818918693ac</td>\n      <td>38171d001297912493ac</td>\n      <td>os_022</td>\n      <td>docker_001</td>\n      <td>2568.0</td>\n    </tr>\n    <tr>\n      <th>33459</th>\n      <td>CSF</td>\n      <td>1590164400493</td>\n      <td>1072.0</td>\n      <td>True</td>\n      <td>3817186f7b0529a593ac</td>\n      <td>38171990cb3529d693ac</td>\n      <td>3817198f011529a593ac</td>\n      <td>os_021</td>\n      <td>docker_004</td>\n      <td>446.0</td>\n    </tr>\n    <tr>\n      <th>33460</th>\n      <td>CSF</td>\n      <td>1590164400493</td>\n      <td>165.0</td>\n      <td>True</td>\n      <td>38171ffea461493d73ac</td>\n      <td>381714f8a54235d693ac</td>\n      <td>381712831d0725f283ac</td>\n      <td>docker_004</td>\n      <td>docker_006</td>\n      <td>147.0</td>\n    </tr>\n    <tr>\n      <th>33461</th>\n      <td>CSF</td>\n      <td>1590164400503</td>\n      <td>37.0</td>\n      <td>True</td>\n      <td>381711d5c687912493ac</td>\n      <td>3817187bc368196793ac</td>\n      <td>3817151a412819a693ac</td>\n      <td>docker_001</td>\n      <td>docker_008</td>\n      <td>3.0</td>\n    </tr>\n    <tr>\n      <th>33462</th>\n      <td>CSF</td>\n      <td>1590164400542</td>\n      <td>26.0</td>\n      <td>True</td>\n      <td>381711d5c687912493ac</td>\n      <td>38171da7c68819e993ac</td>\n      <td>3817151a412819a693ac</td>\n      <td>docker_001</td>\n      <td>docker_008</td>\n      <td>4.0</td>\n    </tr>\n    <tr>\n      <th>33463</th>\n      <td>CSF</td>\n      <td>1590164400562</td>\n      <td>197.0</td>\n      <td>True</td>\n      <td>38171783da00542e73ac</td>\n      <td>38171af45623352b93ac</td>\n      <td>381715151667254383ac</td>\n      <td>docker_004</td>\n      <td>docker_006</td>\n      <td>168.0</td>\n    </tr>\n    <tr>\n      <th>33464</th>\n      <td>CSF</td>\n      <td>1590164400562</td>\n      <td>196.0</td>\n      <td>True</td>\n      <td>3817124a2a24291d73ac</td>\n      <td>381718451003351b93ac</td>\n      <td>3817117e3c8625e283ac</td>\n      <td>docker_004</td>\n      <td>docker_006</td>\n      <td>159.0</td>\n    </tr>\n    <tr>\n      <th>33465</th>\n      <td>CSF</td>\n      <td>1590164400565</td>\n      <td>193.0</td>\n      <td>True</td>\n      <td>3817112e056249ef83ac</td>\n      <td>381710a9f263355b93ac</td>\n      <td>381718c32e0235e493ac</td>\n      <td>docker_004</td>\n      <td>docker_006</td>\n      <td>146.0</td>\n    </tr>\n    <tr>\n      <th>33466</th>\n      <td>CSF</td>\n      <td>1590164400569</td>\n      <td>26.0</td>\n      <td>True</td>\n      <td>381711d5c687912493ac</td>\n      <td>38171a15bb89199b93ac</td>\n      <td>3817151a412819a693ac</td>\n      <td>docker_001</td>\n      <td>docker_007</td>\n      <td>3.0</td>\n    </tr>\n    <tr>\n      <th>33467</th>\n      <td>CSF</td>\n      <td>1590164400598</td>\n      <td>22.0</td>\n      <td>True</td>\n      <td>381711d5c687912493ac</td>\n      <td>3817134fd600295d93ac</td>\n      <td>3817151a412819a693ac</td>\n      <td>docker_001</td>\n      <td>docker_008</td>\n      <td>3.0</td>\n    </tr>\n    <tr>\n      <th>33468</th>\n      <td>CSF</td>\n      <td>1590164400608</td>\n      <td>168.0</td>\n      <td>True</td>\n      <td>381711270027814093ac</td>\n      <td>3817144c6d57810e93ac</td>\n      <td>38171c1c6637814093ac</td>\n      <td>os_022</td>\n      <td>docker_002</td>\n      <td>13.0</td>\n    </tr>\n    <tr>\n      <th>33469</th>\n      <td>CSF</td>\n      <td>1590164400621</td>\n      <td>35.0</td>\n      <td>True</td>\n      <td>381711270027814093ac</td>\n      <td>3817165e073435de93ac</td>\n      <td>38171ea19693353e93ac</td>\n      <td>docker_002</td>\n      <td>docker_007</td>\n      <td>5.0</td>\n    </tr>\n    <tr>\n      <th>33470</th>\n      <td>CSF</td>\n      <td>1590164400659</td>\n      <td>25.0</td>\n      <td>True</td>\n      <td>381711270027814093ac</td>\n      <td>38171b212a543521a3ac</td>\n      <td>38171ea19693353e93ac</td>\n      <td>docker_002</td>\n      <td>docker_007</td>\n      <td>4.0</td>\n    </tr>\n    <tr>\n      <th>33471</th>\n      <td>CSF</td>\n      <td>1590164400659</td>\n      <td>99.0</td>\n      <td>True</td>\n      <td>3817149d2066046183ac</td>\n      <td>38171840f6243511a3ac</td>\n      <td>38171ec52468257583ac</td>\n      <td>docker_004</td>\n      <td>docker_006</td>\n      <td>73.0</td>\n    </tr>\n    <tr>\n      <th>33472</th>\n      <td>CSF</td>\n      <td>1590164400660</td>\n      <td>98.0</td>\n      <td>True</td>\n      <td>381716d95d86047183ac</td>\n      <td>381717e418443531a3ac</td>\n      <td>381713422688253883ac</td>\n      <td>docker_004</td>\n      <td>docker_006</td>\n      <td>56.0</td>\n    </tr>\n    <tr>\n      <th>33473</th>\n      <td>CSF</td>\n      <td>1590164400687</td>\n      <td>22.0</td>\n      <td>True</td>\n      <td>381711270027814093ac</td>\n      <td>381711fc927435f2a3ac</td>\n      <td>38171ea19693353e93ac</td>\n      <td>docker_002</td>\n      <td>docker_008</td>\n      <td>3.0</td>\n    </tr>\n  </tbody>\n</table>\n</div>"
     },
     "metadata": {},
     "execution_count": 43
    }
   ],
   "source": [
    "df.head(60)"
   ]
  },
  {
   "cell_type": "code",
   "execution_count": 44,
   "metadata": {},
   "outputs": [],
   "source": [
    "grouped_df = df.groupby(['cmdb_id', 'serviceName'])[['startTime','actual_time']]"
   ]
  },
  {
   "cell_type": "code",
   "execution_count": 28,
   "metadata": {},
   "outputs": [
    {
     "output_type": "execute_result",
     "data": {
      "text/plain": [
       "dict_keys([('docker_001', 'db_007'), ('docker_001', 'db_009'), ('docker_001', 'docker_001'), ('docker_001', 'docker_007'), ('docker_001', 'docker_008'), ('docker_001', 'fly_remote_001'), ('docker_002', 'db_007'), ('docker_002', 'db_009'), ('docker_002', 'docker_002'), ('docker_002', 'docker_007'), ('docker_002', 'docker_008'), ('docker_002', 'fly_remote_001'), ('docker_003', 'db_007'), ('docker_003', 'db_009'), ('docker_003', 'docker_003'), ('docker_003', 'docker_005'), ('docker_003', 'docker_006'), ('docker_003', 'fly_remote_001'), ('docker_004', 'db_007'), ('docker_004', 'db_009'), ('docker_004', 'docker_004'), ('docker_004', 'docker_005'), ('docker_004', 'docker_006'), ('docker_004', 'fly_remote_001'), ('docker_005', 'db_003'), ('docker_005', 'docker_005'), ('docker_006', 'db_003'), ('docker_006', 'docker_006'), ('docker_007', 'db_003'), ('docker_007', 'docker_007'), ('docker_008', 'db_003'), ('docker_008', 'docker_008'), ('os_021', 'docker_003'), ('os_021', 'docker_004'), ('os_021', 'os_021'), ('os_022', 'docker_001'), ('os_022', 'docker_002'), ('os_022', 'os_022')])"
      ]
     },
     "metadata": {},
     "execution_count": 28
    }
   ],
   "source": [
    "grouped_df.groups.keys()"
   ]
  },
  {
   "cell_type": "code",
   "execution_count": 45,
   "metadata": {},
   "outputs": [],
   "source": [
    "def esd_test_statistics(x, hybrid=True):\n",
    "  \"\"\"\n",
    "  Compute the location and dispersion sample statistics used to carry out the ESD test.\n",
    "  \"\"\"\n",
    "  if hybrid:\n",
    "    location = pd.Series(x).median(skipna=True) # Median\n",
    "    dispersion = np.median(np.abs(x - np.median(x))) # Median Absolute Deviation\n",
    "  else:  \n",
    "    location = pd.Series(x).mean(skipna=True) # Mean\n",
    "    dispersion = pd.Series(x).std(skipna=True) # Standard Deviation\n",
    "    \n",
    "  return location, dispersion    "
   ]
  },
  {
   "cell_type": "code",
   "execution_count": 46,
   "metadata": {},
   "outputs": [],
   "source": [
    "# def seasonal_mean(x, freq):\n",
    "#   \"\"\"\n",
    "#   Returns the mean of the timeseries for each period in x.\n",
    "  \n",
    "#   x    : List, array, or series containing the time series\n",
    "#   freq : Int that gives the number of periods per cycle (7 for week, 12 for monthly, etc)\n",
    "#   \"\"\"\n",
    "#   return np.array([pd.Series(x[i::freq]).mean(skipna=True) for i in range(freq)])\n",
    "\n",
    "def ts_S_Md_decomposition(x):\n",
    "  \"\"\"\n",
    "  Decomposes the timeseries using a modified STL method:Rx = X - Sx - X^~.\n",
    "    Rx : Residuals\n",
    "    X  : Original time series\n",
    "    Sx : Seasonality component (average value per period)\n",
    "    X^~: Median of original timeseries\n",
    "    \n",
    "  x    : List, array, or series containing the time series \n",
    "  freq : Int that gives the number of periods per cycle (7 for week, 12 for monthly, etc)  \n",
    "  \"\"\"\n",
    "  nobs = len(x)\n",
    "  \n",
    "  # Seasonality\n",
    "#   period_averages = seasonal_mean(x, freq)\n",
    "#   seasonal = np.tile(period_averages, nobs // freq + 1)[:nobs]\n",
    "  \n",
    "  # Median\n",
    "  med = np.tile(pd.Series(x).median(skipna=True), nobs)\n",
    "  \n",
    "  # Residuals\n",
    "#   res = np.array(x) - seasonal - med\n",
    "  res = np.array(x) - med\n",
    "  return {\"observed\": np.array(x), \"median\":med, \"residual\":res}"
   ]
  },
  {
   "cell_type": "code",
   "execution_count": 47,
   "metadata": {},
   "outputs": [],
   "source": [
    "def esd_test(x, alpha=0.95, ub=0.499, hybrid=True):\n",
    "  \"\"\"\n",
    "  Carries out the Extreme Studentized Deviate(ESD) test which can be used to detect one or more outliers present in the timeseries\n",
    "  \n",
    "  x      : List, array, or series containing the time series\n",
    "  freq   : Int that gives the number of periods per cycle (7 for week, 12 for monthly, etc)\n",
    "  alpha  : Confidence level in detecting outliers\n",
    "  ub     : Upper bound on the fraction of datapoints which can be labeled as outliers (<=0.499)\n",
    "  hybrid : Whether to use the robust statistics (median, median absolute error) or the non-robust versions (mean, standard deviation) to test for anomalies\n",
    "  \"\"\"\n",
    "  nobs = len(x)\n",
    "  if ub > 0.4999:\n",
    "    ub = 0.499\n",
    "  k = max(int(np.floor(ub * nobs)), 1) # Maximum number of anomalies. At least 1 anomaly must be tested.\n",
    "#   res_tmp = ts_S_Md_decomposition(x)[\"residual\"] # Residuals from time series decomposition\n",
    "    \n",
    "  # Carry out the esd test k times  \n",
    "  res = np.ma.array(x, mask=False) # The \"ma\" structure allows masking of values to exclude the elements from any calculation\n",
    "  anomalies = [] # returns the indices of the found anomalies\n",
    "  for i in range(1, k+1):\n",
    "    location, dispersion = esd_test_statistics(res, hybrid) # Sample statistics\n",
    "    tmp = np.abs(res - location) / dispersion\n",
    "    idx = np.argmax(tmp) # Index of the test statistic\n",
    "    test_statistic = tmp[idx] \n",
    "    n = nobs - res.mask.sum() # sums  nonmasked values\n",
    "    critical_value = (n - i) * t.ppf(alpha, n - i - 1) / np.sqrt((n - i - 1 + np.power(t.ppf(alpha, n - i - 1), 2)) * (n - i - 1)) \n",
    "    if test_statistic > critical_value:\n",
    "      anomalies.append(test_statistic)\n",
    "    res.mask[idx] = True  \n",
    "  return np.mean(anomalies)"
   ]
  },
  {
   "cell_type": "code",
   "execution_count": 48,
   "metadata": {},
   "outputs": [
    {
     "output_type": "execute_result",
     "data": {
      "text/plain": [
       "dict_keys([('docker_001', 'db_007'), ('docker_001', 'db_009'), ('docker_001', 'docker_001'), ('docker_001', 'docker_007'), ('docker_001', 'docker_008'), ('docker_001', 'fly_remote_001'), ('docker_002', 'db_007'), ('docker_002', 'db_009'), ('docker_002', 'docker_002'), ('docker_002', 'docker_007'), ('docker_002', 'docker_008'), ('docker_002', 'fly_remote_001'), ('docker_003', 'db_007'), ('docker_003', 'db_009'), ('docker_003', 'docker_003'), ('docker_003', 'docker_005'), ('docker_003', 'docker_006'), ('docker_003', 'fly_remote_001'), ('docker_004', 'db_007'), ('docker_004', 'db_009'), ('docker_004', 'docker_004'), ('docker_004', 'docker_005'), ('docker_004', 'docker_006'), ('docker_004', 'fly_remote_001'), ('docker_005', 'db_003'), ('docker_005', 'docker_005'), ('docker_006', 'db_003'), ('docker_006', 'docker_006'), ('docker_007', 'db_003'), ('docker_007', 'docker_007'), ('docker_008', 'db_003'), ('docker_008', 'docker_008'), ('os_021', 'docker_003'), ('os_021', 'docker_004'), ('os_021', 'os_021'), ('os_022', 'docker_001'), ('os_022', 'docker_002'), ('os_022', 'os_022')])"
      ]
     },
     "metadata": {},
     "execution_count": 48
    }
   ],
   "source": [
    "grouped_df.groups.keys()"
   ]
  },
  {
   "cell_type": "code",
   "execution_count": 64,
   "metadata": {},
   "outputs": [],
   "source": [
    "class RCA():\n",
    "    def local_initiate(self):\n",
    "        self.dockers = ['docker_001', 'docker_002', 'docker_003', 'docker_004',\n",
    "                'docker_005', 'docker_006', 'docker_007', 'docker_008']\n",
    "        self.docker_hosts = ['os_017', 'os_018', 'os_019', 'os_020']\n",
    "\n",
    "        self.docker_kpi_names = ['container_cpu_used', None]\n",
    "        self.os_kpi_names = ['Sent_queue', 'Received_queue']\n",
    "        self.db_kpi_names = ['Proc_User_Used_Pct','Proc_Used_Pct','Sess_Connect','On_Off_State', 'tnsping_result_time']\n",
    "\n",
    "        self.docker_lookup_table = {}\n",
    "        for i in range(len(self.dockers)):\n",
    "            self.docker_lookup_table[self.dockers[i]] = self.docker_hosts[i % 4]\n",
    "            \n",
    "    def find_anomalous_rows(self, min_threshold = 5):\n",
    "        table = self.anomaly_chart.copy()\n",
    "        threshold = max( 0.5 * table.stack().max(), min_threshold)\n",
    "        dodgy_rows = []\n",
    "        just_rows = []\n",
    "        for column in table:\n",
    "            v = 0\n",
    "            r = ''\n",
    "            for index, row in table.iterrows():\n",
    "                if (row[column] > threshold):\n",
    "                    if index == column:\n",
    "                        dodgy_rows.append([index, row[column]])\n",
    "                        just_rows.append(index)\n",
    "                        break\n",
    "                    elif (row[column] > v):\n",
    "                        v = row[column]\n",
    "                        r = index\n",
    "            if r != '':\n",
    "                dodgy_rows.append([r, column, v])\n",
    "                just_rows.append(r)\n",
    "        \n",
    "        output = self.localize(dodgy_rows, list(set(just_rows)))\n",
    "        return output\n",
    "\n",
    "\n",
    "    def find_anomalous_kpi(self, cmdb_id):\n",
    "        kpi_names = []\n",
    "        if 'os' in cmdb_id:\n",
    "            kpi_names = self.os_kpi_names\n",
    "        elif 'docker' in cmdb_id:\n",
    "            kpi_names = self.docker_kpi_names\n",
    "        else:\n",
    "            kpi_names = self.db_kpi_names\n",
    "\n",
    "        return kpi_names\n",
    "\n",
    "\n",
    "    def localize(self, dodgy_rows, just_rows):\n",
    "        n = len(just_rows)\n",
    "        if n < 1:\n",
    "            return None\n",
    "        if n == 1:\n",
    "            KPIs = self.find_anomalous_kpi(just_rows[0])\n",
    "            to_be_sent = []\n",
    "            for KPI in KPIs:\n",
    "                to_be_sent.append([just_rows[0], KPI])\n",
    "            return to_be_sent\n",
    "        if n == 2:\n",
    "            r0 = just_rows[0]\n",
    "            r1 = just_rows[1]\n",
    "            if ('os' in r0) and ('os' in r1):\n",
    "                KPI = self.find_anomalous_kpi('os_001')\n",
    "                return [['os_001', KPI[0]],['os_001', KPI[1]]]\n",
    "            elif ('docker' in r0) and ('docker' in r1):\n",
    "                if self.docker_lookup_table[r0] == self.docker_lookup_table[r1]:\n",
    "                    KPI = self.find_anomalous_kpi(self.docker_lookup_table[r0])\n",
    "                    return [[self.docker_lookup_table[r0], KPI]]\n",
    "            else:\n",
    "                KPI0s = self.find_anomalous_kpi(r0)\n",
    "                KPI1s = self.find_anomalous_kpi(r1)\n",
    "                to_be_sent = []\n",
    "                for kpi in KPI0s:\n",
    "                    to_be_sent.append([r0, kpi])\n",
    "                for kpi in KPI1s:\n",
    "                    to_be_sent.append([r1, kpi])\n",
    "                return to_be_sent\n",
    "        if n > 2:\n",
    "            dodgy_rows.sort(key = lambda x: x[2], reverse = True)\n",
    "            just_rows = [x[0] for x in dodgy_rows]\n",
    "            just_rows = list(set(just_rows))\n",
    "            return self.localize(dodgy_rows[:2], just_rows[:2])"
   ]
  },
  {
   "cell_type": "code",
   "execution_count": 67,
   "metadata": {},
   "outputs": [],
   "source": [
    "rca = RCA()\n",
    "rca.local_initiate()\n",
    "rca.anomaly_chart = anomaly_chart\n",
    "output = rca.find_anomalous_rows()"
   ]
  },
  {
   "cell_type": "code",
   "execution_count": 68,
   "metadata": {},
   "outputs": [
    {
     "output_type": "execute_result",
     "data": {
      "text/plain": [
       "[['db_003', 'Proc_User_Used_Pct'],\n",
       " ['db_003', 'Proc_Used_Pct'],\n",
       " ['db_003', 'Sess_Connect'],\n",
       " ['db_003', 'On_Off_State'],\n",
       " ['db_003', 'tnsping_result_time']]"
      ]
     },
     "metadata": {},
     "execution_count": 68
    }
   ],
   "source": [
    "output"
   ]
  },
  {
   "cell_type": "code",
   "execution_count": 55,
   "metadata": {},
   "outputs": [],
   "source": [
    "anomaly_chart = pd.DataFrame()\n",
    "for (a, b), value in grouped_df:\n",
    "    value['time_group'] = value.startTime//60000\n",
    "    value =value.groupby(['time_group'])['actual_time'].mean().reset_index()\n",
    "    result = esd_test(value['actual_time'].to_numpy(), alpha=0.95, ub=0.02, hybrid=True)\n",
    "    anomaly_chart.loc[b,a] = result\n",
    "    # print(a,b,' = ',len(result)/len(value)*100)"
   ]
  },
  {
   "cell_type": "code",
   "execution_count": 56,
   "metadata": {},
   "outputs": [
    {
     "output_type": "execute_result",
     "data": {
      "text/plain": [
       "                docker_001  docker_002  docker_003  docker_004  docker_005  \\\n",
       "db_003                 NaN         NaN         NaN         NaN  395.427476   \n",
       "db_007            5.078590    3.917711    3.055954    2.058739         NaN   \n",
       "db_009            4.547485    3.631238    6.373846    3.516092         NaN   \n",
       "docker_001        6.498043         NaN         NaN         NaN         NaN   \n",
       "docker_002             NaN    4.411082         NaN         NaN         NaN   \n",
       "docker_003             NaN         NaN    5.780308         NaN         NaN   \n",
       "docker_004             NaN         NaN         NaN    5.462637         NaN   \n",
       "docker_005             NaN         NaN    6.376907    4.268195   16.903471   \n",
       "docker_006             NaN         NaN    3.109623    3.324249         NaN   \n",
       "docker_007        7.217820    3.794487         NaN         NaN         NaN   \n",
       "docker_008        7.507859    3.200785         NaN         NaN         NaN   \n",
       "fly_remote_001    6.639840    3.365319    4.122752    2.536609         NaN   \n",
       "os_021                 NaN         NaN         NaN         NaN         NaN   \n",
       "os_022                 NaN         NaN         NaN         NaN         NaN   \n",
       "\n",
       "                docker_006  docker_007   docker_008    os_021    os_022  \n",
       "db_003          506.735357  652.038611  1188.941582       NaN       NaN  \n",
       "db_007                 NaN         NaN          NaN       NaN       NaN  \n",
       "db_009                 NaN         NaN          NaN       NaN       NaN  \n",
       "docker_001             NaN         NaN          NaN       NaN  5.219788  \n",
       "docker_002             NaN         NaN          NaN       NaN  6.791206  \n",
       "docker_003             NaN         NaN          NaN   5.07536       NaN  \n",
       "docker_004             NaN         NaN          NaN  17.58280       NaN  \n",
       "docker_005             NaN         NaN          NaN       NaN       NaN  \n",
       "docker_006       32.644674         NaN          NaN       NaN       NaN  \n",
       "docker_007             NaN   26.026669          NaN       NaN       NaN  \n",
       "docker_008             NaN         NaN    45.293057       NaN       NaN  \n",
       "fly_remote_001         NaN         NaN          NaN       NaN       NaN  \n",
       "os_021                 NaN         NaN          NaN   7.73535       NaN  \n",
       "os_022                 NaN         NaN          NaN       NaN  8.379157  "
      ],
      "text/html": "<div>\n<style scoped>\n    .dataframe tbody tr th:only-of-type {\n        vertical-align: middle;\n    }\n\n    .dataframe tbody tr th {\n        vertical-align: top;\n    }\n\n    .dataframe thead th {\n        text-align: right;\n    }\n</style>\n<table border=\"1\" class=\"dataframe\">\n  <thead>\n    <tr style=\"text-align: right;\">\n      <th></th>\n      <th>docker_001</th>\n      <th>docker_002</th>\n      <th>docker_003</th>\n      <th>docker_004</th>\n      <th>docker_005</th>\n      <th>docker_006</th>\n      <th>docker_007</th>\n      <th>docker_008</th>\n      <th>os_021</th>\n      <th>os_022</th>\n    </tr>\n  </thead>\n  <tbody>\n    <tr>\n      <th>db_003</th>\n      <td>NaN</td>\n      <td>NaN</td>\n      <td>NaN</td>\n      <td>NaN</td>\n      <td>395.427476</td>\n      <td>506.735357</td>\n      <td>652.038611</td>\n      <td>1188.941582</td>\n      <td>NaN</td>\n      <td>NaN</td>\n    </tr>\n    <tr>\n      <th>db_007</th>\n      <td>5.078590</td>\n      <td>3.917711</td>\n      <td>3.055954</td>\n      <td>2.058739</td>\n      <td>NaN</td>\n      <td>NaN</td>\n      <td>NaN</td>\n      <td>NaN</td>\n      <td>NaN</td>\n      <td>NaN</td>\n    </tr>\n    <tr>\n      <th>db_009</th>\n      <td>4.547485</td>\n      <td>3.631238</td>\n      <td>6.373846</td>\n      <td>3.516092</td>\n      <td>NaN</td>\n      <td>NaN</td>\n      <td>NaN</td>\n      <td>NaN</td>\n      <td>NaN</td>\n      <td>NaN</td>\n    </tr>\n    <tr>\n      <th>docker_001</th>\n      <td>6.498043</td>\n      <td>NaN</td>\n      <td>NaN</td>\n      <td>NaN</td>\n      <td>NaN</td>\n      <td>NaN</td>\n      <td>NaN</td>\n      <td>NaN</td>\n      <td>NaN</td>\n      <td>5.219788</td>\n    </tr>\n    <tr>\n      <th>docker_002</th>\n      <td>NaN</td>\n      <td>4.411082</td>\n      <td>NaN</td>\n      <td>NaN</td>\n      <td>NaN</td>\n      <td>NaN</td>\n      <td>NaN</td>\n      <td>NaN</td>\n      <td>NaN</td>\n      <td>6.791206</td>\n    </tr>\n    <tr>\n      <th>docker_003</th>\n      <td>NaN</td>\n      <td>NaN</td>\n      <td>5.780308</td>\n      <td>NaN</td>\n      <td>NaN</td>\n      <td>NaN</td>\n      <td>NaN</td>\n      <td>NaN</td>\n      <td>5.07536</td>\n      <td>NaN</td>\n    </tr>\n    <tr>\n      <th>docker_004</th>\n      <td>NaN</td>\n      <td>NaN</td>\n      <td>NaN</td>\n      <td>5.462637</td>\n      <td>NaN</td>\n      <td>NaN</td>\n      <td>NaN</td>\n      <td>NaN</td>\n      <td>17.58280</td>\n      <td>NaN</td>\n    </tr>\n    <tr>\n      <th>docker_005</th>\n      <td>NaN</td>\n      <td>NaN</td>\n      <td>6.376907</td>\n      <td>4.268195</td>\n      <td>16.903471</td>\n      <td>NaN</td>\n      <td>NaN</td>\n      <td>NaN</td>\n      <td>NaN</td>\n      <td>NaN</td>\n    </tr>\n    <tr>\n      <th>docker_006</th>\n      <td>NaN</td>\n      <td>NaN</td>\n      <td>3.109623</td>\n      <td>3.324249</td>\n      <td>NaN</td>\n      <td>32.644674</td>\n      <td>NaN</td>\n      <td>NaN</td>\n      <td>NaN</td>\n      <td>NaN</td>\n    </tr>\n    <tr>\n      <th>docker_007</th>\n      <td>7.217820</td>\n      <td>3.794487</td>\n      <td>NaN</td>\n      <td>NaN</td>\n      <td>NaN</td>\n      <td>NaN</td>\n      <td>26.026669</td>\n      <td>NaN</td>\n      <td>NaN</td>\n      <td>NaN</td>\n    </tr>\n    <tr>\n      <th>docker_008</th>\n      <td>7.507859</td>\n      <td>3.200785</td>\n      <td>NaN</td>\n      <td>NaN</td>\n      <td>NaN</td>\n      <td>NaN</td>\n      <td>NaN</td>\n      <td>45.293057</td>\n      <td>NaN</td>\n      <td>NaN</td>\n    </tr>\n    <tr>\n      <th>fly_remote_001</th>\n      <td>6.639840</td>\n      <td>3.365319</td>\n      <td>4.122752</td>\n      <td>2.536609</td>\n      <td>NaN</td>\n      <td>NaN</td>\n      <td>NaN</td>\n      <td>NaN</td>\n      <td>NaN</td>\n      <td>NaN</td>\n    </tr>\n    <tr>\n      <th>os_021</th>\n      <td>NaN</td>\n      <td>NaN</td>\n      <td>NaN</td>\n      <td>NaN</td>\n      <td>NaN</td>\n      <td>NaN</td>\n      <td>NaN</td>\n      <td>NaN</td>\n      <td>7.73535</td>\n      <td>NaN</td>\n    </tr>\n    <tr>\n      <th>os_022</th>\n      <td>NaN</td>\n      <td>NaN</td>\n      <td>NaN</td>\n      <td>NaN</td>\n      <td>NaN</td>\n      <td>NaN</td>\n      <td>NaN</td>\n      <td>NaN</td>\n      <td>NaN</td>\n      <td>8.379157</td>\n    </tr>\n  </tbody>\n</table>\n</div>"
     },
     "metadata": {},
     "execution_count": 56
    }
   ],
   "source": [
    "anomaly_chart.sort_index(inplace=True)\n",
    "anomaly_chart"
   ]
  },
  {
   "cell_type": "code",
   "execution_count": 50,
   "metadata": {},
   "outputs": [],
   "source": [
    "test = grouped_df.get_group(('docker_008', 'docker_008'))"
   ]
  },
  {
   "cell_type": "code",
   "execution_count": 51,
   "metadata": {},
   "outputs": [],
   "source": [
    "x = test[['startTime','actual_time']]\n",
    "# x_val = x['actual_time'].to_numpy()\n",
    "# x"
   ]
  },
  {
   "cell_type": "code",
   "execution_count": 52,
   "metadata": {},
   "outputs": [],
   "source": [
    "x['time_group'] = x.startTime//10000\n",
    "x = x.groupby(['time_group'])['actual_time'].mean().reset_index()"
   ]
  },
  {
   "cell_type": "code",
   "execution_count": 53,
   "metadata": {},
   "outputs": [],
   "source": [
    "x_val = x['actual_time'].to_numpy()"
   ]
  },
  {
   "cell_type": "code",
   "execution_count": 54,
   "metadata": {},
   "outputs": [],
   "source": [
    "result = esd_test(x_val, freq=3, alpha=0.99, ub=0.4, hybrid=True)"
   ]
  },
  {
   "cell_type": "code",
   "execution_count": 55,
   "metadata": {},
   "outputs": [
    {
     "output_type": "display_data",
     "data": {
      "text/plain": "<Figure size 432x288 with 1 Axes>",
      "image/svg+xml": "<?xml version=\"1.0\" encoding=\"utf-8\" standalone=\"no\"?>\r\n<!DOCTYPE svg PUBLIC \"-//W3C//DTD SVG 1.1//EN\"\r\n  \"http://www.w3.org/Graphics/SVG/1.1/DTD/svg11.dtd\">\r\n<!-- Created with matplotlib (https://matplotlib.org/) -->\r\n<svg height=\"248.518125pt\" version=\"1.1\" viewBox=\"0 0 381.65 248.518125\" width=\"381.65pt\" xmlns=\"http://www.w3.org/2000/svg\" xmlns:xlink=\"http://www.w3.org/1999/xlink\">\r\n <metadata>\r\n  <rdf:RDF xmlns:cc=\"http://creativecommons.org/ns#\" xmlns:dc=\"http://purl.org/dc/elements/1.1/\" xmlns:rdf=\"http://www.w3.org/1999/02/22-rdf-syntax-ns#\">\r\n   <cc:Work>\r\n    <dc:type rdf:resource=\"http://purl.org/dc/dcmitype/StillImage\"/>\r\n    <dc:date>2020-12-17T05:05:14.552046</dc:date>\r\n    <dc:format>image/svg+xml</dc:format>\r\n    <dc:creator>\r\n     <cc:Agent>\r\n      <dc:title>Matplotlib v3.3.3, https://matplotlib.org/</dc:title>\r\n     </cc:Agent>\r\n    </dc:creator>\r\n   </cc:Work>\r\n  </rdf:RDF>\r\n </metadata>\r\n <defs>\r\n  <style type=\"text/css\">*{stroke-linecap:butt;stroke-linejoin:round;}</style>\r\n </defs>\r\n <g id=\"figure_1\">\r\n  <g id=\"patch_1\">\r\n   <path d=\"M -0 248.518125 \r\nL 381.65 248.518125 \r\nL 381.65 0 \r\nL -0 0 \r\nz\r\n\" style=\"fill:none;\"/>\r\n  </g>\r\n  <g id=\"axes_1\">\r\n   <g id=\"patch_2\">\r\n    <path d=\"M 39.65 224.64 \r\nL 374.45 224.64 \r\nL 374.45 7.2 \r\nL 39.65 7.2 \r\nz\r\n\" style=\"fill:#ffffff;\"/>\r\n   </g>\r\n   <g id=\"PathCollection_1\">\r\n    <defs>\r\n     <path d=\"M 0 3 \r\nC 0.795609 3 1.55874 2.683901 2.12132 2.12132 \r\nC 2.683901 1.55874 3 0.795609 3 0 \r\nC 3 -0.795609 2.683901 -1.55874 2.12132 -2.12132 \r\nC 1.55874 -2.683901 0.795609 -3 0 -3 \r\nC -0.795609 -3 -1.55874 -2.683901 -2.12132 -2.12132 \r\nC -2.683901 -1.55874 -3 -0.795609 -3 0 \r\nC -3 0.795609 -2.683901 1.55874 -2.12132 2.12132 \r\nC -1.55874 2.683901 -0.795609 3 0 3 \r\nz\r\n\" id=\"mb82b0f1658\" style=\"stroke:#ff0000;\"/>\r\n    </defs>\r\n    <g clip-path=\"url(#p619259424a)\">\r\n     <use style=\"fill:#ff0000;stroke:#ff0000;\" x=\"344.164311\" xlink:href=\"#mb82b0f1658\" y=\"17.083636\"/>\r\n     <use style=\"fill:#ff0000;stroke:#ff0000;\" x=\"353.204815\" xlink:href=\"#mb82b0f1658\" y=\"39.594166\"/>\r\n     <use style=\"fill:#ff0000;stroke:#ff0000;\" x=\"347.177813\" xlink:href=\"#mb82b0f1658\" y=\"42.455615\"/>\r\n     <use style=\"fill:#ff0000;stroke:#ff0000;\" x=\"356.218317\" xlink:href=\"#mb82b0f1658\" y=\"59.655369\"/>\r\n     <use style=\"fill:#ff0000;stroke:#ff0000;\" x=\"359.231818\" xlink:href=\"#mb82b0f1658\" y=\"63.17735\"/>\r\n     <use style=\"fill:#ff0000;stroke:#ff0000;\" x=\"338.137309\" xlink:href=\"#mb82b0f1658\" y=\"67.32723\"/>\r\n     <use style=\"fill:#ff0000;stroke:#ff0000;\" x=\"350.191314\" xlink:href=\"#mb82b0f1658\" y=\"91.905419\"/>\r\n     <use style=\"fill:#ff0000;stroke:#ff0000;\" x=\"341.15081\" xlink:href=\"#mb82b0f1658\" y=\"93.930583\"/>\r\n     <use style=\"fill:#ff0000;stroke:#ff0000;\" x=\"335.123807\" xlink:href=\"#mb82b0f1658\" y=\"96.692798\"/>\r\n     <use style=\"fill:#ff0000;stroke:#ff0000;\" x=\"320.056301\" xlink:href=\"#mb82b0f1658\" y=\"111.077592\"/>\r\n     <use style=\"fill:#ff0000;stroke:#ff0000;\" x=\"317.042799\" xlink:href=\"#mb82b0f1658\" y=\"109.875961\"/>\r\n     <use style=\"fill:#ff0000;stroke:#ff0000;\" x=\"326.083303\" xlink:href=\"#mb82b0f1658\" y=\"114.485039\"/>\r\n     <use style=\"fill:#ff0000;stroke:#ff0000;\" x=\"329.096805\" xlink:href=\"#mb82b0f1658\" y=\"116.464844\"/>\r\n     <use style=\"fill:#ff0000;stroke:#ff0000;\" x=\"323.069802\" xlink:href=\"#mb82b0f1658\" y=\"120.506581\"/>\r\n     <use style=\"fill:#ff0000;stroke:#ff0000;\" x=\"308.002295\" xlink:href=\"#mb82b0f1658\" y=\"121.82729\"/>\r\n     <use style=\"fill:#ff0000;stroke:#ff0000;\" x=\"304.988794\" xlink:href=\"#mb82b0f1658\" y=\"132.086564\"/>\r\n     <use style=\"fill:#ff0000;stroke:#ff0000;\" x=\"332.110306\" xlink:href=\"#mb82b0f1658\" y=\"133.091981\"/>\r\n     <use style=\"fill:#ff0000;stroke:#ff0000;\" x=\"311.015797\" xlink:href=\"#mb82b0f1658\" y=\"136.89754\"/>\r\n     <use style=\"fill:#ff0000;stroke:#ff0000;\" x=\"314.029298\" xlink:href=\"#mb82b0f1658\" y=\"139.99051\"/>\r\n     <use style=\"fill:#ff0000;stroke:#ff0000;\" x=\"298.961791\" xlink:href=\"#mb82b0f1658\" y=\"154.177852\"/>\r\n     <use style=\"fill:#ff0000;stroke:#ff0000;\" x=\"295.94829\" xlink:href=\"#mb82b0f1658\" y=\"164.900557\"/>\r\n     <use style=\"fill:#ff0000;stroke:#ff0000;\" x=\"301.975293\" xlink:href=\"#mb82b0f1658\" y=\"166.197555\"/>\r\n     <use style=\"fill:#ff0000;stroke:#ff0000;\" x=\"289.921287\" xlink:href=\"#mb82b0f1658\" y=\"169.239151\"/>\r\n     <use style=\"fill:#ff0000;stroke:#ff0000;\" x=\"292.934788\" xlink:href=\"#mb82b0f1658\" y=\"174.44333\"/>\r\n    </g>\r\n   </g>\r\n   <g id=\"matplotlib.axis_1\">\r\n    <g id=\"xtick_1\">\r\n     <g id=\"line2d_1\">\r\n      <defs>\r\n       <path d=\"M 0 0 \r\nL 0 3.5 \r\n\" id=\"m89ad4dd6f0\" style=\"stroke:#000000;stroke-width:0.8;\"/>\r\n      </defs>\r\n      <g>\r\n       <use style=\"stroke:#000000;stroke-width:0.8;\" x=\"54.868182\" xlink:href=\"#m89ad4dd6f0\" y=\"224.64\"/>\r\n      </g>\r\n     </g>\r\n     <g id=\"text_1\">\r\n      <!-- 0 -->\r\n      <g transform=\"translate(51.686932 239.238437)scale(0.1 -0.1)\">\r\n       <defs>\r\n        <path d=\"M 31.78125 66.40625 \r\nQ 24.171875 66.40625 20.328125 58.90625 \r\nQ 16.5 51.421875 16.5 36.375 \r\nQ 16.5 21.390625 20.328125 13.890625 \r\nQ 24.171875 6.390625 31.78125 6.390625 \r\nQ 39.453125 6.390625 43.28125 13.890625 \r\nQ 47.125 21.390625 47.125 36.375 \r\nQ 47.125 51.421875 43.28125 58.90625 \r\nQ 39.453125 66.40625 31.78125 66.40625 \r\nz\r\nM 31.78125 74.21875 \r\nQ 44.046875 74.21875 50.515625 64.515625 \r\nQ 56.984375 54.828125 56.984375 36.375 \r\nQ 56.984375 17.96875 50.515625 8.265625 \r\nQ 44.046875 -1.421875 31.78125 -1.421875 \r\nQ 19.53125 -1.421875 13.0625 8.265625 \r\nQ 6.59375 17.96875 6.59375 36.375 \r\nQ 6.59375 54.828125 13.0625 64.515625 \r\nQ 19.53125 74.21875 31.78125 74.21875 \r\nz\r\n\" id=\"DejaVuSans-48\"/>\r\n       </defs>\r\n       <use xlink:href=\"#DejaVuSans-48\"/>\r\n      </g>\r\n     </g>\r\n    </g>\r\n    <g id=\"xtick_2\">\r\n     <g id=\"line2d_2\">\r\n      <g>\r\n       <use style=\"stroke:#000000;stroke-width:0.8;\" x=\"115.138209\" xlink:href=\"#m89ad4dd6f0\" y=\"224.64\"/>\r\n      </g>\r\n     </g>\r\n     <g id=\"text_2\">\r\n      <!-- 20 -->\r\n      <g transform=\"translate(108.775709 239.238437)scale(0.1 -0.1)\">\r\n       <defs>\r\n        <path d=\"M 19.1875 8.296875 \r\nL 53.609375 8.296875 \r\nL 53.609375 0 \r\nL 7.328125 0 \r\nL 7.328125 8.296875 \r\nQ 12.9375 14.109375 22.625 23.890625 \r\nQ 32.328125 33.6875 34.8125 36.53125 \r\nQ 39.546875 41.84375 41.421875 45.53125 \r\nQ 43.3125 49.21875 43.3125 52.78125 \r\nQ 43.3125 58.59375 39.234375 62.25 \r\nQ 35.15625 65.921875 28.609375 65.921875 \r\nQ 23.96875 65.921875 18.8125 64.3125 \r\nQ 13.671875 62.703125 7.8125 59.421875 \r\nL 7.8125 69.390625 \r\nQ 13.765625 71.78125 18.9375 73 \r\nQ 24.125 74.21875 28.421875 74.21875 \r\nQ 39.75 74.21875 46.484375 68.546875 \r\nQ 53.21875 62.890625 53.21875 53.421875 \r\nQ 53.21875 48.921875 51.53125 44.890625 \r\nQ 49.859375 40.875 45.40625 35.40625 \r\nQ 44.1875 33.984375 37.640625 27.21875 \r\nQ 31.109375 20.453125 19.1875 8.296875 \r\nz\r\n\" id=\"DejaVuSans-50\"/>\r\n       </defs>\r\n       <use xlink:href=\"#DejaVuSans-50\"/>\r\n       <use x=\"63.623047\" xlink:href=\"#DejaVuSans-48\"/>\r\n      </g>\r\n     </g>\r\n    </g>\r\n    <g id=\"xtick_3\">\r\n     <g id=\"line2d_3\">\r\n      <g>\r\n       <use style=\"stroke:#000000;stroke-width:0.8;\" x=\"175.408236\" xlink:href=\"#m89ad4dd6f0\" y=\"224.64\"/>\r\n      </g>\r\n     </g>\r\n     <g id=\"text_3\">\r\n      <!-- 40 -->\r\n      <g transform=\"translate(169.045736 239.238437)scale(0.1 -0.1)\">\r\n       <defs>\r\n        <path d=\"M 37.796875 64.3125 \r\nL 12.890625 25.390625 \r\nL 37.796875 25.390625 \r\nz\r\nM 35.203125 72.90625 \r\nL 47.609375 72.90625 \r\nL 47.609375 25.390625 \r\nL 58.015625 25.390625 \r\nL 58.015625 17.1875 \r\nL 47.609375 17.1875 \r\nL 47.609375 0 \r\nL 37.796875 0 \r\nL 37.796875 17.1875 \r\nL 4.890625 17.1875 \r\nL 4.890625 26.703125 \r\nz\r\n\" id=\"DejaVuSans-52\"/>\r\n       </defs>\r\n       <use xlink:href=\"#DejaVuSans-52\"/>\r\n       <use x=\"63.623047\" xlink:href=\"#DejaVuSans-48\"/>\r\n      </g>\r\n     </g>\r\n    </g>\r\n    <g id=\"xtick_4\">\r\n     <g id=\"line2d_4\">\r\n      <g>\r\n       <use style=\"stroke:#000000;stroke-width:0.8;\" x=\"235.678263\" xlink:href=\"#m89ad4dd6f0\" y=\"224.64\"/>\r\n      </g>\r\n     </g>\r\n     <g id=\"text_4\">\r\n      <!-- 60 -->\r\n      <g transform=\"translate(229.315763 239.238437)scale(0.1 -0.1)\">\r\n       <defs>\r\n        <path d=\"M 33.015625 40.375 \r\nQ 26.375 40.375 22.484375 35.828125 \r\nQ 18.609375 31.296875 18.609375 23.390625 \r\nQ 18.609375 15.53125 22.484375 10.953125 \r\nQ 26.375 6.390625 33.015625 6.390625 \r\nQ 39.65625 6.390625 43.53125 10.953125 \r\nQ 47.40625 15.53125 47.40625 23.390625 \r\nQ 47.40625 31.296875 43.53125 35.828125 \r\nQ 39.65625 40.375 33.015625 40.375 \r\nz\r\nM 52.59375 71.296875 \r\nL 52.59375 62.3125 \r\nQ 48.875 64.0625 45.09375 64.984375 \r\nQ 41.3125 65.921875 37.59375 65.921875 \r\nQ 27.828125 65.921875 22.671875 59.328125 \r\nQ 17.53125 52.734375 16.796875 39.40625 \r\nQ 19.671875 43.65625 24.015625 45.921875 \r\nQ 28.375 48.1875 33.59375 48.1875 \r\nQ 44.578125 48.1875 50.953125 41.515625 \r\nQ 57.328125 34.859375 57.328125 23.390625 \r\nQ 57.328125 12.15625 50.6875 5.359375 \r\nQ 44.046875 -1.421875 33.015625 -1.421875 \r\nQ 20.359375 -1.421875 13.671875 8.265625 \r\nQ 6.984375 17.96875 6.984375 36.375 \r\nQ 6.984375 53.65625 15.1875 63.9375 \r\nQ 23.390625 74.21875 37.203125 74.21875 \r\nQ 40.921875 74.21875 44.703125 73.484375 \r\nQ 48.484375 72.75 52.59375 71.296875 \r\nz\r\n\" id=\"DejaVuSans-54\"/>\r\n       </defs>\r\n       <use xlink:href=\"#DejaVuSans-54\"/>\r\n       <use x=\"63.623047\" xlink:href=\"#DejaVuSans-48\"/>\r\n      </g>\r\n     </g>\r\n    </g>\r\n    <g id=\"xtick_5\">\r\n     <g id=\"line2d_5\">\r\n      <g>\r\n       <use style=\"stroke:#000000;stroke-width:0.8;\" x=\"295.94829\" xlink:href=\"#m89ad4dd6f0\" y=\"224.64\"/>\r\n      </g>\r\n     </g>\r\n     <g id=\"text_5\">\r\n      <!-- 80 -->\r\n      <g transform=\"translate(289.58579 239.238437)scale(0.1 -0.1)\">\r\n       <defs>\r\n        <path d=\"M 31.78125 34.625 \r\nQ 24.75 34.625 20.71875 30.859375 \r\nQ 16.703125 27.09375 16.703125 20.515625 \r\nQ 16.703125 13.921875 20.71875 10.15625 \r\nQ 24.75 6.390625 31.78125 6.390625 \r\nQ 38.8125 6.390625 42.859375 10.171875 \r\nQ 46.921875 13.96875 46.921875 20.515625 \r\nQ 46.921875 27.09375 42.890625 30.859375 \r\nQ 38.875 34.625 31.78125 34.625 \r\nz\r\nM 21.921875 38.8125 \r\nQ 15.578125 40.375 12.03125 44.71875 \r\nQ 8.5 49.078125 8.5 55.328125 \r\nQ 8.5 64.0625 14.71875 69.140625 \r\nQ 20.953125 74.21875 31.78125 74.21875 \r\nQ 42.671875 74.21875 48.875 69.140625 \r\nQ 55.078125 64.0625 55.078125 55.328125 \r\nQ 55.078125 49.078125 51.53125 44.71875 \r\nQ 48 40.375 41.703125 38.8125 \r\nQ 48.828125 37.15625 52.796875 32.3125 \r\nQ 56.78125 27.484375 56.78125 20.515625 \r\nQ 56.78125 9.90625 50.3125 4.234375 \r\nQ 43.84375 -1.421875 31.78125 -1.421875 \r\nQ 19.734375 -1.421875 13.25 4.234375 \r\nQ 6.78125 9.90625 6.78125 20.515625 \r\nQ 6.78125 27.484375 10.78125 32.3125 \r\nQ 14.796875 37.15625 21.921875 38.8125 \r\nz\r\nM 18.3125 54.390625 \r\nQ 18.3125 48.734375 21.84375 45.5625 \r\nQ 25.390625 42.390625 31.78125 42.390625 \r\nQ 38.140625 42.390625 41.71875 45.5625 \r\nQ 45.3125 48.734375 45.3125 54.390625 \r\nQ 45.3125 60.0625 41.71875 63.234375 \r\nQ 38.140625 66.40625 31.78125 66.40625 \r\nQ 25.390625 66.40625 21.84375 63.234375 \r\nQ 18.3125 60.0625 18.3125 54.390625 \r\nz\r\n\" id=\"DejaVuSans-56\"/>\r\n       </defs>\r\n       <use xlink:href=\"#DejaVuSans-56\"/>\r\n       <use x=\"63.623047\" xlink:href=\"#DejaVuSans-48\"/>\r\n      </g>\r\n     </g>\r\n    </g>\r\n    <g id=\"xtick_6\">\r\n     <g id=\"line2d_6\">\r\n      <g>\r\n       <use style=\"stroke:#000000;stroke-width:0.8;\" x=\"356.218317\" xlink:href=\"#m89ad4dd6f0\" y=\"224.64\"/>\r\n      </g>\r\n     </g>\r\n     <g id=\"text_6\">\r\n      <!-- 100 -->\r\n      <g transform=\"translate(346.674567 239.238437)scale(0.1 -0.1)\">\r\n       <defs>\r\n        <path d=\"M 12.40625 8.296875 \r\nL 28.515625 8.296875 \r\nL 28.515625 63.921875 \r\nL 10.984375 60.40625 \r\nL 10.984375 69.390625 \r\nL 28.421875 72.90625 \r\nL 38.28125 72.90625 \r\nL 38.28125 8.296875 \r\nL 54.390625 8.296875 \r\nL 54.390625 0 \r\nL 12.40625 0 \r\nz\r\n\" id=\"DejaVuSans-49\"/>\r\n       </defs>\r\n       <use xlink:href=\"#DejaVuSans-49\"/>\r\n       <use x=\"63.623047\" xlink:href=\"#DejaVuSans-48\"/>\r\n       <use x=\"127.246094\" xlink:href=\"#DejaVuSans-48\"/>\r\n      </g>\r\n     </g>\r\n    </g>\r\n   </g>\r\n   <g id=\"matplotlib.axis_2\">\r\n    <g id=\"ytick_1\">\r\n     <g id=\"line2d_7\">\r\n      <defs>\r\n       <path d=\"M 0 0 \r\nL -3.5 0 \r\n\" id=\"mce51f71107\" style=\"stroke:#000000;stroke-width:0.8;\"/>\r\n      </defs>\r\n      <g>\r\n       <use style=\"stroke:#000000;stroke-width:0.8;\" x=\"39.65\" xlink:href=\"#mce51f71107\" y=\"215.422018\"/>\r\n      </g>\r\n     </g>\r\n     <g id=\"text_7\">\r\n      <!-- 0 -->\r\n      <g transform=\"translate(26.2875 219.221237)scale(0.1 -0.1)\">\r\n       <use xlink:href=\"#DejaVuSans-48\"/>\r\n      </g>\r\n     </g>\r\n    </g>\r\n    <g id=\"ytick_2\">\r\n     <g id=\"line2d_8\">\r\n      <g>\r\n       <use style=\"stroke:#000000;stroke-width:0.8;\" x=\"39.65\" xlink:href=\"#mce51f71107\" y=\"167.875276\"/>\r\n      </g>\r\n     </g>\r\n     <g id=\"text_8\">\r\n      <!-- 500 -->\r\n      <g transform=\"translate(13.5625 171.674495)scale(0.1 -0.1)\">\r\n       <defs>\r\n        <path d=\"M 10.796875 72.90625 \r\nL 49.515625 72.90625 \r\nL 49.515625 64.59375 \r\nL 19.828125 64.59375 \r\nL 19.828125 46.734375 \r\nQ 21.96875 47.46875 24.109375 47.828125 \r\nQ 26.265625 48.1875 28.421875 48.1875 \r\nQ 40.625 48.1875 47.75 41.5 \r\nQ 54.890625 34.8125 54.890625 23.390625 \r\nQ 54.890625 11.625 47.5625 5.09375 \r\nQ 40.234375 -1.421875 26.90625 -1.421875 \r\nQ 22.3125 -1.421875 17.546875 -0.640625 \r\nQ 12.796875 0.140625 7.71875 1.703125 \r\nL 7.71875 11.625 \r\nQ 12.109375 9.234375 16.796875 8.0625 \r\nQ 21.484375 6.890625 26.703125 6.890625 \r\nQ 35.15625 6.890625 40.078125 11.328125 \r\nQ 45.015625 15.765625 45.015625 23.390625 \r\nQ 45.015625 31 40.078125 35.4375 \r\nQ 35.15625 39.890625 26.703125 39.890625 \r\nQ 22.75 39.890625 18.8125 39.015625 \r\nQ 14.890625 38.140625 10.796875 36.28125 \r\nz\r\n\" id=\"DejaVuSans-53\"/>\r\n       </defs>\r\n       <use xlink:href=\"#DejaVuSans-53\"/>\r\n       <use x=\"63.623047\" xlink:href=\"#DejaVuSans-48\"/>\r\n       <use x=\"127.246094\" xlink:href=\"#DejaVuSans-48\"/>\r\n      </g>\r\n     </g>\r\n    </g>\r\n    <g id=\"ytick_3\">\r\n     <g id=\"line2d_9\">\r\n      <g>\r\n       <use style=\"stroke:#000000;stroke-width:0.8;\" x=\"39.65\" xlink:href=\"#mce51f71107\" y=\"120.328534\"/>\r\n      </g>\r\n     </g>\r\n     <g id=\"text_9\">\r\n      <!-- 1000 -->\r\n      <g transform=\"translate(7.2 124.127753)scale(0.1 -0.1)\">\r\n       <use xlink:href=\"#DejaVuSans-49\"/>\r\n       <use x=\"63.623047\" xlink:href=\"#DejaVuSans-48\"/>\r\n       <use x=\"127.246094\" xlink:href=\"#DejaVuSans-48\"/>\r\n       <use x=\"190.869141\" xlink:href=\"#DejaVuSans-48\"/>\r\n      </g>\r\n     </g>\r\n    </g>\r\n    <g id=\"ytick_4\">\r\n     <g id=\"line2d_10\">\r\n      <g>\r\n       <use style=\"stroke:#000000;stroke-width:0.8;\" x=\"39.65\" xlink:href=\"#mce51f71107\" y=\"72.781792\"/>\r\n      </g>\r\n     </g>\r\n     <g id=\"text_10\">\r\n      <!-- 1500 -->\r\n      <g transform=\"translate(7.2 76.581011)scale(0.1 -0.1)\">\r\n       <use xlink:href=\"#DejaVuSans-49\"/>\r\n       <use x=\"63.623047\" xlink:href=\"#DejaVuSans-53\"/>\r\n       <use x=\"127.246094\" xlink:href=\"#DejaVuSans-48\"/>\r\n       <use x=\"190.869141\" xlink:href=\"#DejaVuSans-48\"/>\r\n      </g>\r\n     </g>\r\n    </g>\r\n    <g id=\"ytick_5\">\r\n     <g id=\"line2d_11\">\r\n      <g>\r\n       <use style=\"stroke:#000000;stroke-width:0.8;\" x=\"39.65\" xlink:href=\"#mce51f71107\" y=\"25.23505\"/>\r\n      </g>\r\n     </g>\r\n     <g id=\"text_11\">\r\n      <!-- 2000 -->\r\n      <g transform=\"translate(7.2 29.034269)scale(0.1 -0.1)\">\r\n       <use xlink:href=\"#DejaVuSans-50\"/>\r\n       <use x=\"63.623047\" xlink:href=\"#DejaVuSans-48\"/>\r\n       <use x=\"127.246094\" xlink:href=\"#DejaVuSans-48\"/>\r\n       <use x=\"190.869141\" xlink:href=\"#DejaVuSans-48\"/>\r\n      </g>\r\n     </g>\r\n    </g>\r\n   </g>\r\n   <g id=\"line2d_12\">\r\n    <path clip-path=\"url(#p619259424a)\" d=\"M 54.868182 213.923164 \r\nL 57.881683 213.879333 \r\nL 60.895185 213.452359 \r\nL 63.908686 214.160996 \r\nL 66.922187 213.946282 \r\nL 69.935689 213.905441 \r\nL 72.94919 213.6966 \r\nL 75.962691 214.0812 \r\nL 78.976193 213.82458 \r\nL 81.989694 213.901749 \r\nL 85.003195 213.793471 \r\nL 88.016697 213.931483 \r\nL 91.030198 213.861534 \r\nL 94.043699 213.855095 \r\nL 97.057201 213.589487 \r\nL 100.070702 213.865302 \r\nL 103.084203 213.855303 \r\nL 106.097705 213.479136 \r\nL 109.111206 213.89656 \r\nL 112.124707 213.876749 \r\nL 115.138209 213.866892 \r\nL 118.15171 213.776296 \r\nL 121.165212 213.999721 \r\nL 124.178713 214.328443 \r\nL 127.192214 213.810183 \r\nL 130.205716 213.934021 \r\nL 133.219217 213.588657 \r\nL 136.232718 213.879314 \r\nL 139.24622 213.955304 \r\nL 142.259721 213.609125 \r\nL 145.273222 213.89129 \r\nL 148.286724 213.819492 \r\nL 151.300225 213.42819 \r\nL 154.313726 214.756364 \r\nL 157.327228 213.828999 \r\nL 160.340729 213.867446 \r\nL 163.35423 213.692393 \r\nL 166.367732 214.052078 \r\nL 169.381233 213.871614 \r\nL 172.394734 213.83158 \r\nL 175.408236 213.781896 \r\nL 178.421737 213.897641 \r\nL 181.435239 213.870493 \r\nL 184.44874 213.850574 \r\nL 187.462241 213.235896 \r\nL 190.475743 213.91804 \r\nL 193.489244 213.89004 \r\nL 196.502745 213.940145 \r\nL 199.516247 213.700937 \r\nL 202.529748 213.820059 \r\nL 205.543249 213.96788 \r\nL 208.556751 213.857877 \r\nL 211.570252 213.765928 \r\nL 214.583753 213.958834 \r\nL 217.597255 213.956234 \r\nL 220.610756 213.215616 \r\nL 223.624257 214.066116 \r\nL 226.637759 213.913145 \r\nL 229.65126 213.875293 \r\nL 232.664761 213.794623 \r\nL 235.678263 214.043163 \r\nL 238.691764 213.68359 \r\nL 241.705266 213.940653 \r\nL 244.718767 213.887809 \r\nL 247.732268 213.695441 \r\nL 250.74577 213.835337 \r\nL 253.759271 213.93788 \r\nL 256.772772 213.659992 \r\nL 259.786274 214.37599 \r\nL 262.799775 213.795676 \r\nL 265.813276 213.93599 \r\nL 268.826778 213.751004 \r\nL 271.840279 214.034167 \r\nL 274.85378 213.979953 \r\nL 277.867282 213.713973 \r\nL 280.880783 213.966031 \r\nL 283.894284 213.886052 \r\nL 286.907786 213.700498 \r\nL 289.921287 169.239151 \r\nL 292.934788 174.44333 \r\nL 295.94829 164.900557 \r\nL 298.961791 154.177852 \r\nL 301.975293 166.197555 \r\nL 304.988794 132.086564 \r\nL 308.002295 121.82729 \r\nL 311.015797 136.89754 \r\nL 314.029298 139.99051 \r\nL 317.042799 109.875961 \r\nL 320.056301 111.077592 \r\nL 323.069802 120.506581 \r\nL 326.083303 114.485039 \r\nL 329.096805 116.464844 \r\nL 332.110306 133.091981 \r\nL 335.123807 96.692798 \r\nL 338.137309 67.32723 \r\nL 341.15081 93.930583 \r\nL 344.164311 17.083636 \r\nL 347.177813 42.455615 \r\nL 350.191314 91.905419 \r\nL 353.204815 39.594166 \r\nL 356.218317 59.655369 \r\nL 359.231818 63.17735 \r\n\" style=\"fill:none;stroke:#0000ff;stroke-linecap:square;stroke-width:1.5;\"/>\r\n   </g>\r\n   <g id=\"patch_3\">\r\n    <path d=\"M 39.65 224.64 \r\nL 39.65 7.2 \r\n\" style=\"fill:none;stroke:#000000;stroke-linecap:square;stroke-linejoin:miter;stroke-width:0.8;\"/>\r\n   </g>\r\n   <g id=\"patch_4\">\r\n    <path d=\"M 374.45 224.64 \r\nL 374.45 7.2 \r\n\" style=\"fill:none;stroke:#000000;stroke-linecap:square;stroke-linejoin:miter;stroke-width:0.8;\"/>\r\n   </g>\r\n   <g id=\"patch_5\">\r\n    <path d=\"M 39.65 224.64 \r\nL 374.45 224.64 \r\n\" style=\"fill:none;stroke:#000000;stroke-linecap:square;stroke-linejoin:miter;stroke-width:0.8;\"/>\r\n   </g>\r\n   <g id=\"patch_6\">\r\n    <path d=\"M 39.65 7.2 \r\nL 374.45 7.2 \r\n\" style=\"fill:none;stroke:#000000;stroke-linecap:square;stroke-linejoin:miter;stroke-width:0.8;\"/>\r\n   </g>\r\n   <g id=\"legend_1\">\r\n    <g id=\"patch_7\">\r\n     <path d=\"M 46.65 44.55625 \r\nL 122.5125 44.55625 \r\nQ 124.5125 44.55625 124.5125 42.55625 \r\nL 124.5125 14.2 \r\nQ 124.5125 12.2 122.5125 12.2 \r\nL 46.65 12.2 \r\nQ 44.65 12.2 44.65 14.2 \r\nL 44.65 42.55625 \r\nQ 44.65 44.55625 46.65 44.55625 \r\nz\r\n\" style=\"fill:#ffffff;opacity:0.8;stroke:#cccccc;stroke-linejoin:miter;\"/>\r\n    </g>\r\n    <g id=\"line2d_13\">\r\n     <path d=\"M 48.65 20.298437 \r\nL 68.65 20.298437 \r\n\" style=\"fill:none;stroke:#0000ff;stroke-linecap:square;stroke-width:1.5;\"/>\r\n    </g>\r\n    <g id=\"line2d_14\"/>\r\n    <g id=\"text_12\">\r\n     <!-- Original -->\r\n     <g transform=\"translate(76.65 23.798437)scale(0.1 -0.1)\">\r\n      <defs>\r\n       <path d=\"M 39.40625 66.21875 \r\nQ 28.65625 66.21875 22.328125 58.203125 \r\nQ 16.015625 50.203125 16.015625 36.375 \r\nQ 16.015625 22.609375 22.328125 14.59375 \r\nQ 28.65625 6.59375 39.40625 6.59375 \r\nQ 50.140625 6.59375 56.421875 14.59375 \r\nQ 62.703125 22.609375 62.703125 36.375 \r\nQ 62.703125 50.203125 56.421875 58.203125 \r\nQ 50.140625 66.21875 39.40625 66.21875 \r\nz\r\nM 39.40625 74.21875 \r\nQ 54.734375 74.21875 63.90625 63.9375 \r\nQ 73.09375 53.65625 73.09375 36.375 \r\nQ 73.09375 19.140625 63.90625 8.859375 \r\nQ 54.734375 -1.421875 39.40625 -1.421875 \r\nQ 24.03125 -1.421875 14.8125 8.828125 \r\nQ 5.609375 19.09375 5.609375 36.375 \r\nQ 5.609375 53.65625 14.8125 63.9375 \r\nQ 24.03125 74.21875 39.40625 74.21875 \r\nz\r\n\" id=\"DejaVuSans-79\"/>\r\n       <path d=\"M 41.109375 46.296875 \r\nQ 39.59375 47.171875 37.8125 47.578125 \r\nQ 36.03125 48 33.890625 48 \r\nQ 26.265625 48 22.1875 43.046875 \r\nQ 18.109375 38.09375 18.109375 28.8125 \r\nL 18.109375 0 \r\nL 9.078125 0 \r\nL 9.078125 54.6875 \r\nL 18.109375 54.6875 \r\nL 18.109375 46.1875 \r\nQ 20.953125 51.171875 25.484375 53.578125 \r\nQ 30.03125 56 36.53125 56 \r\nQ 37.453125 56 38.578125 55.875 \r\nQ 39.703125 55.765625 41.0625 55.515625 \r\nz\r\n\" id=\"DejaVuSans-114\"/>\r\n       <path d=\"M 9.421875 54.6875 \r\nL 18.40625 54.6875 \r\nL 18.40625 0 \r\nL 9.421875 0 \r\nz\r\nM 9.421875 75.984375 \r\nL 18.40625 75.984375 \r\nL 18.40625 64.59375 \r\nL 9.421875 64.59375 \r\nz\r\n\" id=\"DejaVuSans-105\"/>\r\n       <path d=\"M 45.40625 27.984375 \r\nQ 45.40625 37.75 41.375 43.109375 \r\nQ 37.359375 48.484375 30.078125 48.484375 \r\nQ 22.859375 48.484375 18.828125 43.109375 \r\nQ 14.796875 37.75 14.796875 27.984375 \r\nQ 14.796875 18.265625 18.828125 12.890625 \r\nQ 22.859375 7.515625 30.078125 7.515625 \r\nQ 37.359375 7.515625 41.375 12.890625 \r\nQ 45.40625 18.265625 45.40625 27.984375 \r\nz\r\nM 54.390625 6.78125 \r\nQ 54.390625 -7.171875 48.1875 -13.984375 \r\nQ 42 -20.796875 29.203125 -20.796875 \r\nQ 24.46875 -20.796875 20.265625 -20.09375 \r\nQ 16.0625 -19.390625 12.109375 -17.921875 \r\nL 12.109375 -9.1875 \r\nQ 16.0625 -11.328125 19.921875 -12.34375 \r\nQ 23.78125 -13.375 27.78125 -13.375 \r\nQ 36.625 -13.375 41.015625 -8.765625 \r\nQ 45.40625 -4.15625 45.40625 5.171875 \r\nL 45.40625 9.625 \r\nQ 42.625 4.78125 38.28125 2.390625 \r\nQ 33.9375 0 27.875 0 \r\nQ 17.828125 0 11.671875 7.65625 \r\nQ 5.515625 15.328125 5.515625 27.984375 \r\nQ 5.515625 40.671875 11.671875 48.328125 \r\nQ 17.828125 56 27.875 56 \r\nQ 33.9375 56 38.28125 53.609375 \r\nQ 42.625 51.21875 45.40625 46.390625 \r\nL 45.40625 54.6875 \r\nL 54.390625 54.6875 \r\nz\r\n\" id=\"DejaVuSans-103\"/>\r\n       <path d=\"M 54.890625 33.015625 \r\nL 54.890625 0 \r\nL 45.90625 0 \r\nL 45.90625 32.71875 \r\nQ 45.90625 40.484375 42.875 44.328125 \r\nQ 39.84375 48.1875 33.796875 48.1875 \r\nQ 26.515625 48.1875 22.3125 43.546875 \r\nQ 18.109375 38.921875 18.109375 30.90625 \r\nL 18.109375 0 \r\nL 9.078125 0 \r\nL 9.078125 54.6875 \r\nL 18.109375 54.6875 \r\nL 18.109375 46.1875 \r\nQ 21.34375 51.125 25.703125 53.5625 \r\nQ 30.078125 56 35.796875 56 \r\nQ 45.21875 56 50.046875 50.171875 \r\nQ 54.890625 44.34375 54.890625 33.015625 \r\nz\r\n\" id=\"DejaVuSans-110\"/>\r\n       <path d=\"M 34.28125 27.484375 \r\nQ 23.390625 27.484375 19.1875 25 \r\nQ 14.984375 22.515625 14.984375 16.5 \r\nQ 14.984375 11.71875 18.140625 8.90625 \r\nQ 21.296875 6.109375 26.703125 6.109375 \r\nQ 34.1875 6.109375 38.703125 11.40625 \r\nQ 43.21875 16.703125 43.21875 25.484375 \r\nL 43.21875 27.484375 \r\nz\r\nM 52.203125 31.203125 \r\nL 52.203125 0 \r\nL 43.21875 0 \r\nL 43.21875 8.296875 \r\nQ 40.140625 3.328125 35.546875 0.953125 \r\nQ 30.953125 -1.421875 24.3125 -1.421875 \r\nQ 15.921875 -1.421875 10.953125 3.296875 \r\nQ 6 8.015625 6 15.921875 \r\nQ 6 25.140625 12.171875 29.828125 \r\nQ 18.359375 34.515625 30.609375 34.515625 \r\nL 43.21875 34.515625 \r\nL 43.21875 35.40625 \r\nQ 43.21875 41.609375 39.140625 45 \r\nQ 35.0625 48.390625 27.6875 48.390625 \r\nQ 23 48.390625 18.546875 47.265625 \r\nQ 14.109375 46.140625 10.015625 43.890625 \r\nL 10.015625 52.203125 \r\nQ 14.9375 54.109375 19.578125 55.046875 \r\nQ 24.21875 56 28.609375 56 \r\nQ 40.484375 56 46.34375 49.84375 \r\nQ 52.203125 43.703125 52.203125 31.203125 \r\nz\r\n\" id=\"DejaVuSans-97\"/>\r\n       <path d=\"M 9.421875 75.984375 \r\nL 18.40625 75.984375 \r\nL 18.40625 0 \r\nL 9.421875 0 \r\nz\r\n\" id=\"DejaVuSans-108\"/>\r\n      </defs>\r\n      <use xlink:href=\"#DejaVuSans-79\"/>\r\n      <use x=\"78.710938\" xlink:href=\"#DejaVuSans-114\"/>\r\n      <use x=\"119.824219\" xlink:href=\"#DejaVuSans-105\"/>\r\n      <use x=\"147.607422\" xlink:href=\"#DejaVuSans-103\"/>\r\n      <use x=\"211.083984\" xlink:href=\"#DejaVuSans-105\"/>\r\n      <use x=\"238.867188\" xlink:href=\"#DejaVuSans-110\"/>\r\n      <use x=\"302.246094\" xlink:href=\"#DejaVuSans-97\"/>\r\n      <use x=\"363.525391\" xlink:href=\"#DejaVuSans-108\"/>\r\n     </g>\r\n    </g>\r\n    <g id=\"PathCollection_2\">\r\n     <g>\r\n      <use style=\"fill:#ff0000;stroke:#ff0000;\" x=\"58.65\" xlink:href=\"#mb82b0f1658\" y=\"35.851562\"/>\r\n     </g>\r\n    </g>\r\n    <g id=\"text_13\">\r\n     <!-- Anomaly -->\r\n     <g transform=\"translate(76.65 38.476562)scale(0.1 -0.1)\">\r\n      <defs>\r\n       <path d=\"M 34.1875 63.1875 \r\nL 20.796875 26.90625 \r\nL 47.609375 26.90625 \r\nz\r\nM 28.609375 72.90625 \r\nL 39.796875 72.90625 \r\nL 67.578125 0 \r\nL 57.328125 0 \r\nL 50.6875 18.703125 \r\nL 17.828125 18.703125 \r\nL 11.1875 0 \r\nL 0.78125 0 \r\nz\r\n\" id=\"DejaVuSans-65\"/>\r\n       <path d=\"M 30.609375 48.390625 \r\nQ 23.390625 48.390625 19.1875 42.75 \r\nQ 14.984375 37.109375 14.984375 27.296875 \r\nQ 14.984375 17.484375 19.15625 11.84375 \r\nQ 23.34375 6.203125 30.609375 6.203125 \r\nQ 37.796875 6.203125 41.984375 11.859375 \r\nQ 46.1875 17.53125 46.1875 27.296875 \r\nQ 46.1875 37.015625 41.984375 42.703125 \r\nQ 37.796875 48.390625 30.609375 48.390625 \r\nz\r\nM 30.609375 56 \r\nQ 42.328125 56 49.015625 48.375 \r\nQ 55.71875 40.765625 55.71875 27.296875 \r\nQ 55.71875 13.875 49.015625 6.21875 \r\nQ 42.328125 -1.421875 30.609375 -1.421875 \r\nQ 18.84375 -1.421875 12.171875 6.21875 \r\nQ 5.515625 13.875 5.515625 27.296875 \r\nQ 5.515625 40.765625 12.171875 48.375 \r\nQ 18.84375 56 30.609375 56 \r\nz\r\n\" id=\"DejaVuSans-111\"/>\r\n       <path d=\"M 52 44.1875 \r\nQ 55.375 50.25 60.0625 53.125 \r\nQ 64.75 56 71.09375 56 \r\nQ 79.640625 56 84.28125 50.015625 \r\nQ 88.921875 44.046875 88.921875 33.015625 \r\nL 88.921875 0 \r\nL 79.890625 0 \r\nL 79.890625 32.71875 \r\nQ 79.890625 40.578125 77.09375 44.375 \r\nQ 74.3125 48.1875 68.609375 48.1875 \r\nQ 61.625 48.1875 57.5625 43.546875 \r\nQ 53.515625 38.921875 53.515625 30.90625 \r\nL 53.515625 0 \r\nL 44.484375 0 \r\nL 44.484375 32.71875 \r\nQ 44.484375 40.625 41.703125 44.40625 \r\nQ 38.921875 48.1875 33.109375 48.1875 \r\nQ 26.21875 48.1875 22.15625 43.53125 \r\nQ 18.109375 38.875 18.109375 30.90625 \r\nL 18.109375 0 \r\nL 9.078125 0 \r\nL 9.078125 54.6875 \r\nL 18.109375 54.6875 \r\nL 18.109375 46.1875 \r\nQ 21.1875 51.21875 25.484375 53.609375 \r\nQ 29.78125 56 35.6875 56 \r\nQ 41.65625 56 45.828125 52.96875 \r\nQ 50 49.953125 52 44.1875 \r\nz\r\n\" id=\"DejaVuSans-109\"/>\r\n       <path d=\"M 32.171875 -5.078125 \r\nQ 28.375 -14.84375 24.75 -17.8125 \r\nQ 21.140625 -20.796875 15.09375 -20.796875 \r\nL 7.90625 -20.796875 \r\nL 7.90625 -13.28125 \r\nL 13.1875 -13.28125 \r\nQ 16.890625 -13.28125 18.9375 -11.515625 \r\nQ 21 -9.765625 23.484375 -3.21875 \r\nL 25.09375 0.875 \r\nL 2.984375 54.6875 \r\nL 12.5 54.6875 \r\nL 29.59375 11.921875 \r\nL 46.6875 54.6875 \r\nL 56.203125 54.6875 \r\nz\r\n\" id=\"DejaVuSans-121\"/>\r\n      </defs>\r\n      <use xlink:href=\"#DejaVuSans-65\"/>\r\n      <use x=\"68.408203\" xlink:href=\"#DejaVuSans-110\"/>\r\n      <use x=\"131.787109\" xlink:href=\"#DejaVuSans-111\"/>\r\n      <use x=\"192.96875\" xlink:href=\"#DejaVuSans-109\"/>\r\n      <use x=\"290.380859\" xlink:href=\"#DejaVuSans-97\"/>\r\n      <use x=\"351.660156\" xlink:href=\"#DejaVuSans-108\"/>\r\n      <use x=\"379.443359\" xlink:href=\"#DejaVuSans-121\"/>\r\n     </g>\r\n    </g>\r\n   </g>\r\n  </g>\r\n </g>\r\n <defs>\r\n  <clipPath id=\"p619259424a\">\r\n   <rect height=\"217.44\" width=\"334.8\" x=\"39.65\" y=\"7.2\"/>\r\n  </clipPath>\r\n </defs>\r\n</svg>\r\n",
      "image/png": "[encoded data removed]"
     },
     "metadata": {
      "needs_background": "light"
     }
    }
   ],
   "source": [
    "fig, ax = plt.subplots()\n",
    "ax.plot(pd.Series(x_val).index, x_val, color=\"blue\", label = \"Original\")\n",
    "ax.scatter(result, x_val[result], color='red', label='Anomaly')\n",
    "plt.legend(loc=\"best\")\n",
    "plt.show()"
   ]
  },
  {
   "cell_type": "code",
   "execution_count": 183,
   "metadata": {},
   "outputs": [],
   "source": [
    "x = test[['startTime','actual_time']]\n",
    "# x_val = x['actual_time'].to_numpy()\n",
    "# x\n",
    "x['time_group'] = x.startTime//1000\n",
    "x = x.groupby(['time_group'])['actual_time'].mean().reset_index()"
   ]
  },
  {
   "cell_type": "code",
   "execution_count": 186,
   "metadata": {},
   "outputs": [],
   "source": [
    "x_test = x.copy()\n",
    "x_test.index = pd.to_datetime(x_test['time_group'], unit=\"s\")"
   ]
  },
  {
   "cell_type": "code",
   "execution_count": 187,
   "metadata": {},
   "outputs": [
    {
     "output_type": "execute_result",
     "data": {
      "text/plain": [
       "                     time_group  actual_time\n",
       "time_group                                  \n",
       "2020-05-25 18:04:00  1590429840     1.000000\n",
       "2020-05-25 18:04:01  1590429841     0.814815\n",
       "2020-05-25 18:04:02  1590429842     2.972222\n",
       "2020-05-25 18:04:03  1590429843     1.093023\n",
       "2020-05-25 18:04:04  1590429844     0.818182\n",
       "...                         ...          ...\n",
       "2020-05-25 18:10:31  1590430231     5.802956\n",
       "2020-05-25 18:10:32  1590430232     3.170213\n",
       "2020-05-25 18:10:33  1590430233     0.648148\n",
       "2020-05-25 18:10:34  1590430234     0.750000\n",
       "2020-05-25 18:10:35  1590430235     0.740741\n",
       "\n",
       "[227 rows x 2 columns]"
      ],
      "text/html": "<div>\n<style scoped>\n    .dataframe tbody tr th:only-of-type {\n        vertical-align: middle;\n    }\n\n    .dataframe tbody tr th {\n        vertical-align: top;\n    }\n\n    .dataframe thead th {\n        text-align: right;\n    }\n</style>\n<table border=\"1\" class=\"dataframe\">\n  <thead>\n    <tr style=\"text-align: right;\">\n      <th></th>\n      <th>time_group</th>\n      <th>actual_time</th>\n    </tr>\n    <tr>\n      <th>time_group</th>\n      <th></th>\n      <th></th>\n    </tr>\n  </thead>\n  <tbody>\n    <tr>\n      <th>2020-05-25 18:04:00</th>\n      <td>1590429840</td>\n      <td>1.000000</td>\n    </tr>\n    <tr>\n      <th>2020-05-25 18:04:01</th>\n      <td>1590429841</td>\n      <td>0.814815</td>\n    </tr>\n    <tr>\n      <th>2020-05-25 18:04:02</th>\n      <td>1590429842</td>\n      <td>2.972222</td>\n    </tr>\n    <tr>\n      <th>2020-05-25 18:04:03</th>\n      <td>1590429843</td>\n      <td>1.093023</td>\n    </tr>\n    <tr>\n      <th>2020-05-25 18:04:04</th>\n      <td>1590429844</td>\n      <td>0.818182</td>\n    </tr>\n    <tr>\n      <th>...</th>\n      <td>...</td>\n      <td>...</td>\n    </tr>\n    <tr>\n      <th>2020-05-25 18:10:31</th>\n      <td>1590430231</td>\n      <td>5.802956</td>\n    </tr>\n    <tr>\n      <th>2020-05-25 18:10:32</th>\n      <td>1590430232</td>\n      <td>3.170213</td>\n    </tr>\n    <tr>\n      <th>2020-05-25 18:10:33</th>\n      <td>1590430233</td>\n      <td>0.648148</td>\n    </tr>\n    <tr>\n      <th>2020-05-25 18:10:34</th>\n      <td>1590430234</td>\n      <td>0.750000</td>\n    </tr>\n    <tr>\n      <th>2020-05-25 18:10:35</th>\n      <td>1590430235</td>\n      <td>0.740741</td>\n    </tr>\n  </tbody>\n</table>\n<p>227 rows × 2 columns</p>\n</div>"
     },
     "metadata": {},
     "execution_count": 187
    }
   ],
   "source": [
    "x_test"
   ]
  },
  {
   "cell_type": "code",
   "execution_count": null,
   "metadata": {},
   "outputs": [],
   "source": []
  }
 ]
}