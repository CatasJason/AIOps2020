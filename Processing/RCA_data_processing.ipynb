{
 "metadata": {
  "language_info": {
   "codemirror_mode": {
    "name": "ipython",
    "version": 3
   },
   "file_extension": ".py",
   "mimetype": "text/x-python",
   "name": "python",
   "nbconvert_exporter": "python",
   "pygments_lexer": "ipython3",
   "version": "3.6.12-final"
  },
  "orig_nbformat": 2,
  "kernelspec": {
   "name": "python3",
   "display_name": "Python 3",
   "language": "python"
  }
 },
 "nbformat": 4,
 "nbformat_minor": 2,
 "cells": [
  {
   "cell_type": "code",
   "execution_count": 1,
   "metadata": {},
   "outputs": [],
   "source": [
    "import pandas as pd\n",
    "import glob\n",
    "import os\n",
    "import sys\n",
    "from tqdm import tqdm"
   ]
  },
  {
   "cell_type": "code",
   "execution_count": 3,
   "metadata": {},
   "outputs": [
    {
     "output_type": "execute_result",
     "data": {
      "text/plain": [
       "1608082305.0210252"
      ]
     },
     "metadata": {},
     "execution_count": 3
    }
   ],
   "source": [
    "time.time()"
   ]
  },
  {
   "cell_type": "code",
   "execution_count": 4,
   "metadata": {},
   "outputs": [
    {
     "output_type": "execute_result",
     "data": {
      "text/plain": [
       "['C:\\\\Users\\\\Henry\\\\Documents\\\\data\\\\2020_05_26\\\\Host\\\\db_oracle_11g.csv',\n",
       " 'C:\\\\Users\\\\Henry\\\\Documents\\\\data\\\\2020_05_26\\\\Host\\\\dcos_container.csv',\n",
       " 'C:\\\\Users\\\\Henry\\\\Documents\\\\data\\\\2020_05_26\\\\Host\\\\dcos_docker.csv',\n",
       " 'C:\\\\Users\\\\Henry\\\\Documents\\\\data\\\\2020_05_26\\\\Host\\\\mw_redis.csv',\n",
       " 'C:\\\\Users\\\\Henry\\\\Documents\\\\data\\\\2020_05_26\\\\Host\\\\os_linux.csv']"
      ]
     },
     "metadata": {},
     "execution_count": 4
    }
   ],
   "source": [
    "# KPI Data\n",
    "path = \"C:\\\\Users\\\\Henry\\\\Documents\\\\data\\\\2020_05_26\\\\Host\\\\\"\n",
    "all_files = glob.glob(path + \"*.csv\")\n",
    "all_files"
   ]
  },
  {
   "cell_type": "code",
   "execution_count": 5,
   "metadata": {},
   "outputs": [
    {
     "output_type": "execute_result",
     "data": {
      "text/plain": [
       "            itemid           name     bomc_id      timestamp      value  \\\n",
       "0  999999998651100  MEM_real_util  ZJ-002-053  1590422400000  81.360000   \n",
       "1  999999998651280   CPU_free_pct  ZJ-002-056  1590422400000  97.629848   \n",
       "2  999999998650680   CPU_free_pct  ZJ-002-056  1590422400000  98.970972   \n",
       "3  999999998650980   CPU_free_pct  ZJ-002-056  1590422400000  99.335904   \n",
       "4  999999996381601   CPU_free_pct  ZJ-002-056  1590422401000  95.683653   \n",
       "\n",
       "  cmdb_id  \n",
       "0  db_007  \n",
       "1  db_008  \n",
       "2  db_001  \n",
       "3  db_003  \n",
       "4  db_009  "
      ],
      "text/html": "<div>\n<style scoped>\n    .dataframe tbody tr th:only-of-type {\n        vertical-align: middle;\n    }\n\n    .dataframe tbody tr th {\n        vertical-align: top;\n    }\n\n    .dataframe thead th {\n        text-align: right;\n    }\n</style>\n<table border=\"1\" class=\"dataframe\">\n  <thead>\n    <tr style=\"text-align: right;\">\n      <th></th>\n      <th>itemid</th>\n      <th>name</th>\n      <th>bomc_id</th>\n      <th>timestamp</th>\n      <th>value</th>\n      <th>cmdb_id</th>\n    </tr>\n  </thead>\n  <tbody>\n    <tr>\n      <th>0</th>\n      <td>999999998651100</td>\n      <td>MEM_real_util</td>\n      <td>ZJ-002-053</td>\n      <td>1590422400000</td>\n      <td>81.360000</td>\n      <td>db_007</td>\n    </tr>\n    <tr>\n      <th>1</th>\n      <td>999999998651280</td>\n      <td>CPU_free_pct</td>\n      <td>ZJ-002-056</td>\n      <td>1590422400000</td>\n      <td>97.629848</td>\n      <td>db_008</td>\n    </tr>\n    <tr>\n      <th>2</th>\n      <td>999999998650680</td>\n      <td>CPU_free_pct</td>\n      <td>ZJ-002-056</td>\n      <td>1590422400000</td>\n      <td>98.970972</td>\n      <td>db_001</td>\n    </tr>\n    <tr>\n      <th>3</th>\n      <td>999999998650980</td>\n      <td>CPU_free_pct</td>\n      <td>ZJ-002-056</td>\n      <td>1590422400000</td>\n      <td>99.335904</td>\n      <td>db_003</td>\n    </tr>\n    <tr>\n      <th>4</th>\n      <td>999999996381601</td>\n      <td>CPU_free_pct</td>\n      <td>ZJ-002-056</td>\n      <td>1590422401000</td>\n      <td>95.683653</td>\n      <td>db_009</td>\n    </tr>\n  </tbody>\n</table>\n</div>"
     },
     "metadata": {},
     "execution_count": 5
    }
   ],
   "source": [
    "dfs = []\n",
    "for filename in all_files:\n",
    "    df = pd.read_csv(filename, index_col=None)\n",
    "    dfs.append(df)\n",
    "df = pd.concat(dfs, axis=0, ignore_index=True)\n",
    "df.head()"
   ]
  },
  {
   "cell_type": "code",
   "execution_count": 6,
   "metadata": {},
   "outputs": [],
   "source": [
    "anomaly_time = 1590430140000\n",
    "df = df.sort_values([\"timestamp\"], ignore_index=True)\n",
    "df = df[(df.timestamp >= (anomaly_time-1200000)) & (df.timestamp <= (anomaly_time + 300000))]"
   ]
  },
  {
   "cell_type": "code",
   "execution_count": 7,
   "metadata": {},
   "outputs": [],
   "source": [
    "df.to_csv('kpi_data_526_db_007.csv', index=False)"
   ]
  },
  {
   "cell_type": "code",
   "execution_count": 6,
   "metadata": {},
   "outputs": [
    {
     "output_type": "execute_result",
     "data": {
      "text/plain": [
       "                 itemid            name     bomc_id      timestamp      value  \\\n",
       "179912  999999996431278   CPU_user_time  ZJ-001-015  1590428940000   0.191805   \n",
       "179913         65432038    Disk_io_util  ZJ-001-125  1590428940000   0.000000   \n",
       "179914  999999996431458   Disk_avgqu_sz  ZJ-001-097  1590428940000   0.010898   \n",
       "179915  999999996430438  FS_total_space  ZJ-001-110  1590428940000  58.991700   \n",
       "179916  999999996432348    Disk_io_util  ZJ-001-101  1590428940000   0.000000   \n",
       "\n",
       "       cmdb_id  \n",
       "179912  os_013  \n",
       "179913  os_010  \n",
       "179914  os_012  \n",
       "179915  os_001  \n",
       "179916  os_009  "
      ],
      "text/html": "<div>\n<style scoped>\n    .dataframe tbody tr th:only-of-type {\n        vertical-align: middle;\n    }\n\n    .dataframe tbody tr th {\n        vertical-align: top;\n    }\n\n    .dataframe thead th {\n        text-align: right;\n    }\n</style>\n<table border=\"1\" class=\"dataframe\">\n  <thead>\n    <tr style=\"text-align: right;\">\n      <th></th>\n      <th>itemid</th>\n      <th>name</th>\n      <th>bomc_id</th>\n      <th>timestamp</th>\n      <th>value</th>\n      <th>cmdb_id</th>\n    </tr>\n  </thead>\n  <tbody>\n    <tr>\n      <th>179912</th>\n      <td>999999996431278</td>\n      <td>CPU_user_time</td>\n      <td>ZJ-001-015</td>\n      <td>1590428940000</td>\n      <td>0.191805</td>\n      <td>os_013</td>\n    </tr>\n    <tr>\n      <th>179913</th>\n      <td>65432038</td>\n      <td>Disk_io_util</td>\n      <td>ZJ-001-125</td>\n      <td>1590428940000</td>\n      <td>0.000000</td>\n      <td>os_010</td>\n    </tr>\n    <tr>\n      <th>179914</th>\n      <td>999999996431458</td>\n      <td>Disk_avgqu_sz</td>\n      <td>ZJ-001-097</td>\n      <td>1590428940000</td>\n      <td>0.010898</td>\n      <td>os_012</td>\n    </tr>\n    <tr>\n      <th>179915</th>\n      <td>999999996430438</td>\n      <td>FS_total_space</td>\n      <td>ZJ-001-110</td>\n      <td>1590428940000</td>\n      <td>58.991700</td>\n      <td>os_001</td>\n    </tr>\n    <tr>\n      <th>179916</th>\n      <td>999999996432348</td>\n      <td>Disk_io_util</td>\n      <td>ZJ-001-101</td>\n      <td>1590428940000</td>\n      <td>0.000000</td>\n      <td>os_009</td>\n    </tr>\n  </tbody>\n</table>\n</div>"
     },
     "metadata": {},
     "execution_count": 6
    }
   ],
   "source": [
    "df.head()"
   ]
  },
  {
   "cell_type": "code",
   "execution_count": 9,
   "metadata": {},
   "outputs": [
    {
     "output_type": "execute_result",
     "data": {
      "text/plain": [
       "                 itemid           name     bomc_id      timestamp  value  \\\n",
       "180591  999999996867776  Proc_Used_Pct  ZJ-002-077  1590428971000   2.18   \n",
       "182275  999999996867776  Proc_Used_Pct  ZJ-002-077  1590429032000   2.18   \n",
       "183941  999999996867776  Proc_Used_Pct  ZJ-002-077  1590429092000   2.18   \n",
       "185509  999999996867776  Proc_Used_Pct  ZJ-002-077  1590429151000   2.18   \n",
       "187189  999999996867776  Proc_Used_Pct  ZJ-002-077  1590429211000   2.18   \n",
       "188781  999999996867776  Proc_Used_Pct  ZJ-002-077  1590429271000   2.18   \n",
       "190466  999999996867776  Proc_Used_Pct  ZJ-002-077  1590429331000   2.18   \n",
       "192078  999999996867776  Proc_Used_Pct  ZJ-002-077  1590429391000   2.18   \n",
       "194001  999999996867776  Proc_Used_Pct  ZJ-002-077  1590429451000   2.18   \n",
       "195611  999999996867776  Proc_Used_Pct  ZJ-002-077  1590429511000   2.18   \n",
       "197300  999999996867776  Proc_Used_Pct  ZJ-002-077  1590429571000   2.18   \n",
       "198915  999999996867776  Proc_Used_Pct  ZJ-002-077  1590429631000   2.18   \n",
       "200600  999999996867776  Proc_Used_Pct  ZJ-002-077  1590429691000   2.18   \n",
       "202180  999999996867776  Proc_Used_Pct  ZJ-002-077  1590429751000   2.18   \n",
       "203834  999999996867776  Proc_Used_Pct  ZJ-002-077  1590429812000   2.18   \n",
       "205397  999999996867776  Proc_Used_Pct  ZJ-002-077  1590429871000   2.18   \n",
       "207121  999999996867776  Proc_Used_Pct  ZJ-002-077  1590429931000   2.18   \n",
       "208697  999999996867776  Proc_Used_Pct  ZJ-002-077  1590429991000   2.18   \n",
       "210626  999999996867776  Proc_Used_Pct  ZJ-002-077  1590430051000   2.18   \n",
       "212216  999999996867776  Proc_Used_Pct  ZJ-002-077  1590430111000   2.18   \n",
       "213872  999999996867776  Proc_Used_Pct  ZJ-002-077  1590430171000   2.18   \n",
       "215523  999999996867776  Proc_Used_Pct  ZJ-002-077  1590430231000   2.92   \n",
       "217172  999999996867776  Proc_Used_Pct  ZJ-002-077  1590430291000   1.93   \n",
       "218748  999999996867776  Proc_Used_Pct  ZJ-002-077  1590430351000   2.18   \n",
       "220397  999999996867776  Proc_Used_Pct  ZJ-002-077  1590430411000   2.18   \n",
       "\n",
       "       cmdb_id  \n",
       "180591  db_007  \n",
       "182275  db_007  \n",
       "183941  db_007  \n",
       "185509  db_007  \n",
       "187189  db_007  \n",
       "188781  db_007  \n",
       "190466  db_007  \n",
       "192078  db_007  \n",
       "194001  db_007  \n",
       "195611  db_007  \n",
       "197300  db_007  \n",
       "198915  db_007  \n",
       "200600  db_007  \n",
       "202180  db_007  \n",
       "203834  db_007  \n",
       "205397  db_007  \n",
       "207121  db_007  \n",
       "208697  db_007  \n",
       "210626  db_007  \n",
       "212216  db_007  \n",
       "213872  db_007  \n",
       "215523  db_007  \n",
       "217172  db_007  \n",
       "218748  db_007  \n",
       "220397  db_007  "
      ],
      "text/html": "<div>\n<style scoped>\n    .dataframe tbody tr th:only-of-type {\n        vertical-align: middle;\n    }\n\n    .dataframe tbody tr th {\n        vertical-align: top;\n    }\n\n    .dataframe thead th {\n        text-align: right;\n    }\n</style>\n<table border=\"1\" class=\"dataframe\">\n  <thead>\n    <tr style=\"text-align: right;\">\n      <th></th>\n      <th>itemid</th>\n      <th>name</th>\n      <th>bomc_id</th>\n      <th>timestamp</th>\n      <th>value</th>\n      <th>cmdb_id</th>\n    </tr>\n  </thead>\n  <tbody>\n    <tr>\n      <th>180591</th>\n      <td>999999996867776</td>\n      <td>Proc_Used_Pct</td>\n      <td>ZJ-002-077</td>\n      <td>1590428971000</td>\n      <td>2.18</td>\n      <td>db_007</td>\n    </tr>\n    <tr>\n      <th>182275</th>\n      <td>999999996867776</td>\n      <td>Proc_Used_Pct</td>\n      <td>ZJ-002-077</td>\n      <td>1590429032000</td>\n      <td>2.18</td>\n      <td>db_007</td>\n    </tr>\n    <tr>\n      <th>183941</th>\n      <td>999999996867776</td>\n      <td>Proc_Used_Pct</td>\n      <td>ZJ-002-077</td>\n      <td>1590429092000</td>\n      <td>2.18</td>\n      <td>db_007</td>\n    </tr>\n    <tr>\n      <th>185509</th>\n      <td>999999996867776</td>\n      <td>Proc_Used_Pct</td>\n      <td>ZJ-002-077</td>\n      <td>1590429151000</td>\n      <td>2.18</td>\n      <td>db_007</td>\n    </tr>\n    <tr>\n      <th>187189</th>\n      <td>999999996867776</td>\n      <td>Proc_Used_Pct</td>\n      <td>ZJ-002-077</td>\n      <td>1590429211000</td>\n      <td>2.18</td>\n      <td>db_007</td>\n    </tr>\n    <tr>\n      <th>188781</th>\n      <td>999999996867776</td>\n      <td>Proc_Used_Pct</td>\n      <td>ZJ-002-077</td>\n      <td>1590429271000</td>\n      <td>2.18</td>\n      <td>db_007</td>\n    </tr>\n    <tr>\n      <th>190466</th>\n      <td>999999996867776</td>\n      <td>Proc_Used_Pct</td>\n      <td>ZJ-002-077</td>\n      <td>1590429331000</td>\n      <td>2.18</td>\n      <td>db_007</td>\n    </tr>\n    <tr>\n      <th>192078</th>\n      <td>999999996867776</td>\n      <td>Proc_Used_Pct</td>\n      <td>ZJ-002-077</td>\n      <td>1590429391000</td>\n      <td>2.18</td>\n      <td>db_007</td>\n    </tr>\n    <tr>\n      <th>194001</th>\n      <td>999999996867776</td>\n      <td>Proc_Used_Pct</td>\n      <td>ZJ-002-077</td>\n      <td>1590429451000</td>\n      <td>2.18</td>\n      <td>db_007</td>\n    </tr>\n    <tr>\n      <th>195611</th>\n      <td>999999996867776</td>\n      <td>Proc_Used_Pct</td>\n      <td>ZJ-002-077</td>\n      <td>1590429511000</td>\n      <td>2.18</td>\n      <td>db_007</td>\n    </tr>\n    <tr>\n      <th>197300</th>\n      <td>999999996867776</td>\n      <td>Proc_Used_Pct</td>\n      <td>ZJ-002-077</td>\n      <td>1590429571000</td>\n      <td>2.18</td>\n      <td>db_007</td>\n    </tr>\n    <tr>\n      <th>198915</th>\n      <td>999999996867776</td>\n      <td>Proc_Used_Pct</td>\n      <td>ZJ-002-077</td>\n      <td>1590429631000</td>\n      <td>2.18</td>\n      <td>db_007</td>\n    </tr>\n    <tr>\n      <th>200600</th>\n      <td>999999996867776</td>\n      <td>Proc_Used_Pct</td>\n      <td>ZJ-002-077</td>\n      <td>1590429691000</td>\n      <td>2.18</td>\n      <td>db_007</td>\n    </tr>\n    <tr>\n      <th>202180</th>\n      <td>999999996867776</td>\n      <td>Proc_Used_Pct</td>\n      <td>ZJ-002-077</td>\n      <td>1590429751000</td>\n      <td>2.18</td>\n      <td>db_007</td>\n    </tr>\n    <tr>\n      <th>203834</th>\n      <td>999999996867776</td>\n      <td>Proc_Used_Pct</td>\n      <td>ZJ-002-077</td>\n      <td>1590429812000</td>\n      <td>2.18</td>\n      <td>db_007</td>\n    </tr>\n    <tr>\n      <th>205397</th>\n      <td>999999996867776</td>\n      <td>Proc_Used_Pct</td>\n      <td>ZJ-002-077</td>\n      <td>1590429871000</td>\n      <td>2.18</td>\n      <td>db_007</td>\n    </tr>\n    <tr>\n      <th>207121</th>\n      <td>999999996867776</td>\n      <td>Proc_Used_Pct</td>\n      <td>ZJ-002-077</td>\n      <td>1590429931000</td>\n      <td>2.18</td>\n      <td>db_007</td>\n    </tr>\n    <tr>\n      <th>208697</th>\n      <td>999999996867776</td>\n      <td>Proc_Used_Pct</td>\n      <td>ZJ-002-077</td>\n      <td>1590429991000</td>\n      <td>2.18</td>\n      <td>db_007</td>\n    </tr>\n    <tr>\n      <th>210626</th>\n      <td>999999996867776</td>\n      <td>Proc_Used_Pct</td>\n      <td>ZJ-002-077</td>\n      <td>1590430051000</td>\n      <td>2.18</td>\n      <td>db_007</td>\n    </tr>\n    <tr>\n      <th>212216</th>\n      <td>999999996867776</td>\n      <td>Proc_Used_Pct</td>\n      <td>ZJ-002-077</td>\n      <td>1590430111000</td>\n      <td>2.18</td>\n      <td>db_007</td>\n    </tr>\n    <tr>\n      <th>213872</th>\n      <td>999999996867776</td>\n      <td>Proc_Used_Pct</td>\n      <td>ZJ-002-077</td>\n      <td>1590430171000</td>\n      <td>2.18</td>\n      <td>db_007</td>\n    </tr>\n    <tr>\n      <th>215523</th>\n      <td>999999996867776</td>\n      <td>Proc_Used_Pct</td>\n      <td>ZJ-002-077</td>\n      <td>1590430231000</td>\n      <td>2.92</td>\n      <td>db_007</td>\n    </tr>\n    <tr>\n      <th>217172</th>\n      <td>999999996867776</td>\n      <td>Proc_Used_Pct</td>\n      <td>ZJ-002-077</td>\n      <td>1590430291000</td>\n      <td>1.93</td>\n      <td>db_007</td>\n    </tr>\n    <tr>\n      <th>218748</th>\n      <td>999999996867776</td>\n      <td>Proc_Used_Pct</td>\n      <td>ZJ-002-077</td>\n      <td>1590430351000</td>\n      <td>2.18</td>\n      <td>db_007</td>\n    </tr>\n    <tr>\n      <th>220397</th>\n      <td>999999996867776</td>\n      <td>Proc_Used_Pct</td>\n      <td>ZJ-002-077</td>\n      <td>1590430411000</td>\n      <td>2.18</td>\n      <td>db_007</td>\n    </tr>\n  </tbody>\n</table>\n</div>"
     },
     "metadata": {},
     "execution_count": 9
    }
   ],
   "source": [
    "df[df['name']=='Proc_Used_Pct'][df[df['name']=='Proc_Used_Pct']['cmdb_id']=='db_007']"
   ]
  },
  {
   "cell_type": "code",
   "execution_count": null,
   "metadata": {},
   "outputs": [],
   "source": []
  },
  {
   "cell_type": "code",
   "execution_count": 2,
   "metadata": {},
   "outputs": [
    {
     "output_type": "execute_result",
     "data": {
      "text/plain": [
       "['C:\\\\Users\\\\Henry\\\\Documents\\\\data\\\\2020_05_26\\\\Trace\\\\trace_csf.csv',\n",
       " 'C:\\\\Users\\\\Henry\\\\Documents\\\\data\\\\2020_05_26\\\\Trace\\\\trace_fly_remote.csv',\n",
       " 'C:\\\\Users\\\\Henry\\\\Documents\\\\data\\\\2020_05_26\\\\Trace\\\\trace_jdbc.csv',\n",
       " 'C:\\\\Users\\\\Henry\\\\Documents\\\\data\\\\2020_05_26\\\\Trace\\\\trace_local.csv',\n",
       " 'C:\\\\Users\\\\Henry\\\\Documents\\\\data\\\\2020_05_26\\\\Trace\\\\trace_osb.csv',\n",
       " 'C:\\\\Users\\\\Henry\\\\Documents\\\\data\\\\2020_05_26\\\\Trace\\\\trace_remote_process.csv']"
      ]
     },
     "metadata": {},
     "execution_count": 2
    }
   ],
   "source": [
    "path = \"C:\\\\Users\\\\Henry\\\\Documents\\\\data\\\\2020_05_26\\\\Trace\\\\\"\n",
    "all_files = glob.glob(path + \"*.csv\")\n",
    "all_files"
   ]
  },
  {
   "cell_type": "code",
   "execution_count": 3,
   "metadata": {},
   "outputs": [],
   "source": [
    "dfs = []\n",
    "for filename in all_files:\n",
    "    df = pd.read_csv(filename, index_col=None)\n",
    "    dfs.append(df)"
   ]
  },
  {
   "cell_type": "code",
   "execution_count": 4,
   "metadata": {},
   "outputs": [],
   "source": [
    "for df in dfs:\n",
    "    if df['callType'].iloc[0]=='JDBC':\n",
    "        df['serviceName'] = df['dsName']\n",
    "    # else:\n",
    "    #     df['serviceName'] = df['cmdb_id']\n",
    "    # if df['callType'].iloc[0]=='JDBC':\n",
    "    #     df['serviceName'] = df['dsName']"
   ]
  },
  {
   "cell_type": "code",
   "execution_count": 5,
   "metadata": {},
   "outputs": [
    {
     "output_type": "execute_result",
     "data": {
      "text/plain": [
       "  callType      startTime  elapsedTime  success               traceId  \\\n",
       "0      CSF  1590422400042       3212.0     True  fe171a0d9608272247dd   \n",
       "1      CSF  1590422400043        521.0     True  fe171b1dc723053247dd   \n",
       "2      CSF  1590422400043       2483.0     True  fe1710044423683247dd   \n",
       "3      CSF  1590422400044       2230.0     True  fe1717f21d28273247dd   \n",
       "4      CSF  1590422400044       2482.0     True  fe171972b143684247dd   \n",
       "\n",
       "                     id                   pid cmdb_id serviceName dsName  \n",
       "0  fe1718e7207827a247dd  fe171ae35818272247dd  os_021     csf_001    NaN  \n",
       "1  fe1712efc05305a247dd  fe171260ff33053247dd  os_022     csf_001    NaN  \n",
       "2  fe171c71bc7368b247dd  fe1711b3b433683247dd  os_021     csf_001    NaN  \n",
       "3  fe1712d8e85827c247dd  fe17174eec38273247dd  os_021     csf_001    NaN  \n",
       "4  fe171f20ea9368c247dd  fe1719218f53684247dd  os_021     csf_001    NaN  "
      ],
      "text/html": "<div>\n<style scoped>\n    .dataframe tbody tr th:only-of-type {\n        vertical-align: middle;\n    }\n\n    .dataframe tbody tr th {\n        vertical-align: top;\n    }\n\n    .dataframe thead th {\n        text-align: right;\n    }\n</style>\n<table border=\"1\" class=\"dataframe\">\n  <thead>\n    <tr style=\"text-align: right;\">\n      <th></th>\n      <th>callType</th>\n      <th>startTime</th>\n      <th>elapsedTime</th>\n      <th>success</th>\n      <th>traceId</th>\n      <th>id</th>\n      <th>pid</th>\n      <th>cmdb_id</th>\n      <th>serviceName</th>\n      <th>dsName</th>\n    </tr>\n  </thead>\n  <tbody>\n    <tr>\n      <th>0</th>\n      <td>CSF</td>\n      <td>1590422400042</td>\n      <td>3212.0</td>\n      <td>True</td>\n      <td>fe171a0d9608272247dd</td>\n      <td>fe1718e7207827a247dd</td>\n      <td>fe171ae35818272247dd</td>\n      <td>os_021</td>\n      <td>csf_001</td>\n      <td>NaN</td>\n    </tr>\n    <tr>\n      <th>1</th>\n      <td>CSF</td>\n      <td>1590422400043</td>\n      <td>521.0</td>\n      <td>True</td>\n      <td>fe171b1dc723053247dd</td>\n      <td>fe1712efc05305a247dd</td>\n      <td>fe171260ff33053247dd</td>\n      <td>os_022</td>\n      <td>csf_001</td>\n      <td>NaN</td>\n    </tr>\n    <tr>\n      <th>2</th>\n      <td>CSF</td>\n      <td>1590422400043</td>\n      <td>2483.0</td>\n      <td>True</td>\n      <td>fe1710044423683247dd</td>\n      <td>fe171c71bc7368b247dd</td>\n      <td>fe1711b3b433683247dd</td>\n      <td>os_021</td>\n      <td>csf_001</td>\n      <td>NaN</td>\n    </tr>\n    <tr>\n      <th>3</th>\n      <td>CSF</td>\n      <td>1590422400044</td>\n      <td>2230.0</td>\n      <td>True</td>\n      <td>fe1717f21d28273247dd</td>\n      <td>fe1712d8e85827c247dd</td>\n      <td>fe17174eec38273247dd</td>\n      <td>os_021</td>\n      <td>csf_001</td>\n      <td>NaN</td>\n    </tr>\n    <tr>\n      <th>4</th>\n      <td>CSF</td>\n      <td>1590422400044</td>\n      <td>2482.0</td>\n      <td>True</td>\n      <td>fe171972b143684247dd</td>\n      <td>fe171f20ea9368c247dd</td>\n      <td>fe1719218f53684247dd</td>\n      <td>os_021</td>\n      <td>csf_001</td>\n      <td>NaN</td>\n    </tr>\n  </tbody>\n</table>\n</div>"
     },
     "metadata": {},
     "execution_count": 5
    }
   ],
   "source": [
    "df = pd.concat(dfs, axis=0, ignore_index=True)\n",
    "df.head()"
   ]
  },
  {
   "cell_type": "code",
   "execution_count": 7,
   "metadata": {},
   "outputs": [],
   "source": [
    "df = df.drop('dsName', axis=1)\n",
    "# del dfs"
   ]
  },
  {
   "cell_type": "code",
   "execution_count": null,
   "metadata": {},
   "outputs": [],
   "source": []
  },
  {
   "cell_type": "code",
   "execution_count": 14,
   "metadata": {},
   "outputs": [],
   "source": [
    "df = df[(df.startTime >= (anomaly_time-1200000)) & (df.startTime <= (anomaly_time + 300000))]"
   ]
  },
  {
   "cell_type": "code",
   "execution_count": 15,
   "metadata": {},
   "outputs": [
    {
     "output_type": "execute_result",
     "data": {
      "text/plain": [
       "array(['csf_001', 'csf_002', 'csf_003', 'csf_004', 'csf_005',\n",
       "       'fly_remote_001', 'db_003', 'db_009', 'db_007', 'local_method_011',\n",
       "       'local_method_013', 'local_method_014', 'local_method_015',\n",
       "       'local_method_016', 'local_method_017', 'local_method_001',\n",
       "       'local_method_002', 'local_method_003', 'local_method_004',\n",
       "       'local_method_005', 'local_method_006', 'local_method_007',\n",
       "       'local_method_009', 'local_method_010', 'osb_001'], dtype=object)"
      ]
     },
     "metadata": {},
     "execution_count": 15
    }
   ],
   "source": [
    "df.serviceName.unique()"
   ]
  },
  {
   "cell_type": "code",
   "execution_count": 16,
   "metadata": {},
   "outputs": [
    {
     "output_type": "execute_result",
     "data": {
      "text/plain": [
       "array(['os_021', 'os_022', 'docker_003', 'docker_001', 'docker_002',\n",
       "       'docker_004', 'docker_005', 'docker_008', 'docker_007'],\n",
       "      dtype=object)"
      ]
     },
     "metadata": {},
     "execution_count": 16
    }
   ],
   "source": [
    "df.cmdb_id.unique()"
   ]
  },
  {
   "cell_type": "code",
   "execution_count": 17,
   "metadata": {},
   "outputs": [],
   "source": [
    "df = df.sort_values([\"startTime\"], ignore_index=True)\n",
    "# # df = df.sort_values([\"traceId\", \"startTime\"], ignore_index=True)\n",
    "# df = df[df.startTime < df.startTime[0]+600000]\n",
    "# df"
   ]
  },
  {
   "cell_type": "code",
   "execution_count": 18,
   "metadata": {},
   "outputs": [],
   "source": [
    "df1 = df[df['callType']=='RemoteProcess']\n",
    "df1 = df1[['pid','cmdb_id']]\n",
    "df1 = df1.set_index('pid')"
   ]
  },
  {
   "cell_type": "code",
   "execution_count": 19,
   "metadata": {},
   "outputs": [],
   "source": [
    "csf_cmdb = df1.to_dict()\n",
    "csf_cmdb = {str(key):str(values) for key, values in csf_cmdb['cmdb_id'].items()}"
   ]
  },
  {
   "cell_type": "code",
   "execution_count": 20,
   "metadata": {},
   "outputs": [
    {
     "output_type": "stream",
     "name": "stderr",
     "text": [
      "770047it [00:54, 14175.88it/s]\n"
     ]
    }
   ],
   "source": [
    "for index, row in tqdm(df.iterrows()):\n",
    "    if row['id'] in csf_cmdb:\n",
    "        df.at[index, 'cmdb_id'] = csf_cmdb[row['id']]"
   ]
  },
  {
   "cell_type": "code",
   "execution_count": 44,
   "metadata": {},
   "outputs": [
    {
     "output_type": "execute_result",
     "data": {
      "text/plain": [
       "  callType      startTime  elapsedTime  success               traceId  \\\n",
       "0      OSB  1590430740043       1650.0     True  0f1711cd858854b46bc5   \n",
       "1      OSB  1590430740044       1330.0     True  0f17147ac96395c46bc5   \n",
       "2      OSB  1590430740048        210.0     True  0f17137d898854056bc5   \n",
       "3      OSB  1590430740050        260.0     True  0f171dc2680589256bc5   \n",
       "4      CSF  1590430740051       1310.0     True  0f17147ac96395c46bc5   \n",
       "\n",
       "                     id                   pid     cmdb_id serviceName  \n",
       "0  0f171302299854b46bc5                  None      os_021     osb_001  \n",
       "1  0f171d62647395c46bc5                  None      os_021     osb_001  \n",
       "2  0f171dc6069854056bc5                  None      os_021     osb_001  \n",
       "3  0f171ef91d1589256bc5                  None      os_022     osb_001  \n",
       "4  0f1713b2809395356bc5  0f171d62647395c46bc5  docker_004     csf_001  "
      ],
      "text/html": "<div>\n<style scoped>\n    .dataframe tbody tr th:only-of-type {\n        vertical-align: middle;\n    }\n\n    .dataframe tbody tr th {\n        vertical-align: top;\n    }\n\n    .dataframe thead th {\n        text-align: right;\n    }\n</style>\n<table border=\"1\" class=\"dataframe\">\n  <thead>\n    <tr style=\"text-align: right;\">\n      <th></th>\n      <th>callType</th>\n      <th>startTime</th>\n      <th>elapsedTime</th>\n      <th>success</th>\n      <th>traceId</th>\n      <th>id</th>\n      <th>pid</th>\n      <th>cmdb_id</th>\n      <th>serviceName</th>\n    </tr>\n  </thead>\n  <tbody>\n    <tr>\n      <th>0</th>\n      <td>OSB</td>\n      <td>1590430740043</td>\n      <td>1650.0</td>\n      <td>True</td>\n      <td>0f1711cd858854b46bc5</td>\n      <td>0f171302299854b46bc5</td>\n      <td>None</td>\n      <td>os_021</td>\n      <td>osb_001</td>\n    </tr>\n    <tr>\n      <th>1</th>\n      <td>OSB</td>\n      <td>1590430740044</td>\n      <td>1330.0</td>\n      <td>True</td>\n      <td>0f17147ac96395c46bc5</td>\n      <td>0f171d62647395c46bc5</td>\n      <td>None</td>\n      <td>os_021</td>\n      <td>osb_001</td>\n    </tr>\n    <tr>\n      <th>2</th>\n      <td>OSB</td>\n      <td>1590430740048</td>\n      <td>210.0</td>\n      <td>True</td>\n      <td>0f17137d898854056bc5</td>\n      <td>0f171dc6069854056bc5</td>\n      <td>None</td>\n      <td>os_021</td>\n      <td>osb_001</td>\n    </tr>\n    <tr>\n      <th>3</th>\n      <td>OSB</td>\n      <td>1590430740050</td>\n      <td>260.0</td>\n      <td>True</td>\n      <td>0f171dc2680589256bc5</td>\n      <td>0f171ef91d1589256bc5</td>\n      <td>None</td>\n      <td>os_022</td>\n      <td>osb_001</td>\n    </tr>\n    <tr>\n      <th>4</th>\n      <td>CSF</td>\n      <td>1590430740051</td>\n      <td>1310.0</td>\n      <td>True</td>\n      <td>0f17147ac96395c46bc5</td>\n      <td>0f1713b2809395356bc5</td>\n      <td>0f171d62647395c46bc5</td>\n      <td>docker_004</td>\n      <td>csf_001</td>\n    </tr>\n  </tbody>\n</table>\n</div>"
     },
     "metadata": {},
     "execution_count": 44
    }
   ],
   "source": [
    "df.head()"
   ]
  },
  {
   "cell_type": "code",
   "execution_count": 21,
   "metadata": {},
   "outputs": [
    {
     "output_type": "stream",
     "name": "stderr",
     "text": [
      "770047it [00:56, 13731.60it/s]\n"
     ]
    }
   ],
   "source": [
    "# elapse_time = {}\n",
    "# children = {}\n",
    "parent_service = {}\n",
    "for index, row in tqdm(df.iterrows()):\n",
    "    # if row['pid'] != 'None':\n",
    "    #     if row['pid'] in children.keys():\n",
    "    #         children[row['pid']].append(row['id'])\n",
    "    #     else:\n",
    "    #         children[row['pid']] = [row['id']]\n",
    "    # elapse_time [row['id']] = float(row['elapsedTime'])\n",
    "    # parent_service[row['id']] = str(row['cmdb_id'] + ':' + row['serviceName'])\n",
    "    parent_service[row['id']] = row['serviceName']\n"
   ]
  },
  {
   "cell_type": "code",
   "execution_count": 46,
   "metadata": {},
   "outputs": [
    {
     "output_type": "execute_result",
     "data": {
      "text/plain": [
       "  callType      startTime  elapsedTime  success               traceId  \\\n",
       "0      OSB  1590430740043       1650.0     True  0f1711cd858854b46bc5   \n",
       "1      OSB  1590430740044       1330.0     True  0f17147ac96395c46bc5   \n",
       "2      OSB  1590430740048        210.0     True  0f17137d898854056bc5   \n",
       "3      OSB  1590430740050        260.0     True  0f171dc2680589256bc5   \n",
       "4      CSF  1590430740051       1310.0     True  0f17147ac96395c46bc5   \n",
       "\n",
       "                     id                   pid     cmdb_id serviceName  \n",
       "0  0f171302299854b46bc5                  None      os_021     osb_001  \n",
       "1  0f171d62647395c46bc5                  None      os_021     osb_001  \n",
       "2  0f171dc6069854056bc5                  None      os_021     osb_001  \n",
       "3  0f171ef91d1589256bc5                  None      os_022     osb_001  \n",
       "4  0f1713b2809395356bc5  0f171d62647395c46bc5  docker_004     csf_001  "
      ],
      "text/html": "<div>\n<style scoped>\n    .dataframe tbody tr th:only-of-type {\n        vertical-align: middle;\n    }\n\n    .dataframe tbody tr th {\n        vertical-align: top;\n    }\n\n    .dataframe thead th {\n        text-align: right;\n    }\n</style>\n<table border=\"1\" class=\"dataframe\">\n  <thead>\n    <tr style=\"text-align: right;\">\n      <th></th>\n      <th>callType</th>\n      <th>startTime</th>\n      <th>elapsedTime</th>\n      <th>success</th>\n      <th>traceId</th>\n      <th>id</th>\n      <th>pid</th>\n      <th>cmdb_id</th>\n      <th>serviceName</th>\n    </tr>\n  </thead>\n  <tbody>\n    <tr>\n      <th>0</th>\n      <td>OSB</td>\n      <td>1590430740043</td>\n      <td>1650.0</td>\n      <td>True</td>\n      <td>0f1711cd858854b46bc5</td>\n      <td>0f171302299854b46bc5</td>\n      <td>None</td>\n      <td>os_021</td>\n      <td>osb_001</td>\n    </tr>\n    <tr>\n      <th>1</th>\n      <td>OSB</td>\n      <td>1590430740044</td>\n      <td>1330.0</td>\n      <td>True</td>\n      <td>0f17147ac96395c46bc5</td>\n      <td>0f171d62647395c46bc5</td>\n      <td>None</td>\n      <td>os_021</td>\n      <td>osb_001</td>\n    </tr>\n    <tr>\n      <th>2</th>\n      <td>OSB</td>\n      <td>1590430740048</td>\n      <td>210.0</td>\n      <td>True</td>\n      <td>0f17137d898854056bc5</td>\n      <td>0f171dc6069854056bc5</td>\n      <td>None</td>\n      <td>os_021</td>\n      <td>osb_001</td>\n    </tr>\n    <tr>\n      <th>3</th>\n      <td>OSB</td>\n      <td>1590430740050</td>\n      <td>260.0</td>\n      <td>True</td>\n      <td>0f171dc2680589256bc5</td>\n      <td>0f171ef91d1589256bc5</td>\n      <td>None</td>\n      <td>os_022</td>\n      <td>osb_001</td>\n    </tr>\n    <tr>\n      <th>4</th>\n      <td>CSF</td>\n      <td>1590430740051</td>\n      <td>1310.0</td>\n      <td>True</td>\n      <td>0f17147ac96395c46bc5</td>\n      <td>0f1713b2809395356bc5</td>\n      <td>0f171d62647395c46bc5</td>\n      <td>docker_004</td>\n      <td>csf_001</td>\n    </tr>\n  </tbody>\n</table>\n</div>"
     },
     "metadata": {},
     "execution_count": 46
    }
   ],
   "source": [
    "df.head()"
   ]
  },
  {
   "cell_type": "code",
   "execution_count": 22,
   "metadata": {},
   "outputs": [
    {
     "output_type": "stream",
     "name": "stderr",
     "text": [
      "770047it [01:11, 10719.46it/s]\n"
     ]
    }
   ],
   "source": [
    "# df['actual_time'] = 0.0\n",
    "df['path'] = ''\n",
    "for index, row in tqdm(df.iterrows()):\n",
    "    # total_child = 0.0\n",
    "    if row['pid'] not in parent_service.keys():\n",
    "        df.at[index, 'path'] = 'Start-' + row['serviceName']\n",
    "    else:\n",
    "        df.at[index, 'path'] = parent_service[row['pid']] + '-' + row['serviceName']\n",
    "\n",
    "    # if row['id'] not in children.keys():\n",
    "    #     df.at[index, 'actual_time'] = row['elapsedTime']\n",
    "    #     continue\n",
    "    # for child in children[row['id']]:\n",
    "    #     total_child += elapse_time[child]\n",
    "    # df.at[index, 'actual_time'] = row['elapsedTime'] - total_child"
   ]
  },
  {
   "cell_type": "code",
   "execution_count": 23,
   "metadata": {},
   "outputs": [],
   "source": [
    "df = df.sort_values([\"startTime\"], ignore_index=True)"
   ]
  },
  {
   "cell_type": "code",
   "execution_count": 24,
   "metadata": {},
   "outputs": [
    {
     "output_type": "execute_result",
     "data": {
      "text/plain": [
       "         callType      startTime  elapsedTime  success               traceId  \\\n",
       "0             OSB  1590428940017       2257.0     True  0f17142adb09611fe314   \n",
       "1             OSB  1590428940018        399.0     True  0f17153a5d85962fe314   \n",
       "2             OSB  1590428940019        258.0     True  0f171ba24525963fe314   \n",
       "3             OSB  1590428940019       2115.0     True  0f1715be0d29613fe314   \n",
       "4             OSB  1590428940020       2554.0     True  0f1712bc9c44034fe314   \n",
       "5             OSB  1590428940020        195.0     True  0f1719b75a49614fe314   \n",
       "6             OSB  1590428940023        377.0     True  0f171ab65465967fe314   \n",
       "7             OSB  1590428940025        317.0     True  0f1715199d25969fe314   \n",
       "8             CSF  1590428940026       2235.0     True  0f17142adb09611fe314   \n",
       "9             CSF  1590428940026       1470.0     True  0f1715be0d29613fe314   \n",
       "10            OSB  1590428940026        357.0     True  0f1716ba376596afe314   \n",
       "11            CSF  1590428940027        372.0     True  0f17153a5d85962fe314   \n",
       "12            CSF  1590428940027       2533.0     True  0f1712bc9c44034fe314   \n",
       "13            CSF  1590428940028        169.0     True  0f1719b75a49614fe314   \n",
       "14            CSF  1590428940030        232.0     True  0f171ba24525963fe314   \n",
       "15            OSB  1590428940030       2846.0     True  0f171dbcb20503efe314   \n",
       "16  RemoteProcess  1590428940030        166.0     True  0f1719b75a49614fe314   \n",
       "17  RemoteProcess  1590428940030        361.0     True  0f17153a5d85962fe314   \n",
       "18            CSF  1590428940032        294.0     True  0f1715199d25969fe314   \n",
       "19  RemoteProcess  1590428940032        227.0     True  0f171ba24525963fe314   \n",
       "\n",
       "                      id                   pid     cmdb_id serviceName  \\\n",
       "0   0f1711a1dc19611fe314                  None      os_021     osb_001   \n",
       "1   0f171475d595962fe314                  None      os_022     osb_001   \n",
       "2   0f1718a2a635963fe314                  None      os_022     osb_001   \n",
       "3   0f171a473c39613fe314                  None      os_021     osb_001   \n",
       "4   0f171f47d754034fe314                  None      os_021     osb_001   \n",
       "5   0f17112f1559614fe314                  None      os_021     osb_001   \n",
       "6   0f171734e975967fe314                  None      os_022     osb_001   \n",
       "7   0f171b26e535969fe314                  None      os_022     osb_001   \n",
       "8   0f171e05877961afe314  0f1711a1dc19611fe314  docker_004     csf_001   \n",
       "9   0f171cd4505961afe314  0f171a473c39613fe314  docker_004     csf_001   \n",
       "10  0f171cf8097596afe314                  None      os_022     osb_001   \n",
       "11  0f171399d51696bfe314  0f171475d595962fe314  docker_002     csf_001   \n",
       "12  0f1719bfa79403bfe314  0f171f47d754034fe314  docker_004     csf_001   \n",
       "13  0f171f51b99961cfe314  0f17112f1559614fe314  docker_003     csf_001   \n",
       "14  0f17154b229596efe314  0f1718a2a635963fe314  docker_001     csf_001   \n",
       "15  0f171b7ee71503efe314                  None      os_021     osb_001   \n",
       "16  0f171c26f35084efe314  0f171f51b99961cfe314  docker_003     csf_001   \n",
       "17  0f1716d83d5381efe314  0f171399d51696bfe314  docker_002     csf_001   \n",
       "18  0f171b6961959600f314  0f171b26e535969fe314  docker_002     csf_001   \n",
       "19  0f1715a36e501100f314  0f17154b229596efe314  docker_001     csf_001   \n",
       "\n",
       "               path  \n",
       "0     Start-osb_001  \n",
       "1     Start-osb_001  \n",
       "2     Start-osb_001  \n",
       "3     Start-osb_001  \n",
       "4     Start-osb_001  \n",
       "5     Start-osb_001  \n",
       "6     Start-osb_001  \n",
       "7     Start-osb_001  \n",
       "8   osb_001-csf_001  \n",
       "9   osb_001-csf_001  \n",
       "10    Start-osb_001  \n",
       "11  osb_001-csf_001  \n",
       "12  osb_001-csf_001  \n",
       "13  osb_001-csf_001  \n",
       "14  osb_001-csf_001  \n",
       "15    Start-osb_001  \n",
       "16  csf_001-csf_001  \n",
       "17  csf_001-csf_001  \n",
       "18  osb_001-csf_001  \n",
       "19  csf_001-csf_001  "
      ],
      "text/html": "<div>\n<style scoped>\n    .dataframe tbody tr th:only-of-type {\n        vertical-align: middle;\n    }\n\n    .dataframe tbody tr th {\n        vertical-align: top;\n    }\n\n    .dataframe thead th {\n        text-align: right;\n    }\n</style>\n<table border=\"1\" class=\"dataframe\">\n  <thead>\n    <tr style=\"text-align: right;\">\n      <th></th>\n      <th>callType</th>\n      <th>startTime</th>\n      <th>elapsedTime</th>\n      <th>success</th>\n      <th>traceId</th>\n      <th>id</th>\n      <th>pid</th>\n      <th>cmdb_id</th>\n      <th>serviceName</th>\n      <th>path</th>\n    </tr>\n  </thead>\n  <tbody>\n    <tr>\n      <th>0</th>\n      <td>OSB</td>\n      <td>1590428940017</td>\n      <td>2257.0</td>\n      <td>True</td>\n      <td>0f17142adb09611fe314</td>\n      <td>0f1711a1dc19611fe314</td>\n      <td>None</td>\n      <td>os_021</td>\n      <td>osb_001</td>\n      <td>Start-osb_001</td>\n    </tr>\n    <tr>\n      <th>1</th>\n      <td>OSB</td>\n      <td>1590428940018</td>\n      <td>399.0</td>\n      <td>True</td>\n      <td>0f17153a5d85962fe314</td>\n      <td>0f171475d595962fe314</td>\n      <td>None</td>\n      <td>os_022</td>\n      <td>osb_001</td>\n      <td>Start-osb_001</td>\n    </tr>\n    <tr>\n      <th>2</th>\n      <td>OSB</td>\n      <td>1590428940019</td>\n      <td>258.0</td>\n      <td>True</td>\n      <td>0f171ba24525963fe314</td>\n      <td>0f1718a2a635963fe314</td>\n      <td>None</td>\n      <td>os_022</td>\n      <td>osb_001</td>\n      <td>Start-osb_001</td>\n    </tr>\n    <tr>\n      <th>3</th>\n      <td>OSB</td>\n      <td>1590428940019</td>\n      <td>2115.0</td>\n      <td>True</td>\n      <td>0f1715be0d29613fe314</td>\n      <td>0f171a473c39613fe314</td>\n      <td>None</td>\n      <td>os_021</td>\n      <td>osb_001</td>\n      <td>Start-osb_001</td>\n    </tr>\n    <tr>\n      <th>4</th>\n      <td>OSB</td>\n      <td>1590428940020</td>\n      <td>2554.0</td>\n      <td>True</td>\n      <td>0f1712bc9c44034fe314</td>\n      <td>0f171f47d754034fe314</td>\n      <td>None</td>\n      <td>os_021</td>\n      <td>osb_001</td>\n      <td>Start-osb_001</td>\n    </tr>\n    <tr>\n      <th>5</th>\n      <td>OSB</td>\n      <td>1590428940020</td>\n      <td>195.0</td>\n      <td>True</td>\n      <td>0f1719b75a49614fe314</td>\n      <td>0f17112f1559614fe314</td>\n      <td>None</td>\n      <td>os_021</td>\n      <td>osb_001</td>\n      <td>Start-osb_001</td>\n    </tr>\n    <tr>\n      <th>6</th>\n      <td>OSB</td>\n      <td>1590428940023</td>\n      <td>377.0</td>\n      <td>True</td>\n      <td>0f171ab65465967fe314</td>\n      <td>0f171734e975967fe314</td>\n      <td>None</td>\n      <td>os_022</td>\n      <td>osb_001</td>\n      <td>Start-osb_001</td>\n    </tr>\n    <tr>\n      <th>7</th>\n      <td>OSB</td>\n      <td>1590428940025</td>\n      <td>317.0</td>\n      <td>True</td>\n      <td>0f1715199d25969fe314</td>\n      <td>0f171b26e535969fe314</td>\n      <td>None</td>\n      <td>os_022</td>\n      <td>osb_001</td>\n      <td>Start-osb_001</td>\n    </tr>\n    <tr>\n      <th>8</th>\n      <td>CSF</td>\n      <td>1590428940026</td>\n      <td>2235.0</td>\n      <td>True</td>\n      <td>0f17142adb09611fe314</td>\n      <td>0f171e05877961afe314</td>\n      <td>0f1711a1dc19611fe314</td>\n      <td>docker_004</td>\n      <td>csf_001</td>\n      <td>osb_001-csf_001</td>\n    </tr>\n    <tr>\n      <th>9</th>\n      <td>CSF</td>\n      <td>1590428940026</td>\n      <td>1470.0</td>\n      <td>True</td>\n      <td>0f1715be0d29613fe314</td>\n      <td>0f171cd4505961afe314</td>\n      <td>0f171a473c39613fe314</td>\n      <td>docker_004</td>\n      <td>csf_001</td>\n      <td>osb_001-csf_001</td>\n    </tr>\n    <tr>\n      <th>10</th>\n      <td>OSB</td>\n      <td>1590428940026</td>\n      <td>357.0</td>\n      <td>True</td>\n      <td>0f1716ba376596afe314</td>\n      <td>0f171cf8097596afe314</td>\n      <td>None</td>\n      <td>os_022</td>\n      <td>osb_001</td>\n      <td>Start-osb_001</td>\n    </tr>\n    <tr>\n      <th>11</th>\n      <td>CSF</td>\n      <td>1590428940027</td>\n      <td>372.0</td>\n      <td>True</td>\n      <td>0f17153a5d85962fe314</td>\n      <td>0f171399d51696bfe314</td>\n      <td>0f171475d595962fe314</td>\n      <td>docker_002</td>\n      <td>csf_001</td>\n      <td>osb_001-csf_001</td>\n    </tr>\n    <tr>\n      <th>12</th>\n      <td>CSF</td>\n      <td>1590428940027</td>\n      <td>2533.0</td>\n      <td>True</td>\n      <td>0f1712bc9c44034fe314</td>\n      <td>0f1719bfa79403bfe314</td>\n      <td>0f171f47d754034fe314</td>\n      <td>docker_004</td>\n      <td>csf_001</td>\n      <td>osb_001-csf_001</td>\n    </tr>\n    <tr>\n      <th>13</th>\n      <td>CSF</td>\n      <td>1590428940028</td>\n      <td>169.0</td>\n      <td>True</td>\n      <td>0f1719b75a49614fe314</td>\n      <td>0f171f51b99961cfe314</td>\n      <td>0f17112f1559614fe314</td>\n      <td>docker_003</td>\n      <td>csf_001</td>\n      <td>osb_001-csf_001</td>\n    </tr>\n    <tr>\n      <th>14</th>\n      <td>CSF</td>\n      <td>1590428940030</td>\n      <td>232.0</td>\n      <td>True</td>\n      <td>0f171ba24525963fe314</td>\n      <td>0f17154b229596efe314</td>\n      <td>0f1718a2a635963fe314</td>\n      <td>docker_001</td>\n      <td>csf_001</td>\n      <td>osb_001-csf_001</td>\n    </tr>\n    <tr>\n      <th>15</th>\n      <td>OSB</td>\n      <td>1590428940030</td>\n      <td>2846.0</td>\n      <td>True</td>\n      <td>0f171dbcb20503efe314</td>\n      <td>0f171b7ee71503efe314</td>\n      <td>None</td>\n      <td>os_021</td>\n      <td>osb_001</td>\n      <td>Start-osb_001</td>\n    </tr>\n    <tr>\n      <th>16</th>\n      <td>RemoteProcess</td>\n      <td>1590428940030</td>\n      <td>166.0</td>\n      <td>True</td>\n      <td>0f1719b75a49614fe314</td>\n      <td>0f171c26f35084efe314</td>\n      <td>0f171f51b99961cfe314</td>\n      <td>docker_003</td>\n      <td>csf_001</td>\n      <td>csf_001-csf_001</td>\n    </tr>\n    <tr>\n      <th>17</th>\n      <td>RemoteProcess</td>\n      <td>1590428940030</td>\n      <td>361.0</td>\n      <td>True</td>\n      <td>0f17153a5d85962fe314</td>\n      <td>0f1716d83d5381efe314</td>\n      <td>0f171399d51696bfe314</td>\n      <td>docker_002</td>\n      <td>csf_001</td>\n      <td>csf_001-csf_001</td>\n    </tr>\n    <tr>\n      <th>18</th>\n      <td>CSF</td>\n      <td>1590428940032</td>\n      <td>294.0</td>\n      <td>True</td>\n      <td>0f1715199d25969fe314</td>\n      <td>0f171b6961959600f314</td>\n      <td>0f171b26e535969fe314</td>\n      <td>docker_002</td>\n      <td>csf_001</td>\n      <td>osb_001-csf_001</td>\n    </tr>\n    <tr>\n      <th>19</th>\n      <td>RemoteProcess</td>\n      <td>1590428940032</td>\n      <td>227.0</td>\n      <td>True</td>\n      <td>0f171ba24525963fe314</td>\n      <td>0f1715a36e501100f314</td>\n      <td>0f17154b229596efe314</td>\n      <td>docker_001</td>\n      <td>csf_001</td>\n      <td>csf_001-csf_001</td>\n    </tr>\n  </tbody>\n</table>\n</div>"
     },
     "metadata": {},
     "execution_count": 24
    }
   ],
   "source": [
    "df.head(20)"
   ]
  },
  {
   "cell_type": "code",
   "execution_count": 25,
   "metadata": {},
   "outputs": [],
   "source": [
    "df.to_csv('trace_untouched_5_26_db_007.csv', index=False)"
   ]
  },
  {
   "cell_type": "code",
   "execution_count": 21,
   "metadata": {},
   "outputs": [
    {
     "output_type": "execute_result",
     "data": {
      "text/plain": [
       "array(['osb_001', 'docker_002', 'csf_001', 'fly_remote_001', 'docker_007',\n",
       "       'csf_002', 'db_003', 'csf_003', 'docker_008', 'csf_004', 'csf_005',\n",
       "       'db_009', 'db_007', 'docker_004', 'docker_006', 'docker_005',\n",
       "       'docker_003', 'docker_001'], dtype=object)"
      ]
     },
     "metadata": {},
     "execution_count": 21
    }
   ],
   "source": [
    "df.serviceName.unique()"
   ]
  },
  {
   "cell_type": "code",
   "execution_count": 22,
   "metadata": {},
   "outputs": [
    {
     "output_type": "execute_result",
     "data": {
      "text/plain": [
       "array(['os_022', 'docker_002', 'docker_007', 'docker_008', 'os_021',\n",
       "       'docker_004', 'docker_006', 'docker_005', 'docker_003',\n",
       "       'docker_001'], dtype=object)"
      ]
     },
     "metadata": {},
     "execution_count": 22
    }
   ],
   "source": [
    "df.cmdb_id.unique()"
   ]
  },
  {
   "cell_type": "code",
   "execution_count": 23,
   "metadata": {},
   "outputs": [
    {
     "output_type": "execute_result",
     "data": {
      "text/plain": [
       "         callType      startTime  elapsedTime  success               traceId  \\\n",
       "0             OSB  1587579090784       1540.0     True  00007171a31677604200   \n",
       "1             CSF  1587579090790       1525.0     True  00007171a31677604200   \n",
       "2   RemoteProcess  1587579090796       1520.0     True  00007171a31677604200   \n",
       "3       FlyRemote  1587579090997          5.0     True  00007171a31677604200   \n",
       "4             CSF  1587579091097        347.0     True  00007171a31677604200   \n",
       "5   RemoteProcess  1587579091394         50.0     True  00007171a31677604200   \n",
       "6            JDBC  1587579091412          8.0     True  00007171a31677604200   \n",
       "7           LOCAL  1587579091412         17.0     True  00007171a31677604200   \n",
       "8            JDBC  1587579091421          7.0     True  00007171a31677604200   \n",
       "9             CSF  1587579091596        300.0     True  00007171a31677604200   \n",
       "10  RemoteProcess  1587579091793         47.0     True  00007171a31677604200   \n",
       "11           JDBC  1587579091798          7.0     True  00007171a31677604200   \n",
       "12          LOCAL  1587579091798         16.0     True  00007171a31677604200   \n",
       "13           JDBC  1587579091807          7.0     True  00007171a31677604200   \n",
       "14          LOCAL  1587579091816          8.0     True  00007171a31677604200   \n",
       "15           JDBC  1587579091817          7.0     True  00007171a31677604200   \n",
       "16            CSF  1587579091996         98.0     True  00007171a31677604200   \n",
       "17  RemoteProcess  1587579092004         75.0     True  00007171a31677604200   \n",
       "18           JDBC  1587579092008          8.0     True  00007171a31677604200   \n",
       "19          LOCAL  1587579092008         17.0     True  00007171a31677604200   \n",
       "20           JDBC  1587579092017          7.0     True  00007171a31677604200   \n",
       "21          LOCAL  1587579092057          9.0     True  00007171a31677604200   \n",
       "22           JDBC  1587579092058          7.0     True  00007171a31677604200   \n",
       "23            CSF  1587579092099         94.0     True  00007171a31677604200   \n",
       "24  RemoteProcess  1587579092103         55.0     True  00007171a31677604200   \n",
       "25           JDBC  1587579092108          7.0     True  00007171a31677604200   \n",
       "26          LOCAL  1587579092108         16.0     True  00007171a31677604200   \n",
       "27           JDBC  1587579092117          7.0     True  00007171a31677604200   \n",
       "28           JDBC  1587579092197          0.0     True  00007171a31677604200   \n",
       "29          LOCAL  1587579092197          2.0     True  00007171a31677604200   \n",
       "30           JDBC  1587579092199          0.0     True  00007171a31677604200   \n",
       "31          LOCAL  1587579092199          3.0     True  00007171a31677604200   \n",
       "32           JDBC  1587579092201          1.0     True  00007171a31677604200   \n",
       "33          LOCAL  1587579092202          1.0     True  00007171a31677604200   \n",
       "34           JDBC  1587579092203          0.0     True  00007171a31677604200   \n",
       "35           JDBC  1587579092204          1.0     True  00007171a31677604200   \n",
       "36          LOCAL  1587579092204          1.0     True  00007171a31677604200   \n",
       "37          LOCAL  1587579092205          2.0     True  00007171a31677604200   \n",
       "38           JDBC  1587579092206          1.0     True  00007171a31677604200   \n",
       "39          LOCAL  1587579092207          2.0     True  00007171a31677604200   \n",
       "40           JDBC  1587579092208          1.0     True  00007171a31677604200   \n",
       "41          LOCAL  1587579092209          2.0     True  00007171a31677604200   \n",
       "42           JDBC  1587579092210          1.0     True  00007171a31677604200   \n",
       "43          LOCAL  1587579092211          2.0     True  00007171a31677604200   \n",
       "44           JDBC  1587579092212          1.0     True  00007171a31677604200   \n",
       "45          LOCAL  1587579092213          2.0     True  00007171a31677604200   \n",
       "46           JDBC  1587579092214          1.0     True  00007171a31677604200   \n",
       "47          LOCAL  1587579092215          2.0     True  00007171a31677604200   \n",
       "48           JDBC  1587579092216          1.0     True  00007171a31677604200   \n",
       "49          LOCAL  1587579092217         75.0     True  00007171a31677604200   \n",
       "50           JDBC  1587579092218         73.0     True  00007171a31677604200   \n",
       "51          LOCAL  1587579092293          3.0     True  00007171a31677604200   \n",
       "52           JDBC  1587579092294          0.0     True  00007171a31677604200   \n",
       "53          LOCAL  1587579092297          2.0     True  00007171a31677604200   \n",
       "54           JDBC  1587579092298          0.0     True  00007171a31677604200   \n",
       "55           JDBC  1587579092300          3.0     True  00007171a31677604200   \n",
       "56          LOCAL  1587579092300          8.0     True  00007171a31677604200   \n",
       "57           JDBC  1587579092305          2.0     True  00007171a31677604200   \n",
       "58            OSB  1587583344284        314.0     True  0000b171a3575e9c1090   \n",
       "59            CSF  1587583344289        303.0     True  0000b171a3575e9c1090   \n",
       "\n",
       "                      id                   pid     cmdb_id     serviceName  \\\n",
       "0   b27e5171a31677604201                  None      os_022         osb_001   \n",
       "1   acdcd171a31677664203  b27e5171a31677604201      os_022      docker_002   \n",
       "2   2e8ba171a316776c9828  acdcd171a31677664203  docker_002         csf_001   \n",
       "3   23a11171a31678359892  2e8ba171a316776c9828  docker_002  fly_remote_001   \n",
       "4   76499171a31678989929  2e8ba171a316776c9828  docker_002      docker_007   \n",
       "5   84370171a31679c28884  76499171a31678989929  docker_007         csf_002   \n",
       "6   a5388171a31679d48894  a41f6171a31679d48891  docker_007          db_003   \n",
       "7   a41f6171a31679d48891  84370171a31679c28884  docker_007          db_003   \n",
       "8   eba32171a31679dd8897  a41f6171a31679d48891  docker_007          db_003   \n",
       "9   7a21a171a3167a249974  2e8ba171a316776c9828  docker_002      docker_007   \n",
       "10  5e97c171a3167b518899  7a21a171a3167a249974  docker_007         csf_003   \n",
       "11  03632171a3167b568906  7380e171a3167b568903  docker_007          db_003   \n",
       "12  7380e171a3167b568903  5e97c171a3167b518899  docker_007          db_003   \n",
       "13  0deaa171a3167b5f8909  7380e171a3167b568903  docker_007          db_003   \n",
       "14  7a534171a3167b688911  5e97c171a3167b518899  docker_007          db_003   \n",
       "15  acde2171a3167b698914  7a534171a3167b688911  docker_007          db_003   \n",
       "16  80ea6171a3167c1b1102  2e8ba171a316776c9828  docker_002      docker_008   \n",
       "17  c62b5171a3167c243215  80ea6171a3167c1b1102  docker_008         csf_004   \n",
       "18  2367d171a3167c283222  17f93171a3167c283219  docker_008          db_003   \n",
       "19  17f93171a3167c283219  c62b5171a3167c243215  docker_008          db_003   \n",
       "20  6ab6b171a3167c313225  17f93171a3167c283219  docker_008          db_003   \n",
       "21  793ac171a3167c593227  c62b5171a3167c243215  docker_008          db_003   \n",
       "22  6fc69171a3167c5a3230  793ac171a3167c593227  docker_008          db_003   \n",
       "23  0fe46171a3167c821140  2e8ba171a316776c9828  docker_002      docker_008   \n",
       "24  e6f4d171a3167c873236  0fe46171a3167c821140  docker_008         csf_005   \n",
       "25  87ff4171a3167c8c3241  8431c171a3167c8c3238  docker_008          db_003   \n",
       "26  8431c171a3167c8c3238  e6f4d171a3167c873236  docker_008          db_003   \n",
       "27  551b1171a3167c953252  8431c171a3167c8c3238  docker_008          db_003   \n",
       "28  e6cac171a3167ce51163  1f359171a3167ce51160  docker_002          db_009   \n",
       "29  1f359171a3167ce51160  2e8ba171a316776c9828  docker_002          db_009   \n",
       "30  ca192171a3167ce71166  1f359171a3167ce51160  docker_002          db_009   \n",
       "31  3bd13171a3167ce71168  2e8ba171a316776c9828  docker_002          db_009   \n",
       "32  c04bc171a3167ce91171  3bd13171a3167ce71168  docker_002          db_009   \n",
       "33  8b20b171a3167cea1173  2e8ba171a316776c9828  docker_002          db_009   \n",
       "34  05638171a3167ceb1176  8b20b171a3167cea1173  docker_002          db_009   \n",
       "35  347e7171a3167cec1181  6bf5f171a3167cec1178  docker_002          db_009   \n",
       "36  6bf5f171a3167cec1178  2e8ba171a316776c9828  docker_002          db_009   \n",
       "37  37608171a3167ced1183  2e8ba171a316776c9828  docker_002          db_009   \n",
       "38  afee6171a3167cee1186  37608171a3167ced1183  docker_002          db_009   \n",
       "39  4b7a4171a3167cef1188  2e8ba171a316776c9828  docker_002          db_009   \n",
       "40  ee958171a3167cf01191  4b7a4171a3167cef1188  docker_002          db_009   \n",
       "41  675a4171a3167cf11193  2e8ba171a316776c9828  docker_002          db_009   \n",
       "42  ee90e171a3167cf21196  675a4171a3167cf11193  docker_002          db_009   \n",
       "43  86ef0171a3167cf31198  2e8ba171a316776c9828  docker_002          db_009   \n",
       "44  9c0b6171a3167cf41201  86ef0171a3167cf31198  docker_002          db_009   \n",
       "45  6e92f171a3167cf51203  2e8ba171a316776c9828  docker_002          db_009   \n",
       "46  8b85e171a3167cf61206  6e92f171a3167cf51203  docker_002          db_009   \n",
       "47  ffb52171a3167cf71208  2e8ba171a316776c9828  docker_002          db_009   \n",
       "48  49321171a3167cf81211  ffb52171a3167cf71208  docker_002          db_009   \n",
       "49  f5f40171a3167cf91213  2e8ba171a316776c9828  docker_002          db_009   \n",
       "50  508e2171a3167cfa1216  f5f40171a3167cf91213  docker_002          db_009   \n",
       "51  01862171a3167d451220  2e8ba171a316776c9828  docker_002          db_009   \n",
       "52  be2d2171a3167d461223  01862171a3167d451220  docker_002          db_009   \n",
       "53  94d0e171a3167d491227  2e8ba171a316776c9828  docker_002          db_009   \n",
       "54  6b3b4171a3167d4a1230  94d0e171a3167d491227  docker_002          db_009   \n",
       "55  75393171a3167d4c1235  fe34c171a3167d4c1232  docker_002          db_007   \n",
       "56  fe34c171a3167d4c1232  2e8ba171a316776c9828  docker_002          db_007   \n",
       "57  b8aaa171a3167d511240  fe34c171a3167d4c1232  docker_002          db_007   \n",
       "58  e21e6171a3575e9c1091                  None      os_021         osb_001   \n",
       "59  2e46b171a3575ea11093  e21e6171a3575e9c1091      os_021      docker_004   \n",
       "\n",
       "    actual_time                    path  \n",
       "0          15.0           Start-osb_001  \n",
       "1           5.0      osb_001-docker_002  \n",
       "2         569.0      docker_002-csf_001  \n",
       "3           5.0  csf_001-fly_remote_001  \n",
       "4         297.0      csf_001-docker_007  \n",
       "5          33.0      docker_007-csf_002  \n",
       "6           8.0           db_003-db_003  \n",
       "7           2.0          csf_002-db_003  \n",
       "8           7.0           db_003-db_003  \n",
       "9         253.0      csf_001-docker_007  \n",
       "10         23.0      docker_007-csf_003  \n",
       "11          7.0           db_003-db_003  \n",
       "12          2.0          csf_003-db_003  \n",
       "13          7.0           db_003-db_003  \n",
       "14          1.0          csf_003-db_003  \n",
       "15          7.0           db_003-db_003  \n",
       "16         23.0      csf_001-docker_008  \n",
       "17         49.0      docker_008-csf_004  \n",
       "18          8.0           db_003-db_003  \n",
       "19          2.0          csf_004-db_003  \n",
       "20          7.0           db_003-db_003  \n",
       "21          2.0          csf_004-db_003  \n",
       "22          7.0           db_003-db_003  \n",
       "23         39.0      csf_001-docker_008  \n",
       "24         39.0      docker_008-csf_005  \n",
       "25          7.0           db_003-db_003  \n",
       "26          2.0          csf_005-db_003  \n",
       "27          7.0           db_003-db_003  \n",
       "28          0.0           db_009-db_009  \n",
       "29          2.0          csf_001-db_009  \n",
       "30          0.0           db_009-db_009  \n",
       "31          2.0          csf_001-db_009  \n",
       "32          1.0           db_009-db_009  \n",
       "33          1.0          csf_001-db_009  \n",
       "34          0.0           db_009-db_009  \n",
       "35          1.0           db_009-db_009  \n",
       "36          0.0          csf_001-db_009  \n",
       "37          1.0          csf_001-db_009  \n",
       "38          1.0           db_009-db_009  \n",
       "39          1.0          csf_001-db_009  \n",
       "40          1.0           db_009-db_009  \n",
       "41          1.0          csf_001-db_009  \n",
       "42          1.0           db_009-db_009  \n",
       "43          1.0          csf_001-db_009  \n",
       "44          1.0           db_009-db_009  \n",
       "45          1.0          csf_001-db_009  \n",
       "46          1.0           db_009-db_009  \n",
       "47          1.0          csf_001-db_009  \n",
       "48          1.0           db_009-db_009  \n",
       "49          2.0          csf_001-db_009  \n",
       "50         73.0           db_009-db_009  \n",
       "51          3.0          csf_001-db_009  \n",
       "52          0.0           db_009-db_009  \n",
       "53          2.0          csf_001-db_009  \n",
       "54          0.0           db_009-db_009  \n",
       "55          3.0           db_007-db_007  \n",
       "56          3.0          csf_001-db_007  \n",
       "57          2.0           db_007-db_007  \n",
       "58         11.0           Start-osb_001  \n",
       "59         71.0      osb_001-docker_004  "
      ],
      "text/html": "<div>\n<style scoped>\n    .dataframe tbody tr th:only-of-type {\n        vertical-align: middle;\n    }\n\n    .dataframe tbody tr th {\n        vertical-align: top;\n    }\n\n    .dataframe thead th {\n        text-align: right;\n    }\n</style>\n<table border=\"1\" class=\"dataframe\">\n  <thead>\n    <tr style=\"text-align: right;\">\n      <th></th>\n      <th>callType</th>\n      <th>startTime</th>\n      <th>elapsedTime</th>\n      <th>success</th>\n      <th>traceId</th>\n      <th>id</th>\n      <th>pid</th>\n      <th>cmdb_id</th>\n      <th>serviceName</th>\n      <th>actual_time</th>\n      <th>path</th>\n    </tr>\n  </thead>\n  <tbody>\n    <tr>\n      <th>0</th>\n      <td>OSB</td>\n      <td>1587579090784</td>\n      <td>1540.0</td>\n      <td>True</td>\n      <td>00007171a31677604200</td>\n      <td>b27e5171a31677604201</td>\n      <td>None</td>\n      <td>os_022</td>\n      <td>osb_001</td>\n      <td>15.0</td>\n      <td>Start-osb_001</td>\n    </tr>\n    <tr>\n      <th>1</th>\n      <td>CSF</td>\n      <td>1587579090790</td>\n      <td>1525.0</td>\n      <td>True</td>\n      <td>00007171a31677604200</td>\n      <td>acdcd171a31677664203</td>\n      <td>b27e5171a31677604201</td>\n      <td>os_022</td>\n      <td>docker_002</td>\n      <td>5.0</td>\n      <td>osb_001-docker_002</td>\n    </tr>\n    <tr>\n      <th>2</th>\n      <td>RemoteProcess</td>\n      <td>1587579090796</td>\n      <td>1520.0</td>\n      <td>True</td>\n      <td>00007171a31677604200</td>\n      <td>2e8ba171a316776c9828</td>\n      <td>acdcd171a31677664203</td>\n      <td>docker_002</td>\n      <td>csf_001</td>\n      <td>569.0</td>\n      <td>docker_002-csf_001</td>\n    </tr>\n    <tr>\n      <th>3</th>\n      <td>FlyRemote</td>\n      <td>1587579090997</td>\n      <td>5.0</td>\n      <td>True</td>\n      <td>00007171a31677604200</td>\n      <td>23a11171a31678359892</td>\n      <td>2e8ba171a316776c9828</td>\n      <td>docker_002</td>\n      <td>fly_remote_001</td>\n      <td>5.0</td>\n      <td>csf_001-fly_remote_001</td>\n    </tr>\n    <tr>\n      <th>4</th>\n      <td>CSF</td>\n      <td>1587579091097</td>\n      <td>347.0</td>\n      <td>True</td>\n      <td>00007171a31677604200</td>\n      <td>76499171a31678989929</td>\n      <td>2e8ba171a316776c9828</td>\n      <td>docker_002</td>\n      <td>docker_007</td>\n      <td>297.0</td>\n      <td>csf_001-docker_007</td>\n    </tr>\n    <tr>\n      <th>5</th>\n      <td>RemoteProcess</td>\n      <td>1587579091394</td>\n      <td>50.0</td>\n      <td>True</td>\n      <td>00007171a31677604200</td>\n      <td>84370171a31679c28884</td>\n      <td>76499171a31678989929</td>\n      <td>docker_007</td>\n      <td>csf_002</td>\n      <td>33.0</td>\n      <td>docker_007-csf_002</td>\n    </tr>\n    <tr>\n      <th>6</th>\n      <td>JDBC</td>\n      <td>1587579091412</td>\n      <td>8.0</td>\n      <td>True</td>\n      <td>00007171a31677604200</td>\n      <td>a5388171a31679d48894</td>\n      <td>a41f6171a31679d48891</td>\n      <td>docker_007</td>\n      <td>db_003</td>\n      <td>8.0</td>\n      <td>db_003-db_003</td>\n    </tr>\n    <tr>\n      <th>7</th>\n      <td>LOCAL</td>\n      <td>1587579091412</td>\n      <td>17.0</td>\n      <td>True</td>\n      <td>00007171a31677604200</td>\n      <td>a41f6171a31679d48891</td>\n      <td>84370171a31679c28884</td>\n      <td>docker_007</td>\n      <td>db_003</td>\n      <td>2.0</td>\n      <td>csf_002-db_003</td>\n    </tr>\n    <tr>\n      <th>8</th>\n      <td>JDBC</td>\n      <td>1587579091421</td>\n      <td>7.0</td>\n      <td>True</td>\n      <td>00007171a31677604200</td>\n      <td>eba32171a31679dd8897</td>\n      <td>a41f6171a31679d48891</td>\n      <td>docker_007</td>\n      <td>db_003</td>\n      <td>7.0</td>\n      <td>db_003-db_003</td>\n    </tr>\n    <tr>\n      <th>9</th>\n      <td>CSF</td>\n      <td>1587579091596</td>\n      <td>300.0</td>\n      <td>True</td>\n      <td>00007171a31677604200</td>\n      <td>7a21a171a3167a249974</td>\n      <td>2e8ba171a316776c9828</td>\n      <td>docker_002</td>\n      <td>docker_007</td>\n      <td>253.0</td>\n      <td>csf_001-docker_007</td>\n    </tr>\n    <tr>\n      <th>10</th>\n      <td>RemoteProcess</td>\n      <td>1587579091793</td>\n      <td>47.0</td>\n      <td>True</td>\n      <td>00007171a31677604200</td>\n      <td>5e97c171a3167b518899</td>\n      <td>7a21a171a3167a249974</td>\n      <td>docker_007</td>\n      <td>csf_003</td>\n      <td>23.0</td>\n      <td>docker_007-csf_003</td>\n    </tr>\n    <tr>\n      <th>11</th>\n      <td>JDBC</td>\n      <td>1587579091798</td>\n      <td>7.0</td>\n      <td>True</td>\n      <td>00007171a31677604200</td>\n      <td>03632171a3167b568906</td>\n      <td>7380e171a3167b568903</td>\n      <td>docker_007</td>\n      <td>db_003</td>\n      <td>7.0</td>\n      <td>db_003-db_003</td>\n    </tr>\n    <tr>\n      <th>12</th>\n      <td>LOCAL</td>\n      <td>1587579091798</td>\n      <td>16.0</td>\n      <td>True</td>\n      <td>00007171a31677604200</td>\n      <td>7380e171a3167b568903</td>\n      <td>5e97c171a3167b518899</td>\n      <td>docker_007</td>\n      <td>db_003</td>\n      <td>2.0</td>\n      <td>csf_003-db_003</td>\n    </tr>\n    <tr>\n      <th>13</th>\n      <td>JDBC</td>\n      <td>1587579091807</td>\n      <td>7.0</td>\n      <td>True</td>\n      <td>00007171a31677604200</td>\n      <td>0deaa171a3167b5f8909</td>\n      <td>7380e171a3167b568903</td>\n      <td>docker_007</td>\n      <td>db_003</td>\n      <td>7.0</td>\n      <td>db_003-db_003</td>\n    </tr>\n    <tr>\n      <th>14</th>\n      <td>LOCAL</td>\n      <td>1587579091816</td>\n      <td>8.0</td>\n      <td>True</td>\n      <td>00007171a31677604200</td>\n      <td>7a534171a3167b688911</td>\n      <td>5e97c171a3167b518899</td>\n      <td>docker_007</td>\n      <td>db_003</td>\n      <td>1.0</td>\n      <td>csf_003-db_003</td>\n    </tr>\n    <tr>\n      <th>15</th>\n      <td>JDBC</td>\n      <td>1587579091817</td>\n      <td>7.0</td>\n      <td>True</td>\n      <td>00007171a31677604200</td>\n      <td>acde2171a3167b698914</td>\n      <td>7a534171a3167b688911</td>\n      <td>docker_007</td>\n      <td>db_003</td>\n      <td>7.0</td>\n      <td>db_003-db_003</td>\n    </tr>\n    <tr>\n      <th>16</th>\n      <td>CSF</td>\n      <td>1587579091996</td>\n      <td>98.0</td>\n      <td>True</td>\n      <td>00007171a31677604200</td>\n      <td>80ea6171a3167c1b1102</td>\n      <td>2e8ba171a316776c9828</td>\n      <td>docker_002</td>\n      <td>docker_008</td>\n      <td>23.0</td>\n      <td>csf_001-docker_008</td>\n    </tr>\n    <tr>\n      <th>17</th>\n      <td>RemoteProcess</td>\n      <td>1587579092004</td>\n      <td>75.0</td>\n      <td>True</td>\n      <td>00007171a31677604200</td>\n      <td>c62b5171a3167c243215</td>\n      <td>80ea6171a3167c1b1102</td>\n      <td>docker_008</td>\n      <td>csf_004</td>\n      <td>49.0</td>\n      <td>docker_008-csf_004</td>\n    </tr>\n    <tr>\n      <th>18</th>\n      <td>JDBC</td>\n      <td>1587579092008</td>\n      <td>8.0</td>\n      <td>True</td>\n      <td>00007171a31677604200</td>\n      <td>2367d171a3167c283222</td>\n      <td>17f93171a3167c283219</td>\n      <td>docker_008</td>\n      <td>db_003</td>\n      <td>8.0</td>\n      <td>db_003-db_003</td>\n    </tr>\n    <tr>\n      <th>19</th>\n      <td>LOCAL</td>\n      <td>1587579092008</td>\n      <td>17.0</td>\n      <td>True</td>\n      <td>00007171a31677604200</td>\n      <td>17f93171a3167c283219</td>\n      <td>c62b5171a3167c243215</td>\n      <td>docker_008</td>\n      <td>db_003</td>\n      <td>2.0</td>\n      <td>csf_004-db_003</td>\n    </tr>\n    <tr>\n      <th>20</th>\n      <td>JDBC</td>\n      <td>1587579092017</td>\n      <td>7.0</td>\n      <td>True</td>\n      <td>00007171a31677604200</td>\n      <td>6ab6b171a3167c313225</td>\n      <td>17f93171a3167c283219</td>\n      <td>docker_008</td>\n      <td>db_003</td>\n      <td>7.0</td>\n      <td>db_003-db_003</td>\n    </tr>\n    <tr>\n      <th>21</th>\n      <td>LOCAL</td>\n      <td>1587579092057</td>\n      <td>9.0</td>\n      <td>True</td>\n      <td>00007171a31677604200</td>\n      <td>793ac171a3167c593227</td>\n      <td>c62b5171a3167c243215</td>\n      <td>docker_008</td>\n      <td>db_003</td>\n      <td>2.0</td>\n      <td>csf_004-db_003</td>\n    </tr>\n    <tr>\n      <th>22</th>\n      <td>JDBC</td>\n      <td>1587579092058</td>\n      <td>7.0</td>\n      <td>True</td>\n      <td>00007171a31677604200</td>\n      <td>6fc69171a3167c5a3230</td>\n      <td>793ac171a3167c593227</td>\n      <td>docker_008</td>\n      <td>db_003</td>\n      <td>7.0</td>\n      <td>db_003-db_003</td>\n    </tr>\n    <tr>\n      <th>23</th>\n      <td>CSF</td>\n      <td>1587579092099</td>\n      <td>94.0</td>\n      <td>True</td>\n      <td>00007171a31677604200</td>\n      <td>0fe46171a3167c821140</td>\n      <td>2e8ba171a316776c9828</td>\n      <td>docker_002</td>\n      <td>docker_008</td>\n      <td>39.0</td>\n      <td>csf_001-docker_008</td>\n    </tr>\n    <tr>\n      <th>24</th>\n      <td>RemoteProcess</td>\n      <td>1587579092103</td>\n      <td>55.0</td>\n      <td>True</td>\n      <td>00007171a31677604200</td>\n      <td>e6f4d171a3167c873236</td>\n      <td>0fe46171a3167c821140</td>\n      <td>docker_008</td>\n      <td>csf_005</td>\n      <td>39.0</td>\n      <td>docker_008-csf_005</td>\n    </tr>\n    <tr>\n      <th>25</th>\n      <td>JDBC</td>\n      <td>1587579092108</td>\n      <td>7.0</td>\n      <td>True</td>\n      <td>00007171a31677604200</td>\n      <td>87ff4171a3167c8c3241</td>\n      <td>8431c171a3167c8c3238</td>\n      <td>docker_008</td>\n      <td>db_003</td>\n      <td>7.0</td>\n      <td>db_003-db_003</td>\n    </tr>\n    <tr>\n      <th>26</th>\n      <td>LOCAL</td>\n      <td>1587579092108</td>\n      <td>16.0</td>\n      <td>True</td>\n      <td>00007171a31677604200</td>\n      <td>8431c171a3167c8c3238</td>\n      <td>e6f4d171a3167c873236</td>\n      <td>docker_008</td>\n      <td>db_003</td>\n      <td>2.0</td>\n      <td>csf_005-db_003</td>\n    </tr>\n    <tr>\n      <th>27</th>\n      <td>JDBC</td>\n      <td>1587579092117</td>\n      <td>7.0</td>\n      <td>True</td>\n      <td>00007171a31677604200</td>\n      <td>551b1171a3167c953252</td>\n      <td>8431c171a3167c8c3238</td>\n      <td>docker_008</td>\n      <td>db_003</td>\n      <td>7.0</td>\n      <td>db_003-db_003</td>\n    </tr>\n    <tr>\n      <th>28</th>\n      <td>JDBC</td>\n      <td>1587579092197</td>\n      <td>0.0</td>\n      <td>True</td>\n      <td>00007171a31677604200</td>\n      <td>e6cac171a3167ce51163</td>\n      <td>1f359171a3167ce51160</td>\n      <td>docker_002</td>\n      <td>db_009</td>\n      <td>0.0</td>\n      <td>db_009-db_009</td>\n    </tr>\n    <tr>\n      <th>29</th>\n      <td>LOCAL</td>\n      <td>1587579092197</td>\n      <td>2.0</td>\n      <td>True</td>\n      <td>00007171a31677604200</td>\n      <td>1f359171a3167ce51160</td>\n      <td>2e8ba171a316776c9828</td>\n      <td>docker_002</td>\n      <td>db_009</td>\n      <td>2.0</td>\n      <td>csf_001-db_009</td>\n    </tr>\n    <tr>\n      <th>30</th>\n      <td>JDBC</td>\n      <td>1587579092199</td>\n      <td>0.0</td>\n      <td>True</td>\n      <td>00007171a31677604200</td>\n      <td>ca192171a3167ce71166</td>\n      <td>1f359171a3167ce51160</td>\n      <td>docker_002</td>\n      <td>db_009</td>\n      <td>0.0</td>\n      <td>db_009-db_009</td>\n    </tr>\n    <tr>\n      <th>31</th>\n      <td>LOCAL</td>\n      <td>1587579092199</td>\n      <td>3.0</td>\n      <td>True</td>\n      <td>00007171a31677604200</td>\n      <td>3bd13171a3167ce71168</td>\n      <td>2e8ba171a316776c9828</td>\n      <td>docker_002</td>\n      <td>db_009</td>\n      <td>2.0</td>\n      <td>csf_001-db_009</td>\n    </tr>\n    <tr>\n      <th>32</th>\n      <td>JDBC</td>\n      <td>1587579092201</td>\n      <td>1.0</td>\n      <td>True</td>\n      <td>00007171a31677604200</td>\n      <td>c04bc171a3167ce91171</td>\n      <td>3bd13171a3167ce71168</td>\n      <td>docker_002</td>\n      <td>db_009</td>\n      <td>1.0</td>\n      <td>db_009-db_009</td>\n    </tr>\n    <tr>\n      <th>33</th>\n      <td>LOCAL</td>\n      <td>1587579092202</td>\n      <td>1.0</td>\n      <td>True</td>\n      <td>00007171a31677604200</td>\n      <td>8b20b171a3167cea1173</td>\n      <td>2e8ba171a316776c9828</td>\n      <td>docker_002</td>\n      <td>db_009</td>\n      <td>1.0</td>\n      <td>csf_001-db_009</td>\n    </tr>\n    <tr>\n      <th>34</th>\n      <td>JDBC</td>\n      <td>1587579092203</td>\n      <td>0.0</td>\n      <td>True</td>\n      <td>00007171a31677604200</td>\n      <td>05638171a3167ceb1176</td>\n      <td>8b20b171a3167cea1173</td>\n      <td>docker_002</td>\n      <td>db_009</td>\n      <td>0.0</td>\n      <td>db_009-db_009</td>\n    </tr>\n    <tr>\n      <th>35</th>\n      <td>JDBC</td>\n      <td>1587579092204</td>\n      <td>1.0</td>\n      <td>True</td>\n      <td>00007171a31677604200</td>\n      <td>347e7171a3167cec1181</td>\n      <td>6bf5f171a3167cec1178</td>\n      <td>docker_002</td>\n      <td>db_009</td>\n      <td>1.0</td>\n      <td>db_009-db_009</td>\n    </tr>\n    <tr>\n      <th>36</th>\n      <td>LOCAL</td>\n      <td>1587579092204</td>\n      <td>1.0</td>\n      <td>True</td>\n      <td>00007171a31677604200</td>\n      <td>6bf5f171a3167cec1178</td>\n      <td>2e8ba171a316776c9828</td>\n      <td>docker_002</td>\n      <td>db_009</td>\n      <td>0.0</td>\n      <td>csf_001-db_009</td>\n    </tr>\n    <tr>\n      <th>37</th>\n      <td>LOCAL</td>\n      <td>1587579092205</td>\n      <td>2.0</td>\n      <td>True</td>\n      <td>00007171a31677604200</td>\n      <td>37608171a3167ced1183</td>\n      <td>2e8ba171a316776c9828</td>\n      <td>docker_002</td>\n      <td>db_009</td>\n      <td>1.0</td>\n      <td>csf_001-db_009</td>\n    </tr>\n    <tr>\n      <th>38</th>\n      <td>JDBC</td>\n      <td>1587579092206</td>\n      <td>1.0</td>\n      <td>True</td>\n      <td>00007171a31677604200</td>\n      <td>afee6171a3167cee1186</td>\n      <td>37608171a3167ced1183</td>\n      <td>docker_002</td>\n      <td>db_009</td>\n      <td>1.0</td>\n      <td>db_009-db_009</td>\n    </tr>\n    <tr>\n      <th>39</th>\n      <td>LOCAL</td>\n      <td>1587579092207</td>\n      <td>2.0</td>\n      <td>True</td>\n      <td>00007171a31677604200</td>\n      <td>4b7a4171a3167cef1188</td>\n      <td>2e8ba171a316776c9828</td>\n      <td>docker_002</td>\n      <td>db_009</td>\n      <td>1.0</td>\n      <td>csf_001-db_009</td>\n    </tr>\n    <tr>\n      <th>40</th>\n      <td>JDBC</td>\n      <td>1587579092208</td>\n      <td>1.0</td>\n      <td>True</td>\n      <td>00007171a31677604200</td>\n      <td>ee958171a3167cf01191</td>\n      <td>4b7a4171a3167cef1188</td>\n      <td>docker_002</td>\n      <td>db_009</td>\n      <td>1.0</td>\n      <td>db_009-db_009</td>\n    </tr>\n    <tr>\n      <th>41</th>\n      <td>LOCAL</td>\n      <td>1587579092209</td>\n      <td>2.0</td>\n      <td>True</td>\n      <td>00007171a31677604200</td>\n      <td>675a4171a3167cf11193</td>\n      <td>2e8ba171a316776c9828</td>\n      <td>docker_002</td>\n      <td>db_009</td>\n      <td>1.0</td>\n      <td>csf_001-db_009</td>\n    </tr>\n    <tr>\n      <th>42</th>\n      <td>JDBC</td>\n      <td>1587579092210</td>\n      <td>1.0</td>\n      <td>True</td>\n      <td>00007171a31677604200</td>\n      <td>ee90e171a3167cf21196</td>\n      <td>675a4171a3167cf11193</td>\n      <td>docker_002</td>\n      <td>db_009</td>\n      <td>1.0</td>\n      <td>db_009-db_009</td>\n    </tr>\n    <tr>\n      <th>43</th>\n      <td>LOCAL</td>\n      <td>1587579092211</td>\n      <td>2.0</td>\n      <td>True</td>\n      <td>00007171a31677604200</td>\n      <td>86ef0171a3167cf31198</td>\n      <td>2e8ba171a316776c9828</td>\n      <td>docker_002</td>\n      <td>db_009</td>\n      <td>1.0</td>\n      <td>csf_001-db_009</td>\n    </tr>\n    <tr>\n      <th>44</th>\n      <td>JDBC</td>\n      <td>1587579092212</td>\n      <td>1.0</td>\n      <td>True</td>\n      <td>00007171a31677604200</td>\n      <td>9c0b6171a3167cf41201</td>\n      <td>86ef0171a3167cf31198</td>\n      <td>docker_002</td>\n      <td>db_009</td>\n      <td>1.0</td>\n      <td>db_009-db_009</td>\n    </tr>\n    <tr>\n      <th>45</th>\n      <td>LOCAL</td>\n      <td>1587579092213</td>\n      <td>2.0</td>\n      <td>True</td>\n      <td>00007171a31677604200</td>\n      <td>6e92f171a3167cf51203</td>\n      <td>2e8ba171a316776c9828</td>\n      <td>docker_002</td>\n      <td>db_009</td>\n      <td>1.0</td>\n      <td>csf_001-db_009</td>\n    </tr>\n    <tr>\n      <th>46</th>\n      <td>JDBC</td>\n      <td>1587579092214</td>\n      <td>1.0</td>\n      <td>True</td>\n      <td>00007171a31677604200</td>\n      <td>8b85e171a3167cf61206</td>\n      <td>6e92f171a3167cf51203</td>\n      <td>docker_002</td>\n      <td>db_009</td>\n      <td>1.0</td>\n      <td>db_009-db_009</td>\n    </tr>\n    <tr>\n      <th>47</th>\n      <td>LOCAL</td>\n      <td>1587579092215</td>\n      <td>2.0</td>\n      <td>True</td>\n      <td>00007171a31677604200</td>\n      <td>ffb52171a3167cf71208</td>\n      <td>2e8ba171a316776c9828</td>\n      <td>docker_002</td>\n      <td>db_009</td>\n      <td>1.0</td>\n      <td>csf_001-db_009</td>\n    </tr>\n    <tr>\n      <th>48</th>\n      <td>JDBC</td>\n      <td>1587579092216</td>\n      <td>1.0</td>\n      <td>True</td>\n      <td>00007171a31677604200</td>\n      <td>49321171a3167cf81211</td>\n      <td>ffb52171a3167cf71208</td>\n      <td>docker_002</td>\n      <td>db_009</td>\n      <td>1.0</td>\n      <td>db_009-db_009</td>\n    </tr>\n    <tr>\n      <th>49</th>\n      <td>LOCAL</td>\n      <td>1587579092217</td>\n      <td>75.0</td>\n      <td>True</td>\n      <td>00007171a31677604200</td>\n      <td>f5f40171a3167cf91213</td>\n      <td>2e8ba171a316776c9828</td>\n      <td>docker_002</td>\n      <td>db_009</td>\n      <td>2.0</td>\n      <td>csf_001-db_009</td>\n    </tr>\n    <tr>\n      <th>50</th>\n      <td>JDBC</td>\n      <td>1587579092218</td>\n      <td>73.0</td>\n      <td>True</td>\n      <td>00007171a31677604200</td>\n      <td>508e2171a3167cfa1216</td>\n      <td>f5f40171a3167cf91213</td>\n      <td>docker_002</td>\n      <td>db_009</td>\n      <td>73.0</td>\n      <td>db_009-db_009</td>\n    </tr>\n    <tr>\n      <th>51</th>\n      <td>LOCAL</td>\n      <td>1587579092293</td>\n      <td>3.0</td>\n      <td>True</td>\n      <td>00007171a31677604200</td>\n      <td>01862171a3167d451220</td>\n      <td>2e8ba171a316776c9828</td>\n      <td>docker_002</td>\n      <td>db_009</td>\n      <td>3.0</td>\n      <td>csf_001-db_009</td>\n    </tr>\n    <tr>\n      <th>52</th>\n      <td>JDBC</td>\n      <td>1587579092294</td>\n      <td>0.0</td>\n      <td>True</td>\n      <td>00007171a31677604200</td>\n      <td>be2d2171a3167d461223</td>\n      <td>01862171a3167d451220</td>\n      <td>docker_002</td>\n      <td>db_009</td>\n      <td>0.0</td>\n      <td>db_009-db_009</td>\n    </tr>\n    <tr>\n      <th>53</th>\n      <td>LOCAL</td>\n      <td>1587579092297</td>\n      <td>2.0</td>\n      <td>True</td>\n      <td>00007171a31677604200</td>\n      <td>94d0e171a3167d491227</td>\n      <td>2e8ba171a316776c9828</td>\n      <td>docker_002</td>\n      <td>db_009</td>\n      <td>2.0</td>\n      <td>csf_001-db_009</td>\n    </tr>\n    <tr>\n      <th>54</th>\n      <td>JDBC</td>\n      <td>1587579092298</td>\n      <td>0.0</td>\n      <td>True</td>\n      <td>00007171a31677604200</td>\n      <td>6b3b4171a3167d4a1230</td>\n      <td>94d0e171a3167d491227</td>\n      <td>docker_002</td>\n      <td>db_009</td>\n      <td>0.0</td>\n      <td>db_009-db_009</td>\n    </tr>\n    <tr>\n      <th>55</th>\n      <td>JDBC</td>\n      <td>1587579092300</td>\n      <td>3.0</td>\n      <td>True</td>\n      <td>00007171a31677604200</td>\n      <td>75393171a3167d4c1235</td>\n      <td>fe34c171a3167d4c1232</td>\n      <td>docker_002</td>\n      <td>db_007</td>\n      <td>3.0</td>\n      <td>db_007-db_007</td>\n    </tr>\n    <tr>\n      <th>56</th>\n      <td>LOCAL</td>\n      <td>1587579092300</td>\n      <td>8.0</td>\n      <td>True</td>\n      <td>00007171a31677604200</td>\n      <td>fe34c171a3167d4c1232</td>\n      <td>2e8ba171a316776c9828</td>\n      <td>docker_002</td>\n      <td>db_007</td>\n      <td>3.0</td>\n      <td>csf_001-db_007</td>\n    </tr>\n    <tr>\n      <th>57</th>\n      <td>JDBC</td>\n      <td>1587579092305</td>\n      <td>2.0</td>\n      <td>True</td>\n      <td>00007171a31677604200</td>\n      <td>b8aaa171a3167d511240</td>\n      <td>fe34c171a3167d4c1232</td>\n      <td>docker_002</td>\n      <td>db_007</td>\n      <td>2.0</td>\n      <td>db_007-db_007</td>\n    </tr>\n    <tr>\n      <th>58</th>\n      <td>OSB</td>\n      <td>1587583344284</td>\n      <td>314.0</td>\n      <td>True</td>\n      <td>0000b171a3575e9c1090</td>\n      <td>e21e6171a3575e9c1091</td>\n      <td>None</td>\n      <td>os_021</td>\n      <td>osb_001</td>\n      <td>11.0</td>\n      <td>Start-osb_001</td>\n    </tr>\n    <tr>\n      <th>59</th>\n      <td>CSF</td>\n      <td>1587583344289</td>\n      <td>303.0</td>\n      <td>True</td>\n      <td>0000b171a3575e9c1090</td>\n      <td>2e46b171a3575ea11093</td>\n      <td>e21e6171a3575e9c1091</td>\n      <td>os_021</td>\n      <td>docker_004</td>\n      <td>71.0</td>\n      <td>osb_001-docker_004</td>\n    </tr>\n  </tbody>\n</table>\n</div>"
     },
     "metadata": {},
     "execution_count": 23
    }
   ],
   "source": [
    "df.head(60)"
   ]
  },
  {
   "cell_type": "code",
   "execution_count": null,
   "metadata": {},
   "outputs": [],
   "source": []
  }
 ]
}