{
 "metadata": {
  "language_info": {
   "codemirror_mode": {
    "name": "ipython",
    "version": 3
   },
   "file_extension": ".py",
   "mimetype": "text/x-python",
   "name": "python",
   "nbconvert_exporter": "python",
   "pygments_lexer": "ipython3",
   "version": "3.6.12-final"
  },
  "orig_nbformat": 2,
  "kernelspec": {
   "name": "python3",
   "display_name": "Python 3",
   "language": "python"
  }
 },
 "nbformat": 4,
 "nbformat_minor": 2,
 "cells": [
  {
   "cell_type": "code",
   "execution_count": 1,
   "metadata": {},
   "outputs": [],
   "source": [
    "import numpy as np\n",
    "import pandas as pd\n",
    "from scipy.stats import t\n",
    "import glob\n",
    "import matplotlib.pyplot as plt"
   ]
  },
  {
   "cell_type": "code",
   "execution_count": 4,
   "metadata": {},
   "outputs": [
    {
     "output_type": "execute_result",
     "data": {
      "text/plain": [
       "['C:\\\\Users\\\\Henry\\\\Documents\\\\data\\\\2020_05_27\\\\Trace\\\\trace_csf.csv',\n",
       " 'C:\\\\Users\\\\Henry\\\\Documents\\\\data\\\\2020_05_27\\\\Trace\\\\trace_fly_remote.csv',\n",
       " 'C:\\\\Users\\\\Henry\\\\Documents\\\\data\\\\2020_05_27\\\\Trace\\\\trace_jdbc.csv',\n",
       " 'C:\\\\Users\\\\Henry\\\\Documents\\\\data\\\\2020_05_27\\\\Trace\\\\trace_local.csv',\n",
       " 'C:\\\\Users\\\\Henry\\\\Documents\\\\data\\\\2020_05_27\\\\Trace\\\\trace_osb.csv',\n",
       " 'C:\\\\Users\\\\Henry\\\\Documents\\\\data\\\\2020_05_27\\\\Trace\\\\trace_remote_process.csv']"
      ]
     },
     "metadata": {},
     "execution_count": 4
    }
   ],
   "source": [
    "path = \"C:\\\\Users\\\\Henry\\\\Documents\\\\data\\\\2020_05_27\\\\Trace\\\\\"\n",
    "all_files = glob.glob(path + \"*.csv\")\n",
    "all_files"
   ]
  },
  {
   "cell_type": "code",
   "execution_count": 3,
   "metadata": {},
   "outputs": [],
   "source": [
    "dfs = []\n",
    "for filename in all_files:\n",
    "    df = pd.read_csv(filename, index_col=None)\n",
    "    dfs.append(df)\n",
    "df = pd.concat(dfs, axis=0, ignore_index=True)\n"
   ]
  },
  {
   "cell_type": "code",
   "execution_count": 4,
   "metadata": {},
   "outputs": [
    {
     "output_type": "execute_result",
     "data": {
      "text/plain": [
       "Empty DataFrame\n",
       "Columns: [itemid, name, bomc_id, timestamp, value, cmdb_id]\n",
       "Index: []"
      ],
      "text/html": "<div>\n<style scoped>\n    .dataframe tbody tr th:only-of-type {\n        vertical-align: middle;\n    }\n\n    .dataframe tbody tr th {\n        vertical-align: top;\n    }\n\n    .dataframe thead th {\n        text-align: right;\n    }\n</style>\n<table border=\"1\" class=\"dataframe\">\n  <thead>\n    <tr style=\"text-align: right;\">\n      <th></th>\n      <th>itemid</th>\n      <th>name</th>\n      <th>bomc_id</th>\n      <th>timestamp</th>\n      <th>value</th>\n      <th>cmdb_id</th>\n    </tr>\n  </thead>\n  <tbody>\n  </tbody>\n</table>\n</div>"
     },
     "metadata": {},
     "execution_count": 4
    }
   ],
   "source": [
    "anomaly_time = 1590520980000\n",
    "# 1590430140000 db 007\n",
    "# 1590431940000 docker 008\n",
    "# 1590433740000 os 21\n",
    "# 1590435540000 os 18\n",
    "df = df[(df.timestamp >= (anomaly_time-1200000)) & (df.timestamp <= (anomaly_time + 300000))]\n",
    "df"
   ]
  },
  {
   "cell_type": "code",
   "execution_count": 2,
   "metadata": {},
   "outputs": [
    {
     "output_type": "error",
     "ename": "NameError",
     "evalue": "name 'df' is not defined",
     "traceback": [
      "\u001b[1;31m---------------------------------------------------------------------------\u001b[0m",
      "\u001b[1;31mNameError\u001b[0m                                 Traceback (most recent call last)",
      "\u001b[1;32m<ipython-input-2-266a3fe58c48>\u001b[0m in \u001b[0;36m<module>\u001b[1;34m\u001b[0m\n\u001b[0;32m      1\u001b[0m \u001b[0msave_path\u001b[0m \u001b[1;33m=\u001b[0m\u001b[1;34m'D:\\\\THU Studies\\\\Advance Network Management\\\\Project\\\\Anomaly-detection\\\\local_data\\\\esd\\\\'\u001b[0m\u001b[1;33m\u001b[0m\u001b[1;33m\u001b[0m\u001b[0m\n\u001b[1;32m----> 2\u001b[1;33m \u001b[0mdf\u001b[0m\u001b[1;33m.\u001b[0m\u001b[0mto_csv\u001b[0m\u001b[1;33m(\u001b[0m\u001b[0msave_path\u001b[0m\u001b[1;33m+\u001b[0m\u001b[1;34m'kpi_data_527_docker001.csv'\u001b[0m\u001b[1;33m,\u001b[0m \u001b[0mindex\u001b[0m \u001b[1;33m=\u001b[0m \u001b[1;32mFalse\u001b[0m\u001b[1;33m)\u001b[0m\u001b[1;33m\u001b[0m\u001b[1;33m\u001b[0m\u001b[0m\n\u001b[0m",
      "\u001b[1;31mNameError\u001b[0m: name 'df' is not defined"
     ]
    }
   ],
   "source": [
    "save_path ='D:\\\\THU Studies\\\\Advance Network Management\\\\Project\\\\Anomaly-detection\\\\local_data\\\\esd\\\\'\n",
    "df.to_csv(save_path+'kpi_data_527_docker001.csv', index = False)"
   ]
  },
  {
   "cell_type": "code",
   "execution_count": 2,
   "metadata": {},
   "outputs": [
    {
     "output_type": "execute_result",
     "data": {
      "text/plain": [
       "['C:\\\\Users\\\\Henry\\\\Documents\\\\data\\\\2020_05_27\\\\Trace\\\\trace_csf.csv',\n",
       " 'C:\\\\Users\\\\Henry\\\\Documents\\\\data\\\\2020_05_27\\\\Trace\\\\trace_fly_remote.csv',\n",
       " 'C:\\\\Users\\\\Henry\\\\Documents\\\\data\\\\2020_05_27\\\\Trace\\\\trace_local.csv',\n",
       " 'C:\\\\Users\\\\Henry\\\\Documents\\\\data\\\\2020_05_27\\\\Trace\\\\trace_osb.csv',\n",
       " 'C:\\\\Users\\\\Henry\\\\Documents\\\\data\\\\2020_05_27\\\\Trace\\\\trace_remote_process.csv']"
      ]
     },
     "metadata": {},
     "execution_count": 2
    }
   ],
   "source": [
    "path = \"C:\\\\Users\\\\Henry\\\\Documents\\\\data\\\\2020_05_27\\\\Trace\\\\\"\n",
    "all_files = glob.glob(path + \"*.csv\")\n",
    "all_files"
   ]
  },
  {
   "cell_type": "code",
   "execution_count": 3,
   "metadata": {},
   "outputs": [],
   "source": [
    "dfs = []\n",
    "for filename in all_files:\n",
    "    df = pd.read_csv(filename, index_col=None)\n",
    "    dfs.append(df)\n",
    "# df = pd.concat(dfs, axis=0, ignore_index=True)"
   ]
  },
  {
   "cell_type": "code",
   "execution_count": 6,
   "metadata": {},
   "outputs": [
    {
     "output_type": "execute_result",
     "data": {
      "text/plain": [
       "array(['docker_002', 'docker_005', 'docker_001', 'docker_006',\n",
       "       'docker_003', 'docker_007', 'docker_008', 'docker_004'],\n",
       "      dtype=object)"
      ]
     },
     "metadata": {},
     "execution_count": 6
    }
   ],
   "source": [
    "df.cmdb_id.unique()"
   ]
  },
  {
   "cell_type": "code",
   "execution_count": 4,
   "metadata": {},
   "outputs": [],
   "source": [
    "for df in dfs:\n",
    "    if df['callType'].iloc[0]=='LOCAL':\n",
    "        df['serviceName'] = df['dsName']\n",
    "    elif df['callType'].iloc[0]=='RemoteProcess' or df['callType'].iloc[0]=='OSB':\n",
    "        df['serviceName'] = df['cmdb_id']"
   ]
  },
  {
   "cell_type": "code",
   "execution_count": 5,
   "metadata": {},
   "outputs": [],
   "source": [
    "# df.head()"
   ]
  },
  {
   "cell_type": "code",
   "execution_count": 5,
   "metadata": {},
   "outputs": [],
   "source": [
    "df = pd.concat(dfs, axis=0, ignore_index=True)\n",
    "# df.head()"
   ]
  },
  {
   "cell_type": "code",
   "execution_count": 6,
   "metadata": {},
   "outputs": [
    {
     "output_type": "execute_result",
     "data": {
      "text/plain": [
       "  callType      startTime  elapsedTime  success               traceId  \\\n",
       "0      CSF  1590508800030       2308.0     True  73271d2485849471c76f   \n",
       "1      CSF  1590508800033        251.0     True  73271854e26857b1c76f   \n",
       "2      CSF  1590508800034        884.0     True  73271c5c4a2367b1c76f   \n",
       "3      CSF  1590508800035        554.0     True  732712b99f4257b1c76f   \n",
       "4      CSF  1590508800036        882.0     True  7327133bf44367f1c76f   \n",
       "\n",
       "                     id                   pid cmdb_id serviceName  \n",
       "0  7327121d411594e1c76f  7327120256949471c76f  os_022     csf_001  \n",
       "1  73271e1ee0985712c76f  73271e287b7857b1c76f  os_022     csf_001  \n",
       "2  732717e236736722c76f  732714be573367b1c76f  os_022     csf_001  \n",
       "3  73271bc681725732c76f  732714a7505257b1c76f  os_022     csf_001  \n",
       "4  732711fddf936742c76f  7327100cbd5367f1c76f  os_022     csf_001  "
      ],
      "text/html": "<div>\n<style scoped>\n    .dataframe tbody tr th:only-of-type {\n        vertical-align: middle;\n    }\n\n    .dataframe tbody tr th {\n        vertical-align: top;\n    }\n\n    .dataframe thead th {\n        text-align: right;\n    }\n</style>\n<table border=\"1\" class=\"dataframe\">\n  <thead>\n    <tr style=\"text-align: right;\">\n      <th></th>\n      <th>callType</th>\n      <th>startTime</th>\n      <th>elapsedTime</th>\n      <th>success</th>\n      <th>traceId</th>\n      <th>id</th>\n      <th>pid</th>\n      <th>cmdb_id</th>\n      <th>serviceName</th>\n    </tr>\n  </thead>\n  <tbody>\n    <tr>\n      <th>0</th>\n      <td>CSF</td>\n      <td>1590508800030</td>\n      <td>2308.0</td>\n      <td>True</td>\n      <td>73271d2485849471c76f</td>\n      <td>7327121d411594e1c76f</td>\n      <td>7327120256949471c76f</td>\n      <td>os_022</td>\n      <td>csf_001</td>\n    </tr>\n    <tr>\n      <th>1</th>\n      <td>CSF</td>\n      <td>1590508800033</td>\n      <td>251.0</td>\n      <td>True</td>\n      <td>73271854e26857b1c76f</td>\n      <td>73271e1ee0985712c76f</td>\n      <td>73271e287b7857b1c76f</td>\n      <td>os_022</td>\n      <td>csf_001</td>\n    </tr>\n    <tr>\n      <th>2</th>\n      <td>CSF</td>\n      <td>1590508800034</td>\n      <td>884.0</td>\n      <td>True</td>\n      <td>73271c5c4a2367b1c76f</td>\n      <td>732717e236736722c76f</td>\n      <td>732714be573367b1c76f</td>\n      <td>os_022</td>\n      <td>csf_001</td>\n    </tr>\n    <tr>\n      <th>3</th>\n      <td>CSF</td>\n      <td>1590508800035</td>\n      <td>554.0</td>\n      <td>True</td>\n      <td>732712b99f4257b1c76f</td>\n      <td>73271bc681725732c76f</td>\n      <td>732714a7505257b1c76f</td>\n      <td>os_022</td>\n      <td>csf_001</td>\n    </tr>\n    <tr>\n      <th>4</th>\n      <td>CSF</td>\n      <td>1590508800036</td>\n      <td>882.0</td>\n      <td>True</td>\n      <td>7327133bf44367f1c76f</td>\n      <td>732711fddf936742c76f</td>\n      <td>7327100cbd5367f1c76f</td>\n      <td>os_022</td>\n      <td>csf_001</td>\n    </tr>\n  </tbody>\n</table>\n</div>"
     },
     "metadata": {},
     "execution_count": 6
    }
   ],
   "source": [
    "df = df.drop('dsName', axis=1, index=None)\n",
    "# df = df.drop(['path'], axis=1)\n",
    "df.head()"
   ]
  },
  {
   "cell_type": "code",
   "execution_count": 7,
   "metadata": {},
   "outputs": [
    {
     "output_type": "execute_result",
     "data": {
      "text/plain": [
       "array(['os_022', 'docker_002', 'docker_001', 'os_021', 'docker_003',\n",
       "       'docker_004', nan, 'docker_008', 'docker_007', 'docker_005',\n",
       "       'docker_006'], dtype=object)"
      ]
     },
     "metadata": {},
     "execution_count": 7
    }
   ],
   "source": [
    "df.cmdb_id.unique()"
   ]
  },
  {
   "cell_type": "code",
   "execution_count": 11,
   "metadata": {},
   "outputs": [
    {
     "output_type": "execute_result",
     "data": {
      "text/plain": [
       "              callType      startTime  elapsedTime  success  \\\n",
       "830546       FlyRemote  1590422674132          6.0     True   \n",
       "830547       FlyRemote  1590422674327          6.0     True   \n",
       "830550       FlyRemote  1590422674924          5.0     True   \n",
       "830553       FlyRemote  1590422675619          6.0     True   \n",
       "830560       FlyRemote  1590422676473          8.0     True   \n",
       "...                ...            ...          ...      ...   \n",
       "9616320  RemoteProcess  1590443975155         23.0     True   \n",
       "9616324  RemoteProcess  1590443975170         28.0     True   \n",
       "9616326  RemoteProcess  1590443975204         17.0     True   \n",
       "9616338  RemoteProcess  1590443975363         25.0     True   \n",
       "9616339  RemoteProcess  1590443975393         25.0     True   \n",
       "\n",
       "                      traceId                    id                   pid  \\\n",
       "830546   fe1719a8cd25368b2a1e  fe1713188f51834d2a1e  fe171ce7a831839c2a1e   \n",
       "830547   fe171f2aee8536683a1e  fe171451149183793a1e  fe171dceda7183193a1e   \n",
       "830550   fe1711314767369d5a1e  fe17141ece3283ce5a1e  fe171e548012835e5a1e   \n",
       "830553   fe171581088936398a1e  fe1710236816833a8a1e  fe1711e2c19583a98a1e   \n",
       "830560   fe171bddd66746beba1e  fe1710b22831939fba1e  fe171c63ed11933fba1e   \n",
       "...                       ...                   ...                   ...   \n",
       "9616320  1f1719690b4129c99a62  1f1711ab1566233f9a62  1f1719f6ab2381fe9a62   \n",
       "9616324  1f17178ce628815a9a62  1f171a40d4882320aa62  1f171cb2b24381ff9a62   \n",
       "9616326  1f17178ce628815a9a62  1f1711c605503342aa62  1f1717c4f2838112aa62   \n",
       "9616338  1f171849648881b8aa62  1f1714dbe951333caa62  1f1718af8f1747fbaa62   \n",
       "9616339  1f171849648881b8aa62  1f1710323543331eaa62  1f171d3ab43747edaa62   \n",
       "\n",
       "            cmdb_id     serviceName  \n",
       "830546   docker_007  fly_remote_001  \n",
       "830547   docker_007  fly_remote_001  \n",
       "830550   docker_007  fly_remote_001  \n",
       "830553   docker_007  fly_remote_001  \n",
       "830560   docker_007  fly_remote_001  \n",
       "...             ...             ...  \n",
       "9616320  docker_007      docker_007  \n",
       "9616324  docker_007      docker_007  \n",
       "9616326  docker_007      docker_007  \n",
       "9616338  docker_007      docker_007  \n",
       "9616339  docker_007      docker_007  \n",
       "\n",
       "[829674 rows x 9 columns]"
      ],
      "text/html": "<div>\n<style scoped>\n    .dataframe tbody tr th:only-of-type {\n        vertical-align: middle;\n    }\n\n    .dataframe tbody tr th {\n        vertical-align: top;\n    }\n\n    .dataframe thead th {\n        text-align: right;\n    }\n</style>\n<table border=\"1\" class=\"dataframe\">\n  <thead>\n    <tr style=\"text-align: right;\">\n      <th></th>\n      <th>callType</th>\n      <th>startTime</th>\n      <th>elapsedTime</th>\n      <th>success</th>\n      <th>traceId</th>\n      <th>id</th>\n      <th>pid</th>\n      <th>cmdb_id</th>\n      <th>serviceName</th>\n    </tr>\n  </thead>\n  <tbody>\n    <tr>\n      <th>830546</th>\n      <td>FlyRemote</td>\n      <td>1590422674132</td>\n      <td>6.0</td>\n      <td>True</td>\n      <td>fe1719a8cd25368b2a1e</td>\n      <td>fe1713188f51834d2a1e</td>\n      <td>fe171ce7a831839c2a1e</td>\n      <td>docker_007</td>\n      <td>fly_remote_001</td>\n    </tr>\n    <tr>\n      <th>830547</th>\n      <td>FlyRemote</td>\n      <td>1590422674327</td>\n      <td>6.0</td>\n      <td>True</td>\n      <td>fe171f2aee8536683a1e</td>\n      <td>fe171451149183793a1e</td>\n      <td>fe171dceda7183193a1e</td>\n      <td>docker_007</td>\n      <td>fly_remote_001</td>\n    </tr>\n    <tr>\n      <th>830550</th>\n      <td>FlyRemote</td>\n      <td>1590422674924</td>\n      <td>5.0</td>\n      <td>True</td>\n      <td>fe1711314767369d5a1e</td>\n      <td>fe17141ece3283ce5a1e</td>\n      <td>fe171e548012835e5a1e</td>\n      <td>docker_007</td>\n      <td>fly_remote_001</td>\n    </tr>\n    <tr>\n      <th>830553</th>\n      <td>FlyRemote</td>\n      <td>1590422675619</td>\n      <td>6.0</td>\n      <td>True</td>\n      <td>fe171581088936398a1e</td>\n      <td>fe1710236816833a8a1e</td>\n      <td>fe1711e2c19583a98a1e</td>\n      <td>docker_007</td>\n      <td>fly_remote_001</td>\n    </tr>\n    <tr>\n      <th>830560</th>\n      <td>FlyRemote</td>\n      <td>1590422676473</td>\n      <td>8.0</td>\n      <td>True</td>\n      <td>fe171bddd66746beba1e</td>\n      <td>fe1710b22831939fba1e</td>\n      <td>fe171c63ed11933fba1e</td>\n      <td>docker_007</td>\n      <td>fly_remote_001</td>\n    </tr>\n    <tr>\n      <th>...</th>\n      <td>...</td>\n      <td>...</td>\n      <td>...</td>\n      <td>...</td>\n      <td>...</td>\n      <td>...</td>\n      <td>...</td>\n      <td>...</td>\n      <td>...</td>\n    </tr>\n    <tr>\n      <th>9616320</th>\n      <td>RemoteProcess</td>\n      <td>1590443975155</td>\n      <td>23.0</td>\n      <td>True</td>\n      <td>1f1719690b4129c99a62</td>\n      <td>1f1711ab1566233f9a62</td>\n      <td>1f1719f6ab2381fe9a62</td>\n      <td>docker_007</td>\n      <td>docker_007</td>\n    </tr>\n    <tr>\n      <th>9616324</th>\n      <td>RemoteProcess</td>\n      <td>1590443975170</td>\n      <td>28.0</td>\n      <td>True</td>\n      <td>1f17178ce628815a9a62</td>\n      <td>1f171a40d4882320aa62</td>\n      <td>1f171cb2b24381ff9a62</td>\n      <td>docker_007</td>\n      <td>docker_007</td>\n    </tr>\n    <tr>\n      <th>9616326</th>\n      <td>RemoteProcess</td>\n      <td>1590443975204</td>\n      <td>17.0</td>\n      <td>True</td>\n      <td>1f17178ce628815a9a62</td>\n      <td>1f1711c605503342aa62</td>\n      <td>1f1717c4f2838112aa62</td>\n      <td>docker_007</td>\n      <td>docker_007</td>\n    </tr>\n    <tr>\n      <th>9616338</th>\n      <td>RemoteProcess</td>\n      <td>1590443975363</td>\n      <td>25.0</td>\n      <td>True</td>\n      <td>1f171849648881b8aa62</td>\n      <td>1f1714dbe951333caa62</td>\n      <td>1f1718af8f1747fbaa62</td>\n      <td>docker_007</td>\n      <td>docker_007</td>\n    </tr>\n    <tr>\n      <th>9616339</th>\n      <td>RemoteProcess</td>\n      <td>1590443975393</td>\n      <td>25.0</td>\n      <td>True</td>\n      <td>1f171849648881b8aa62</td>\n      <td>1f1710323543331eaa62</td>\n      <td>1f171d3ab43747edaa62</td>\n      <td>docker_007</td>\n      <td>docker_007</td>\n    </tr>\n  </tbody>\n</table>\n<p>829674 rows × 9 columns</p>\n</div>"
     },
     "metadata": {},
     "execution_count": 11
    }
   ],
   "source": [
    "df[df['cmdb_id']=='docker_007']"
   ]
  },
  {
   "cell_type": "code",
   "execution_count": 8,
   "metadata": {},
   "outputs": [],
   "source": [
    "df.dropna(inplace = True, axis=0)"
   ]
  },
  {
   "cell_type": "code",
   "execution_count": 9,
   "metadata": {},
   "outputs": [],
   "source": [
    "anomaly_time = 1590517380000\n",
    "# 1590430140000 db 007\n",
    "# 1590431940000 docker 008\n",
    "# 1590433740000 os 21\n",
    "df = df[(df.startTime >= (anomaly_time-1200000)) & (df.startTime <= (anomaly_time + 300000))]\n",
    "# df.to_csv(path + 'trace_data_os18.csv')\n"
   ]
  },
  {
   "cell_type": "code",
   "execution_count": 22,
   "metadata": {},
   "outputs": [
    {
     "output_type": "execute_result",
     "data": {
      "text/plain": [
       "Empty DataFrame\n",
       "Columns: [callType, startTime, elapsedTime, success, traceId, id, pid, cmdb_id, serviceName, actual_time]\n",
       "Index: []"
      ],
      "text/html": "<div>\n<style scoped>\n    .dataframe tbody tr th:only-of-type {\n        vertical-align: middle;\n    }\n\n    .dataframe tbody tr th {\n        vertical-align: top;\n    }\n\n    .dataframe thead th {\n        text-align: right;\n    }\n</style>\n<table border=\"1\" class=\"dataframe\">\n  <thead>\n    <tr style=\"text-align: right;\">\n      <th></th>\n      <th>callType</th>\n      <th>startTime</th>\n      <th>elapsedTime</th>\n      <th>success</th>\n      <th>traceId</th>\n      <th>id</th>\n      <th>pid</th>\n      <th>cmdb_id</th>\n      <th>serviceName</th>\n      <th>actual_time</th>\n    </tr>\n  </thead>\n  <tbody>\n  </tbody>\n</table>\n</div>"
     },
     "metadata": {},
     "execution_count": 22
    }
   ],
   "source": [
    "df"
   ]
  },
  {
   "cell_type": "code",
   "execution_count": 10,
   "metadata": {},
   "outputs": [],
   "source": [
    "df1 = df[df['callType']=='RemoteProcess']\n",
    "df1 = df1[['pid','cmdb_id']]\n",
    "df1 = df1.set_index('pid')"
   ]
  },
  {
   "cell_type": "code",
   "execution_count": 11,
   "metadata": {},
   "outputs": [],
   "source": [
    "elapse_time = {}\n",
    "children = {}\n",
    "\n",
    "def do_thing(row):\n",
    "    if row['id'] in df1.index:\n",
    "        row['serviceName'] = df1.at[row['id'],'cmdb_id']\n",
    "    if row['pid'] != 'None':\n",
    "        children[row['pid']] = children.get(row['pid'], [])\n",
    "        children[row['pid']].append(row['id'])\n",
    "    elapse_time[row['id']] = float(row['elapsedTime'])\n",
    "    return row\n",
    "df = df.apply(do_thing, axis=1)\n",
    "\n",
    "\n",
    "df['actual_time'] = 0.0\n",
    "\n",
    "def get_actual_time(row):\n",
    "    total_child = 0.0\n",
    "    if row['id'] in children:\n",
    "        for child in children[row['id']]:\n",
    "            total_child += elapse_time[child]\n",
    "    row['actual_time'] = row['elapsedTime'] - total_child\n",
    "    return row\n",
    "\n",
    "df = df.apply(get_actual_time, axis = 1)\n",
    "\n",
    "df = df[~(df['serviceName'].str.contains('csf', na=True))]"
   ]
  },
  {
   "cell_type": "code",
   "execution_count": 12,
   "metadata": {},
   "outputs": [],
   "source": [
    "df = df.sort_values(['traceId', 'startTime'], ignore_index=True)"
   ]
  },
  {
   "cell_type": "code",
   "execution_count": 13,
   "metadata": {},
   "outputs": [
    {
     "output_type": "execute_result",
     "data": {
      "text/plain": [
       "         callType      startTime  elapsedTime  success               traceId  \\\n",
       "0             OSB  1590517383542        771.0     True  83271000762321675797   \n",
       "1             CSF  1590517383548        761.0     True  83271000762321675797   \n",
       "2   RemoteProcess  1590517383594        710.0     True  83271000762321675797   \n",
       "3       FlyRemote  1590517383600          5.0     True  83271000762321675797   \n",
       "4             CSF  1590517383693        100.0     True  83271000762321675797   \n",
       "5   RemoteProcess  1590517383696         40.0     True  83271000762321675797   \n",
       "6           LOCAL  1590517383721          9.0     True  83271000762321675797   \n",
       "7             CSF  1590517383795         27.0     True  83271000762321675797   \n",
       "8   RemoteProcess  1590517383798         24.0     True  83271000762321675797   \n",
       "9           LOCAL  1590517383801          8.0     True  83271000762321675797   \n",
       "10          LOCAL  1590517383811          5.0     True  83271000762321675797   \n",
       "11            CSF  1590517383893         26.0     True  83271000762321675797   \n",
       "12  RemoteProcess  1590517383896         23.0     True  83271000762321675797   \n",
       "13          LOCAL  1590517383900          8.0     True  83271000762321675797   \n",
       "14          LOCAL  1590517383910          3.0     True  83271000762321675797   \n",
       "15            CSF  1590517383996         98.0     True  83271000762321675797   \n",
       "16  RemoteProcess  1590517384009         17.0     True  83271000762321675797   \n",
       "17          LOCAL  1590517384015          6.0     True  83271000762321675797   \n",
       "18          LOCAL  1590517384098          4.0     True  83271000762321675797   \n",
       "19          LOCAL  1590517384102          2.0     True  83271000762321675797   \n",
       "20          LOCAL  1590517384104          3.0     True  83271000762321675797   \n",
       "21          LOCAL  1590517384107          2.0     True  83271000762321675797   \n",
       "22          LOCAL  1590517384109          2.0     True  83271000762321675797   \n",
       "23          LOCAL  1590517384111         84.0     True  83271000762321675797   \n",
       "24          LOCAL  1590517384195          5.0     True  83271000762321675797   \n",
       "25          LOCAL  1590517384200          3.0     True  83271000762321675797   \n",
       "26          LOCAL  1590517384203          2.0     True  83271000762321675797   \n",
       "27          LOCAL  1590517384205          2.0     True  83271000762321675797   \n",
       "28          LOCAL  1590517384207          2.0     True  83271000762321675797   \n",
       "29          LOCAL  1590517384209          2.0     True  83271000762321675797   \n",
       "30          LOCAL  1590517384211          2.0     True  83271000762321675797   \n",
       "31          LOCAL  1590517384213         80.0     True  83271000762321675797   \n",
       "32            OSB  1590516799603        277.0     True  83271000a0899737c807   \n",
       "33  RemoteProcess  1590516799612        261.0     True  83271000a0899737c807   \n",
       "34            CSF  1590516799613        262.0     True  83271000a0899737c807   \n",
       "35      FlyRemote  1590516799616          4.0     True  83271000a0899737c807   \n",
       "36            CSF  1590516799622         39.0     True  83271000a0899737c807   \n",
       "37  RemoteProcess  1590516799626         36.0     True  83271000a0899737c807   \n",
       "38          LOCAL  1590516799650          6.0     True  83271000a0899737c807   \n",
       "39            CSF  1590516799663         23.0     True  83271000a0899737c807   \n",
       "40  RemoteProcess  1590516799665         20.0     True  83271000a0899737c807   \n",
       "41          LOCAL  1590516799669          7.0     True  83271000a0899737c807   \n",
       "42          LOCAL  1590516799677          3.0     True  83271000a0899737c807   \n",
       "43            CSF  1590516799688         24.0     True  83271000a0899737c807   \n",
       "44  RemoteProcess  1590516799692         19.0     True  83271000a0899737c807   \n",
       "45          LOCAL  1590516799695          7.0     True  83271000a0899737c807   \n",
       "46          LOCAL  1590516799703          4.0     True  83271000a0899737c807   \n",
       "47            CSF  1590516799714         20.0     True  83271000a0899737c807   \n",
       "48  RemoteProcess  1590516799717         17.0     True  83271000a0899737c807   \n",
       "49          LOCAL  1590516799722          8.0     True  83271000a0899737c807   \n",
       "50          LOCAL  1590516799736          2.0     True  83271000a0899737c807   \n",
       "51          LOCAL  1590516799738          2.0     True  83271000a0899737c807   \n",
       "52          LOCAL  1590516799740          1.0     True  83271000a0899737c807   \n",
       "53          LOCAL  1590516799741          2.0     True  83271000a0899737c807   \n",
       "54          LOCAL  1590516799743         14.0     True  83271000a0899737c807   \n",
       "55          LOCAL  1590516799757          2.0     True  83271000a0899737c807   \n",
       "56          LOCAL  1590516799759          2.0     True  83271000a0899737c807   \n",
       "57          LOCAL  1590516799761          3.0     True  83271000a0899737c807   \n",
       "58          LOCAL  1590516799765          2.0     True  83271000a0899737c807   \n",
       "59          LOCAL  1590516799767          3.0     True  83271000a0899737c807   \n",
       "\n",
       "                      id                   pid     cmdb_id     serviceName  \\\n",
       "0   832717c0ad3321675797                  None      os_021          os_021   \n",
       "1   832717e6405321c75797  832717c0ad3321675797      os_021      docker_003   \n",
       "2   83271c08865593aa5797  832717e6405321c75797  docker_003      docker_003   \n",
       "3   832712fb9427930b5797  83271c08865593aa5797  docker_003  fly_remote_001   \n",
       "4   832710f3a37793c06797  83271c08865593aa5797  docker_003      docker_008   \n",
       "5   832712390d1445016797  832710f3a37793c06797  docker_008      docker_008   \n",
       "6   83271b66aa1745926797  832712390d1445016797  docker_008          db_003   \n",
       "7   8327138d0b8993376797  83271c08865593aa5797  docker_003      docker_007   \n",
       "8   83271f805e0037676797  8327138d0b8993376797  docker_007      docker_007   \n",
       "9   83271bb9884037976797  83271f805e0037676797  docker_007          db_003   \n",
       "10  83271920482137386797  83271f805e0037676797  docker_007          db_003   \n",
       "11  83271e37a021045d6797  83271c08865593aa5797  docker_003      docker_007   \n",
       "12  832710d22a43378d6797  83271e37a021045d6797  docker_007      docker_007   \n",
       "13  83271c30758337cd6797  832710d22a43378d6797  docker_007          db_003   \n",
       "14  83271edab364376e6797  832710d22a43378d6797  docker_007          db_003   \n",
       "15  83271481080504a37797  83271c08865593aa5797  docker_003      docker_008   \n",
       "16  83271e4aec1455947797  83271481080504a37797  docker_008      docker_008   \n",
       "17  832714a39b3455f47797  83271e4aec1455947797  docker_008          db_003   \n",
       "18  83271990d187042a7797  83271c08865593aa5797  docker_003          db_009   \n",
       "19  83271c2d5f19046a7797  83271c08865593aa5797  docker_003          db_009   \n",
       "20  832719e76710148a7797  83271c08865593aa5797  docker_003          db_009   \n",
       "21  83271f18b61114ba7797  83271c08865593aa5797  docker_003          db_009   \n",
       "22  83271b83478114da7797  83271c08865593aa5797  docker_003          db_009   \n",
       "23  832715ae796214fa7797  83271c08865593aa5797  docker_003          db_009   \n",
       "24  83271bde0e7314308797  83271c08865593aa5797  docker_003          db_009   \n",
       "25  832719f2259414808797  83271c08865593aa5797  docker_003          db_009   \n",
       "26  83271891247514b08797  83271c08865593aa5797  docker_003          db_009   \n",
       "27  83271e3f414614d08797  83271c08865593aa5797  docker_003          db_009   \n",
       "28  8327193e3a4714f08797  83271c08865593aa5797  docker_003          db_009   \n",
       "29  8327154e592814118797  83271c08865593aa5797  docker_003          db_009   \n",
       "30  832715db449814318797  83271c08865593aa5797  docker_003          db_009   \n",
       "31  832715b3329914518797  83271c08865593aa5797  docker_003          db_007   \n",
       "32  8327195a1a999737c807                  None      os_022          os_022   \n",
       "33  832715a79c1407c7c807  83271490be1008d7c807  docker_002      docker_002   \n",
       "34  83271490be1008d7c807  8327195a1a999737c807      os_022      docker_002   \n",
       "35  83271a9900340708c807  832715a79c1407c7c807  docker_002  fly_remote_001   \n",
       "36  8327110d0c540768c807  832715a79c1407c7c807  docker_002      docker_005   \n",
       "37  83271c3c127432a8c807  8327110d0c540768c807  docker_005      docker_005   \n",
       "38  8327102a0b69322ac807  83271c3c127432a8c807  docker_005          db_003   \n",
       "39  83271913417407fac807  832715a79c1407c7c807  docker_002      docker_006   \n",
       "40  8327149c9511441bc807  83271913417407fac807  docker_006      docker_006   \n",
       "41  8327113d2d81445bc807  8327149c9511441bc807  docker_006          db_003   \n",
       "42  832714f9ed1344dbc807  8327149c9511441bc807  docker_006          db_003   \n",
       "43  8327113d1094078cc807  832715a79c1407c7c807  docker_002      docker_006   \n",
       "44  83271863878344ccc807  8327113d1094078cc807  docker_006      docker_006   \n",
       "45  832710957b2444fcc807  83271863878344ccc807  docker_006          db_003   \n",
       "46  83271c203805447dc807  83271863878344ccc807  docker_006          db_003   \n",
       "47  8327197a6316072ec807  832715a79c1407c7c807  docker_002      docker_005   \n",
       "48  832715381301425ec807  8327197a6316072ec807  docker_005      docker_005   \n",
       "49  832714e5362242aec807  832715381301425ec807  docker_005          db_003   \n",
       "50  832716657656078fc807  832715a79c1407c7c807  docker_002          db_009   \n",
       "51  8327102d9d3707afc807  832715a79c1407c7c807  docker_002          db_009   \n",
       "52  83271a562c8707cfc807  832715a79c1407c7c807  docker_002          db_009   \n",
       "53  83271673173807dfc807  832715a79c1407c7c807  docker_002          db_009   \n",
       "54  8327130ec08807ffc807  832715a79c1407c7c807  docker_002          db_009   \n",
       "55  832715826a5907d0d807  832715a79c1407c7c807  docker_002          db_009   \n",
       "56  832717a24c0017f0d807  832715a79c1407c7c807  docker_002          db_009   \n",
       "57  83271e3c51701711d807  832715a79c1407c7c807  docker_002          db_009   \n",
       "58  83271b92be411751d807  832715a79c1407c7c807  docker_002          db_009   \n",
       "59  83271973d1121771d807  832715a79c1407c7c807  docker_002          db_009   \n",
       "\n",
       "    actual_time  \n",
       "0          10.0  \n",
       "1          51.0  \n",
       "2         259.0  \n",
       "3           5.0  \n",
       "4          60.0  \n",
       "5          31.0  \n",
       "6           9.0  \n",
       "7           3.0  \n",
       "8          11.0  \n",
       "9           8.0  \n",
       "10          5.0  \n",
       "11          3.0  \n",
       "12         12.0  \n",
       "13          8.0  \n",
       "14          3.0  \n",
       "15         81.0  \n",
       "16         11.0  \n",
       "17          6.0  \n",
       "18          4.0  \n",
       "19          2.0  \n",
       "20          3.0  \n",
       "21          2.0  \n",
       "22          2.0  \n",
       "23         84.0  \n",
       "24          5.0  \n",
       "25          3.0  \n",
       "26          2.0  \n",
       "27          2.0  \n",
       "28          2.0  \n",
       "29          2.0  \n",
       "30          2.0  \n",
       "31         80.0  \n",
       "32         15.0  \n",
       "33         25.0  \n",
       "34          1.0  \n",
       "35          4.0  \n",
       "36          3.0  \n",
       "37         30.0  \n",
       "38          6.0  \n",
       "39          3.0  \n",
       "40         10.0  \n",
       "41          7.0  \n",
       "42          3.0  \n",
       "43          5.0  \n",
       "44          8.0  \n",
       "45          7.0  \n",
       "46          4.0  \n",
       "47          3.0  \n",
       "48          9.0  \n",
       "49          8.0  \n",
       "50          2.0  \n",
       "51          2.0  \n",
       "52          1.0  \n",
       "53          2.0  \n",
       "54         14.0  \n",
       "55          2.0  \n",
       "56          2.0  \n",
       "57          3.0  \n",
       "58          2.0  \n",
       "59          3.0  "
      ],
      "text/html": "<div>\n<style scoped>\n    .dataframe tbody tr th:only-of-type {\n        vertical-align: middle;\n    }\n\n    .dataframe tbody tr th {\n        vertical-align: top;\n    }\n\n    .dataframe thead th {\n        text-align: right;\n    }\n</style>\n<table border=\"1\" class=\"dataframe\">\n  <thead>\n    <tr style=\"text-align: right;\">\n      <th></th>\n      <th>callType</th>\n      <th>startTime</th>\n      <th>elapsedTime</th>\n      <th>success</th>\n      <th>traceId</th>\n      <th>id</th>\n      <th>pid</th>\n      <th>cmdb_id</th>\n      <th>serviceName</th>\n      <th>actual_time</th>\n    </tr>\n  </thead>\n  <tbody>\n    <tr>\n      <th>0</th>\n      <td>OSB</td>\n      <td>1590517383542</td>\n      <td>771.0</td>\n      <td>True</td>\n      <td>83271000762321675797</td>\n      <td>832717c0ad3321675797</td>\n      <td>None</td>\n      <td>os_021</td>\n      <td>os_021</td>\n      <td>10.0</td>\n    </tr>\n    <tr>\n      <th>1</th>\n      <td>CSF</td>\n      <td>1590517383548</td>\n      <td>761.0</td>\n      <td>True</td>\n      <td>83271000762321675797</td>\n      <td>832717e6405321c75797</td>\n      <td>832717c0ad3321675797</td>\n      <td>os_021</td>\n      <td>docker_003</td>\n      <td>51.0</td>\n    </tr>\n    <tr>\n      <th>2</th>\n      <td>RemoteProcess</td>\n      <td>1590517383594</td>\n      <td>710.0</td>\n      <td>True</td>\n      <td>83271000762321675797</td>\n      <td>83271c08865593aa5797</td>\n      <td>832717e6405321c75797</td>\n      <td>docker_003</td>\n      <td>docker_003</td>\n      <td>259.0</td>\n    </tr>\n    <tr>\n      <th>3</th>\n      <td>FlyRemote</td>\n      <td>1590517383600</td>\n      <td>5.0</td>\n      <td>True</td>\n      <td>83271000762321675797</td>\n      <td>832712fb9427930b5797</td>\n      <td>83271c08865593aa5797</td>\n      <td>docker_003</td>\n      <td>fly_remote_001</td>\n      <td>5.0</td>\n    </tr>\n    <tr>\n      <th>4</th>\n      <td>CSF</td>\n      <td>1590517383693</td>\n      <td>100.0</td>\n      <td>True</td>\n      <td>83271000762321675797</td>\n      <td>832710f3a37793c06797</td>\n      <td>83271c08865593aa5797</td>\n      <td>docker_003</td>\n      <td>docker_008</td>\n      <td>60.0</td>\n    </tr>\n    <tr>\n      <th>5</th>\n      <td>RemoteProcess</td>\n      <td>1590517383696</td>\n      <td>40.0</td>\n      <td>True</td>\n      <td>83271000762321675797</td>\n      <td>832712390d1445016797</td>\n      <td>832710f3a37793c06797</td>\n      <td>docker_008</td>\n      <td>docker_008</td>\n      <td>31.0</td>\n    </tr>\n    <tr>\n      <th>6</th>\n      <td>LOCAL</td>\n      <td>1590517383721</td>\n      <td>9.0</td>\n      <td>True</td>\n      <td>83271000762321675797</td>\n      <td>83271b66aa1745926797</td>\n      <td>832712390d1445016797</td>\n      <td>docker_008</td>\n      <td>db_003</td>\n      <td>9.0</td>\n    </tr>\n    <tr>\n      <th>7</th>\n      <td>CSF</td>\n      <td>1590517383795</td>\n      <td>27.0</td>\n      <td>True</td>\n      <td>83271000762321675797</td>\n      <td>8327138d0b8993376797</td>\n      <td>83271c08865593aa5797</td>\n      <td>docker_003</td>\n      <td>docker_007</td>\n      <td>3.0</td>\n    </tr>\n    <tr>\n      <th>8</th>\n      <td>RemoteProcess</td>\n      <td>1590517383798</td>\n      <td>24.0</td>\n      <td>True</td>\n      <td>83271000762321675797</td>\n      <td>83271f805e0037676797</td>\n      <td>8327138d0b8993376797</td>\n      <td>docker_007</td>\n      <td>docker_007</td>\n      <td>11.0</td>\n    </tr>\n    <tr>\n      <th>9</th>\n      <td>LOCAL</td>\n      <td>1590517383801</td>\n      <td>8.0</td>\n      <td>True</td>\n      <td>83271000762321675797</td>\n      <td>83271bb9884037976797</td>\n      <td>83271f805e0037676797</td>\n      <td>docker_007</td>\n      <td>db_003</td>\n      <td>8.0</td>\n    </tr>\n    <tr>\n      <th>10</th>\n      <td>LOCAL</td>\n      <td>1590517383811</td>\n      <td>5.0</td>\n      <td>True</td>\n      <td>83271000762321675797</td>\n      <td>83271920482137386797</td>\n      <td>83271f805e0037676797</td>\n      <td>docker_007</td>\n      <td>db_003</td>\n      <td>5.0</td>\n    </tr>\n    <tr>\n      <th>11</th>\n      <td>CSF</td>\n      <td>1590517383893</td>\n      <td>26.0</td>\n      <td>True</td>\n      <td>83271000762321675797</td>\n      <td>83271e37a021045d6797</td>\n      <td>83271c08865593aa5797</td>\n      <td>docker_003</td>\n      <td>docker_007</td>\n      <td>3.0</td>\n    </tr>\n    <tr>\n      <th>12</th>\n      <td>RemoteProcess</td>\n      <td>1590517383896</td>\n      <td>23.0</td>\n      <td>True</td>\n      <td>83271000762321675797</td>\n      <td>832710d22a43378d6797</td>\n      <td>83271e37a021045d6797</td>\n      <td>docker_007</td>\n      <td>docker_007</td>\n      <td>12.0</td>\n    </tr>\n    <tr>\n      <th>13</th>\n      <td>LOCAL</td>\n      <td>1590517383900</td>\n      <td>8.0</td>\n      <td>True</td>\n      <td>83271000762321675797</td>\n      <td>83271c30758337cd6797</td>\n      <td>832710d22a43378d6797</td>\n      <td>docker_007</td>\n      <td>db_003</td>\n      <td>8.0</td>\n    </tr>\n    <tr>\n      <th>14</th>\n      <td>LOCAL</td>\n      <td>1590517383910</td>\n      <td>3.0</td>\n      <td>True</td>\n      <td>83271000762321675797</td>\n      <td>83271edab364376e6797</td>\n      <td>832710d22a43378d6797</td>\n      <td>docker_007</td>\n      <td>db_003</td>\n      <td>3.0</td>\n    </tr>\n    <tr>\n      <th>15</th>\n      <td>CSF</td>\n      <td>1590517383996</td>\n      <td>98.0</td>\n      <td>True</td>\n      <td>83271000762321675797</td>\n      <td>83271481080504a37797</td>\n      <td>83271c08865593aa5797</td>\n      <td>docker_003</td>\n      <td>docker_008</td>\n      <td>81.0</td>\n    </tr>\n    <tr>\n      <th>16</th>\n      <td>RemoteProcess</td>\n      <td>1590517384009</td>\n      <td>17.0</td>\n      <td>True</td>\n      <td>83271000762321675797</td>\n      <td>83271e4aec1455947797</td>\n      <td>83271481080504a37797</td>\n      <td>docker_008</td>\n      <td>docker_008</td>\n      <td>11.0</td>\n    </tr>\n    <tr>\n      <th>17</th>\n      <td>LOCAL</td>\n      <td>1590517384015</td>\n      <td>6.0</td>\n      <td>True</td>\n      <td>83271000762321675797</td>\n      <td>832714a39b3455f47797</td>\n      <td>83271e4aec1455947797</td>\n      <td>docker_008</td>\n      <td>db_003</td>\n      <td>6.0</td>\n    </tr>\n    <tr>\n      <th>18</th>\n      <td>LOCAL</td>\n      <td>1590517384098</td>\n      <td>4.0</td>\n      <td>True</td>\n      <td>83271000762321675797</td>\n      <td>83271990d187042a7797</td>\n      <td>83271c08865593aa5797</td>\n      <td>docker_003</td>\n      <td>db_009</td>\n      <td>4.0</td>\n    </tr>\n    <tr>\n      <th>19</th>\n      <td>LOCAL</td>\n      <td>1590517384102</td>\n      <td>2.0</td>\n      <td>True</td>\n      <td>83271000762321675797</td>\n      <td>83271c2d5f19046a7797</td>\n      <td>83271c08865593aa5797</td>\n      <td>docker_003</td>\n      <td>db_009</td>\n      <td>2.0</td>\n    </tr>\n    <tr>\n      <th>20</th>\n      <td>LOCAL</td>\n      <td>1590517384104</td>\n      <td>3.0</td>\n      <td>True</td>\n      <td>83271000762321675797</td>\n      <td>832719e76710148a7797</td>\n      <td>83271c08865593aa5797</td>\n      <td>docker_003</td>\n      <td>db_009</td>\n      <td>3.0</td>\n    </tr>\n    <tr>\n      <th>21</th>\n      <td>LOCAL</td>\n      <td>1590517384107</td>\n      <td>2.0</td>\n      <td>True</td>\n      <td>83271000762321675797</td>\n      <td>83271f18b61114ba7797</td>\n      <td>83271c08865593aa5797</td>\n      <td>docker_003</td>\n      <td>db_009</td>\n      <td>2.0</td>\n    </tr>\n    <tr>\n      <th>22</th>\n      <td>LOCAL</td>\n      <td>1590517384109</td>\n      <td>2.0</td>\n      <td>True</td>\n      <td>83271000762321675797</td>\n      <td>83271b83478114da7797</td>\n      <td>83271c08865593aa5797</td>\n      <td>docker_003</td>\n      <td>db_009</td>\n      <td>2.0</td>\n    </tr>\n    <tr>\n      <th>23</th>\n      <td>LOCAL</td>\n      <td>1590517384111</td>\n      <td>84.0</td>\n      <td>True</td>\n      <td>83271000762321675797</td>\n      <td>832715ae796214fa7797</td>\n      <td>83271c08865593aa5797</td>\n      <td>docker_003</td>\n      <td>db_009</td>\n      <td>84.0</td>\n    </tr>\n    <tr>\n      <th>24</th>\n      <td>LOCAL</td>\n      <td>1590517384195</td>\n      <td>5.0</td>\n      <td>True</td>\n      <td>83271000762321675797</td>\n      <td>83271bde0e7314308797</td>\n      <td>83271c08865593aa5797</td>\n      <td>docker_003</td>\n      <td>db_009</td>\n      <td>5.0</td>\n    </tr>\n    <tr>\n      <th>25</th>\n      <td>LOCAL</td>\n      <td>1590517384200</td>\n      <td>3.0</td>\n      <td>True</td>\n      <td>83271000762321675797</td>\n      <td>832719f2259414808797</td>\n      <td>83271c08865593aa5797</td>\n      <td>docker_003</td>\n      <td>db_009</td>\n      <td>3.0</td>\n    </tr>\n    <tr>\n      <th>26</th>\n      <td>LOCAL</td>\n      <td>1590517384203</td>\n      <td>2.0</td>\n      <td>True</td>\n      <td>83271000762321675797</td>\n      <td>83271891247514b08797</td>\n      <td>83271c08865593aa5797</td>\n      <td>docker_003</td>\n      <td>db_009</td>\n      <td>2.0</td>\n    </tr>\n    <tr>\n      <th>27</th>\n      <td>LOCAL</td>\n      <td>1590517384205</td>\n      <td>2.0</td>\n      <td>True</td>\n      <td>83271000762321675797</td>\n      <td>83271e3f414614d08797</td>\n      <td>83271c08865593aa5797</td>\n      <td>docker_003</td>\n      <td>db_009</td>\n      <td>2.0</td>\n    </tr>\n    <tr>\n      <th>28</th>\n      <td>LOCAL</td>\n      <td>1590517384207</td>\n      <td>2.0</td>\n      <td>True</td>\n      <td>83271000762321675797</td>\n      <td>8327193e3a4714f08797</td>\n      <td>83271c08865593aa5797</td>\n      <td>docker_003</td>\n      <td>db_009</td>\n      <td>2.0</td>\n    </tr>\n    <tr>\n      <th>29</th>\n      <td>LOCAL</td>\n      <td>1590517384209</td>\n      <td>2.0</td>\n      <td>True</td>\n      <td>83271000762321675797</td>\n      <td>8327154e592814118797</td>\n      <td>83271c08865593aa5797</td>\n      <td>docker_003</td>\n      <td>db_009</td>\n      <td>2.0</td>\n    </tr>\n    <tr>\n      <th>30</th>\n      <td>LOCAL</td>\n      <td>1590517384211</td>\n      <td>2.0</td>\n      <td>True</td>\n      <td>83271000762321675797</td>\n      <td>832715db449814318797</td>\n      <td>83271c08865593aa5797</td>\n      <td>docker_003</td>\n      <td>db_009</td>\n      <td>2.0</td>\n    </tr>\n    <tr>\n      <th>31</th>\n      <td>LOCAL</td>\n      <td>1590517384213</td>\n      <td>80.0</td>\n      <td>True</td>\n      <td>83271000762321675797</td>\n      <td>832715b3329914518797</td>\n      <td>83271c08865593aa5797</td>\n      <td>docker_003</td>\n      <td>db_007</td>\n      <td>80.0</td>\n    </tr>\n    <tr>\n      <th>32</th>\n      <td>OSB</td>\n      <td>1590516799603</td>\n      <td>277.0</td>\n      <td>True</td>\n      <td>83271000a0899737c807</td>\n      <td>8327195a1a999737c807</td>\n      <td>None</td>\n      <td>os_022</td>\n      <td>os_022</td>\n      <td>15.0</td>\n    </tr>\n    <tr>\n      <th>33</th>\n      <td>RemoteProcess</td>\n      <td>1590516799612</td>\n      <td>261.0</td>\n      <td>True</td>\n      <td>83271000a0899737c807</td>\n      <td>832715a79c1407c7c807</td>\n      <td>83271490be1008d7c807</td>\n      <td>docker_002</td>\n      <td>docker_002</td>\n      <td>25.0</td>\n    </tr>\n    <tr>\n      <th>34</th>\n      <td>CSF</td>\n      <td>1590516799613</td>\n      <td>262.0</td>\n      <td>True</td>\n      <td>83271000a0899737c807</td>\n      <td>83271490be1008d7c807</td>\n      <td>8327195a1a999737c807</td>\n      <td>os_022</td>\n      <td>docker_002</td>\n      <td>1.0</td>\n    </tr>\n    <tr>\n      <th>35</th>\n      <td>FlyRemote</td>\n      <td>1590516799616</td>\n      <td>4.0</td>\n      <td>True</td>\n      <td>83271000a0899737c807</td>\n      <td>83271a9900340708c807</td>\n      <td>832715a79c1407c7c807</td>\n      <td>docker_002</td>\n      <td>fly_remote_001</td>\n      <td>4.0</td>\n    </tr>\n    <tr>\n      <th>36</th>\n      <td>CSF</td>\n      <td>1590516799622</td>\n      <td>39.0</td>\n      <td>True</td>\n      <td>83271000a0899737c807</td>\n      <td>8327110d0c540768c807</td>\n      <td>832715a79c1407c7c807</td>\n      <td>docker_002</td>\n      <td>docker_005</td>\n      <td>3.0</td>\n    </tr>\n    <tr>\n      <th>37</th>\n      <td>RemoteProcess</td>\n      <td>1590516799626</td>\n      <td>36.0</td>\n      <td>True</td>\n      <td>83271000a0899737c807</td>\n      <td>83271c3c127432a8c807</td>\n      <td>8327110d0c540768c807</td>\n      <td>docker_005</td>\n      <td>docker_005</td>\n      <td>30.0</td>\n    </tr>\n    <tr>\n      <th>38</th>\n      <td>LOCAL</td>\n      <td>1590516799650</td>\n      <td>6.0</td>\n      <td>True</td>\n      <td>83271000a0899737c807</td>\n      <td>8327102a0b69322ac807</td>\n      <td>83271c3c127432a8c807</td>\n      <td>docker_005</td>\n      <td>db_003</td>\n      <td>6.0</td>\n    </tr>\n    <tr>\n      <th>39</th>\n      <td>CSF</td>\n      <td>1590516799663</td>\n      <td>23.0</td>\n      <td>True</td>\n      <td>83271000a0899737c807</td>\n      <td>83271913417407fac807</td>\n      <td>832715a79c1407c7c807</td>\n      <td>docker_002</td>\n      <td>docker_006</td>\n      <td>3.0</td>\n    </tr>\n    <tr>\n      <th>40</th>\n      <td>RemoteProcess</td>\n      <td>1590516799665</td>\n      <td>20.0</td>\n      <td>True</td>\n      <td>83271000a0899737c807</td>\n      <td>8327149c9511441bc807</td>\n      <td>83271913417407fac807</td>\n      <td>docker_006</td>\n      <td>docker_006</td>\n      <td>10.0</td>\n    </tr>\n    <tr>\n      <th>41</th>\n      <td>LOCAL</td>\n      <td>1590516799669</td>\n      <td>7.0</td>\n      <td>True</td>\n      <td>83271000a0899737c807</td>\n      <td>8327113d2d81445bc807</td>\n      <td>8327149c9511441bc807</td>\n      <td>docker_006</td>\n      <td>db_003</td>\n      <td>7.0</td>\n    </tr>\n    <tr>\n      <th>42</th>\n      <td>LOCAL</td>\n      <td>1590516799677</td>\n      <td>3.0</td>\n      <td>True</td>\n      <td>83271000a0899737c807</td>\n      <td>832714f9ed1344dbc807</td>\n      <td>8327149c9511441bc807</td>\n      <td>docker_006</td>\n      <td>db_003</td>\n      <td>3.0</td>\n    </tr>\n    <tr>\n      <th>43</th>\n      <td>CSF</td>\n      <td>1590516799688</td>\n      <td>24.0</td>\n      <td>True</td>\n      <td>83271000a0899737c807</td>\n      <td>8327113d1094078cc807</td>\n      <td>832715a79c1407c7c807</td>\n      <td>docker_002</td>\n      <td>docker_006</td>\n      <td>5.0</td>\n    </tr>\n    <tr>\n      <th>44</th>\n      <td>RemoteProcess</td>\n      <td>1590516799692</td>\n      <td>19.0</td>\n      <td>True</td>\n      <td>83271000a0899737c807</td>\n      <td>83271863878344ccc807</td>\n      <td>8327113d1094078cc807</td>\n      <td>docker_006</td>\n      <td>docker_006</td>\n      <td>8.0</td>\n    </tr>\n    <tr>\n      <th>45</th>\n      <td>LOCAL</td>\n      <td>1590516799695</td>\n      <td>7.0</td>\n      <td>True</td>\n      <td>83271000a0899737c807</td>\n      <td>832710957b2444fcc807</td>\n      <td>83271863878344ccc807</td>\n      <td>docker_006</td>\n      <td>db_003</td>\n      <td>7.0</td>\n    </tr>\n    <tr>\n      <th>46</th>\n      <td>LOCAL</td>\n      <td>1590516799703</td>\n      <td>4.0</td>\n      <td>True</td>\n      <td>83271000a0899737c807</td>\n      <td>83271c203805447dc807</td>\n      <td>83271863878344ccc807</td>\n      <td>docker_006</td>\n      <td>db_003</td>\n      <td>4.0</td>\n    </tr>\n    <tr>\n      <th>47</th>\n      <td>CSF</td>\n      <td>1590516799714</td>\n      <td>20.0</td>\n      <td>True</td>\n      <td>83271000a0899737c807</td>\n      <td>8327197a6316072ec807</td>\n      <td>832715a79c1407c7c807</td>\n      <td>docker_002</td>\n      <td>docker_005</td>\n      <td>3.0</td>\n    </tr>\n    <tr>\n      <th>48</th>\n      <td>RemoteProcess</td>\n      <td>1590516799717</td>\n      <td>17.0</td>\n      <td>True</td>\n      <td>83271000a0899737c807</td>\n      <td>832715381301425ec807</td>\n      <td>8327197a6316072ec807</td>\n      <td>docker_005</td>\n      <td>docker_005</td>\n      <td>9.0</td>\n    </tr>\n    <tr>\n      <th>49</th>\n      <td>LOCAL</td>\n      <td>1590516799722</td>\n      <td>8.0</td>\n      <td>True</td>\n      <td>83271000a0899737c807</td>\n      <td>832714e5362242aec807</td>\n      <td>832715381301425ec807</td>\n      <td>docker_005</td>\n      <td>db_003</td>\n      <td>8.0</td>\n    </tr>\n    <tr>\n      <th>50</th>\n      <td>LOCAL</td>\n      <td>1590516799736</td>\n      <td>2.0</td>\n      <td>True</td>\n      <td>83271000a0899737c807</td>\n      <td>832716657656078fc807</td>\n      <td>832715a79c1407c7c807</td>\n      <td>docker_002</td>\n      <td>db_009</td>\n      <td>2.0</td>\n    </tr>\n    <tr>\n      <th>51</th>\n      <td>LOCAL</td>\n      <td>1590516799738</td>\n      <td>2.0</td>\n      <td>True</td>\n      <td>83271000a0899737c807</td>\n      <td>8327102d9d3707afc807</td>\n      <td>832715a79c1407c7c807</td>\n      <td>docker_002</td>\n      <td>db_009</td>\n      <td>2.0</td>\n    </tr>\n    <tr>\n      <th>52</th>\n      <td>LOCAL</td>\n      <td>1590516799740</td>\n      <td>1.0</td>\n      <td>True</td>\n      <td>83271000a0899737c807</td>\n      <td>83271a562c8707cfc807</td>\n      <td>832715a79c1407c7c807</td>\n      <td>docker_002</td>\n      <td>db_009</td>\n      <td>1.0</td>\n    </tr>\n    <tr>\n      <th>53</th>\n      <td>LOCAL</td>\n      <td>1590516799741</td>\n      <td>2.0</td>\n      <td>True</td>\n      <td>83271000a0899737c807</td>\n      <td>83271673173807dfc807</td>\n      <td>832715a79c1407c7c807</td>\n      <td>docker_002</td>\n      <td>db_009</td>\n      <td>2.0</td>\n    </tr>\n    <tr>\n      <th>54</th>\n      <td>LOCAL</td>\n      <td>1590516799743</td>\n      <td>14.0</td>\n      <td>True</td>\n      <td>83271000a0899737c807</td>\n      <td>8327130ec08807ffc807</td>\n      <td>832715a79c1407c7c807</td>\n      <td>docker_002</td>\n      <td>db_009</td>\n      <td>14.0</td>\n    </tr>\n    <tr>\n      <th>55</th>\n      <td>LOCAL</td>\n      <td>1590516799757</td>\n      <td>2.0</td>\n      <td>True</td>\n      <td>83271000a0899737c807</td>\n      <td>832715826a5907d0d807</td>\n      <td>832715a79c1407c7c807</td>\n      <td>docker_002</td>\n      <td>db_009</td>\n      <td>2.0</td>\n    </tr>\n    <tr>\n      <th>56</th>\n      <td>LOCAL</td>\n      <td>1590516799759</td>\n      <td>2.0</td>\n      <td>True</td>\n      <td>83271000a0899737c807</td>\n      <td>832717a24c0017f0d807</td>\n      <td>832715a79c1407c7c807</td>\n      <td>docker_002</td>\n      <td>db_009</td>\n      <td>2.0</td>\n    </tr>\n    <tr>\n      <th>57</th>\n      <td>LOCAL</td>\n      <td>1590516799761</td>\n      <td>3.0</td>\n      <td>True</td>\n      <td>83271000a0899737c807</td>\n      <td>83271e3c51701711d807</td>\n      <td>832715a79c1407c7c807</td>\n      <td>docker_002</td>\n      <td>db_009</td>\n      <td>3.0</td>\n    </tr>\n    <tr>\n      <th>58</th>\n      <td>LOCAL</td>\n      <td>1590516799765</td>\n      <td>2.0</td>\n      <td>True</td>\n      <td>83271000a0899737c807</td>\n      <td>83271b92be411751d807</td>\n      <td>832715a79c1407c7c807</td>\n      <td>docker_002</td>\n      <td>db_009</td>\n      <td>2.0</td>\n    </tr>\n    <tr>\n      <th>59</th>\n      <td>LOCAL</td>\n      <td>1590516799767</td>\n      <td>3.0</td>\n      <td>True</td>\n      <td>83271000a0899737c807</td>\n      <td>83271973d1121771d807</td>\n      <td>832715a79c1407c7c807</td>\n      <td>docker_002</td>\n      <td>db_009</td>\n      <td>3.0</td>\n    </tr>\n  </tbody>\n</table>\n</div>"
     },
     "metadata": {},
     "execution_count": 13
    }
   ],
   "source": [
    "df.head(60)"
   ]
  },
  {
   "cell_type": "code",
   "execution_count": 16,
   "metadata": {},
   "outputs": [],
   "source": [
    "save_path ='D:\\\\THU Studies\\\\Advance Network Management\\\\Project\\\\Anomaly-detection\\\\local_data\\\\esd\\\\'\n",
    "df.to_csv(save_path+'trace_528347_os18.csv', index = False)"
   ]
  },
  {
   "cell_type": "code",
   "execution_count": null,
   "metadata": {},
   "outputs": [],
   "source": []
  },
  {
   "cell_type": "code",
   "execution_count": null,
   "metadata": {},
   "outputs": [],
   "source": [
    "from tqdm import tqdm\n",
    "for index, row in tqdm(df.iterrows()):\n",
    "    if row['id'] in csf_cmdb:\n",
    "        df.at[index, 'serviceName'] = csf_cmdb[row['id']]"
   ]
  },
  {
   "cell_type": "code",
   "execution_count": null,
   "metadata": {},
   "outputs": [],
   "source": [
    "elapse_time = {}\n",
    "children = {}\n",
    "for index, row in tqdm(df.iterrows()):\n",
    "    if row['pid'] != 'None':\n",
    "        if row['pid'] in children.keys():\n",
    "            children[row['pid']].append(row['id'])\n",
    "        else:\n",
    "            children[row['pid']] = [row['id']]\n",
    "    elapse_time[row['id']] = float(row['elapsedTime'])"
   ]
  },
  {
   "cell_type": "code",
   "execution_count": null,
   "metadata": {},
   "outputs": [],
   "source": [
    "df['actual_time'] = 0.0\n",
    "for index, row in tqdm(df.iterrows()):\n",
    "    total_child = 0.0\n",
    "    if row['id'] not in children.keys():\n",
    "        df.at[index, 'actual_time'] = row['elapsedTime']\n",
    "        continue\n",
    "    for child in children[row['id']]:\n",
    "        total_child += elapse_time[child]\n",
    "    df.at[index, 'actual_time'] = row['elapsedTime'] - total_child"
   ]
  },
  {
   "cell_type": "code",
   "execution_count": null,
   "metadata": {},
   "outputs": [],
   "source": [
    "df = df.sort_values(['traceId','startTime','callType'], ignore_index = True)"
   ]
  },
  {
   "cell_type": "code",
   "execution_count": null,
   "metadata": {},
   "outputs": [],
   "source": [
    "df.serviceName.unique()"
   ]
  },
  {
   "cell_type": "code",
   "execution_count": null,
   "metadata": {},
   "outputs": [],
   "source": [
    "df.head(60)"
   ]
  },
  {
   "cell_type": "code",
   "execution_count": 14,
   "metadata": {},
   "outputs": [],
   "source": [
    "grouped_df = df.groupby(['cmdb_id', 'serviceName'])[['startTime','actual_time']]"
   ]
  },
  {
   "cell_type": "code",
   "execution_count": 15,
   "metadata": {},
   "outputs": [
    {
     "output_type": "execute_result",
     "data": {
      "text/plain": [
       "dict_keys([('docker_001', 'db_007'), ('docker_001', 'db_009'), ('docker_001', 'docker_001'), ('docker_001', 'docker_005'), ('docker_001', 'docker_006'), ('docker_001', 'fly_remote_001'), ('docker_002', 'db_007'), ('docker_002', 'db_009'), ('docker_002', 'docker_002'), ('docker_002', 'docker_005'), ('docker_002', 'docker_006'), ('docker_002', 'fly_remote_001'), ('docker_003', 'db_007'), ('docker_003', 'db_009'), ('docker_003', 'docker_003'), ('docker_003', 'docker_007'), ('docker_003', 'docker_008'), ('docker_003', 'fly_remote_001'), ('docker_004', 'db_007'), ('docker_004', 'db_009'), ('docker_004', 'docker_004'), ('docker_004', 'docker_007'), ('docker_004', 'docker_008'), ('docker_004', 'fly_remote_001'), ('docker_005', 'db_003'), ('docker_005', 'docker_005'), ('docker_006', 'db_003'), ('docker_006', 'docker_006'), ('docker_007', 'db_003'), ('docker_007', 'docker_007'), ('docker_007', 'fly_remote_001'), ('docker_008', 'db_003'), ('docker_008', 'docker_008'), ('docker_008', 'fly_remote_001'), ('os_021', 'docker_003'), ('os_021', 'docker_004'), ('os_021', 'os_021'), ('os_022', 'docker_001'), ('os_022', 'docker_002'), ('os_022', 'os_022')])"
      ]
     },
     "metadata": {},
     "execution_count": 15
    }
   ],
   "source": [
    "grouped_df.groups.keys()"
   ]
  },
  {
   "cell_type": "code",
   "execution_count": 16,
   "metadata": {},
   "outputs": [],
   "source": [
    "def esd_test_statistics(x, hybrid=True):\n",
    "  \"\"\"\n",
    "  Compute the location and dispersion sample statistics used to carry out the ESD test.\n",
    "  \"\"\"\n",
    "  if hybrid:\n",
    "    location = pd.Series(x).median(skipna=True) # Median\n",
    "    dispersion = np.median(np.abs(x - np.median(x))) # Median Absolute Deviation\n",
    "  else:  \n",
    "    location = pd.Series(x).mean(skipna=True) # Mean\n",
    "    dispersion = pd.Series(x).std(skipna=True) # Standard Deviation\n",
    "    \n",
    "  return location, dispersion    "
   ]
  },
  {
   "cell_type": "code",
   "execution_count": 17,
   "metadata": {},
   "outputs": [],
   "source": [
    "# def seasonal_mean(x, freq):\n",
    "#   \"\"\"\n",
    "#   Returns the mean of the timeseries for each period in x.\n",
    "  \n",
    "#   x    : List, array, or series containing the time series\n",
    "#   freq : Int that gives the number of periods per cycle (7 for week, 12 for monthly, etc)\n",
    "#   \"\"\"\n",
    "#   return np.array([pd.Series(x[i::freq]).mean(skipna=True) for i in range(freq)])\n",
    "\n",
    "def ts_S_Md_decomposition(x):\n",
    "  \"\"\"\n",
    "  Decomposes the timeseries using a modified STL method:Rx = X - Sx - X^~.\n",
    "    Rx : Residuals\n",
    "    X  : Original time series\n",
    "    Sx : Seasonality component (average value per period)\n",
    "    X^~: Median of original timeseries\n",
    "    \n",
    "  x    : List, array, or series containing the time series \n",
    "  freq : Int that gives the number of periods per cycle (7 for week, 12 for monthly, etc)  \n",
    "  \"\"\"\n",
    "  nobs = len(x)\n",
    "  \n",
    "  # Seasonality\n",
    "#   period_averages = seasonal_mean(x, freq)\n",
    "#   seasonal = np.tile(period_averages, nobs // freq + 1)[:nobs]\n",
    "  \n",
    "  # Median\n",
    "  med = np.tile(pd.Series(x).median(skipna=True), nobs)\n",
    "  \n",
    "  # Residuals\n",
    "#   res = np.array(x) - seasonal - med\n",
    "  res = np.array(x) - med\n",
    "  return {\"observed\": np.array(x), \"median\":med, \"residual\":res}"
   ]
  },
  {
   "cell_type": "code",
   "execution_count": 21,
   "metadata": {},
   "outputs": [],
   "source": [
    "def esd_test(x, alpha=0.95, ub=0.499, hybrid=True):\n",
    "  \"\"\"\n",
    "  Carries out the Extreme Studentized Deviate(ESD) test which can be used to detect one or more outliers present in the timeseries\n",
    "  \n",
    "  x      : List, array, or series containing the time series\n",
    "  freq   : Int that gives the number of periods per cycle (7 for week, 12 for monthly, etc)\n",
    "  alpha  : Confidence level in detecting outliers\n",
    "  ub     : Upper bound on the fraction of datapoints which can be labeled as outliers (<=0.499)\n",
    "  hybrid : Whether to use the robust statistics (median, median absolute error) or the non-robust versions (mean, standard deviation) to test for anomalies\n",
    "  \"\"\"\n",
    "  nobs = len(x)\n",
    "  if ub > 0.4999:\n",
    "    ub = 0.499\n",
    "  k = max(int(np.floor(ub * nobs)), 1) # Maximum number of anomalies. At least 1 anomaly must be tested.\n",
    "#   res_tmp = ts_S_Md_decomposition(x)[\"residual\"] # Residuals from time series decomposition\n",
    "    \n",
    "  # Carry out the esd test k times  \n",
    "\n",
    "  res = np.ma.array(x, mask=False) # The \"ma\" structure allows masking of values to exclude the elements from any calculation\n",
    "  anomalies = [] # returns the indices of the found anomalies\n",
    "  med = np.median(x)\n",
    "  for i in range(1, k+1):\n",
    "      location, dispersion = self.esd_test_statistics(res, hybrid) # Sample statistics\n",
    "      tmp = np.abs(res - location) / dispersion\n",
    "      idx = np.argmax(tmp) # Index of the test statistic\n",
    "      test_statistic = tmp[idx]\n",
    "      n = nobs - res.mask.sum() # sums  nonmasked values\n",
    "      critical_value = (n - i) * t.ppf(alpha, n - i - 1) / np.sqrt((n - i - 1 + np.power(t.ppf(alpha, n - i - 1), 2)) * (n - i - 1)) \n",
    "      if test_statistic > critical_value:\n",
    "          anomalies.append((x[idx]-med) / med)\n",
    "          # anomalies.append(test_statistic)\n",
    "      res.mask[idx] = True\n",
    "  if len(anomalies) == 0:\n",
    "      return 0\n",
    "  return np.mean(np.abs(anomalies))"
   ]
  },
  {
   "cell_type": "code",
   "execution_count": 16,
   "metadata": {},
   "outputs": [
    {
     "output_type": "error",
     "ename": "NameError",
     "evalue": "name 'grouped_df' is not defined",
     "traceback": [
      "\u001b[1;31m---------------------------------------------------------------------------\u001b[0m",
      "\u001b[1;31mNameError\u001b[0m                                 Traceback (most recent call last)",
      "\u001b[1;32m<ipython-input-16-9ce657dd3ee4>\u001b[0m in \u001b[0;36m<module>\u001b[1;34m\u001b[0m\n\u001b[1;32m----> 1\u001b[1;33m \u001b[0mgrouped_df\u001b[0m\u001b[1;33m.\u001b[0m\u001b[0mgroups\u001b[0m\u001b[1;33m.\u001b[0m\u001b[0mkeys\u001b[0m\u001b[1;33m(\u001b[0m\u001b[1;33m)\u001b[0m\u001b[1;33m\u001b[0m\u001b[1;33m\u001b[0m\u001b[0m\n\u001b[0m",
      "\u001b[1;31mNameError\u001b[0m: name 'grouped_df' is not defined"
     ]
    }
   ],
   "source": [
    "grouped_df.groups.keys()"
   ]
  },
  {
   "cell_type": "code",
   "execution_count": 22,
   "metadata": {},
   "outputs": [],
   "source": [
    "class RCA():\n",
    "    def local_initiate(self):\n",
    "        self.dockers = ['docker_001', 'docker_002', 'docker_003', 'docker_004',\n",
    "                'docker_005', 'docker_006', 'docker_007', 'docker_008']\n",
    "        self.docker_hosts = ['os_017', 'os_018', 'os_019', 'os_020']\n",
    "\n",
    "        self.docker_kpi_names = ['container_cpu_used', None]\n",
    "        self.os_kpi_names = ['Sent_queue', 'Received_queue']\n",
    "        self.db_kpi_names = ['Proc_User_Used_Pct','Proc_Used_Pct','Sess_Connect','On_Off_State', 'tnsping_result_time']\n",
    "\n",
    "        self.docker_lookup_table = {}\n",
    "        for i in range(len(self.dockers)):\n",
    "            self.docker_lookup_table[self.dockers[i]] = self.docker_hosts[i % 4]\n",
    "            \n",
    "    def find_anomalous_rows(self, min_threshold = 5):\n",
    "        table = self.anomaly_chart.copy()\n",
    "        threshold = max( 0.5 * table.stack().max(), min_threshold)\n",
    "        dodgy_rows = []\n",
    "        just_rows = []\n",
    "        for column in table:\n",
    "            v = 0\n",
    "            r = ''\n",
    "            for index, row in table.iterrows():\n",
    "                if (row[column] > threshold):\n",
    "                    if index == column:\n",
    "                        dodgy_rows.append([index, row[column]])\n",
    "                        just_rows.append(index)\n",
    "                        break\n",
    "                    elif (row[column] > v):\n",
    "                        v = row[column]\n",
    "                        r = index\n",
    "            if r != '':\n",
    "                dodgy_rows.append([r, column, v])\n",
    "                just_rows.append(r)\n",
    "        \n",
    "        output = self.localize(dodgy_rows, list(set(just_rows)))\n",
    "        return output\n",
    "\n",
    "\n",
    "    def find_anomalous_kpi(self, cmdb_id):\n",
    "        kpi_names = []\n",
    "        if 'os' in cmdb_id:\n",
    "            kpi_names = self.os_kpi_names\n",
    "        elif 'docker' in cmdb_id:\n",
    "            kpi_names = self.docker_kpi_names\n",
    "        else:\n",
    "            kpi_names = self.db_kpi_names\n",
    "\n",
    "        return kpi_names\n",
    "\n",
    "\n",
    "    def localize(self, dodgy_rows, just_rows):\n",
    "        n = len(just_rows)\n",
    "        if n < 1:\n",
    "            return None\n",
    "        if n == 1:\n",
    "            KPIs = self.find_anomalous_kpi(just_rows[0])\n",
    "            to_be_sent = []\n",
    "            for KPI in KPIs:\n",
    "                to_be_sent.append([just_rows[0], KPI])\n",
    "            return to_be_sent\n",
    "        if n == 2:\n",
    "            r0 = just_rows[0]\n",
    "            r1 = just_rows[1]\n",
    "            if ('os' in r0) and ('os' in r1):\n",
    "                KPI = self.find_anomalous_kpi('os_001')\n",
    "                return [['os_001', KPI[0]],['os_001', KPI[1]]]\n",
    "            elif ('docker' in r0) and ('docker' in r1):\n",
    "                if self.docker_lookup_table[r0] == self.docker_lookup_table[r1]:\n",
    "                    KPI = self.find_anomalous_kpi(self.docker_lookup_table[r0])\n",
    "                    return [[self.docker_lookup_table[r0], KPI]]\n",
    "            else:\n",
    "                KPI0s = self.find_anomalous_kpi(r0)\n",
    "                KPI1s = self.find_anomalous_kpi(r1)\n",
    "                to_be_sent = []\n",
    "                for kpi in KPI0s:\n",
    "                    to_be_sent.append([r0, kpi])\n",
    "                for kpi in KPI1s:\n",
    "                    to_be_sent.append([r1, kpi])\n",
    "                return to_be_sent\n",
    "        if n > 2:\n",
    "            dodgy_rows.sort(key = lambda x: x[2], reverse = True)\n",
    "            just_rows = [x[0] for x in dodgy_rows]\n",
    "            just_rows = list(set(just_rows))\n",
    "            return self.localize(dodgy_rows[:2], just_rows[:2])"
   ]
  },
  {
   "cell_type": "code",
   "execution_count": 19,
   "metadata": {},
   "outputs": [
    {
     "output_type": "error",
     "ename": "NameError",
     "evalue": "name 'anomaly_chart' is not defined",
     "traceback": [
      "\u001b[1;31m---------------------------------------------------------------------------\u001b[0m",
      "\u001b[1;31mNameError\u001b[0m                                 Traceback (most recent call last)",
      "\u001b[1;32m<ipython-input-19-6299aa9b0634>\u001b[0m in \u001b[0;36m<module>\u001b[1;34m\u001b[0m\n\u001b[0;32m      1\u001b[0m \u001b[0mrca\u001b[0m \u001b[1;33m=\u001b[0m \u001b[0mRCA\u001b[0m\u001b[1;33m(\u001b[0m\u001b[1;33m)\u001b[0m\u001b[1;33m\u001b[0m\u001b[1;33m\u001b[0m\u001b[0m\n\u001b[0;32m      2\u001b[0m \u001b[0mrca\u001b[0m\u001b[1;33m.\u001b[0m\u001b[0mlocal_initiate\u001b[0m\u001b[1;33m(\u001b[0m\u001b[1;33m)\u001b[0m\u001b[1;33m\u001b[0m\u001b[1;33m\u001b[0m\u001b[0m\n\u001b[1;32m----> 3\u001b[1;33m \u001b[0mrca\u001b[0m\u001b[1;33m.\u001b[0m\u001b[0manomaly_chart\u001b[0m \u001b[1;33m=\u001b[0m \u001b[0manomaly_chart\u001b[0m\u001b[1;33m\u001b[0m\u001b[1;33m\u001b[0m\u001b[0m\n\u001b[0m\u001b[0;32m      4\u001b[0m \u001b[0moutput\u001b[0m \u001b[1;33m=\u001b[0m \u001b[0mrca\u001b[0m\u001b[1;33m.\u001b[0m\u001b[0mfind_anomalous_rows\u001b[0m\u001b[1;33m(\u001b[0m\u001b[1;33m)\u001b[0m\u001b[1;33m\u001b[0m\u001b[1;33m\u001b[0m\u001b[0m\n",
      "\u001b[1;31mNameError\u001b[0m: name 'anomaly_chart' is not defined"
     ]
    }
   ],
   "source": [
    "rca = RCA()\n",
    "rca.local_initiate()\n",
    "rca.anomaly_chart = anomaly_chart\n",
    "output = rca.find_anomalous_rows()"
   ]
  },
  {
   "cell_type": "code",
   "execution_count": null,
   "metadata": {},
   "outputs": [],
   "source": [
    "output"
   ]
  },
  {
   "cell_type": "code",
   "execution_count": 19,
   "metadata": {},
   "outputs": [],
   "source": [
    "anomaly_chart = pd.DataFrame()\n",
    "for (a, b), value in grouped_df:\n",
    "    value['time_group'] = value.startTime//60000\n",
    "    value =value.groupby(['time_group'])['actual_time'].mean().reset_index()\n",
    "    result = esd_test(value['actual_time'].to_numpy(), alpha=0.95, ub=0.02, hybrid=True)\n",
    "    anomaly_chart.loc[b,a] = result\n",
    "    # print(a,b,' = ',len(result)/len(value)*100)"
   ]
  },
  {
   "cell_type": "code",
   "execution_count": 20,
   "metadata": {},
   "outputs": [
    {
     "output_type": "execute_result",
     "data": {
      "text/plain": [
       "                docker_001  docker_002  docker_003  docker_004  docker_005  \\\n",
       "db_003                 NaN         NaN         NaN         NaN    2.516438   \n",
       "db_007            3.674302    4.258536    6.897761    3.048282         NaN   \n",
       "db_009            3.891044    3.287878    3.331780    4.460996         NaN   \n",
       "docker_001        9.055016         NaN         NaN         NaN         NaN   \n",
       "docker_002             NaN    4.586540         NaN         NaN         NaN   \n",
       "docker_003             NaN         NaN    5.200952         NaN         NaN   \n",
       "docker_004             NaN         NaN         NaN    2.172053         NaN   \n",
       "docker_005        2.512103    7.261663         NaN         NaN    2.564001   \n",
       "docker_006        5.559592    3.943626         NaN         NaN         NaN   \n",
       "docker_007             NaN         NaN    3.468980    5.036715         NaN   \n",
       "docker_008             NaN         NaN    3.957077    4.982753         NaN   \n",
       "fly_remote_001    2.413190    2.521444    5.086962    3.336100         NaN   \n",
       "os_021                 NaN         NaN         NaN         NaN         NaN   \n",
       "os_022                 NaN         NaN         NaN         NaN         NaN   \n",
       "\n",
       "                docker_006  docker_007  docker_008     os_021     os_022  \n",
       "db_003            5.540103    5.337386    2.717739        NaN        NaN  \n",
       "db_007                 NaN         NaN         NaN        NaN        NaN  \n",
       "db_009                 NaN         NaN         NaN        NaN        NaN  \n",
       "docker_001             NaN         NaN         NaN        NaN   6.551894  \n",
       "docker_002             NaN         NaN         NaN        NaN   4.909932  \n",
       "docker_003             NaN         NaN         NaN   3.820918        NaN  \n",
       "docker_004             NaN         NaN         NaN  11.103194        NaN  \n",
       "docker_005             NaN         NaN         NaN        NaN        NaN  \n",
       "docker_006        3.729240         NaN         NaN        NaN        NaN  \n",
       "docker_007             NaN    3.973680         NaN        NaN        NaN  \n",
       "docker_008             NaN         NaN    1.903953        NaN        NaN  \n",
       "fly_remote_001         NaN   17.920000    2.757576        NaN        NaN  \n",
       "os_021                 NaN         NaN         NaN   6.024040        NaN  \n",
       "os_022                 NaN         NaN         NaN        NaN  14.755160  "
      ],
      "text/html": "<div>\n<style scoped>\n    .dataframe tbody tr th:only-of-type {\n        vertical-align: middle;\n    }\n\n    .dataframe tbody tr th {\n        vertical-align: top;\n    }\n\n    .dataframe thead th {\n        text-align: right;\n    }\n</style>\n<table border=\"1\" class=\"dataframe\">\n  <thead>\n    <tr style=\"text-align: right;\">\n      <th></th>\n      <th>docker_001</th>\n      <th>docker_002</th>\n      <th>docker_003</th>\n      <th>docker_004</th>\n      <th>docker_005</th>\n      <th>docker_006</th>\n      <th>docker_007</th>\n      <th>docker_008</th>\n      <th>os_021</th>\n      <th>os_022</th>\n    </tr>\n  </thead>\n  <tbody>\n    <tr>\n      <th>db_003</th>\n      <td>NaN</td>\n      <td>NaN</td>\n      <td>NaN</td>\n      <td>NaN</td>\n      <td>2.516438</td>\n      <td>5.540103</td>\n      <td>5.337386</td>\n      <td>2.717739</td>\n      <td>NaN</td>\n      <td>NaN</td>\n    </tr>\n    <tr>\n      <th>db_007</th>\n      <td>3.674302</td>\n      <td>4.258536</td>\n      <td>6.897761</td>\n      <td>3.048282</td>\n      <td>NaN</td>\n      <td>NaN</td>\n      <td>NaN</td>\n      <td>NaN</td>\n      <td>NaN</td>\n      <td>NaN</td>\n    </tr>\n    <tr>\n      <th>db_009</th>\n      <td>3.891044</td>\n      <td>3.287878</td>\n      <td>3.331780</td>\n      <td>4.460996</td>\n      <td>NaN</td>\n      <td>NaN</td>\n      <td>NaN</td>\n      <td>NaN</td>\n      <td>NaN</td>\n      <td>NaN</td>\n    </tr>\n    <tr>\n      <th>docker_001</th>\n      <td>9.055016</td>\n      <td>NaN</td>\n      <td>NaN</td>\n      <td>NaN</td>\n      <td>NaN</td>\n      <td>NaN</td>\n      <td>NaN</td>\n      <td>NaN</td>\n      <td>NaN</td>\n      <td>6.551894</td>\n    </tr>\n    <tr>\n      <th>docker_002</th>\n      <td>NaN</td>\n      <td>4.586540</td>\n      <td>NaN</td>\n      <td>NaN</td>\n      <td>NaN</td>\n      <td>NaN</td>\n      <td>NaN</td>\n      <td>NaN</td>\n      <td>NaN</td>\n      <td>4.909932</td>\n    </tr>\n    <tr>\n      <th>docker_003</th>\n      <td>NaN</td>\n      <td>NaN</td>\n      <td>5.200952</td>\n      <td>NaN</td>\n      <td>NaN</td>\n      <td>NaN</td>\n      <td>NaN</td>\n      <td>NaN</td>\n      <td>3.820918</td>\n      <td>NaN</td>\n    </tr>\n    <tr>\n      <th>docker_004</th>\n      <td>NaN</td>\n      <td>NaN</td>\n      <td>NaN</td>\n      <td>2.172053</td>\n      <td>NaN</td>\n      <td>NaN</td>\n      <td>NaN</td>\n      <td>NaN</td>\n      <td>11.103194</td>\n      <td>NaN</td>\n    </tr>\n    <tr>\n      <th>docker_005</th>\n      <td>2.512103</td>\n      <td>7.261663</td>\n      <td>NaN</td>\n      <td>NaN</td>\n      <td>2.564001</td>\n      <td>NaN</td>\n      <td>NaN</td>\n      <td>NaN</td>\n      <td>NaN</td>\n      <td>NaN</td>\n    </tr>\n    <tr>\n      <th>docker_006</th>\n      <td>5.559592</td>\n      <td>3.943626</td>\n      <td>NaN</td>\n      <td>NaN</td>\n      <td>NaN</td>\n      <td>3.729240</td>\n      <td>NaN</td>\n      <td>NaN</td>\n      <td>NaN</td>\n      <td>NaN</td>\n    </tr>\n    <tr>\n      <th>docker_007</th>\n      <td>NaN</td>\n      <td>NaN</td>\n      <td>3.468980</td>\n      <td>5.036715</td>\n      <td>NaN</td>\n      <td>NaN</td>\n      <td>3.973680</td>\n      <td>NaN</td>\n      <td>NaN</td>\n      <td>NaN</td>\n    </tr>\n    <tr>\n      <th>docker_008</th>\n      <td>NaN</td>\n      <td>NaN</td>\n      <td>3.957077</td>\n      <td>4.982753</td>\n      <td>NaN</td>\n      <td>NaN</td>\n      <td>NaN</td>\n      <td>1.903953</td>\n      <td>NaN</td>\n      <td>NaN</td>\n    </tr>\n    <tr>\n      <th>fly_remote_001</th>\n      <td>2.413190</td>\n      <td>2.521444</td>\n      <td>5.086962</td>\n      <td>3.336100</td>\n      <td>NaN</td>\n      <td>NaN</td>\n      <td>17.920000</td>\n      <td>2.757576</td>\n      <td>NaN</td>\n      <td>NaN</td>\n    </tr>\n    <tr>\n      <th>os_021</th>\n      <td>NaN</td>\n      <td>NaN</td>\n      <td>NaN</td>\n      <td>NaN</td>\n      <td>NaN</td>\n      <td>NaN</td>\n      <td>NaN</td>\n      <td>NaN</td>\n      <td>6.024040</td>\n      <td>NaN</td>\n    </tr>\n    <tr>\n      <th>os_022</th>\n      <td>NaN</td>\n      <td>NaN</td>\n      <td>NaN</td>\n      <td>NaN</td>\n      <td>NaN</td>\n      <td>NaN</td>\n      <td>NaN</td>\n      <td>NaN</td>\n      <td>NaN</td>\n      <td>14.755160</td>\n    </tr>\n  </tbody>\n</table>\n</div>"
     },
     "metadata": {},
     "execution_count": 20
    }
   ],
   "source": [
    "anomaly_chart.sort_index(inplace=True)\n",
    "anomaly_chart"
   ]
  },
  {
   "cell_type": "code",
   "execution_count": null,
   "metadata": {},
   "outputs": [],
   "source": [
    "test = grouped_df.get_group(('docker_008', 'docker_008'))"
   ]
  },
  {
   "cell_type": "code",
   "execution_count": null,
   "metadata": {},
   "outputs": [],
   "source": [
    "x = test[['startTime','actual_time']]\n",
    "# x_val = x['actual_time'].to_numpy()\n",
    "# x"
   ]
  },
  {
   "cell_type": "code",
   "execution_count": null,
   "metadata": {},
   "outputs": [],
   "source": [
    "x['time_group'] = x.startTime//10000\n",
    "x = x.groupby(['time_group'])['actual_time'].mean().reset_index()"
   ]
  },
  {
   "cell_type": "code",
   "execution_count": null,
   "metadata": {},
   "outputs": [],
   "source": [
    "x_val = x['actual_time'].to_numpy()"
   ]
  },
  {
   "cell_type": "code",
   "execution_count": null,
   "metadata": {},
   "outputs": [],
   "source": [
    "result = esd_test(x_val, freq=3, alpha=0.99, ub=0.4, hybrid=True)"
   ]
  },
  {
   "cell_type": "code",
   "execution_count": null,
   "metadata": {},
   "outputs": [],
   "source": [
    "fig, ax = plt.subplots()\n",
    "ax.plot(pd.Series(x_val).index, x_val, color=\"blue\", label = \"Original\")\n",
    "ax.scatter(result, x_val[result], color='red', label='Anomaly')\n",
    "plt.legend(loc=\"best\")\n",
    "plt.show()"
   ]
  },
  {
   "cell_type": "code",
   "execution_count": null,
   "metadata": {},
   "outputs": [],
   "source": [
    "x = test[['startTime','actual_time']]\n",
    "# x_val = x['actual_time'].to_numpy()\n",
    "# x\n",
    "x['time_group'] = x.startTime//1000\n",
    "x = x.groupby(['time_group'])['actual_time'].mean().reset_index()"
   ]
  },
  {
   "cell_type": "code",
   "execution_count": null,
   "metadata": {},
   "outputs": [],
   "source": [
    "x_test = x.copy()\n",
    "x_test.index = pd.to_datetime(x_test['time_group'], unit=\"s\")"
   ]
  },
  {
   "cell_type": "code",
   "execution_count": null,
   "metadata": {},
   "outputs": [],
   "source": [
    "x_test"
   ]
  },
  {
   "cell_type": "code",
   "execution_count": null,
   "metadata": {},
   "outputs": [],
   "source": []
  }
 ]
}