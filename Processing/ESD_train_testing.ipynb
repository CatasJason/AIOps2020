{
 "metadata": {
  "language_info": {
   "codemirror_mode": {
    "name": "ipython",
    "version": 3
   },
   "file_extension": ".py",
   "mimetype": "text/x-python",
   "name": "python",
   "nbconvert_exporter": "python",
   "pygments_lexer": "ipython3",
   "version": "3.6.12-final"
  },
  "orig_nbformat": 2,
  "kernelspec": {
   "name": "python3",
   "display_name": "Python 3",
   "language": "python"
  }
 },
 "nbformat": 4,
 "nbformat_minor": 2,
 "cells": [
  {
   "cell_type": "code",
   "execution_count": 1,
   "metadata": {},
   "outputs": [],
   "source": [
    "import numpy as np\n",
    "import pandas as pd\n",
    "from scipy.stats import t\n",
    "import glob\n",
    "import matplotlib.pyplot as plt"
   ]
  },
  {
   "cell_type": "code",
   "execution_count": 24,
   "metadata": {},
   "outputs": [
    {
     "output_type": "execute_result",
     "data": {
      "text/plain": [
       "['C:\\\\Users\\\\Henry\\\\Documents\\\\data\\\\2020_05_27\\\\Host\\\\db_oracle_11g.csv',\n",
       " 'C:\\\\Users\\\\Henry\\\\Documents\\\\data\\\\2020_05_27\\\\Host\\\\dcos_container.csv',\n",
       " 'C:\\\\Users\\\\Henry\\\\Documents\\\\data\\\\2020_05_27\\\\Host\\\\dcos_docker.csv',\n",
       " 'C:\\\\Users\\\\Henry\\\\Documents\\\\data\\\\2020_05_27\\\\Host\\\\mw_redis.csv',\n",
       " 'C:\\\\Users\\\\Henry\\\\Documents\\\\data\\\\2020_05_27\\\\Host\\\\os_linux.csv']"
      ]
     },
     "metadata": {},
     "execution_count": 24
    }
   ],
   "source": [
    "path = \"C:\\\\Users\\\\Henry\\\\Documents\\\\data\\\\2020_05_27\\\\Host\\\\\"\n",
    "all_files = glob.glob(path + \"*.csv\")\n",
    "all_files"
   ]
  },
  {
   "cell_type": "code",
   "execution_count": 25,
   "metadata": {},
   "outputs": [],
   "source": [
    "dfs = []\n",
    "for filename in all_files:\n",
    "    df = pd.read_csv(filename, index_col=None)\n",
    "    dfs.append(df)\n",
    "df = pd.concat(dfs, axis=0, ignore_index=True)\n"
   ]
  },
  {
   "cell_type": "code",
   "execution_count": 26,
   "metadata": {},
   "outputs": [
    {
     "output_type": "execute_result",
     "data": {
      "text/plain": [
       "                 itemid                  name     bomc_id      timestamp  \\\n",
       "81430   999999996512460          CPU_Used_Pct  ZJ-002-024  1590519780000   \n",
       "81431   999999998651280          CPU_free_pct  ZJ-002-056  1590519780000   \n",
       "81432   999999998650680          CPU_free_pct  ZJ-002-056  1590519780000   \n",
       "81433   999999998651100         MEM_real_util  ZJ-002-053  1590519780000   \n",
       "81434   999999998650980          CPU_free_pct  ZJ-002-056  1590519780000   \n",
       "...                 ...                   ...         ...            ...   \n",
       "446704  999999996431520  Memory_available_pct  ZJ-001-017  1590521280000   \n",
       "446705  999999996487800            Send_total  ZJ-001-074  1590521280000   \n",
       "446706  999999996432420            Send_total  ZJ-001-074  1590521280000   \n",
       "446707  999999996431400  Processor_load_5_min  ZJ-001-005  1590521280000   \n",
       "446708  999999996432360          CPU_util_pct  ZJ-001-001  1590521280000   \n",
       "\n",
       "            value cmdb_id  \n",
       "81430    2.432567  db_010  \n",
       "81431   98.019559  db_008  \n",
       "81432   98.536795  db_001  \n",
       "81433   80.360000  db_007  \n",
       "81434   98.813273  db_003  \n",
       "...           ...     ...  \n",
       "446704  59.400000  os_011  \n",
       "446705   0.110537  os_017  \n",
       "446706   0.000597  os_008  \n",
       "446707   0.005000  os_012  \n",
       "446708   0.290516  os_009  \n",
       "\n",
       "[41266 rows x 6 columns]"
      ],
      "text/html": "<div>\n<style scoped>\n    .dataframe tbody tr th:only-of-type {\n        vertical-align: middle;\n    }\n\n    .dataframe tbody tr th {\n        vertical-align: top;\n    }\n\n    .dataframe thead th {\n        text-align: right;\n    }\n</style>\n<table border=\"1\" class=\"dataframe\">\n  <thead>\n    <tr style=\"text-align: right;\">\n      <th></th>\n      <th>itemid</th>\n      <th>name</th>\n      <th>bomc_id</th>\n      <th>timestamp</th>\n      <th>value</th>\n      <th>cmdb_id</th>\n    </tr>\n  </thead>\n  <tbody>\n    <tr>\n      <th>81430</th>\n      <td>999999996512460</td>\n      <td>CPU_Used_Pct</td>\n      <td>ZJ-002-024</td>\n      <td>1590519780000</td>\n      <td>2.432567</td>\n      <td>db_010</td>\n    </tr>\n    <tr>\n      <th>81431</th>\n      <td>999999998651280</td>\n      <td>CPU_free_pct</td>\n      <td>ZJ-002-056</td>\n      <td>1590519780000</td>\n      <td>98.019559</td>\n      <td>db_008</td>\n    </tr>\n    <tr>\n      <th>81432</th>\n      <td>999999998650680</td>\n      <td>CPU_free_pct</td>\n      <td>ZJ-002-056</td>\n      <td>1590519780000</td>\n      <td>98.536795</td>\n      <td>db_001</td>\n    </tr>\n    <tr>\n      <th>81433</th>\n      <td>999999998651100</td>\n      <td>MEM_real_util</td>\n      <td>ZJ-002-053</td>\n      <td>1590519780000</td>\n      <td>80.360000</td>\n      <td>db_007</td>\n    </tr>\n    <tr>\n      <th>81434</th>\n      <td>999999998650980</td>\n      <td>CPU_free_pct</td>\n      <td>ZJ-002-056</td>\n      <td>1590519780000</td>\n      <td>98.813273</td>\n      <td>db_003</td>\n    </tr>\n    <tr>\n      <th>...</th>\n      <td>...</td>\n      <td>...</td>\n      <td>...</td>\n      <td>...</td>\n      <td>...</td>\n      <td>...</td>\n    </tr>\n    <tr>\n      <th>446704</th>\n      <td>999999996431520</td>\n      <td>Memory_available_pct</td>\n      <td>ZJ-001-017</td>\n      <td>1590521280000</td>\n      <td>59.400000</td>\n      <td>os_011</td>\n    </tr>\n    <tr>\n      <th>446705</th>\n      <td>999999996487800</td>\n      <td>Send_total</td>\n      <td>ZJ-001-074</td>\n      <td>1590521280000</td>\n      <td>0.110537</td>\n      <td>os_017</td>\n    </tr>\n    <tr>\n      <th>446706</th>\n      <td>999999996432420</td>\n      <td>Send_total</td>\n      <td>ZJ-001-074</td>\n      <td>1590521280000</td>\n      <td>0.000597</td>\n      <td>os_008</td>\n    </tr>\n    <tr>\n      <th>446707</th>\n      <td>999999996431400</td>\n      <td>Processor_load_5_min</td>\n      <td>ZJ-001-005</td>\n      <td>1590521280000</td>\n      <td>0.005000</td>\n      <td>os_012</td>\n    </tr>\n    <tr>\n      <th>446708</th>\n      <td>999999996432360</td>\n      <td>CPU_util_pct</td>\n      <td>ZJ-001-001</td>\n      <td>1590521280000</td>\n      <td>0.290516</td>\n      <td>os_009</td>\n    </tr>\n  </tbody>\n</table>\n<p>41266 rows × 6 columns</p>\n</div>"
     },
     "metadata": {},
     "execution_count": 26
    }
   ],
   "source": [
    "anomaly_time = 1590520980000\n",
    "# 1590430140000 db 007\n",
    "# 1590431940000 docker 008\n",
    "# 1590433740000 os 21\n",
    "# 1590435540000 os 18\n",
    "df = df[(df.timestamp >= (anomaly_time-1200000)) & (df.timestamp <= (anomaly_time + 300000))]\n",
    "df"
   ]
  },
  {
   "cell_type": "code",
   "execution_count": 27,
   "metadata": {},
   "outputs": [],
   "source": [
    "save_path ='D:\\\\THU Studies\\\\Advance Network Management\\\\Project\\\\Anomaly-detection\\\\local_data\\\\esd\\\\'\n",
    "df.to_csv(save_path+'kpi_data_527_docker001.csv', index = False)"
   ]
  },
  {
   "cell_type": "code",
   "execution_count": 2,
   "metadata": {},
   "outputs": [
    {
     "output_type": "execute_result",
     "data": {
      "text/plain": [
       "['C:\\\\Users\\\\Henry\\\\Documents\\\\data\\\\2020_05_27\\\\Trace\\\\trace_csf.csv',\n",
       " 'C:\\\\Users\\\\Henry\\\\Documents\\\\data\\\\2020_05_27\\\\Trace\\\\trace_fly_remote.csv',\n",
       " 'C:\\\\Users\\\\Henry\\\\Documents\\\\data\\\\2020_05_27\\\\Trace\\\\trace_jdbc.csv',\n",
       " 'C:\\\\Users\\\\Henry\\\\Documents\\\\data\\\\2020_05_27\\\\Trace\\\\trace_local.csv',\n",
       " 'C:\\\\Users\\\\Henry\\\\Documents\\\\data\\\\2020_05_27\\\\Trace\\\\trace_osb.csv',\n",
       " 'C:\\\\Users\\\\Henry\\\\Documents\\\\data\\\\2020_05_27\\\\Trace\\\\trace_remote_process.csv']"
      ]
     },
     "metadata": {},
     "execution_count": 2
    }
   ],
   "source": [
    "path = \"C:\\\\Users\\\\Henry\\\\Documents\\\\data\\\\2020_05_27\\\\Trace\\\\\"\n",
    "all_files = glob.glob(path + \"*.csv\")\n",
    "all_files"
   ]
  },
  {
   "cell_type": "code",
   "execution_count": 3,
   "metadata": {},
   "outputs": [],
   "source": [
    "dfs = []\n",
    "for filename in all_files:\n",
    "    df = pd.read_csv(filename, index_col=None)\n",
    "    dfs.append(df)\n",
    "df = pd.concat(dfs, axis=0, ignore_index=True)"
   ]
  },
  {
   "cell_type": "code",
   "execution_count": 4,
   "metadata": {},
   "outputs": [],
   "source": [
    "for df in dfs:\n",
    "    if df['callType'].iloc[0]=='JDBC' or df['callType'].iloc[0]=='LOCAL':\n",
    "        df['serviceName'] = df['dsName']\n",
    "    elif df['callType'].iloc[0]=='RemoteProcess' or df['callType'].iloc[0]=='OSB':\n",
    "        df['serviceName'] = df['cmdb_id']"
   ]
  },
  {
   "cell_type": "code",
   "execution_count": 5,
   "metadata": {},
   "outputs": [],
   "source": [
    "# df.head()"
   ]
  },
  {
   "cell_type": "code",
   "execution_count": 5,
   "metadata": {},
   "outputs": [],
   "source": [
    "df = pd.concat(dfs, axis=0, ignore_index=True)\n",
    "# df.head()"
   ]
  },
  {
   "cell_type": "code",
   "execution_count": 6,
   "metadata": {},
   "outputs": [
    {
     "output_type": "execute_result",
     "data": {
      "text/plain": [
       "  callType      startTime  elapsedTime  success               traceId  \\\n",
       "0      CSF  1590508800030       2308.0     True  73271d2485849471c76f   \n",
       "1      CSF  1590508800033        251.0     True  73271854e26857b1c76f   \n",
       "2      CSF  1590508800034        884.0     True  73271c5c4a2367b1c76f   \n",
       "3      CSF  1590508800035        554.0     True  732712b99f4257b1c76f   \n",
       "4      CSF  1590508800036        882.0     True  7327133bf44367f1c76f   \n",
       "\n",
       "                     id                   pid cmdb_id serviceName  \n",
       "0  7327121d411594e1c76f  7327120256949471c76f  os_022     csf_001  \n",
       "1  73271e1ee0985712c76f  73271e287b7857b1c76f  os_022     csf_001  \n",
       "2  732717e236736722c76f  732714be573367b1c76f  os_022     csf_001  \n",
       "3  73271bc681725732c76f  732714a7505257b1c76f  os_022     csf_001  \n",
       "4  732711fddf936742c76f  7327100cbd5367f1c76f  os_022     csf_001  "
      ],
      "text/html": "<div>\n<style scoped>\n    .dataframe tbody tr th:only-of-type {\n        vertical-align: middle;\n    }\n\n    .dataframe tbody tr th {\n        vertical-align: top;\n    }\n\n    .dataframe thead th {\n        text-align: right;\n    }\n</style>\n<table border=\"1\" class=\"dataframe\">\n  <thead>\n    <tr style=\"text-align: right;\">\n      <th></th>\n      <th>callType</th>\n      <th>startTime</th>\n      <th>elapsedTime</th>\n      <th>success</th>\n      <th>traceId</th>\n      <th>id</th>\n      <th>pid</th>\n      <th>cmdb_id</th>\n      <th>serviceName</th>\n    </tr>\n  </thead>\n  <tbody>\n    <tr>\n      <th>0</th>\n      <td>CSF</td>\n      <td>1590508800030</td>\n      <td>2308.0</td>\n      <td>True</td>\n      <td>73271d2485849471c76f</td>\n      <td>7327121d411594e1c76f</td>\n      <td>7327120256949471c76f</td>\n      <td>os_022</td>\n      <td>csf_001</td>\n    </tr>\n    <tr>\n      <th>1</th>\n      <td>CSF</td>\n      <td>1590508800033</td>\n      <td>251.0</td>\n      <td>True</td>\n      <td>73271854e26857b1c76f</td>\n      <td>73271e1ee0985712c76f</td>\n      <td>73271e287b7857b1c76f</td>\n      <td>os_022</td>\n      <td>csf_001</td>\n    </tr>\n    <tr>\n      <th>2</th>\n      <td>CSF</td>\n      <td>1590508800034</td>\n      <td>884.0</td>\n      <td>True</td>\n      <td>73271c5c4a2367b1c76f</td>\n      <td>732717e236736722c76f</td>\n      <td>732714be573367b1c76f</td>\n      <td>os_022</td>\n      <td>csf_001</td>\n    </tr>\n    <tr>\n      <th>3</th>\n      <td>CSF</td>\n      <td>1590508800035</td>\n      <td>554.0</td>\n      <td>True</td>\n      <td>732712b99f4257b1c76f</td>\n      <td>73271bc681725732c76f</td>\n      <td>732714a7505257b1c76f</td>\n      <td>os_022</td>\n      <td>csf_001</td>\n    </tr>\n    <tr>\n      <th>4</th>\n      <td>CSF</td>\n      <td>1590508800036</td>\n      <td>882.0</td>\n      <td>True</td>\n      <td>7327133bf44367f1c76f</td>\n      <td>732711fddf936742c76f</td>\n      <td>7327100cbd5367f1c76f</td>\n      <td>os_022</td>\n      <td>csf_001</td>\n    </tr>\n  </tbody>\n</table>\n</div>"
     },
     "metadata": {},
     "execution_count": 6
    }
   ],
   "source": [
    "df = df.drop('dsName', axis=1, index=None)\n",
    "# df = df.drop(['path'], axis=1)\n",
    "df.head()"
   ]
  },
  {
   "cell_type": "code",
   "execution_count": 17,
   "metadata": {},
   "outputs": [
    {
     "output_type": "execute_result",
     "data": {
      "text/plain": [
       "array(['os_022', 'docker_002', 'docker_001', 'os_021', 'docker_003',\n",
       "       'docker_004', nan, 'docker_008', 'docker_007', 'docker_005',\n",
       "       'docker_006'], dtype=object)"
      ]
     },
     "metadata": {},
     "execution_count": 17
    }
   ],
   "source": [
    "df.cmdb_id.unique()"
   ]
  },
  {
   "cell_type": "code",
   "execution_count": 7,
   "metadata": {},
   "outputs": [],
   "source": [
    "df.dropna(inplace = True, axis=0)"
   ]
  },
  {
   "cell_type": "code",
   "execution_count": 8,
   "metadata": {},
   "outputs": [],
   "source": [
    "anomaly_time = 1590520980000\n",
    "# 1590430140000 db 007\n",
    "# 1590431940000 docker 008\n",
    "# 1590433740000 os 21\n",
    "df = df[(df.startTime >= (anomaly_time-1200000)) & (df.startTime <= (anomaly_time + 300000))]\n",
    "# df.to_csv(path + 'trace_data_os18.csv')\n"
   ]
  },
  {
   "cell_type": "code",
   "execution_count": 9,
   "metadata": {},
   "outputs": [
    {
     "output_type": "execute_result",
     "data": {
      "text/plain": [
       "              callType      startTime  elapsedTime  success  \\\n",
       "418485             CSF  1590519785041        162.0     True   \n",
       "418486             CSF  1590519785042        378.0     True   \n",
       "418487             CSF  1590519785043        777.0     True   \n",
       "418488             CSF  1590519785043        386.0     True   \n",
       "418489             CSF  1590519785044        653.0     True   \n",
       "...                ...            ...          ...      ...   \n",
       "9184295  RemoteProcess  1590521278916        614.0     True   \n",
       "9184296  RemoteProcess  1590521279017         28.0     True   \n",
       "9184297  RemoteProcess  1590521279118         19.0     True   \n",
       "9184298  RemoteProcess  1590521279218         19.0     True   \n",
       "9184299  RemoteProcess  1590521279321         15.0     True   \n",
       "\n",
       "                      traceId                    id                   pid  \\\n",
       "418485   83271eb7c3804794a1e9  83271f91eb114715a1e9  8327177fdd904794a1e9   \n",
       "418486   83271da3292883a4a1e9  832712ff4f588325a1e9  83271b11593883a4a1e9   \n",
       "418487   83271499022783a4a1e9  832718a613978335a1e9  832710c4e43783a4a1e9   \n",
       "418488   8327102c038783a4a1e9  8327130fe1388335a1e9  83271b8a0a9783a4a1e9   \n",
       "418489   83271cfa9e0883b4a1e9  832712d209588345a1e9  83271536751883b4a1e9   \n",
       "...                       ...                   ...                   ...   \n",
       "9184295  83271b30da8335558d4b  832712ff2a34024c5e4b  832712e24e1435e58d4b   \n",
       "9184296  83271b30da8335558d4b  83271d92c56372926e4b  83271e28cc0502ec5e4b   \n",
       "9184297  83271b30da8335558d4b  832713c6769843e86e4b  832714bd282502b86e4b   \n",
       "9184298  83271b30da8335558d4b  83271fdafe21532f6e4b  832712763e45020f6e4b   \n",
       "9184299  83271b30da8335558d4b  8327180a2c9253957e4b  83271047656502557e4b   \n",
       "\n",
       "            cmdb_id serviceName  \n",
       "418485       os_022     csf_001  \n",
       "418486       os_021     csf_001  \n",
       "418487       os_021     csf_001  \n",
       "418488       os_021     csf_001  \n",
       "418489       os_021     csf_001  \n",
       "...             ...         ...  \n",
       "9184295  docker_001  docker_001  \n",
       "9184296  docker_006  docker_006  \n",
       "9184297  docker_005  docker_005  \n",
       "9184298  docker_005  docker_005  \n",
       "9184299  docker_005  docker_005  \n",
       "\n",
       "[536288 rows x 9 columns]"
      ],
      "text/html": "<div>\n<style scoped>\n    .dataframe tbody tr th:only-of-type {\n        vertical-align: middle;\n    }\n\n    .dataframe tbody tr th {\n        vertical-align: top;\n    }\n\n    .dataframe thead th {\n        text-align: right;\n    }\n</style>\n<table border=\"1\" class=\"dataframe\">\n  <thead>\n    <tr style=\"text-align: right;\">\n      <th></th>\n      <th>callType</th>\n      <th>startTime</th>\n      <th>elapsedTime</th>\n      <th>success</th>\n      <th>traceId</th>\n      <th>id</th>\n      <th>pid</th>\n      <th>cmdb_id</th>\n      <th>serviceName</th>\n    </tr>\n  </thead>\n  <tbody>\n    <tr>\n      <th>418485</th>\n      <td>CSF</td>\n      <td>1590519785041</td>\n      <td>162.0</td>\n      <td>True</td>\n      <td>83271eb7c3804794a1e9</td>\n      <td>83271f91eb114715a1e9</td>\n      <td>8327177fdd904794a1e9</td>\n      <td>os_022</td>\n      <td>csf_001</td>\n    </tr>\n    <tr>\n      <th>418486</th>\n      <td>CSF</td>\n      <td>1590519785042</td>\n      <td>378.0</td>\n      <td>True</td>\n      <td>83271da3292883a4a1e9</td>\n      <td>832712ff4f588325a1e9</td>\n      <td>83271b11593883a4a1e9</td>\n      <td>os_021</td>\n      <td>csf_001</td>\n    </tr>\n    <tr>\n      <th>418487</th>\n      <td>CSF</td>\n      <td>1590519785043</td>\n      <td>777.0</td>\n      <td>True</td>\n      <td>83271499022783a4a1e9</td>\n      <td>832718a613978335a1e9</td>\n      <td>832710c4e43783a4a1e9</td>\n      <td>os_021</td>\n      <td>csf_001</td>\n    </tr>\n    <tr>\n      <th>418488</th>\n      <td>CSF</td>\n      <td>1590519785043</td>\n      <td>386.0</td>\n      <td>True</td>\n      <td>8327102c038783a4a1e9</td>\n      <td>8327130fe1388335a1e9</td>\n      <td>83271b8a0a9783a4a1e9</td>\n      <td>os_021</td>\n      <td>csf_001</td>\n    </tr>\n    <tr>\n      <th>418489</th>\n      <td>CSF</td>\n      <td>1590519785044</td>\n      <td>653.0</td>\n      <td>True</td>\n      <td>83271cfa9e0883b4a1e9</td>\n      <td>832712d209588345a1e9</td>\n      <td>83271536751883b4a1e9</td>\n      <td>os_021</td>\n      <td>csf_001</td>\n    </tr>\n    <tr>\n      <th>...</th>\n      <td>...</td>\n      <td>...</td>\n      <td>...</td>\n      <td>...</td>\n      <td>...</td>\n      <td>...</td>\n      <td>...</td>\n      <td>...</td>\n      <td>...</td>\n    </tr>\n    <tr>\n      <th>9184295</th>\n      <td>RemoteProcess</td>\n      <td>1590521278916</td>\n      <td>614.0</td>\n      <td>True</td>\n      <td>83271b30da8335558d4b</td>\n      <td>832712ff2a34024c5e4b</td>\n      <td>832712e24e1435e58d4b</td>\n      <td>docker_001</td>\n      <td>docker_001</td>\n    </tr>\n    <tr>\n      <th>9184296</th>\n      <td>RemoteProcess</td>\n      <td>1590521279017</td>\n      <td>28.0</td>\n      <td>True</td>\n      <td>83271b30da8335558d4b</td>\n      <td>83271d92c56372926e4b</td>\n      <td>83271e28cc0502ec5e4b</td>\n      <td>docker_006</td>\n      <td>docker_006</td>\n    </tr>\n    <tr>\n      <th>9184297</th>\n      <td>RemoteProcess</td>\n      <td>1590521279118</td>\n      <td>19.0</td>\n      <td>True</td>\n      <td>83271b30da8335558d4b</td>\n      <td>832713c6769843e86e4b</td>\n      <td>832714bd282502b86e4b</td>\n      <td>docker_005</td>\n      <td>docker_005</td>\n    </tr>\n    <tr>\n      <th>9184298</th>\n      <td>RemoteProcess</td>\n      <td>1590521279218</td>\n      <td>19.0</td>\n      <td>True</td>\n      <td>83271b30da8335558d4b</td>\n      <td>83271fdafe21532f6e4b</td>\n      <td>832712763e45020f6e4b</td>\n      <td>docker_005</td>\n      <td>docker_005</td>\n    </tr>\n    <tr>\n      <th>9184299</th>\n      <td>RemoteProcess</td>\n      <td>1590521279321</td>\n      <td>15.0</td>\n      <td>True</td>\n      <td>83271b30da8335558d4b</td>\n      <td>8327180a2c9253957e4b</td>\n      <td>83271047656502557e4b</td>\n      <td>docker_005</td>\n      <td>docker_005</td>\n    </tr>\n  </tbody>\n</table>\n<p>536288 rows × 9 columns</p>\n</div>"
     },
     "metadata": {},
     "execution_count": 9
    }
   ],
   "source": [
    "df"
   ]
  },
  {
   "cell_type": "code",
   "execution_count": 10,
   "metadata": {},
   "outputs": [],
   "source": [
    "df1 = df[df['callType']=='RemoteProcess']\n",
    "df1 = df1[['pid','cmdb_id']]\n",
    "df1 = df1.set_index('pid')"
   ]
  },
  {
   "cell_type": "code",
   "execution_count": 12,
   "metadata": {},
   "outputs": [
    {
     "output_type": "error",
     "ename": "KeyboardInterrupt",
     "evalue": "",
     "traceback": [
      "\u001b[1;31m---------------------------------------------------------------------------\u001b[0m",
      "\u001b[1;31mKeyboardInterrupt\u001b[0m                         Traceback (most recent call last)",
      "\u001b[1;32m<ipython-input-12-a10b68554ec0>\u001b[0m in \u001b[0;36m<module>\u001b[1;34m\u001b[0m\n\u001b[0;32m     10\u001b[0m     \u001b[0melapse_time\u001b[0m\u001b[1;33m[\u001b[0m\u001b[0mrow\u001b[0m\u001b[1;33m[\u001b[0m\u001b[1;34m'id'\u001b[0m\u001b[1;33m]\u001b[0m\u001b[1;33m]\u001b[0m \u001b[1;33m=\u001b[0m \u001b[0mfloat\u001b[0m\u001b[1;33m(\u001b[0m\u001b[0mrow\u001b[0m\u001b[1;33m[\u001b[0m\u001b[1;34m'elapsedTime'\u001b[0m\u001b[1;33m]\u001b[0m\u001b[1;33m)\u001b[0m\u001b[1;33m\u001b[0m\u001b[1;33m\u001b[0m\u001b[0m\n\u001b[0;32m     11\u001b[0m     \u001b[1;32mreturn\u001b[0m \u001b[0mrow\u001b[0m\u001b[1;33m\u001b[0m\u001b[1;33m\u001b[0m\u001b[0m\n\u001b[1;32m---> 12\u001b[1;33m \u001b[0mdf\u001b[0m \u001b[1;33m=\u001b[0m \u001b[0mdf\u001b[0m\u001b[1;33m.\u001b[0m\u001b[0mapply\u001b[0m\u001b[1;33m(\u001b[0m\u001b[0mdo_thing\u001b[0m\u001b[1;33m,\u001b[0m \u001b[0maxis\u001b[0m\u001b[1;33m=\u001b[0m\u001b[1;36m1\u001b[0m\u001b[1;33m)\u001b[0m\u001b[1;33m\u001b[0m\u001b[1;33m\u001b[0m\u001b[0m\n\u001b[0m\u001b[0;32m     13\u001b[0m \u001b[1;33m\u001b[0m\u001b[0m\n\u001b[0;32m     14\u001b[0m \u001b[1;33m\u001b[0m\u001b[0m\n",
      "\u001b[1;32m~\\anaconda3\\envs\\tfv1\\lib\\site-packages\\pandas\\core\\frame.py\u001b[0m in \u001b[0;36mapply\u001b[1;34m(self, func, axis, raw, result_type, args, **kwds)\u001b[0m\n\u001b[0;32m   7550\u001b[0m             \u001b[0mkwds\u001b[0m\u001b[1;33m=\u001b[0m\u001b[0mkwds\u001b[0m\u001b[1;33m,\u001b[0m\u001b[1;33m\u001b[0m\u001b[1;33m\u001b[0m\u001b[0m\n\u001b[0;32m   7551\u001b[0m         )\n\u001b[1;32m-> 7552\u001b[1;33m         \u001b[1;32mreturn\u001b[0m \u001b[0mop\u001b[0m\u001b[1;33m.\u001b[0m\u001b[0mget_result\u001b[0m\u001b[1;33m(\u001b[0m\u001b[1;33m)\u001b[0m\u001b[1;33m\u001b[0m\u001b[1;33m\u001b[0m\u001b[0m\n\u001b[0m\u001b[0;32m   7553\u001b[0m \u001b[1;33m\u001b[0m\u001b[0m\n\u001b[0;32m   7554\u001b[0m     \u001b[1;32mdef\u001b[0m \u001b[0mapplymap\u001b[0m\u001b[1;33m(\u001b[0m\u001b[0mself\u001b[0m\u001b[1;33m,\u001b[0m \u001b[0mfunc\u001b[0m\u001b[1;33m)\u001b[0m \u001b[1;33m->\u001b[0m \u001b[1;34m\"DataFrame\"\u001b[0m\u001b[1;33m:\u001b[0m\u001b[1;33m\u001b[0m\u001b[1;33m\u001b[0m\u001b[0m\n",
      "\u001b[1;32m~\\anaconda3\\envs\\tfv1\\lib\\site-packages\\pandas\\core\\apply.py\u001b[0m in \u001b[0;36mget_result\u001b[1;34m(self)\u001b[0m\n\u001b[0;32m    178\u001b[0m             \u001b[1;32mreturn\u001b[0m \u001b[0mself\u001b[0m\u001b[1;33m.\u001b[0m\u001b[0mapply_raw\u001b[0m\u001b[1;33m(\u001b[0m\u001b[1;33m)\u001b[0m\u001b[1;33m\u001b[0m\u001b[1;33m\u001b[0m\u001b[0m\n\u001b[0;32m    179\u001b[0m \u001b[1;33m\u001b[0m\u001b[0m\n\u001b[1;32m--> 180\u001b[1;33m         \u001b[1;32mreturn\u001b[0m \u001b[0mself\u001b[0m\u001b[1;33m.\u001b[0m\u001b[0mapply_standard\u001b[0m\u001b[1;33m(\u001b[0m\u001b[1;33m)\u001b[0m\u001b[1;33m\u001b[0m\u001b[1;33m\u001b[0m\u001b[0m\n\u001b[0m\u001b[0;32m    181\u001b[0m \u001b[1;33m\u001b[0m\u001b[0m\n\u001b[0;32m    182\u001b[0m     \u001b[1;32mdef\u001b[0m \u001b[0mapply_empty_result\u001b[0m\u001b[1;33m(\u001b[0m\u001b[0mself\u001b[0m\u001b[1;33m)\u001b[0m\u001b[1;33m:\u001b[0m\u001b[1;33m\u001b[0m\u001b[1;33m\u001b[0m\u001b[0m\n",
      "\u001b[1;32m~\\anaconda3\\envs\\tfv1\\lib\\site-packages\\pandas\\core\\apply.py\u001b[0m in \u001b[0;36mapply_standard\u001b[1;34m(self)\u001b[0m\n\u001b[0;32m    269\u001b[0m \u001b[1;33m\u001b[0m\u001b[0m\n\u001b[0;32m    270\u001b[0m     \u001b[1;32mdef\u001b[0m \u001b[0mapply_standard\u001b[0m\u001b[1;33m(\u001b[0m\u001b[0mself\u001b[0m\u001b[1;33m)\u001b[0m\u001b[1;33m:\u001b[0m\u001b[1;33m\u001b[0m\u001b[1;33m\u001b[0m\u001b[0m\n\u001b[1;32m--> 271\u001b[1;33m         \u001b[0mresults\u001b[0m\u001b[1;33m,\u001b[0m \u001b[0mres_index\u001b[0m \u001b[1;33m=\u001b[0m \u001b[0mself\u001b[0m\u001b[1;33m.\u001b[0m\u001b[0mapply_series_generator\u001b[0m\u001b[1;33m(\u001b[0m\u001b[1;33m)\u001b[0m\u001b[1;33m\u001b[0m\u001b[1;33m\u001b[0m\u001b[0m\n\u001b[0m\u001b[0;32m    272\u001b[0m \u001b[1;33m\u001b[0m\u001b[0m\n\u001b[0;32m    273\u001b[0m         \u001b[1;31m# wrap results\u001b[0m\u001b[1;33m\u001b[0m\u001b[1;33m\u001b[0m\u001b[1;33m\u001b[0m\u001b[0m\n",
      "\u001b[1;32m~\\anaconda3\\envs\\tfv1\\lib\\site-packages\\pandas\\core\\apply.py\u001b[0m in \u001b[0;36mapply_series_generator\u001b[1;34m(self)\u001b[0m\n\u001b[0;32m    298\u001b[0m                 \u001b[1;32mfor\u001b[0m \u001b[0mi\u001b[0m\u001b[1;33m,\u001b[0m \u001b[0mv\u001b[0m \u001b[1;32min\u001b[0m \u001b[0menumerate\u001b[0m\u001b[1;33m(\u001b[0m\u001b[0mseries_gen\u001b[0m\u001b[1;33m)\u001b[0m\u001b[1;33m:\u001b[0m\u001b[1;33m\u001b[0m\u001b[1;33m\u001b[0m\u001b[0m\n\u001b[0;32m    299\u001b[0m                     \u001b[1;31m# ignore SettingWithCopy here in case the user mutates\u001b[0m\u001b[1;33m\u001b[0m\u001b[1;33m\u001b[0m\u001b[1;33m\u001b[0m\u001b[0m\n\u001b[1;32m--> 300\u001b[1;33m                     \u001b[0mresults\u001b[0m\u001b[1;33m[\u001b[0m\u001b[0mi\u001b[0m\u001b[1;33m]\u001b[0m \u001b[1;33m=\u001b[0m \u001b[0mself\u001b[0m\u001b[1;33m.\u001b[0m\u001b[0mf\u001b[0m\u001b[1;33m(\u001b[0m\u001b[0mv\u001b[0m\u001b[1;33m)\u001b[0m\u001b[1;33m\u001b[0m\u001b[1;33m\u001b[0m\u001b[0m\n\u001b[0m\u001b[0;32m    301\u001b[0m                     \u001b[1;32mif\u001b[0m \u001b[0misinstance\u001b[0m\u001b[1;33m(\u001b[0m\u001b[0mresults\u001b[0m\u001b[1;33m[\u001b[0m\u001b[0mi\u001b[0m\u001b[1;33m]\u001b[0m\u001b[1;33m,\u001b[0m \u001b[0mABCSeries\u001b[0m\u001b[1;33m)\u001b[0m\u001b[1;33m:\u001b[0m\u001b[1;33m\u001b[0m\u001b[1;33m\u001b[0m\u001b[0m\n\u001b[0;32m    302\u001b[0m                         \u001b[1;31m# If we have a view on v, we need to make a copy because\u001b[0m\u001b[1;33m\u001b[0m\u001b[1;33m\u001b[0m\u001b[1;33m\u001b[0m\u001b[0m\n",
      "\u001b[1;32m<ipython-input-12-a10b68554ec0>\u001b[0m in \u001b[0;36mdo_thing\u001b[1;34m(row)\u001b[0m\n\u001b[0;32m      8\u001b[0m         \u001b[0mchildren\u001b[0m\u001b[1;33m[\u001b[0m\u001b[0mrow\u001b[0m\u001b[1;33m[\u001b[0m\u001b[1;34m'pid'\u001b[0m\u001b[1;33m]\u001b[0m\u001b[1;33m]\u001b[0m \u001b[1;33m=\u001b[0m \u001b[0mchildren\u001b[0m\u001b[1;33m.\u001b[0m\u001b[0mget\u001b[0m\u001b[1;33m(\u001b[0m\u001b[0mrow\u001b[0m\u001b[1;33m[\u001b[0m\u001b[1;34m'pid'\u001b[0m\u001b[1;33m]\u001b[0m\u001b[1;33m,\u001b[0m \u001b[1;33m[\u001b[0m\u001b[1;33m]\u001b[0m\u001b[1;33m)\u001b[0m\u001b[1;33m\u001b[0m\u001b[1;33m\u001b[0m\u001b[0m\n\u001b[0;32m      9\u001b[0m         \u001b[0mchildren\u001b[0m\u001b[1;33m[\u001b[0m\u001b[0mrow\u001b[0m\u001b[1;33m[\u001b[0m\u001b[1;34m'pid'\u001b[0m\u001b[1;33m]\u001b[0m\u001b[1;33m]\u001b[0m\u001b[1;33m.\u001b[0m\u001b[0mappend\u001b[0m\u001b[1;33m(\u001b[0m\u001b[0mrow\u001b[0m\u001b[1;33m[\u001b[0m\u001b[1;34m'id'\u001b[0m\u001b[1;33m]\u001b[0m\u001b[1;33m)\u001b[0m\u001b[1;33m\u001b[0m\u001b[1;33m\u001b[0m\u001b[0m\n\u001b[1;32m---> 10\u001b[1;33m     \u001b[0melapse_time\u001b[0m\u001b[1;33m[\u001b[0m\u001b[0mrow\u001b[0m\u001b[1;33m[\u001b[0m\u001b[1;34m'id'\u001b[0m\u001b[1;33m]\u001b[0m\u001b[1;33m]\u001b[0m \u001b[1;33m=\u001b[0m \u001b[0mfloat\u001b[0m\u001b[1;33m(\u001b[0m\u001b[0mrow\u001b[0m\u001b[1;33m[\u001b[0m\u001b[1;34m'elapsedTime'\u001b[0m\u001b[1;33m]\u001b[0m\u001b[1;33m)\u001b[0m\u001b[1;33m\u001b[0m\u001b[1;33m\u001b[0m\u001b[0m\n\u001b[0m\u001b[0;32m     11\u001b[0m     \u001b[1;32mreturn\u001b[0m \u001b[0mrow\u001b[0m\u001b[1;33m\u001b[0m\u001b[1;33m\u001b[0m\u001b[0m\n\u001b[0;32m     12\u001b[0m \u001b[0mdf\u001b[0m \u001b[1;33m=\u001b[0m \u001b[0mdf\u001b[0m\u001b[1;33m.\u001b[0m\u001b[0mapply\u001b[0m\u001b[1;33m(\u001b[0m\u001b[0mdo_thing\u001b[0m\u001b[1;33m,\u001b[0m \u001b[0maxis\u001b[0m\u001b[1;33m=\u001b[0m\u001b[1;36m1\u001b[0m\u001b[1;33m)\u001b[0m\u001b[1;33m\u001b[0m\u001b[1;33m\u001b[0m\u001b[0m\n",
      "\u001b[1;32m~\\anaconda3\\envs\\tfv1\\lib\\site-packages\\pandas\\core\\series.py\u001b[0m in \u001b[0;36m__getitem__\u001b[1;34m(self, key)\u001b[0m\n\u001b[0;32m    880\u001b[0m \u001b[1;33m\u001b[0m\u001b[0m\n\u001b[0;32m    881\u001b[0m         \u001b[1;32melif\u001b[0m \u001b[0mkey_is_scalar\u001b[0m\u001b[1;33m:\u001b[0m\u001b[1;33m\u001b[0m\u001b[1;33m\u001b[0m\u001b[0m\n\u001b[1;32m--> 882\u001b[1;33m             \u001b[1;32mreturn\u001b[0m \u001b[0mself\u001b[0m\u001b[1;33m.\u001b[0m\u001b[0m_get_value\u001b[0m\u001b[1;33m(\u001b[0m\u001b[0mkey\u001b[0m\u001b[1;33m)\u001b[0m\u001b[1;33m\u001b[0m\u001b[1;33m\u001b[0m\u001b[0m\n\u001b[0m\u001b[0;32m    883\u001b[0m \u001b[1;33m\u001b[0m\u001b[0m\n\u001b[0;32m    884\u001b[0m         \u001b[1;32mif\u001b[0m \u001b[0mis_hashable\u001b[0m\u001b[1;33m(\u001b[0m\u001b[0mkey\u001b[0m\u001b[1;33m)\u001b[0m\u001b[1;33m:\u001b[0m\u001b[1;33m\u001b[0m\u001b[1;33m\u001b[0m\u001b[0m\n",
      "\u001b[1;32m~\\anaconda3\\envs\\tfv1\\lib\\site-packages\\pandas\\core\\series.py\u001b[0m in \u001b[0;36m_get_value\u001b[1;34m(self, label, takeable)\u001b[0m\n\u001b[0;32m    987\u001b[0m \u001b[1;33m\u001b[0m\u001b[0m\n\u001b[0;32m    988\u001b[0m         \u001b[1;31m# Similar to Index.get_value, but we do not fall back to positional\u001b[0m\u001b[1;33m\u001b[0m\u001b[1;33m\u001b[0m\u001b[1;33m\u001b[0m\u001b[0m\n\u001b[1;32m--> 989\u001b[1;33m         \u001b[0mloc\u001b[0m \u001b[1;33m=\u001b[0m \u001b[0mself\u001b[0m\u001b[1;33m.\u001b[0m\u001b[0mindex\u001b[0m\u001b[1;33m.\u001b[0m\u001b[0mget_loc\u001b[0m\u001b[1;33m(\u001b[0m\u001b[0mlabel\u001b[0m\u001b[1;33m)\u001b[0m\u001b[1;33m\u001b[0m\u001b[1;33m\u001b[0m\u001b[0m\n\u001b[0m\u001b[0;32m    990\u001b[0m         \u001b[1;32mreturn\u001b[0m \u001b[0mself\u001b[0m\u001b[1;33m.\u001b[0m\u001b[0mindex\u001b[0m\u001b[1;33m.\u001b[0m\u001b[0m_get_values_for_loc\u001b[0m\u001b[1;33m(\u001b[0m\u001b[0mself\u001b[0m\u001b[1;33m,\u001b[0m \u001b[0mloc\u001b[0m\u001b[1;33m,\u001b[0m \u001b[0mlabel\u001b[0m\u001b[1;33m)\u001b[0m\u001b[1;33m\u001b[0m\u001b[1;33m\u001b[0m\u001b[0m\n\u001b[0;32m    991\u001b[0m \u001b[1;33m\u001b[0m\u001b[0m\n",
      "\u001b[1;31mKeyboardInterrupt\u001b[0m: "
     ]
    }
   ],
   "source": [
    "elapse_time = {}\n",
    "children = {}\n",
    "\n",
    "def do_thing(row):\n",
    "    if row['id'] in df1.index:\n",
    "        row['serviceName'] = df1.at[row['id'],'cmdb_id']\n",
    "    if row['pid'] != 'None':\n",
    "        children[row['pid']] = children.get(row['pid'], [])\n",
    "        children[row['pid']].append(row['id'])\n",
    "    elapse_time[row['id']] = float(row['elapsedTime'])\n",
    "    return row\n",
    "df = df.apply(do_thing, axis=1)\n",
    "\n",
    "\n",
    "df['actual_time'] = 0.0\n",
    "\n",
    "def get_actual_time(row):\n",
    "    total_child = 0.0\n",
    "    if row['id'] in children:\n",
    "        for child in children[row['id']]:\n",
    "            total_child += elapse_time[child]\n",
    "    row['actual_time'] = row['elapsedTime'] - total_child\n",
    "    return row\n",
    "\n",
    "df = df.apply(get_actual_time, axis = 1)\n",
    "\n",
    "df = df[~(df['serviceName'].str.contains('csf', na=True))]"
   ]
  },
  {
   "cell_type": "code",
   "execution_count": 11,
   "metadata": {},
   "outputs": [],
   "source": [
    "df = df.sort_values(['traceId', 'startTime'], ignore_index=True)"
   ]
  },
  {
   "cell_type": "code",
   "execution_count": 12,
   "metadata": {},
   "outputs": [
    {
     "output_type": "execute_result",
     "data": {
      "text/plain": [
       "         callType      startTime  elapsedTime  success               traceId  \\\n",
       "0             OSB  1590520633761        479.0     True  832710005422291ad0ba   \n",
       "1             CSF  1590520633768        459.0     True  832710005422291ad0ba   \n",
       "2   RemoteProcess  1590520633768        457.0     True  832710005422291ad0ba   \n",
       "3       FlyRemote  1590520633820          5.0     True  832710005422291ad0ba   \n",
       "4             CSF  1590520633827         36.0     True  832710005422291ad0ba   \n",
       "5   RemoteProcess  1590520633829         34.0     True  832710005422291ad0ba   \n",
       "6            JDBC  1590520633850          2.0     True  832710005422291ad0ba   \n",
       "7           LOCAL  1590520633850          6.0     True  832710005422291ad0ba   \n",
       "8            JDBC  1590520633854          2.0     True  832710005422291ad0ba   \n",
       "9             CSF  1590520633866         51.0     True  832710005422291ad0ba   \n",
       "10  RemoteProcess  1590520633869         20.0     True  832710005422291ad0ba   \n",
       "11           JDBC  1590520633872          3.0     True  832710005422291ad0ba   \n",
       "12          LOCAL  1590520633872          6.0     True  832710005422291ad0ba   \n",
       "13           JDBC  1590520633876          2.0     True  832710005422291ad0ba   \n",
       "14          LOCAL  1590520633879          4.0     True  832710005422291ad0ba   \n",
       "15           JDBC  1590520633880          3.0     True  832710005422291ad0ba   \n",
       "16            CSF  1590520633920         23.0     True  832710005422291ad0ba   \n",
       "17  RemoteProcess  1590520633924         18.0     True  832710005422291ad0ba   \n",
       "18           JDBC  1590520633927          2.0     True  832710005422291ad0ba   \n",
       "19          LOCAL  1590520633927          6.0     True  832710005422291ad0ba   \n",
       "20           JDBC  1590520633930          2.0     True  832710005422291ad0ba   \n",
       "21          LOCAL  1590520633934          3.0     True  832710005422291ad0ba   \n",
       "22           JDBC  1590520633935          2.0     True  832710005422291ad0ba   \n",
       "23            CSF  1590520634015         30.0     True  832710005422291ad0ba   \n",
       "24  RemoteProcess  1590520634020         24.0     True  832710005422291ad0ba   \n",
       "25           JDBC  1590520634026          3.0     True  832710005422291ad0ba   \n",
       "26          LOCAL  1590520634026         12.0     True  832710005422291ad0ba   \n",
       "27           JDBC  1590520634035          2.0     True  832710005422291ad0ba   \n",
       "28           JDBC  1590520634046          1.0     True  832710005422291ad0ba   \n",
       "29          LOCAL  1590520634046          1.0     True  832710005422291ad0ba   \n",
       "30           JDBC  1590520634047          0.0     True  832710005422291ad0ba   \n",
       "31          LOCAL  1590520634048          2.0     True  832710005422291ad0ba   \n",
       "32           JDBC  1590520634050          0.0     True  832710005422291ad0ba   \n",
       "33          LOCAL  1590520634050          2.0     True  832710005422291ad0ba   \n",
       "34           JDBC  1590520634051          1.0     True  832710005422291ad0ba   \n",
       "35          LOCAL  1590520634052         65.0     True  832710005422291ad0ba   \n",
       "36           JDBC  1590520634116          0.0     True  832710005422291ad0ba   \n",
       "37          LOCAL  1590520634117          2.0     True  832710005422291ad0ba   \n",
       "38           JDBC  1590520634118          0.0     True  832710005422291ad0ba   \n",
       "39          LOCAL  1590520634119          4.0     True  832710005422291ad0ba   \n",
       "40           JDBC  1590520634121          1.0     True  832710005422291ad0ba   \n",
       "41          LOCAL  1590520634123          4.0     True  832710005422291ad0ba   \n",
       "42           JDBC  1590520634125          1.0     True  832710005422291ad0ba   \n",
       "43          LOCAL  1590520634127          2.0     True  832710005422291ad0ba   \n",
       "44           JDBC  1590520634128          1.0     True  832710005422291ad0ba   \n",
       "45          LOCAL  1590520634130          2.0     True  832710005422291ad0ba   \n",
       "46           JDBC  1590520634131          1.0     True  832710005422291ad0ba   \n",
       "47          LOCAL  1590520634132          1.0     True  832710005422291ad0ba   \n",
       "48           JDBC  1590520634133          0.0     True  832710005422291ad0ba   \n",
       "49          LOCAL  1590520634133          2.0     True  832710005422291ad0ba   \n",
       "50           JDBC  1590520634134          1.0     True  832710005422291ad0ba   \n",
       "51          LOCAL  1590520634135          1.0     True  832710005422291ad0ba   \n",
       "52           JDBC  1590520634136          0.0     True  832710005422291ad0ba   \n",
       "53          LOCAL  1590520634136          2.0     True  832710005422291ad0ba   \n",
       "54           JDBC  1590520634137          0.0     True  832710005422291ad0ba   \n",
       "55           JDBC  1590520634138          3.0     True  832710005422291ad0ba   \n",
       "56          LOCAL  1590520634138         81.0     True  832710005422291ad0ba   \n",
       "57           JDBC  1590520634215          3.0     True  832710005422291ad0ba   \n",
       "58            OSB  1590519792583        506.0     True  832710009461577c73e9   \n",
       "59            CSF  1590519792588        496.0     True  832710009461577c73e9   \n",
       "\n",
       "                      id                   pid     cmdb_id     serviceName  \n",
       "0   832717baa032291ad0ba                  None      os_022          os_022  \n",
       "1   832718e55d52298ad0ba  832717baa032291ad0ba      os_022         csf_001  \n",
       "2   832715cffc90388ad0ba  832718e55d52298ad0ba  docker_001      docker_001  \n",
       "3   832719b9b75138cdd0ba  832715cffc90388ad0ba  docker_001  fly_remote_001  \n",
       "4   83271ba5e491383ed0ba  832715cffc90388ad0ba  docker_001         csf_002  \n",
       "5   832711280701745ed0ba  83271ba5e491383ed0ba  docker_006      docker_006  \n",
       "6   83271a2baf4374afd0ba  83271a90dc1374afd0ba  docker_006          db_003  \n",
       "7   83271a90dc1374afd0ba  832711280701745ed0ba  docker_006          db_003  \n",
       "8   8327151d582474efd0ba  83271a90dc1374afd0ba  docker_006          db_003  \n",
       "9   832716e1e9723890e0ba  832715cffc90388ad0ba  docker_001         csf_003  \n",
       "10  83271d1a840574d0e0ba  832716e1e9723890e0ba  docker_006      docker_006  \n",
       "11  83271f97ed757401e0ba  83271f80b2457401e0ba  docker_006          db_003  \n",
       "12  83271f80b2457401e0ba  83271d1a840574d0e0ba  docker_006          db_003  \n",
       "13  83271e6152067441e0ba  83271f80b2457401e0ba  docker_006          db_003  \n",
       "14  83271ac9f0267471e0ba  83271d1a840574d0e0ba  docker_006          db_003  \n",
       "15  83271463c9567481e0ba  83271ac9f0267471e0ba  docker_006          db_003  \n",
       "16  8327188d130538f3e0ba  832715cffc90388ad0ba  docker_001         csf_004  \n",
       "17  8327152f44487444e0ba  8327188d130538f3e0ba  docker_005      docker_005  \n",
       "18  832718fba9197474e0ba  8327191df4887474e0ba  docker_005          db_003  \n",
       "19  8327191df4887474e0ba  8327152f44487444e0ba  docker_005          db_003  \n",
       "20  83271a4d484974a4e0ba  8327191df4887474e0ba  docker_005          db_003  \n",
       "21  83271c10496974e4e0ba  8327152f44487444e0ba  docker_005          db_003  \n",
       "22  832713f4d29974f4e0ba  83271c10496974e4e0ba  docker_005          db_003  \n",
       "23  83271f07eb814895e0ba  832715cffc90388ad0ba  docker_001         csf_005  \n",
       "24  832710e99142844ae0ba  83271f07eb814895e0ba  docker_006      docker_006  \n",
       "25  8327101b397384aae0ba  83271d14384384aae0ba  docker_006          db_003  \n",
       "26  83271d14384384aae0ba  832710e99142844ae0ba  docker_006          db_003  \n",
       "27  832710ce4e94843be0ba  83271d14384384aae0ba  docker_006          db_003  \n",
       "28  832715897d2058ebe0ba  83271844ef9948ebe0ba  docker_001          db_009  \n",
       "29  83271844ef9948ebe0ba  832715cffc90388ad0ba  docker_001          db_009  \n",
       "30  83271c4f0e5058fbe0ba  83271844ef9948ebe0ba  docker_001          db_009  \n",
       "31  832716ae2870580ce0ba  832715cffc90388ad0ba  docker_001          db_009  \n",
       "32  83271a74de21582ce0ba  832716ae2870580ce0ba  docker_001          db_009  \n",
       "33  832713c4e241582ce0ba  832715cffc90388ad0ba  docker_001          db_009  \n",
       "34  832711459b71583ce0ba  832713c4e241582ce0ba  docker_001          db_009  \n",
       "35  83271ae1e691584ce0ba  832715cffc90388ad0ba  docker_001          db_009  \n",
       "36  832715ae13225840f0ba  83271ae1e691584ce0ba  docker_001          db_009  \n",
       "37  83271b4838425850f0ba  832715cffc90388ad0ba  docker_001          db_009  \n",
       "38  8327106941725860f0ba  83271b4838425850f0ba  docker_001          db_009  \n",
       "39  83271f599c335870f0ba  832715cffc90388ad0ba  docker_001          db_009  \n",
       "40  83271f989e245890f0ba  83271f599c335870f0ba  docker_001          db_009  \n",
       "41  83271271369458b0f0ba  832715cffc90388ad0ba  docker_001          db_009  \n",
       "42  83271a400d7558d0f0ba  83271271369458b0f0ba  docker_001          db_009  \n",
       "43  8327123ed74658f0f0ba  832715cffc90388ad0ba  docker_001          db_009  \n",
       "44  83271cb1da965801f0ba  8327123ed74658f0f0ba  docker_001          db_009  \n",
       "45  832712ba0a475811f0ba  832715cffc90388ad0ba  docker_001          db_009  \n",
       "46  8327179011975831f0ba  832712ba0a475811f0ba  docker_001          db_009  \n",
       "47  8327122968185841f0ba  832715cffc90388ad0ba  docker_001          db_009  \n",
       "48  832710b232785851f0ba  8327122968185841f0ba  docker_001          db_009  \n",
       "49  83271e238e195851f0ba  832715cffc90388ad0ba  docker_001          db_009  \n",
       "50  83271a2e6c495861f0ba  83271e238e195851f0ba  docker_001          db_009  \n",
       "51  832716ce4e695871f0ba  832715cffc90388ad0ba  docker_001          db_009  \n",
       "52  83271f974d206881f0ba  832716ce4e695871f0ba  docker_001          db_009  \n",
       "53  83271c0dd1606881f0ba  832715cffc90388ad0ba  docker_001          db_009  \n",
       "54  832716fc21906891f0ba  83271c0dd1606881f0ba  docker_001          db_009  \n",
       "55  8327147e147168a1f0ba  83271a2f254168a1f0ba  docker_001          db_007  \n",
       "56  83271a2f254168a1f0ba  832715cffc90388ad0ba  docker_001          db_007  \n",
       "57  8327115dce736876f0ba  83271a2f254168a1f0ba  docker_001          db_007  \n",
       "58  83271619f671577c73e9                  None      os_022          os_022  \n",
       "59  83271af0029157cc73e9  83271619f671577c73e9      os_022         csf_001  "
      ],
      "text/html": "<div>\n<style scoped>\n    .dataframe tbody tr th:only-of-type {\n        vertical-align: middle;\n    }\n\n    .dataframe tbody tr th {\n        vertical-align: top;\n    }\n\n    .dataframe thead th {\n        text-align: right;\n    }\n</style>\n<table border=\"1\" class=\"dataframe\">\n  <thead>\n    <tr style=\"text-align: right;\">\n      <th></th>\n      <th>callType</th>\n      <th>startTime</th>\n      <th>elapsedTime</th>\n      <th>success</th>\n      <th>traceId</th>\n      <th>id</th>\n      <th>pid</th>\n      <th>cmdb_id</th>\n      <th>serviceName</th>\n    </tr>\n  </thead>\n  <tbody>\n    <tr>\n      <th>0</th>\n      <td>OSB</td>\n      <td>1590520633761</td>\n      <td>479.0</td>\n      <td>True</td>\n      <td>832710005422291ad0ba</td>\n      <td>832717baa032291ad0ba</td>\n      <td>None</td>\n      <td>os_022</td>\n      <td>os_022</td>\n    </tr>\n    <tr>\n      <th>1</th>\n      <td>CSF</td>\n      <td>1590520633768</td>\n      <td>459.0</td>\n      <td>True</td>\n      <td>832710005422291ad0ba</td>\n      <td>832718e55d52298ad0ba</td>\n      <td>832717baa032291ad0ba</td>\n      <td>os_022</td>\n      <td>csf_001</td>\n    </tr>\n    <tr>\n      <th>2</th>\n      <td>RemoteProcess</td>\n      <td>1590520633768</td>\n      <td>457.0</td>\n      <td>True</td>\n      <td>832710005422291ad0ba</td>\n      <td>832715cffc90388ad0ba</td>\n      <td>832718e55d52298ad0ba</td>\n      <td>docker_001</td>\n      <td>docker_001</td>\n    </tr>\n    <tr>\n      <th>3</th>\n      <td>FlyRemote</td>\n      <td>1590520633820</td>\n      <td>5.0</td>\n      <td>True</td>\n      <td>832710005422291ad0ba</td>\n      <td>832719b9b75138cdd0ba</td>\n      <td>832715cffc90388ad0ba</td>\n      <td>docker_001</td>\n      <td>fly_remote_001</td>\n    </tr>\n    <tr>\n      <th>4</th>\n      <td>CSF</td>\n      <td>1590520633827</td>\n      <td>36.0</td>\n      <td>True</td>\n      <td>832710005422291ad0ba</td>\n      <td>83271ba5e491383ed0ba</td>\n      <td>832715cffc90388ad0ba</td>\n      <td>docker_001</td>\n      <td>csf_002</td>\n    </tr>\n    <tr>\n      <th>5</th>\n      <td>RemoteProcess</td>\n      <td>1590520633829</td>\n      <td>34.0</td>\n      <td>True</td>\n      <td>832710005422291ad0ba</td>\n      <td>832711280701745ed0ba</td>\n      <td>83271ba5e491383ed0ba</td>\n      <td>docker_006</td>\n      <td>docker_006</td>\n    </tr>\n    <tr>\n      <th>6</th>\n      <td>JDBC</td>\n      <td>1590520633850</td>\n      <td>2.0</td>\n      <td>True</td>\n      <td>832710005422291ad0ba</td>\n      <td>83271a2baf4374afd0ba</td>\n      <td>83271a90dc1374afd0ba</td>\n      <td>docker_006</td>\n      <td>db_003</td>\n    </tr>\n    <tr>\n      <th>7</th>\n      <td>LOCAL</td>\n      <td>1590520633850</td>\n      <td>6.0</td>\n      <td>True</td>\n      <td>832710005422291ad0ba</td>\n      <td>83271a90dc1374afd0ba</td>\n      <td>832711280701745ed0ba</td>\n      <td>docker_006</td>\n      <td>db_003</td>\n    </tr>\n    <tr>\n      <th>8</th>\n      <td>JDBC</td>\n      <td>1590520633854</td>\n      <td>2.0</td>\n      <td>True</td>\n      <td>832710005422291ad0ba</td>\n      <td>8327151d582474efd0ba</td>\n      <td>83271a90dc1374afd0ba</td>\n      <td>docker_006</td>\n      <td>db_003</td>\n    </tr>\n    <tr>\n      <th>9</th>\n      <td>CSF</td>\n      <td>1590520633866</td>\n      <td>51.0</td>\n      <td>True</td>\n      <td>832710005422291ad0ba</td>\n      <td>832716e1e9723890e0ba</td>\n      <td>832715cffc90388ad0ba</td>\n      <td>docker_001</td>\n      <td>csf_003</td>\n    </tr>\n    <tr>\n      <th>10</th>\n      <td>RemoteProcess</td>\n      <td>1590520633869</td>\n      <td>20.0</td>\n      <td>True</td>\n      <td>832710005422291ad0ba</td>\n      <td>83271d1a840574d0e0ba</td>\n      <td>832716e1e9723890e0ba</td>\n      <td>docker_006</td>\n      <td>docker_006</td>\n    </tr>\n    <tr>\n      <th>11</th>\n      <td>JDBC</td>\n      <td>1590520633872</td>\n      <td>3.0</td>\n      <td>True</td>\n      <td>832710005422291ad0ba</td>\n      <td>83271f97ed757401e0ba</td>\n      <td>83271f80b2457401e0ba</td>\n      <td>docker_006</td>\n      <td>db_003</td>\n    </tr>\n    <tr>\n      <th>12</th>\n      <td>LOCAL</td>\n      <td>1590520633872</td>\n      <td>6.0</td>\n      <td>True</td>\n      <td>832710005422291ad0ba</td>\n      <td>83271f80b2457401e0ba</td>\n      <td>83271d1a840574d0e0ba</td>\n      <td>docker_006</td>\n      <td>db_003</td>\n    </tr>\n    <tr>\n      <th>13</th>\n      <td>JDBC</td>\n      <td>1590520633876</td>\n      <td>2.0</td>\n      <td>True</td>\n      <td>832710005422291ad0ba</td>\n      <td>83271e6152067441e0ba</td>\n      <td>83271f80b2457401e0ba</td>\n      <td>docker_006</td>\n      <td>db_003</td>\n    </tr>\n    <tr>\n      <th>14</th>\n      <td>LOCAL</td>\n      <td>1590520633879</td>\n      <td>4.0</td>\n      <td>True</td>\n      <td>832710005422291ad0ba</td>\n      <td>83271ac9f0267471e0ba</td>\n      <td>83271d1a840574d0e0ba</td>\n      <td>docker_006</td>\n      <td>db_003</td>\n    </tr>\n    <tr>\n      <th>15</th>\n      <td>JDBC</td>\n      <td>1590520633880</td>\n      <td>3.0</td>\n      <td>True</td>\n      <td>832710005422291ad0ba</td>\n      <td>83271463c9567481e0ba</td>\n      <td>83271ac9f0267471e0ba</td>\n      <td>docker_006</td>\n      <td>db_003</td>\n    </tr>\n    <tr>\n      <th>16</th>\n      <td>CSF</td>\n      <td>1590520633920</td>\n      <td>23.0</td>\n      <td>True</td>\n      <td>832710005422291ad0ba</td>\n      <td>8327188d130538f3e0ba</td>\n      <td>832715cffc90388ad0ba</td>\n      <td>docker_001</td>\n      <td>csf_004</td>\n    </tr>\n    <tr>\n      <th>17</th>\n      <td>RemoteProcess</td>\n      <td>1590520633924</td>\n      <td>18.0</td>\n      <td>True</td>\n      <td>832710005422291ad0ba</td>\n      <td>8327152f44487444e0ba</td>\n      <td>8327188d130538f3e0ba</td>\n      <td>docker_005</td>\n      <td>docker_005</td>\n    </tr>\n    <tr>\n      <th>18</th>\n      <td>JDBC</td>\n      <td>1590520633927</td>\n      <td>2.0</td>\n      <td>True</td>\n      <td>832710005422291ad0ba</td>\n      <td>832718fba9197474e0ba</td>\n      <td>8327191df4887474e0ba</td>\n      <td>docker_005</td>\n      <td>db_003</td>\n    </tr>\n    <tr>\n      <th>19</th>\n      <td>LOCAL</td>\n      <td>1590520633927</td>\n      <td>6.0</td>\n      <td>True</td>\n      <td>832710005422291ad0ba</td>\n      <td>8327191df4887474e0ba</td>\n      <td>8327152f44487444e0ba</td>\n      <td>docker_005</td>\n      <td>db_003</td>\n    </tr>\n    <tr>\n      <th>20</th>\n      <td>JDBC</td>\n      <td>1590520633930</td>\n      <td>2.0</td>\n      <td>True</td>\n      <td>832710005422291ad0ba</td>\n      <td>83271a4d484974a4e0ba</td>\n      <td>8327191df4887474e0ba</td>\n      <td>docker_005</td>\n      <td>db_003</td>\n    </tr>\n    <tr>\n      <th>21</th>\n      <td>LOCAL</td>\n      <td>1590520633934</td>\n      <td>3.0</td>\n      <td>True</td>\n      <td>832710005422291ad0ba</td>\n      <td>83271c10496974e4e0ba</td>\n      <td>8327152f44487444e0ba</td>\n      <td>docker_005</td>\n      <td>db_003</td>\n    </tr>\n    <tr>\n      <th>22</th>\n      <td>JDBC</td>\n      <td>1590520633935</td>\n      <td>2.0</td>\n      <td>True</td>\n      <td>832710005422291ad0ba</td>\n      <td>832713f4d29974f4e0ba</td>\n      <td>83271c10496974e4e0ba</td>\n      <td>docker_005</td>\n      <td>db_003</td>\n    </tr>\n    <tr>\n      <th>23</th>\n      <td>CSF</td>\n      <td>1590520634015</td>\n      <td>30.0</td>\n      <td>True</td>\n      <td>832710005422291ad0ba</td>\n      <td>83271f07eb814895e0ba</td>\n      <td>832715cffc90388ad0ba</td>\n      <td>docker_001</td>\n      <td>csf_005</td>\n    </tr>\n    <tr>\n      <th>24</th>\n      <td>RemoteProcess</td>\n      <td>1590520634020</td>\n      <td>24.0</td>\n      <td>True</td>\n      <td>832710005422291ad0ba</td>\n      <td>832710e99142844ae0ba</td>\n      <td>83271f07eb814895e0ba</td>\n      <td>docker_006</td>\n      <td>docker_006</td>\n    </tr>\n    <tr>\n      <th>25</th>\n      <td>JDBC</td>\n      <td>1590520634026</td>\n      <td>3.0</td>\n      <td>True</td>\n      <td>832710005422291ad0ba</td>\n      <td>8327101b397384aae0ba</td>\n      <td>83271d14384384aae0ba</td>\n      <td>docker_006</td>\n      <td>db_003</td>\n    </tr>\n    <tr>\n      <th>26</th>\n      <td>LOCAL</td>\n      <td>1590520634026</td>\n      <td>12.0</td>\n      <td>True</td>\n      <td>832710005422291ad0ba</td>\n      <td>83271d14384384aae0ba</td>\n      <td>832710e99142844ae0ba</td>\n      <td>docker_006</td>\n      <td>db_003</td>\n    </tr>\n    <tr>\n      <th>27</th>\n      <td>JDBC</td>\n      <td>1590520634035</td>\n      <td>2.0</td>\n      <td>True</td>\n      <td>832710005422291ad0ba</td>\n      <td>832710ce4e94843be0ba</td>\n      <td>83271d14384384aae0ba</td>\n      <td>docker_006</td>\n      <td>db_003</td>\n    </tr>\n    <tr>\n      <th>28</th>\n      <td>JDBC</td>\n      <td>1590520634046</td>\n      <td>1.0</td>\n      <td>True</td>\n      <td>832710005422291ad0ba</td>\n      <td>832715897d2058ebe0ba</td>\n      <td>83271844ef9948ebe0ba</td>\n      <td>docker_001</td>\n      <td>db_009</td>\n    </tr>\n    <tr>\n      <th>29</th>\n      <td>LOCAL</td>\n      <td>1590520634046</td>\n      <td>1.0</td>\n      <td>True</td>\n      <td>832710005422291ad0ba</td>\n      <td>83271844ef9948ebe0ba</td>\n      <td>832715cffc90388ad0ba</td>\n      <td>docker_001</td>\n      <td>db_009</td>\n    </tr>\n    <tr>\n      <th>30</th>\n      <td>JDBC</td>\n      <td>1590520634047</td>\n      <td>0.0</td>\n      <td>True</td>\n      <td>832710005422291ad0ba</td>\n      <td>83271c4f0e5058fbe0ba</td>\n      <td>83271844ef9948ebe0ba</td>\n      <td>docker_001</td>\n      <td>db_009</td>\n    </tr>\n    <tr>\n      <th>31</th>\n      <td>LOCAL</td>\n      <td>1590520634048</td>\n      <td>2.0</td>\n      <td>True</td>\n      <td>832710005422291ad0ba</td>\n      <td>832716ae2870580ce0ba</td>\n      <td>832715cffc90388ad0ba</td>\n      <td>docker_001</td>\n      <td>db_009</td>\n    </tr>\n    <tr>\n      <th>32</th>\n      <td>JDBC</td>\n      <td>1590520634050</td>\n      <td>0.0</td>\n      <td>True</td>\n      <td>832710005422291ad0ba</td>\n      <td>83271a74de21582ce0ba</td>\n      <td>832716ae2870580ce0ba</td>\n      <td>docker_001</td>\n      <td>db_009</td>\n    </tr>\n    <tr>\n      <th>33</th>\n      <td>LOCAL</td>\n      <td>1590520634050</td>\n      <td>2.0</td>\n      <td>True</td>\n      <td>832710005422291ad0ba</td>\n      <td>832713c4e241582ce0ba</td>\n      <td>832715cffc90388ad0ba</td>\n      <td>docker_001</td>\n      <td>db_009</td>\n    </tr>\n    <tr>\n      <th>34</th>\n      <td>JDBC</td>\n      <td>1590520634051</td>\n      <td>1.0</td>\n      <td>True</td>\n      <td>832710005422291ad0ba</td>\n      <td>832711459b71583ce0ba</td>\n      <td>832713c4e241582ce0ba</td>\n      <td>docker_001</td>\n      <td>db_009</td>\n    </tr>\n    <tr>\n      <th>35</th>\n      <td>LOCAL</td>\n      <td>1590520634052</td>\n      <td>65.0</td>\n      <td>True</td>\n      <td>832710005422291ad0ba</td>\n      <td>83271ae1e691584ce0ba</td>\n      <td>832715cffc90388ad0ba</td>\n      <td>docker_001</td>\n      <td>db_009</td>\n    </tr>\n    <tr>\n      <th>36</th>\n      <td>JDBC</td>\n      <td>1590520634116</td>\n      <td>0.0</td>\n      <td>True</td>\n      <td>832710005422291ad0ba</td>\n      <td>832715ae13225840f0ba</td>\n      <td>83271ae1e691584ce0ba</td>\n      <td>docker_001</td>\n      <td>db_009</td>\n    </tr>\n    <tr>\n      <th>37</th>\n      <td>LOCAL</td>\n      <td>1590520634117</td>\n      <td>2.0</td>\n      <td>True</td>\n      <td>832710005422291ad0ba</td>\n      <td>83271b4838425850f0ba</td>\n      <td>832715cffc90388ad0ba</td>\n      <td>docker_001</td>\n      <td>db_009</td>\n    </tr>\n    <tr>\n      <th>38</th>\n      <td>JDBC</td>\n      <td>1590520634118</td>\n      <td>0.0</td>\n      <td>True</td>\n      <td>832710005422291ad0ba</td>\n      <td>8327106941725860f0ba</td>\n      <td>83271b4838425850f0ba</td>\n      <td>docker_001</td>\n      <td>db_009</td>\n    </tr>\n    <tr>\n      <th>39</th>\n      <td>LOCAL</td>\n      <td>1590520634119</td>\n      <td>4.0</td>\n      <td>True</td>\n      <td>832710005422291ad0ba</td>\n      <td>83271f599c335870f0ba</td>\n      <td>832715cffc90388ad0ba</td>\n      <td>docker_001</td>\n      <td>db_009</td>\n    </tr>\n    <tr>\n      <th>40</th>\n      <td>JDBC</td>\n      <td>1590520634121</td>\n      <td>1.0</td>\n      <td>True</td>\n      <td>832710005422291ad0ba</td>\n      <td>83271f989e245890f0ba</td>\n      <td>83271f599c335870f0ba</td>\n      <td>docker_001</td>\n      <td>db_009</td>\n    </tr>\n    <tr>\n      <th>41</th>\n      <td>LOCAL</td>\n      <td>1590520634123</td>\n      <td>4.0</td>\n      <td>True</td>\n      <td>832710005422291ad0ba</td>\n      <td>83271271369458b0f0ba</td>\n      <td>832715cffc90388ad0ba</td>\n      <td>docker_001</td>\n      <td>db_009</td>\n    </tr>\n    <tr>\n      <th>42</th>\n      <td>JDBC</td>\n      <td>1590520634125</td>\n      <td>1.0</td>\n      <td>True</td>\n      <td>832710005422291ad0ba</td>\n      <td>83271a400d7558d0f0ba</td>\n      <td>83271271369458b0f0ba</td>\n      <td>docker_001</td>\n      <td>db_009</td>\n    </tr>\n    <tr>\n      <th>43</th>\n      <td>LOCAL</td>\n      <td>1590520634127</td>\n      <td>2.0</td>\n      <td>True</td>\n      <td>832710005422291ad0ba</td>\n      <td>8327123ed74658f0f0ba</td>\n      <td>832715cffc90388ad0ba</td>\n      <td>docker_001</td>\n      <td>db_009</td>\n    </tr>\n    <tr>\n      <th>44</th>\n      <td>JDBC</td>\n      <td>1590520634128</td>\n      <td>1.0</td>\n      <td>True</td>\n      <td>832710005422291ad0ba</td>\n      <td>83271cb1da965801f0ba</td>\n      <td>8327123ed74658f0f0ba</td>\n      <td>docker_001</td>\n      <td>db_009</td>\n    </tr>\n    <tr>\n      <th>45</th>\n      <td>LOCAL</td>\n      <td>1590520634130</td>\n      <td>2.0</td>\n      <td>True</td>\n      <td>832710005422291ad0ba</td>\n      <td>832712ba0a475811f0ba</td>\n      <td>832715cffc90388ad0ba</td>\n      <td>docker_001</td>\n      <td>db_009</td>\n    </tr>\n    <tr>\n      <th>46</th>\n      <td>JDBC</td>\n      <td>1590520634131</td>\n      <td>1.0</td>\n      <td>True</td>\n      <td>832710005422291ad0ba</td>\n      <td>8327179011975831f0ba</td>\n      <td>832712ba0a475811f0ba</td>\n      <td>docker_001</td>\n      <td>db_009</td>\n    </tr>\n    <tr>\n      <th>47</th>\n      <td>LOCAL</td>\n      <td>1590520634132</td>\n      <td>1.0</td>\n      <td>True</td>\n      <td>832710005422291ad0ba</td>\n      <td>8327122968185841f0ba</td>\n      <td>832715cffc90388ad0ba</td>\n      <td>docker_001</td>\n      <td>db_009</td>\n    </tr>\n    <tr>\n      <th>48</th>\n      <td>JDBC</td>\n      <td>1590520634133</td>\n      <td>0.0</td>\n      <td>True</td>\n      <td>832710005422291ad0ba</td>\n      <td>832710b232785851f0ba</td>\n      <td>8327122968185841f0ba</td>\n      <td>docker_001</td>\n      <td>db_009</td>\n    </tr>\n    <tr>\n      <th>49</th>\n      <td>LOCAL</td>\n      <td>1590520634133</td>\n      <td>2.0</td>\n      <td>True</td>\n      <td>832710005422291ad0ba</td>\n      <td>83271e238e195851f0ba</td>\n      <td>832715cffc90388ad0ba</td>\n      <td>docker_001</td>\n      <td>db_009</td>\n    </tr>\n    <tr>\n      <th>50</th>\n      <td>JDBC</td>\n      <td>1590520634134</td>\n      <td>1.0</td>\n      <td>True</td>\n      <td>832710005422291ad0ba</td>\n      <td>83271a2e6c495861f0ba</td>\n      <td>83271e238e195851f0ba</td>\n      <td>docker_001</td>\n      <td>db_009</td>\n    </tr>\n    <tr>\n      <th>51</th>\n      <td>LOCAL</td>\n      <td>1590520634135</td>\n      <td>1.0</td>\n      <td>True</td>\n      <td>832710005422291ad0ba</td>\n      <td>832716ce4e695871f0ba</td>\n      <td>832715cffc90388ad0ba</td>\n      <td>docker_001</td>\n      <td>db_009</td>\n    </tr>\n    <tr>\n      <th>52</th>\n      <td>JDBC</td>\n      <td>1590520634136</td>\n      <td>0.0</td>\n      <td>True</td>\n      <td>832710005422291ad0ba</td>\n      <td>83271f974d206881f0ba</td>\n      <td>832716ce4e695871f0ba</td>\n      <td>docker_001</td>\n      <td>db_009</td>\n    </tr>\n    <tr>\n      <th>53</th>\n      <td>LOCAL</td>\n      <td>1590520634136</td>\n      <td>2.0</td>\n      <td>True</td>\n      <td>832710005422291ad0ba</td>\n      <td>83271c0dd1606881f0ba</td>\n      <td>832715cffc90388ad0ba</td>\n      <td>docker_001</td>\n      <td>db_009</td>\n    </tr>\n    <tr>\n      <th>54</th>\n      <td>JDBC</td>\n      <td>1590520634137</td>\n      <td>0.0</td>\n      <td>True</td>\n      <td>832710005422291ad0ba</td>\n      <td>832716fc21906891f0ba</td>\n      <td>83271c0dd1606881f0ba</td>\n      <td>docker_001</td>\n      <td>db_009</td>\n    </tr>\n    <tr>\n      <th>55</th>\n      <td>JDBC</td>\n      <td>1590520634138</td>\n      <td>3.0</td>\n      <td>True</td>\n      <td>832710005422291ad0ba</td>\n      <td>8327147e147168a1f0ba</td>\n      <td>83271a2f254168a1f0ba</td>\n      <td>docker_001</td>\n      <td>db_007</td>\n    </tr>\n    <tr>\n      <th>56</th>\n      <td>LOCAL</td>\n      <td>1590520634138</td>\n      <td>81.0</td>\n      <td>True</td>\n      <td>832710005422291ad0ba</td>\n      <td>83271a2f254168a1f0ba</td>\n      <td>832715cffc90388ad0ba</td>\n      <td>docker_001</td>\n      <td>db_007</td>\n    </tr>\n    <tr>\n      <th>57</th>\n      <td>JDBC</td>\n      <td>1590520634215</td>\n      <td>3.0</td>\n      <td>True</td>\n      <td>832710005422291ad0ba</td>\n      <td>8327115dce736876f0ba</td>\n      <td>83271a2f254168a1f0ba</td>\n      <td>docker_001</td>\n      <td>db_007</td>\n    </tr>\n    <tr>\n      <th>58</th>\n      <td>OSB</td>\n      <td>1590519792583</td>\n      <td>506.0</td>\n      <td>True</td>\n      <td>832710009461577c73e9</td>\n      <td>83271619f671577c73e9</td>\n      <td>None</td>\n      <td>os_022</td>\n      <td>os_022</td>\n    </tr>\n    <tr>\n      <th>59</th>\n      <td>CSF</td>\n      <td>1590519792588</td>\n      <td>496.0</td>\n      <td>True</td>\n      <td>832710009461577c73e9</td>\n      <td>83271af0029157cc73e9</td>\n      <td>83271619f671577c73e9</td>\n      <td>os_022</td>\n      <td>csf_001</td>\n    </tr>\n  </tbody>\n</table>\n</div>"
     },
     "metadata": {},
     "execution_count": 12
    }
   ],
   "source": [
    "df.head(60)"
   ]
  },
  {
   "cell_type": "code",
   "execution_count": 13,
   "metadata": {},
   "outputs": [],
   "source": [
    "save_path ='D:\\\\THU Studies\\\\Advance Network Management\\\\Project\\\\Anomaly-detection\\\\local_data\\\\esd\\\\'\n",
    "df.to_csv(save_path+'trace_527323_docker001.csv', index = False)"
   ]
  },
  {
   "cell_type": "code",
   "execution_count": null,
   "metadata": {},
   "outputs": [],
   "source": []
  },
  {
   "cell_type": "code",
   "execution_count": null,
   "metadata": {},
   "outputs": [],
   "source": [
    "from tqdm import tqdm\n",
    "for index, row in tqdm(df.iterrows()):\n",
    "    if row['id'] in csf_cmdb:\n",
    "        df.at[index, 'serviceName'] = csf_cmdb[row['id']]"
   ]
  },
  {
   "cell_type": "code",
   "execution_count": null,
   "metadata": {},
   "outputs": [],
   "source": [
    "elapse_time = {}\n",
    "children = {}\n",
    "for index, row in tqdm(df.iterrows()):\n",
    "    if row['pid'] != 'None':\n",
    "        if row['pid'] in children.keys():\n",
    "            children[row['pid']].append(row['id'])\n",
    "        else:\n",
    "            children[row['pid']] = [row['id']]\n",
    "    elapse_time[row['id']] = float(row['elapsedTime'])"
   ]
  },
  {
   "cell_type": "code",
   "execution_count": null,
   "metadata": {},
   "outputs": [],
   "source": [
    "df['actual_time'] = 0.0\n",
    "for index, row in tqdm(df.iterrows()):\n",
    "    total_child = 0.0\n",
    "    if row['id'] not in children.keys():\n",
    "        df.at[index, 'actual_time'] = row['elapsedTime']\n",
    "        continue\n",
    "    for child in children[row['id']]:\n",
    "        total_child += elapse_time[child]\n",
    "    df.at[index, 'actual_time'] = row['elapsedTime'] - total_child"
   ]
  },
  {
   "cell_type": "code",
   "execution_count": null,
   "metadata": {},
   "outputs": [],
   "source": [
    "df = df.sort_values(['traceId','startTime','callType'], ignore_index = True)"
   ]
  },
  {
   "cell_type": "code",
   "execution_count": null,
   "metadata": {},
   "outputs": [],
   "source": [
    "df.serviceName.unique()"
   ]
  },
  {
   "cell_type": "code",
   "execution_count": null,
   "metadata": {},
   "outputs": [],
   "source": [
    "df.head(60)"
   ]
  },
  {
   "cell_type": "code",
   "execution_count": 20,
   "metadata": {},
   "outputs": [],
   "source": [
    "grouped_df = df.groupby(['cmdb_id', 'serviceName'])[['startTime','actual_time']]"
   ]
  },
  {
   "cell_type": "code",
   "execution_count": 21,
   "metadata": {},
   "outputs": [
    {
     "output_type": "execute_result",
     "data": {
      "text/plain": [
       "dict_keys([('docker_001', 'db_007'), ('docker_001', 'db_009'), ('docker_001', 'docker_001'), ('docker_001', 'docker_007'), ('docker_001', 'docker_008'), ('docker_001', 'fly_remote_001'), ('docker_002', 'db_007'), ('docker_002', 'db_009'), ('docker_002', 'docker_002'), ('docker_002', 'docker_007'), ('docker_002', 'docker_008'), ('docker_002', 'fly_remote_001'), ('docker_003', 'db_007'), ('docker_003', 'db_009'), ('docker_003', 'docker_003'), ('docker_003', 'docker_005'), ('docker_003', 'fly_remote_001'), ('docker_004', 'db_007'), ('docker_004', 'db_009'), ('docker_004', 'docker_004'), ('docker_004', 'docker_005'), ('docker_004', 'fly_remote_001'), ('docker_005', 'db_003'), ('docker_005', 'docker_005'), ('docker_007', 'db_003'), ('docker_007', 'docker_007'), ('docker_008', 'db_003'), ('docker_008', 'docker_008'), ('os_021', 'docker_003'), ('os_021', 'docker_004'), ('os_021', 'os_021'), ('os_022', 'docker_001'), ('os_022', 'docker_002'), ('os_022', 'os_022')])"
      ]
     },
     "metadata": {},
     "execution_count": 21
    }
   ],
   "source": [
    "grouped_df.groups.keys()"
   ]
  },
  {
   "cell_type": "code",
   "execution_count": 13,
   "metadata": {},
   "outputs": [],
   "source": [
    "def esd_test_statistics(x, hybrid=True):\n",
    "  \"\"\"\n",
    "  Compute the location and dispersion sample statistics used to carry out the ESD test.\n",
    "  \"\"\"\n",
    "  if hybrid:\n",
    "    location = pd.Series(x).median(skipna=True) # Median\n",
    "    dispersion = np.median(np.abs(x - np.median(x))) # Median Absolute Deviation\n",
    "  else:  \n",
    "    location = pd.Series(x).mean(skipna=True) # Mean\n",
    "    dispersion = pd.Series(x).std(skipna=True) # Standard Deviation\n",
    "    \n",
    "  return location, dispersion    "
   ]
  },
  {
   "cell_type": "code",
   "execution_count": 14,
   "metadata": {},
   "outputs": [],
   "source": [
    "# def seasonal_mean(x, freq):\n",
    "#   \"\"\"\n",
    "#   Returns the mean of the timeseries for each period in x.\n",
    "  \n",
    "#   x    : List, array, or series containing the time series\n",
    "#   freq : Int that gives the number of periods per cycle (7 for week, 12 for monthly, etc)\n",
    "#   \"\"\"\n",
    "#   return np.array([pd.Series(x[i::freq]).mean(skipna=True) for i in range(freq)])\n",
    "\n",
    "def ts_S_Md_decomposition(x):\n",
    "  \"\"\"\n",
    "  Decomposes the timeseries using a modified STL method:Rx = X - Sx - X^~.\n",
    "    Rx : Residuals\n",
    "    X  : Original time series\n",
    "    Sx : Seasonality component (average value per period)\n",
    "    X^~: Median of original timeseries\n",
    "    \n",
    "  x    : List, array, or series containing the time series \n",
    "  freq : Int that gives the number of periods per cycle (7 for week, 12 for monthly, etc)  \n",
    "  \"\"\"\n",
    "  nobs = len(x)\n",
    "  \n",
    "  # Seasonality\n",
    "#   period_averages = seasonal_mean(x, freq)\n",
    "#   seasonal = np.tile(period_averages, nobs // freq + 1)[:nobs]\n",
    "  \n",
    "  # Median\n",
    "  med = np.tile(pd.Series(x).median(skipna=True), nobs)\n",
    "  \n",
    "  # Residuals\n",
    "#   res = np.array(x) - seasonal - med\n",
    "  res = np.array(x) - med\n",
    "  return {\"observed\": np.array(x), \"median\":med, \"residual\":res}"
   ]
  },
  {
   "cell_type": "code",
   "execution_count": 15,
   "metadata": {},
   "outputs": [],
   "source": [
    "def esd_test(x, alpha=0.95, ub=0.499, hybrid=True):\n",
    "  \"\"\"\n",
    "  Carries out the Extreme Studentized Deviate(ESD) test which can be used to detect one or more outliers present in the timeseries\n",
    "  \n",
    "  x      : List, array, or series containing the time series\n",
    "  freq   : Int that gives the number of periods per cycle (7 for week, 12 for monthly, etc)\n",
    "  alpha  : Confidence level in detecting outliers\n",
    "  ub     : Upper bound on the fraction of datapoints which can be labeled as outliers (<=0.499)\n",
    "  hybrid : Whether to use the robust statistics (median, median absolute error) or the non-robust versions (mean, standard deviation) to test for anomalies\n",
    "  \"\"\"\n",
    "  nobs = len(x)\n",
    "  if ub > 0.4999:\n",
    "    ub = 0.499\n",
    "  k = max(int(np.floor(ub * nobs)), 1) # Maximum number of anomalies. At least 1 anomaly must be tested.\n",
    "#   res_tmp = ts_S_Md_decomposition(x)[\"residual\"] # Residuals from time series decomposition\n",
    "    \n",
    "  # Carry out the esd test k times  \n",
    "  res = np.ma.array(x, mask=False) # The \"ma\" structure allows masking of values to exclude the elements from any calculation\n",
    "  anomalies = [] # returns the indices of the found anomalies\n",
    "  for i in range(1, k+1):\n",
    "    location, dispersion = esd_test_statistics(res, hybrid) # Sample statistics\n",
    "    tmp = np.abs(res - location) / dispersion\n",
    "    idx = np.argmax(tmp) # Index of the test statistic\n",
    "    test_statistic = tmp[idx] \n",
    "    n = nobs - res.mask.sum() # sums  nonmasked values\n",
    "    critical_value = (n - i) * t.ppf(alpha, n - i - 1) / np.sqrt((n - i - 1 + np.power(t.ppf(alpha, n - i - 1), 2)) * (n - i - 1)) \n",
    "    if test_statistic > critical_value:\n",
    "      anomalies.append(test_statistic)\n",
    "    res.mask[idx] = True  \n",
    "  return np.mean(anomalies)"
   ]
  },
  {
   "cell_type": "code",
   "execution_count": 16,
   "metadata": {},
   "outputs": [
    {
     "output_type": "error",
     "ename": "NameError",
     "evalue": "name 'grouped_df' is not defined",
     "traceback": [
      "\u001b[1;31m---------------------------------------------------------------------------\u001b[0m",
      "\u001b[1;31mNameError\u001b[0m                                 Traceback (most recent call last)",
      "\u001b[1;32m<ipython-input-16-9ce657dd3ee4>\u001b[0m in \u001b[0;36m<module>\u001b[1;34m\u001b[0m\n\u001b[1;32m----> 1\u001b[1;33m \u001b[0mgrouped_df\u001b[0m\u001b[1;33m.\u001b[0m\u001b[0mgroups\u001b[0m\u001b[1;33m.\u001b[0m\u001b[0mkeys\u001b[0m\u001b[1;33m(\u001b[0m\u001b[1;33m)\u001b[0m\u001b[1;33m\u001b[0m\u001b[1;33m\u001b[0m\u001b[0m\n\u001b[0m",
      "\u001b[1;31mNameError\u001b[0m: name 'grouped_df' is not defined"
     ]
    }
   ],
   "source": [
    "grouped_df.groups.keys()"
   ]
  },
  {
   "cell_type": "code",
   "execution_count": 22,
   "metadata": {},
   "outputs": [],
   "source": [
    "class RCA():\n",
    "    def local_initiate(self):\n",
    "        self.dockers = ['docker_001', 'docker_002', 'docker_003', 'docker_004',\n",
    "                'docker_005', 'docker_006', 'docker_007', 'docker_008']\n",
    "        self.docker_hosts = ['os_017', 'os_018', 'os_019', 'os_020']\n",
    "\n",
    "        self.docker_kpi_names = ['container_cpu_used', None]\n",
    "        self.os_kpi_names = ['Sent_queue', 'Received_queue']\n",
    "        self.db_kpi_names = ['Proc_User_Used_Pct','Proc_Used_Pct','Sess_Connect','On_Off_State', 'tnsping_result_time']\n",
    "\n",
    "        self.docker_lookup_table = {}\n",
    "        for i in range(len(self.dockers)):\n",
    "            self.docker_lookup_table[self.dockers[i]] = self.docker_hosts[i % 4]\n",
    "            \n",
    "    def find_anomalous_rows(self, min_threshold = 5):\n",
    "        table = self.anomaly_chart.copy()\n",
    "        threshold = max( 0.5 * table.stack().max(), min_threshold)\n",
    "        dodgy_rows = []\n",
    "        just_rows = []\n",
    "        for column in table:\n",
    "            v = 0\n",
    "            r = ''\n",
    "            for index, row in table.iterrows():\n",
    "                if (row[column] > threshold):\n",
    "                    if index == column:\n",
    "                        dodgy_rows.append([index, row[column]])\n",
    "                        just_rows.append(index)\n",
    "                        break\n",
    "                    elif (row[column] > v):\n",
    "                        v = row[column]\n",
    "                        r = index\n",
    "            if r != '':\n",
    "                dodgy_rows.append([r, column, v])\n",
    "                just_rows.append(r)\n",
    "        \n",
    "        output = self.localize(dodgy_rows, list(set(just_rows)))\n",
    "        return output\n",
    "\n",
    "\n",
    "    def find_anomalous_kpi(self, cmdb_id):\n",
    "        kpi_names = []\n",
    "        if 'os' in cmdb_id:\n",
    "            kpi_names = self.os_kpi_names\n",
    "        elif 'docker' in cmdb_id:\n",
    "            kpi_names = self.docker_kpi_names\n",
    "        else:\n",
    "            kpi_names = self.db_kpi_names\n",
    "\n",
    "        return kpi_names\n",
    "\n",
    "\n",
    "    def localize(self, dodgy_rows, just_rows):\n",
    "        n = len(just_rows)\n",
    "        if n < 1:\n",
    "            return None\n",
    "        if n == 1:\n",
    "            KPIs = self.find_anomalous_kpi(just_rows[0])\n",
    "            to_be_sent = []\n",
    "            for KPI in KPIs:\n",
    "                to_be_sent.append([just_rows[0], KPI])\n",
    "            return to_be_sent\n",
    "        if n == 2:\n",
    "            r0 = just_rows[0]\n",
    "            r1 = just_rows[1]\n",
    "            if ('os' in r0) and ('os' in r1):\n",
    "                KPI = self.find_anomalous_kpi('os_001')\n",
    "                return [['os_001', KPI[0]],['os_001', KPI[1]]]\n",
    "            elif ('docker' in r0) and ('docker' in r1):\n",
    "                if self.docker_lookup_table[r0] == self.docker_lookup_table[r1]:\n",
    "                    KPI = self.find_anomalous_kpi(self.docker_lookup_table[r0])\n",
    "                    return [[self.docker_lookup_table[r0], KPI]]\n",
    "            else:\n",
    "                KPI0s = self.find_anomalous_kpi(r0)\n",
    "                KPI1s = self.find_anomalous_kpi(r1)\n",
    "                to_be_sent = []\n",
    "                for kpi in KPI0s:\n",
    "                    to_be_sent.append([r0, kpi])\n",
    "                for kpi in KPI1s:\n",
    "                    to_be_sent.append([r1, kpi])\n",
    "                return to_be_sent\n",
    "        if n > 2:\n",
    "            dodgy_rows.sort(key = lambda x: x[2], reverse = True)\n",
    "            just_rows = [x[0] for x in dodgy_rows]\n",
    "            just_rows = list(set(just_rows))\n",
    "            return self.localize(dodgy_rows[:2], just_rows[:2])"
   ]
  },
  {
   "cell_type": "code",
   "execution_count": 19,
   "metadata": {},
   "outputs": [
    {
     "output_type": "error",
     "ename": "NameError",
     "evalue": "name 'anomaly_chart' is not defined",
     "traceback": [
      "\u001b[1;31m---------------------------------------------------------------------------\u001b[0m",
      "\u001b[1;31mNameError\u001b[0m                                 Traceback (most recent call last)",
      "\u001b[1;32m<ipython-input-19-6299aa9b0634>\u001b[0m in \u001b[0;36m<module>\u001b[1;34m\u001b[0m\n\u001b[0;32m      1\u001b[0m \u001b[0mrca\u001b[0m \u001b[1;33m=\u001b[0m \u001b[0mRCA\u001b[0m\u001b[1;33m(\u001b[0m\u001b[1;33m)\u001b[0m\u001b[1;33m\u001b[0m\u001b[1;33m\u001b[0m\u001b[0m\n\u001b[0;32m      2\u001b[0m \u001b[0mrca\u001b[0m\u001b[1;33m.\u001b[0m\u001b[0mlocal_initiate\u001b[0m\u001b[1;33m(\u001b[0m\u001b[1;33m)\u001b[0m\u001b[1;33m\u001b[0m\u001b[1;33m\u001b[0m\u001b[0m\n\u001b[1;32m----> 3\u001b[1;33m \u001b[0mrca\u001b[0m\u001b[1;33m.\u001b[0m\u001b[0manomaly_chart\u001b[0m \u001b[1;33m=\u001b[0m \u001b[0manomaly_chart\u001b[0m\u001b[1;33m\u001b[0m\u001b[1;33m\u001b[0m\u001b[0m\n\u001b[0m\u001b[0;32m      4\u001b[0m \u001b[0moutput\u001b[0m \u001b[1;33m=\u001b[0m \u001b[0mrca\u001b[0m\u001b[1;33m.\u001b[0m\u001b[0mfind_anomalous_rows\u001b[0m\u001b[1;33m(\u001b[0m\u001b[1;33m)\u001b[0m\u001b[1;33m\u001b[0m\u001b[1;33m\u001b[0m\u001b[0m\n",
      "\u001b[1;31mNameError\u001b[0m: name 'anomaly_chart' is not defined"
     ]
    }
   ],
   "source": [
    "rca = RCA()\n",
    "rca.local_initiate()\n",
    "rca.anomaly_chart = anomaly_chart\n",
    "output = rca.find_anomalous_rows()"
   ]
  },
  {
   "cell_type": "code",
   "execution_count": null,
   "metadata": {},
   "outputs": [],
   "source": [
    "output"
   ]
  },
  {
   "cell_type": "code",
   "execution_count": 23,
   "metadata": {},
   "outputs": [],
   "source": [
    "anomaly_chart = pd.DataFrame()\n",
    "for (a, b), value in grouped_df:\n",
    "    value['time_group'] = value.startTime//60000\n",
    "    value =value.groupby(['time_group'])['actual_time'].mean().reset_index()\n",
    "    result = esd_test(value['actual_time'].to_numpy(), alpha=0.95, ub=0.02, hybrid=True)\n",
    "    anomaly_chart.loc[b,a] = result\n",
    "    # print(a,b,' = ',len(result)/len(value)*100)"
   ]
  },
  {
   "cell_type": "code",
   "execution_count": 24,
   "metadata": {},
   "outputs": [
    {
     "output_type": "execute_result",
     "data": {
      "text/plain": [
       "                docker_001  docker_002  docker_003  docker_004  docker_005  \\\n",
       "db_003                 NaN         NaN         NaN         NaN    2.218662   \n",
       "db_007            2.451175    3.113193    3.353311    2.929689         NaN   \n",
       "db_009            3.935336    5.031015    3.147331    4.003738         NaN   \n",
       "docker_001        2.592030         NaN         NaN         NaN         NaN   \n",
       "docker_002             NaN    3.642814         NaN         NaN         NaN   \n",
       "docker_003             NaN         NaN    2.917402         NaN         NaN   \n",
       "docker_004             NaN         NaN         NaN    2.229114         NaN   \n",
       "docker_005             NaN         NaN    2.971381    4.093297    2.750001   \n",
       "docker_007        3.787066    4.032622         NaN         NaN         NaN   \n",
       "docker_008        3.717222    3.508460         NaN         NaN         NaN   \n",
       "fly_remote_001    2.252759    1.919110    3.109109    2.909607         NaN   \n",
       "os_021                 NaN         NaN         NaN         NaN         NaN   \n",
       "os_022                 NaN         NaN         NaN         NaN         NaN   \n",
       "\n",
       "                docker_007  docker_008    os_021     os_022  \n",
       "db_003            8.426948    3.427777       NaN        NaN  \n",
       "db_007                 NaN         NaN       NaN        NaN  \n",
       "db_009                 NaN         NaN       NaN        NaN  \n",
       "docker_001             NaN         NaN       NaN   4.687135  \n",
       "docker_002             NaN         NaN       NaN   7.402834  \n",
       "docker_003             NaN         NaN  4.504866        NaN  \n",
       "docker_004             NaN         NaN  4.241102        NaN  \n",
       "docker_005             NaN         NaN       NaN        NaN  \n",
       "docker_007        2.809472         NaN       NaN        NaN  \n",
       "docker_008             NaN    3.148636       NaN        NaN  \n",
       "fly_remote_001         NaN         NaN       NaN        NaN  \n",
       "os_021                 NaN         NaN  9.457249        NaN  \n",
       "os_022                 NaN         NaN       NaN  10.041416  "
      ],
      "text/html": "<div>\n<style scoped>\n    .dataframe tbody tr th:only-of-type {\n        vertical-align: middle;\n    }\n\n    .dataframe tbody tr th {\n        vertical-align: top;\n    }\n\n    .dataframe thead th {\n        text-align: right;\n    }\n</style>\n<table border=\"1\" class=\"dataframe\">\n  <thead>\n    <tr style=\"text-align: right;\">\n      <th></th>\n      <th>docker_001</th>\n      <th>docker_002</th>\n      <th>docker_003</th>\n      <th>docker_004</th>\n      <th>docker_005</th>\n      <th>docker_007</th>\n      <th>docker_008</th>\n      <th>os_021</th>\n      <th>os_022</th>\n    </tr>\n  </thead>\n  <tbody>\n    <tr>\n      <th>db_003</th>\n      <td>NaN</td>\n      <td>NaN</td>\n      <td>NaN</td>\n      <td>NaN</td>\n      <td>2.218662</td>\n      <td>8.426948</td>\n      <td>3.427777</td>\n      <td>NaN</td>\n      <td>NaN</td>\n    </tr>\n    <tr>\n      <th>db_007</th>\n      <td>2.451175</td>\n      <td>3.113193</td>\n      <td>3.353311</td>\n      <td>2.929689</td>\n      <td>NaN</td>\n      <td>NaN</td>\n      <td>NaN</td>\n      <td>NaN</td>\n      <td>NaN</td>\n    </tr>\n    <tr>\n      <th>db_009</th>\n      <td>3.935336</td>\n      <td>5.031015</td>\n      <td>3.147331</td>\n      <td>4.003738</td>\n      <td>NaN</td>\n      <td>NaN</td>\n      <td>NaN</td>\n      <td>NaN</td>\n      <td>NaN</td>\n    </tr>\n    <tr>\n      <th>docker_001</th>\n      <td>2.592030</td>\n      <td>NaN</td>\n      <td>NaN</td>\n      <td>NaN</td>\n      <td>NaN</td>\n      <td>NaN</td>\n      <td>NaN</td>\n      <td>NaN</td>\n      <td>4.687135</td>\n    </tr>\n    <tr>\n      <th>docker_002</th>\n      <td>NaN</td>\n      <td>3.642814</td>\n      <td>NaN</td>\n      <td>NaN</td>\n      <td>NaN</td>\n      <td>NaN</td>\n      <td>NaN</td>\n      <td>NaN</td>\n      <td>7.402834</td>\n    </tr>\n    <tr>\n      <th>docker_003</th>\n      <td>NaN</td>\n      <td>NaN</td>\n      <td>2.917402</td>\n      <td>NaN</td>\n      <td>NaN</td>\n      <td>NaN</td>\n      <td>NaN</td>\n      <td>4.504866</td>\n      <td>NaN</td>\n    </tr>\n    <tr>\n      <th>docker_004</th>\n      <td>NaN</td>\n      <td>NaN</td>\n      <td>NaN</td>\n      <td>2.229114</td>\n      <td>NaN</td>\n      <td>NaN</td>\n      <td>NaN</td>\n      <td>4.241102</td>\n      <td>NaN</td>\n    </tr>\n    <tr>\n      <th>docker_005</th>\n      <td>NaN</td>\n      <td>NaN</td>\n      <td>2.971381</td>\n      <td>4.093297</td>\n      <td>2.750001</td>\n      <td>NaN</td>\n      <td>NaN</td>\n      <td>NaN</td>\n      <td>NaN</td>\n    </tr>\n    <tr>\n      <th>docker_007</th>\n      <td>3.787066</td>\n      <td>4.032622</td>\n      <td>NaN</td>\n      <td>NaN</td>\n      <td>NaN</td>\n      <td>2.809472</td>\n      <td>NaN</td>\n      <td>NaN</td>\n      <td>NaN</td>\n    </tr>\n    <tr>\n      <th>docker_008</th>\n      <td>3.717222</td>\n      <td>3.508460</td>\n      <td>NaN</td>\n      <td>NaN</td>\n      <td>NaN</td>\n      <td>NaN</td>\n      <td>3.148636</td>\n      <td>NaN</td>\n      <td>NaN</td>\n    </tr>\n    <tr>\n      <th>fly_remote_001</th>\n      <td>2.252759</td>\n      <td>1.919110</td>\n      <td>3.109109</td>\n      <td>2.909607</td>\n      <td>NaN</td>\n      <td>NaN</td>\n      <td>NaN</td>\n      <td>NaN</td>\n      <td>NaN</td>\n    </tr>\n    <tr>\n      <th>os_021</th>\n      <td>NaN</td>\n      <td>NaN</td>\n      <td>NaN</td>\n      <td>NaN</td>\n      <td>NaN</td>\n      <td>NaN</td>\n      <td>NaN</td>\n      <td>9.457249</td>\n      <td>NaN</td>\n    </tr>\n    <tr>\n      <th>os_022</th>\n      <td>NaN</td>\n      <td>NaN</td>\n      <td>NaN</td>\n      <td>NaN</td>\n      <td>NaN</td>\n      <td>NaN</td>\n      <td>NaN</td>\n      <td>NaN</td>\n      <td>10.041416</td>\n    </tr>\n  </tbody>\n</table>\n</div>"
     },
     "metadata": {},
     "execution_count": 24
    }
   ],
   "source": [
    "anomaly_chart.sort_index(inplace=True)\n",
    "anomaly_chart"
   ]
  },
  {
   "cell_type": "code",
   "execution_count": null,
   "metadata": {},
   "outputs": [],
   "source": [
    "test = grouped_df.get_group(('docker_008', 'docker_008'))"
   ]
  },
  {
   "cell_type": "code",
   "execution_count": null,
   "metadata": {},
   "outputs": [],
   "source": [
    "x = test[['startTime','actual_time']]\n",
    "# x_val = x['actual_time'].to_numpy()\n",
    "# x"
   ]
  },
  {
   "cell_type": "code",
   "execution_count": null,
   "metadata": {},
   "outputs": [],
   "source": [
    "x['time_group'] = x.startTime//10000\n",
    "x = x.groupby(['time_group'])['actual_time'].mean().reset_index()"
   ]
  },
  {
   "cell_type": "code",
   "execution_count": null,
   "metadata": {},
   "outputs": [],
   "source": [
    "x_val = x['actual_time'].to_numpy()"
   ]
  },
  {
   "cell_type": "code",
   "execution_count": null,
   "metadata": {},
   "outputs": [],
   "source": [
    "result = esd_test(x_val, freq=3, alpha=0.99, ub=0.4, hybrid=True)"
   ]
  },
  {
   "cell_type": "code",
   "execution_count": null,
   "metadata": {},
   "outputs": [],
   "source": [
    "fig, ax = plt.subplots()\n",
    "ax.plot(pd.Series(x_val).index, x_val, color=\"blue\", label = \"Original\")\n",
    "ax.scatter(result, x_val[result], color='red', label='Anomaly')\n",
    "plt.legend(loc=\"best\")\n",
    "plt.show()"
   ]
  },
  {
   "cell_type": "code",
   "execution_count": null,
   "metadata": {},
   "outputs": [],
   "source": [
    "x = test[['startTime','actual_time']]\n",
    "# x_val = x['actual_time'].to_numpy()\n",
    "# x\n",
    "x['time_group'] = x.startTime//1000\n",
    "x = x.groupby(['time_group'])['actual_time'].mean().reset_index()"
   ]
  },
  {
   "cell_type": "code",
   "execution_count": null,
   "metadata": {},
   "outputs": [],
   "source": [
    "x_test = x.copy()\n",
    "x_test.index = pd.to_datetime(x_test['time_group'], unit=\"s\")"
   ]
  },
  {
   "cell_type": "code",
   "execution_count": null,
   "metadata": {},
   "outputs": [],
   "source": [
    "x_test"
   ]
  },
  {
   "cell_type": "code",
   "execution_count": null,
   "metadata": {},
   "outputs": [],
   "source": []
  }
 ]
}